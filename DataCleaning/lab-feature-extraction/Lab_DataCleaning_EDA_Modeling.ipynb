{
 "cells": [
  {
   "cell_type": "markdown",
   "id": "protected-pension",
   "metadata": {},
   "source": [
    "# Lab | Cleaning numerical data"
   ]
  },
  {
   "cell_type": "markdown",
   "id": "exotic-sewing",
   "metadata": {},
   "source": [
    "An auto insurance company has collected some data about its customers including their demographics, education, employment, policy details, vehicle information on which insurance policy is, and claim amounts. \n",
    "\n",
    "You will help the senior management with some business questions that will help them to better understand their customers, improve their services, and improve profitability.\n",
    "\n",
    "Some business Objectives:\n",
    "\n",
    "* Retain customers,\n",
    "* Analyze relevant customer data,\n",
    "* Develop focused customer retention programs.\n",
    "\n",
    "Based on the analysis, take targeted actions to increase profitable customer response, retention, and growth."
   ]
  },
  {
   "cell_type": "markdown",
   "id": "coral-tribune",
   "metadata": {},
   "source": [
    "### 1. Import the necessary libraries."
   ]
  },
  {
   "cell_type": "code",
   "execution_count": 76,
   "id": "virtual-maria",
   "metadata": {},
   "outputs": [],
   "source": [
    "import pandas as pd\n",
    "import seaborn as sns\n",
    "import matplotlib.pyplot as plt\n",
    "import numpy as np\n",
    "import scipy.stats as st\n",
    "from sklearn.preprocessing import OneHotEncoder\n",
    "from sklearn.preprocessing import StandardScaler\n",
    "import datetime\n",
    "import re\n",
    "import math\n",
    "from sklearn.metrics import mean_squared_error, r2_score"
   ]
  },
  {
   "cell_type": "code",
   "execution_count": 77,
   "id": "endless-karen",
   "metadata": {},
   "outputs": [],
   "source": [
    "# To make run all you ask in one cell, not only the last required\n",
    "from IPython.core.interactiveshell import InteractiveShell\n",
    "InteractiveShell.ast_node_interactivity = \"all\""
   ]
  },
  {
   "cell_type": "markdown",
   "id": "smaller-average",
   "metadata": {},
   "source": [
    "### 2. Load the we_fn_use_c_marketing_customer_value_analysis.csv into the variable customer_df.customer_df = pd.read_csv('C:/Student/IRONHACK/Week4/D1_DataCleaning/Labs/lab-cleaning-numerical-data/files_for_lab/we_fn_use_c_marketing_customer_value_analysis.csv')\n",
    "display(customer_df.shape)\n",
    "customer_df.head()"
   ]
  },
  {
   "cell_type": "code",
   "execution_count": 78,
   "id": "loaded-result",
   "metadata": {},
   "outputs": [
    {
     "data": {
      "text/plain": [
       "(9134, 24)"
      ]
     },
     "metadata": {},
     "output_type": "display_data"
    },
    {
     "data": {
      "text/html": [
       "<div>\n",
       "<style scoped>\n",
       "    .dataframe tbody tr th:only-of-type {\n",
       "        vertical-align: middle;\n",
       "    }\n",
       "\n",
       "    .dataframe tbody tr th {\n",
       "        vertical-align: top;\n",
       "    }\n",
       "\n",
       "    .dataframe thead th {\n",
       "        text-align: right;\n",
       "    }\n",
       "</style>\n",
       "<table border=\"1\" class=\"dataframe\">\n",
       "  <thead>\n",
       "    <tr style=\"text-align: right;\">\n",
       "      <th></th>\n",
       "      <th>Customer</th>\n",
       "      <th>State</th>\n",
       "      <th>Customer Lifetime Value</th>\n",
       "      <th>Response</th>\n",
       "      <th>Coverage</th>\n",
       "      <th>Education</th>\n",
       "      <th>Effective To Date</th>\n",
       "      <th>EmploymentStatus</th>\n",
       "      <th>Gender</th>\n",
       "      <th>Income</th>\n",
       "      <th>...</th>\n",
       "      <th>Months Since Policy Inception</th>\n",
       "      <th>Number of Open Complaints</th>\n",
       "      <th>Number of Policies</th>\n",
       "      <th>Policy Type</th>\n",
       "      <th>Policy</th>\n",
       "      <th>Renew Offer Type</th>\n",
       "      <th>Sales Channel</th>\n",
       "      <th>Total Claim Amount</th>\n",
       "      <th>Vehicle Class</th>\n",
       "      <th>Vehicle Size</th>\n",
       "    </tr>\n",
       "  </thead>\n",
       "  <tbody>\n",
       "    <tr>\n",
       "      <th>0</th>\n",
       "      <td>BU79786</td>\n",
       "      <td>Washington</td>\n",
       "      <td>2763.519279</td>\n",
       "      <td>No</td>\n",
       "      <td>Basic</td>\n",
       "      <td>Bachelor</td>\n",
       "      <td>2/24/11</td>\n",
       "      <td>Employed</td>\n",
       "      <td>F</td>\n",
       "      <td>56274</td>\n",
       "      <td>...</td>\n",
       "      <td>5</td>\n",
       "      <td>0</td>\n",
       "      <td>1</td>\n",
       "      <td>Corporate Auto</td>\n",
       "      <td>Corporate L3</td>\n",
       "      <td>Offer1</td>\n",
       "      <td>Agent</td>\n",
       "      <td>384.811147</td>\n",
       "      <td>Two-Door Car</td>\n",
       "      <td>Medsize</td>\n",
       "    </tr>\n",
       "    <tr>\n",
       "      <th>1</th>\n",
       "      <td>QZ44356</td>\n",
       "      <td>Arizona</td>\n",
       "      <td>6979.535903</td>\n",
       "      <td>No</td>\n",
       "      <td>Extended</td>\n",
       "      <td>Bachelor</td>\n",
       "      <td>1/31/11</td>\n",
       "      <td>Unemployed</td>\n",
       "      <td>F</td>\n",
       "      <td>0</td>\n",
       "      <td>...</td>\n",
       "      <td>42</td>\n",
       "      <td>0</td>\n",
       "      <td>8</td>\n",
       "      <td>Personal Auto</td>\n",
       "      <td>Personal L3</td>\n",
       "      <td>Offer3</td>\n",
       "      <td>Agent</td>\n",
       "      <td>1131.464935</td>\n",
       "      <td>Four-Door Car</td>\n",
       "      <td>Medsize</td>\n",
       "    </tr>\n",
       "    <tr>\n",
       "      <th>2</th>\n",
       "      <td>AI49188</td>\n",
       "      <td>Nevada</td>\n",
       "      <td>12887.431650</td>\n",
       "      <td>No</td>\n",
       "      <td>Premium</td>\n",
       "      <td>Bachelor</td>\n",
       "      <td>2/19/11</td>\n",
       "      <td>Employed</td>\n",
       "      <td>F</td>\n",
       "      <td>48767</td>\n",
       "      <td>...</td>\n",
       "      <td>38</td>\n",
       "      <td>0</td>\n",
       "      <td>2</td>\n",
       "      <td>Personal Auto</td>\n",
       "      <td>Personal L3</td>\n",
       "      <td>Offer1</td>\n",
       "      <td>Agent</td>\n",
       "      <td>566.472247</td>\n",
       "      <td>Two-Door Car</td>\n",
       "      <td>Medsize</td>\n",
       "    </tr>\n",
       "    <tr>\n",
       "      <th>3</th>\n",
       "      <td>WW63253</td>\n",
       "      <td>California</td>\n",
       "      <td>7645.861827</td>\n",
       "      <td>No</td>\n",
       "      <td>Basic</td>\n",
       "      <td>Bachelor</td>\n",
       "      <td>1/20/11</td>\n",
       "      <td>Unemployed</td>\n",
       "      <td>M</td>\n",
       "      <td>0</td>\n",
       "      <td>...</td>\n",
       "      <td>65</td>\n",
       "      <td>0</td>\n",
       "      <td>7</td>\n",
       "      <td>Corporate Auto</td>\n",
       "      <td>Corporate L2</td>\n",
       "      <td>Offer1</td>\n",
       "      <td>Call Center</td>\n",
       "      <td>529.881344</td>\n",
       "      <td>SUV</td>\n",
       "      <td>Medsize</td>\n",
       "    </tr>\n",
       "    <tr>\n",
       "      <th>4</th>\n",
       "      <td>HB64268</td>\n",
       "      <td>Washington</td>\n",
       "      <td>2813.692575</td>\n",
       "      <td>No</td>\n",
       "      <td>Basic</td>\n",
       "      <td>Bachelor</td>\n",
       "      <td>2/3/11</td>\n",
       "      <td>Employed</td>\n",
       "      <td>M</td>\n",
       "      <td>43836</td>\n",
       "      <td>...</td>\n",
       "      <td>44</td>\n",
       "      <td>0</td>\n",
       "      <td>1</td>\n",
       "      <td>Personal Auto</td>\n",
       "      <td>Personal L1</td>\n",
       "      <td>Offer1</td>\n",
       "      <td>Agent</td>\n",
       "      <td>138.130879</td>\n",
       "      <td>Four-Door Car</td>\n",
       "      <td>Medsize</td>\n",
       "    </tr>\n",
       "  </tbody>\n",
       "</table>\n",
       "<p>5 rows × 24 columns</p>\n",
       "</div>"
      ],
      "text/plain": [
       "  Customer       State  Customer Lifetime Value Response  Coverage Education  \\\n",
       "0  BU79786  Washington              2763.519279       No     Basic  Bachelor   \n",
       "1  QZ44356     Arizona              6979.535903       No  Extended  Bachelor   \n",
       "2  AI49188      Nevada             12887.431650       No   Premium  Bachelor   \n",
       "3  WW63253  California              7645.861827       No     Basic  Bachelor   \n",
       "4  HB64268  Washington              2813.692575       No     Basic  Bachelor   \n",
       "\n",
       "  Effective To Date EmploymentStatus Gender  Income  ...  \\\n",
       "0           2/24/11         Employed      F   56274  ...   \n",
       "1           1/31/11       Unemployed      F       0  ...   \n",
       "2           2/19/11         Employed      F   48767  ...   \n",
       "3           1/20/11       Unemployed      M       0  ...   \n",
       "4            2/3/11         Employed      M   43836  ...   \n",
       "\n",
       "  Months Since Policy Inception Number of Open Complaints  Number of Policies  \\\n",
       "0                             5                         0                   1   \n",
       "1                            42                         0                   8   \n",
       "2                            38                         0                   2   \n",
       "3                            65                         0                   7   \n",
       "4                            44                         0                   1   \n",
       "\n",
       "      Policy Type        Policy  Renew Offer Type  Sales Channel  \\\n",
       "0  Corporate Auto  Corporate L3            Offer1          Agent   \n",
       "1   Personal Auto   Personal L3            Offer3          Agent   \n",
       "2   Personal Auto   Personal L3            Offer1          Agent   \n",
       "3  Corporate Auto  Corporate L2            Offer1    Call Center   \n",
       "4   Personal Auto   Personal L1            Offer1          Agent   \n",
       "\n",
       "  Total Claim Amount  Vehicle Class Vehicle Size  \n",
       "0         384.811147   Two-Door Car      Medsize  \n",
       "1        1131.464935  Four-Door Car      Medsize  \n",
       "2         566.472247   Two-Door Car      Medsize  \n",
       "3         529.881344            SUV      Medsize  \n",
       "4         138.130879  Four-Door Car      Medsize  \n",
       "\n",
       "[5 rows x 24 columns]"
      ]
     },
     "execution_count": 78,
     "metadata": {},
     "output_type": "execute_result"
    }
   ],
   "source": [
    "customer_df = pd.read_csv('C:/Student/IRONHACK/Week4/D1_DataCleaning/Labs/lab-cleaning-numerical-data/files_for_lab/we_fn_use_c_marketing_customer_value_analysis.csv')\n",
    "display(customer_df.shape)\n",
    "customer_df.head()"
   ]
  },
  {
   "cell_type": "markdown",
   "id": "junior-colon",
   "metadata": {},
   "source": [
    "### 3. First look at its main features (head, shape, info)."
   ]
  },
  {
   "cell_type": "code",
   "execution_count": 79,
   "id": "directed-english",
   "metadata": {},
   "outputs": [
    {
     "data": {
      "text/html": [
       "<div>\n",
       "<style scoped>\n",
       "    .dataframe tbody tr th:only-of-type {\n",
       "        vertical-align: middle;\n",
       "    }\n",
       "\n",
       "    .dataframe tbody tr th {\n",
       "        vertical-align: top;\n",
       "    }\n",
       "\n",
       "    .dataframe thead th {\n",
       "        text-align: right;\n",
       "    }\n",
       "</style>\n",
       "<table border=\"1\" class=\"dataframe\">\n",
       "  <thead>\n",
       "    <tr style=\"text-align: right;\">\n",
       "      <th></th>\n",
       "      <th>Customer</th>\n",
       "      <th>State</th>\n",
       "      <th>Customer Lifetime Value</th>\n",
       "      <th>Response</th>\n",
       "      <th>Coverage</th>\n",
       "      <th>Education</th>\n",
       "      <th>Effective To Date</th>\n",
       "      <th>EmploymentStatus</th>\n",
       "      <th>Gender</th>\n",
       "      <th>Income</th>\n",
       "      <th>...</th>\n",
       "      <th>Months Since Policy Inception</th>\n",
       "      <th>Number of Open Complaints</th>\n",
       "      <th>Number of Policies</th>\n",
       "      <th>Policy Type</th>\n",
       "      <th>Policy</th>\n",
       "      <th>Renew Offer Type</th>\n",
       "      <th>Sales Channel</th>\n",
       "      <th>Total Claim Amount</th>\n",
       "      <th>Vehicle Class</th>\n",
       "      <th>Vehicle Size</th>\n",
       "    </tr>\n",
       "  </thead>\n",
       "  <tbody>\n",
       "    <tr>\n",
       "      <th>0</th>\n",
       "      <td>BU79786</td>\n",
       "      <td>Washington</td>\n",
       "      <td>2763.519279</td>\n",
       "      <td>No</td>\n",
       "      <td>Basic</td>\n",
       "      <td>Bachelor</td>\n",
       "      <td>2/24/11</td>\n",
       "      <td>Employed</td>\n",
       "      <td>F</td>\n",
       "      <td>56274</td>\n",
       "      <td>...</td>\n",
       "      <td>5</td>\n",
       "      <td>0</td>\n",
       "      <td>1</td>\n",
       "      <td>Corporate Auto</td>\n",
       "      <td>Corporate L3</td>\n",
       "      <td>Offer1</td>\n",
       "      <td>Agent</td>\n",
       "      <td>384.811147</td>\n",
       "      <td>Two-Door Car</td>\n",
       "      <td>Medsize</td>\n",
       "    </tr>\n",
       "    <tr>\n",
       "      <th>1</th>\n",
       "      <td>QZ44356</td>\n",
       "      <td>Arizona</td>\n",
       "      <td>6979.535903</td>\n",
       "      <td>No</td>\n",
       "      <td>Extended</td>\n",
       "      <td>Bachelor</td>\n",
       "      <td>1/31/11</td>\n",
       "      <td>Unemployed</td>\n",
       "      <td>F</td>\n",
       "      <td>0</td>\n",
       "      <td>...</td>\n",
       "      <td>42</td>\n",
       "      <td>0</td>\n",
       "      <td>8</td>\n",
       "      <td>Personal Auto</td>\n",
       "      <td>Personal L3</td>\n",
       "      <td>Offer3</td>\n",
       "      <td>Agent</td>\n",
       "      <td>1131.464935</td>\n",
       "      <td>Four-Door Car</td>\n",
       "      <td>Medsize</td>\n",
       "    </tr>\n",
       "    <tr>\n",
       "      <th>2</th>\n",
       "      <td>AI49188</td>\n",
       "      <td>Nevada</td>\n",
       "      <td>12887.431650</td>\n",
       "      <td>No</td>\n",
       "      <td>Premium</td>\n",
       "      <td>Bachelor</td>\n",
       "      <td>2/19/11</td>\n",
       "      <td>Employed</td>\n",
       "      <td>F</td>\n",
       "      <td>48767</td>\n",
       "      <td>...</td>\n",
       "      <td>38</td>\n",
       "      <td>0</td>\n",
       "      <td>2</td>\n",
       "      <td>Personal Auto</td>\n",
       "      <td>Personal L3</td>\n",
       "      <td>Offer1</td>\n",
       "      <td>Agent</td>\n",
       "      <td>566.472247</td>\n",
       "      <td>Two-Door Car</td>\n",
       "      <td>Medsize</td>\n",
       "    </tr>\n",
       "    <tr>\n",
       "      <th>3</th>\n",
       "      <td>WW63253</td>\n",
       "      <td>California</td>\n",
       "      <td>7645.861827</td>\n",
       "      <td>No</td>\n",
       "      <td>Basic</td>\n",
       "      <td>Bachelor</td>\n",
       "      <td>1/20/11</td>\n",
       "      <td>Unemployed</td>\n",
       "      <td>M</td>\n",
       "      <td>0</td>\n",
       "      <td>...</td>\n",
       "      <td>65</td>\n",
       "      <td>0</td>\n",
       "      <td>7</td>\n",
       "      <td>Corporate Auto</td>\n",
       "      <td>Corporate L2</td>\n",
       "      <td>Offer1</td>\n",
       "      <td>Call Center</td>\n",
       "      <td>529.881344</td>\n",
       "      <td>SUV</td>\n",
       "      <td>Medsize</td>\n",
       "    </tr>\n",
       "    <tr>\n",
       "      <th>4</th>\n",
       "      <td>HB64268</td>\n",
       "      <td>Washington</td>\n",
       "      <td>2813.692575</td>\n",
       "      <td>No</td>\n",
       "      <td>Basic</td>\n",
       "      <td>Bachelor</td>\n",
       "      <td>2/3/11</td>\n",
       "      <td>Employed</td>\n",
       "      <td>M</td>\n",
       "      <td>43836</td>\n",
       "      <td>...</td>\n",
       "      <td>44</td>\n",
       "      <td>0</td>\n",
       "      <td>1</td>\n",
       "      <td>Personal Auto</td>\n",
       "      <td>Personal L1</td>\n",
       "      <td>Offer1</td>\n",
       "      <td>Agent</td>\n",
       "      <td>138.130879</td>\n",
       "      <td>Four-Door Car</td>\n",
       "      <td>Medsize</td>\n",
       "    </tr>\n",
       "  </tbody>\n",
       "</table>\n",
       "<p>5 rows × 24 columns</p>\n",
       "</div>"
      ],
      "text/plain": [
       "  Customer       State  Customer Lifetime Value Response  Coverage Education  \\\n",
       "0  BU79786  Washington              2763.519279       No     Basic  Bachelor   \n",
       "1  QZ44356     Arizona              6979.535903       No  Extended  Bachelor   \n",
       "2  AI49188      Nevada             12887.431650       No   Premium  Bachelor   \n",
       "3  WW63253  California              7645.861827       No     Basic  Bachelor   \n",
       "4  HB64268  Washington              2813.692575       No     Basic  Bachelor   \n",
       "\n",
       "  Effective To Date EmploymentStatus Gender  Income  ...  \\\n",
       "0           2/24/11         Employed      F   56274  ...   \n",
       "1           1/31/11       Unemployed      F       0  ...   \n",
       "2           2/19/11         Employed      F   48767  ...   \n",
       "3           1/20/11       Unemployed      M       0  ...   \n",
       "4            2/3/11         Employed      M   43836  ...   \n",
       "\n",
       "  Months Since Policy Inception Number of Open Complaints  Number of Policies  \\\n",
       "0                             5                         0                   1   \n",
       "1                            42                         0                   8   \n",
       "2                            38                         0                   2   \n",
       "3                            65                         0                   7   \n",
       "4                            44                         0                   1   \n",
       "\n",
       "      Policy Type        Policy  Renew Offer Type  Sales Channel  \\\n",
       "0  Corporate Auto  Corporate L3            Offer1          Agent   \n",
       "1   Personal Auto   Personal L3            Offer3          Agent   \n",
       "2   Personal Auto   Personal L3            Offer1          Agent   \n",
       "3  Corporate Auto  Corporate L2            Offer1    Call Center   \n",
       "4   Personal Auto   Personal L1            Offer1          Agent   \n",
       "\n",
       "  Total Claim Amount  Vehicle Class Vehicle Size  \n",
       "0         384.811147   Two-Door Car      Medsize  \n",
       "1        1131.464935  Four-Door Car      Medsize  \n",
       "2         566.472247   Two-Door Car      Medsize  \n",
       "3         529.881344            SUV      Medsize  \n",
       "4         138.130879  Four-Door Car      Medsize  \n",
       "\n",
       "[5 rows x 24 columns]"
      ]
     },
     "execution_count": 79,
     "metadata": {},
     "output_type": "execute_result"
    },
    {
     "data": {
      "text/plain": [
       "(9134, 24)"
      ]
     },
     "execution_count": 79,
     "metadata": {},
     "output_type": "execute_result"
    },
    {
     "name": "stdout",
     "output_type": "stream",
     "text": [
      "<class 'pandas.core.frame.DataFrame'>\n",
      "RangeIndex: 9134 entries, 0 to 9133\n",
      "Data columns (total 24 columns):\n",
      " #   Column                         Non-Null Count  Dtype  \n",
      "---  ------                         --------------  -----  \n",
      " 0   Customer                       9134 non-null   object \n",
      " 1   State                          9134 non-null   object \n",
      " 2   Customer Lifetime Value        9134 non-null   float64\n",
      " 3   Response                       9134 non-null   object \n",
      " 4   Coverage                       9134 non-null   object \n",
      " 5   Education                      9134 non-null   object \n",
      " 6   Effective To Date              9134 non-null   object \n",
      " 7   EmploymentStatus               9134 non-null   object \n",
      " 8   Gender                         9134 non-null   object \n",
      " 9   Income                         9134 non-null   int64  \n",
      " 10  Location Code                  9134 non-null   object \n",
      " 11  Marital Status                 9134 non-null   object \n",
      " 12  Monthly Premium Auto           9134 non-null   int64  \n",
      " 13  Months Since Last Claim        9134 non-null   int64  \n",
      " 14  Months Since Policy Inception  9134 non-null   int64  \n",
      " 15  Number of Open Complaints      9134 non-null   int64  \n",
      " 16  Number of Policies             9134 non-null   int64  \n",
      " 17  Policy Type                    9134 non-null   object \n",
      " 18  Policy                         9134 non-null   object \n",
      " 19  Renew Offer Type               9134 non-null   object \n",
      " 20  Sales Channel                  9134 non-null   object \n",
      " 21  Total Claim Amount             9134 non-null   float64\n",
      " 22  Vehicle Class                  9134 non-null   object \n",
      " 23  Vehicle Size                   9134 non-null   object \n",
      "dtypes: float64(2), int64(6), object(16)\n",
      "memory usage: 1.7+ MB\n"
     ]
    }
   ],
   "source": [
    "customer_df.head()\n",
    "customer_df.shape\n",
    "customer_df.info()"
   ]
  },
  {
   "cell_type": "markdown",
   "id": "outdoor-cemetery",
   "metadata": {},
   "source": [
    "### 4. Rename the columns so they follow the PE8 (snake case)."
   ]
  },
  {
   "cell_type": "code",
   "execution_count": 80,
   "id": "experienced-velvet",
   "metadata": {
    "scrolled": true
   },
   "outputs": [
    {
     "data": {
      "text/html": [
       "<div>\n",
       "<style scoped>\n",
       "    .dataframe tbody tr th:only-of-type {\n",
       "        vertical-align: middle;\n",
       "    }\n",
       "\n",
       "    .dataframe tbody tr th {\n",
       "        vertical-align: top;\n",
       "    }\n",
       "\n",
       "    .dataframe thead th {\n",
       "        text-align: right;\n",
       "    }\n",
       "</style>\n",
       "<table border=\"1\" class=\"dataframe\">\n",
       "  <thead>\n",
       "    <tr style=\"text-align: right;\">\n",
       "      <th></th>\n",
       "      <th>customer</th>\n",
       "      <th>state</th>\n",
       "      <th>customer_lifetime_value</th>\n",
       "      <th>response</th>\n",
       "      <th>coverage</th>\n",
       "      <th>education</th>\n",
       "      <th>effective_to_date</th>\n",
       "      <th>employmentstatus</th>\n",
       "      <th>gender</th>\n",
       "      <th>income</th>\n",
       "      <th>...</th>\n",
       "      <th>months_since_policy_inception</th>\n",
       "      <th>number_of_open_complaints</th>\n",
       "      <th>number_of_policies</th>\n",
       "      <th>policy_type</th>\n",
       "      <th>policy</th>\n",
       "      <th>renew_offer_type</th>\n",
       "      <th>sales_channel</th>\n",
       "      <th>total_claim_amount</th>\n",
       "      <th>vehicle_class</th>\n",
       "      <th>vehicle_size</th>\n",
       "    </tr>\n",
       "  </thead>\n",
       "  <tbody>\n",
       "    <tr>\n",
       "      <th>0</th>\n",
       "      <td>BU79786</td>\n",
       "      <td>Washington</td>\n",
       "      <td>2763.519279</td>\n",
       "      <td>No</td>\n",
       "      <td>Basic</td>\n",
       "      <td>Bachelor</td>\n",
       "      <td>2/24/11</td>\n",
       "      <td>Employed</td>\n",
       "      <td>F</td>\n",
       "      <td>56274</td>\n",
       "      <td>...</td>\n",
       "      <td>5</td>\n",
       "      <td>0</td>\n",
       "      <td>1</td>\n",
       "      <td>Corporate Auto</td>\n",
       "      <td>Corporate L3</td>\n",
       "      <td>Offer1</td>\n",
       "      <td>Agent</td>\n",
       "      <td>384.811147</td>\n",
       "      <td>Two-Door Car</td>\n",
       "      <td>Medsize</td>\n",
       "    </tr>\n",
       "    <tr>\n",
       "      <th>1</th>\n",
       "      <td>QZ44356</td>\n",
       "      <td>Arizona</td>\n",
       "      <td>6979.535903</td>\n",
       "      <td>No</td>\n",
       "      <td>Extended</td>\n",
       "      <td>Bachelor</td>\n",
       "      <td>1/31/11</td>\n",
       "      <td>Unemployed</td>\n",
       "      <td>F</td>\n",
       "      <td>0</td>\n",
       "      <td>...</td>\n",
       "      <td>42</td>\n",
       "      <td>0</td>\n",
       "      <td>8</td>\n",
       "      <td>Personal Auto</td>\n",
       "      <td>Personal L3</td>\n",
       "      <td>Offer3</td>\n",
       "      <td>Agent</td>\n",
       "      <td>1131.464935</td>\n",
       "      <td>Four-Door Car</td>\n",
       "      <td>Medsize</td>\n",
       "    </tr>\n",
       "    <tr>\n",
       "      <th>2</th>\n",
       "      <td>AI49188</td>\n",
       "      <td>Nevada</td>\n",
       "      <td>12887.431650</td>\n",
       "      <td>No</td>\n",
       "      <td>Premium</td>\n",
       "      <td>Bachelor</td>\n",
       "      <td>2/19/11</td>\n",
       "      <td>Employed</td>\n",
       "      <td>F</td>\n",
       "      <td>48767</td>\n",
       "      <td>...</td>\n",
       "      <td>38</td>\n",
       "      <td>0</td>\n",
       "      <td>2</td>\n",
       "      <td>Personal Auto</td>\n",
       "      <td>Personal L3</td>\n",
       "      <td>Offer1</td>\n",
       "      <td>Agent</td>\n",
       "      <td>566.472247</td>\n",
       "      <td>Two-Door Car</td>\n",
       "      <td>Medsize</td>\n",
       "    </tr>\n",
       "    <tr>\n",
       "      <th>3</th>\n",
       "      <td>WW63253</td>\n",
       "      <td>California</td>\n",
       "      <td>7645.861827</td>\n",
       "      <td>No</td>\n",
       "      <td>Basic</td>\n",
       "      <td>Bachelor</td>\n",
       "      <td>1/20/11</td>\n",
       "      <td>Unemployed</td>\n",
       "      <td>M</td>\n",
       "      <td>0</td>\n",
       "      <td>...</td>\n",
       "      <td>65</td>\n",
       "      <td>0</td>\n",
       "      <td>7</td>\n",
       "      <td>Corporate Auto</td>\n",
       "      <td>Corporate L2</td>\n",
       "      <td>Offer1</td>\n",
       "      <td>Call Center</td>\n",
       "      <td>529.881344</td>\n",
       "      <td>SUV</td>\n",
       "      <td>Medsize</td>\n",
       "    </tr>\n",
       "    <tr>\n",
       "      <th>4</th>\n",
       "      <td>HB64268</td>\n",
       "      <td>Washington</td>\n",
       "      <td>2813.692575</td>\n",
       "      <td>No</td>\n",
       "      <td>Basic</td>\n",
       "      <td>Bachelor</td>\n",
       "      <td>2/3/11</td>\n",
       "      <td>Employed</td>\n",
       "      <td>M</td>\n",
       "      <td>43836</td>\n",
       "      <td>...</td>\n",
       "      <td>44</td>\n",
       "      <td>0</td>\n",
       "      <td>1</td>\n",
       "      <td>Personal Auto</td>\n",
       "      <td>Personal L1</td>\n",
       "      <td>Offer1</td>\n",
       "      <td>Agent</td>\n",
       "      <td>138.130879</td>\n",
       "      <td>Four-Door Car</td>\n",
       "      <td>Medsize</td>\n",
       "    </tr>\n",
       "  </tbody>\n",
       "</table>\n",
       "<p>5 rows × 24 columns</p>\n",
       "</div>"
      ],
      "text/plain": [
       "  customer       state  customer_lifetime_value response  coverage education  \\\n",
       "0  BU79786  Washington              2763.519279       No     Basic  Bachelor   \n",
       "1  QZ44356     Arizona              6979.535903       No  Extended  Bachelor   \n",
       "2  AI49188      Nevada             12887.431650       No   Premium  Bachelor   \n",
       "3  WW63253  California              7645.861827       No     Basic  Bachelor   \n",
       "4  HB64268  Washington              2813.692575       No     Basic  Bachelor   \n",
       "\n",
       "  effective_to_date employmentstatus gender  income  ...  \\\n",
       "0           2/24/11         Employed      F   56274  ...   \n",
       "1           1/31/11       Unemployed      F       0  ...   \n",
       "2           2/19/11         Employed      F   48767  ...   \n",
       "3           1/20/11       Unemployed      M       0  ...   \n",
       "4            2/3/11         Employed      M   43836  ...   \n",
       "\n",
       "  months_since_policy_inception number_of_open_complaints  number_of_policies  \\\n",
       "0                             5                         0                   1   \n",
       "1                            42                         0                   8   \n",
       "2                            38                         0                   2   \n",
       "3                            65                         0                   7   \n",
       "4                            44                         0                   1   \n",
       "\n",
       "      policy_type        policy  renew_offer_type  sales_channel  \\\n",
       "0  Corporate Auto  Corporate L3            Offer1          Agent   \n",
       "1   Personal Auto   Personal L3            Offer3          Agent   \n",
       "2   Personal Auto   Personal L3            Offer1          Agent   \n",
       "3  Corporate Auto  Corporate L2            Offer1    Call Center   \n",
       "4   Personal Auto   Personal L1            Offer1          Agent   \n",
       "\n",
       "  total_claim_amount  vehicle_class vehicle_size  \n",
       "0         384.811147   Two-Door Car      Medsize  \n",
       "1        1131.464935  Four-Door Car      Medsize  \n",
       "2         566.472247   Two-Door Car      Medsize  \n",
       "3         529.881344            SUV      Medsize  \n",
       "4         138.130879  Four-Door Car      Medsize  \n",
       "\n",
       "[5 rows x 24 columns]"
      ]
     },
     "execution_count": 80,
     "metadata": {},
     "output_type": "execute_result"
    }
   ],
   "source": [
    "# Option1\n",
    "customer_df.columns = customer_df.columns.str.lower()\n",
    "customer_df.columns = [re.sub(' ','_',i) for i in customer_df.columns]\n",
    "customer_df.head()\n",
    "\n",
    "# Option2\n",
    "# customer_df.columns = customer_df.columns.str.lower()\n",
    "# customer_df.columns = customer_df.columns.str.replace(' ', '_')\n",
    "# customer_df.head()\n"
   ]
  },
  {
   "cell_type": "markdown",
   "id": "refined-assets",
   "metadata": {},
   "source": [
    "### 5. Change effective to date column to datetime format."
   ]
  },
  {
   "cell_type": "code",
   "execution_count": 81,
   "id": "continent-worcester",
   "metadata": {},
   "outputs": [
    {
     "data": {
      "text/plain": [
       "customer                                 object\n",
       "state                                    object\n",
       "customer_lifetime_value                 float64\n",
       "response                                 object\n",
       "coverage                                 object\n",
       "education                                object\n",
       "effective_to_date                datetime64[ns]\n",
       "employmentstatus                         object\n",
       "gender                                   object\n",
       "income                                    int64\n",
       "location_code                            object\n",
       "marital_status                           object\n",
       "monthly_premium_auto                      int64\n",
       "months_since_last_claim                   int64\n",
       "months_since_policy_inception             int64\n",
       "number_of_open_complaints                 int64\n",
       "number_of_policies                        int64\n",
       "policy_type                              object\n",
       "policy                                   object\n",
       "renew_offer_type                         object\n",
       "sales_channel                            object\n",
       "total_claim_amount                      float64\n",
       "vehicle_class                            object\n",
       "vehicle_size                             object\n",
       "dtype: object"
      ]
     },
     "execution_count": 81,
     "metadata": {},
     "output_type": "execute_result"
    }
   ],
   "source": [
    "customer_df['effective_to_date'] = pd.to_datetime(customer_df['effective_to_date'])\n",
    "customer_df.dtypes"
   ]
  },
  {
   "cell_type": "markdown",
   "id": "joined-concentration",
   "metadata": {},
   "source": [
    "### 6. Check NaN values per column."
   ]
  },
  {
   "cell_type": "code",
   "execution_count": 82,
   "id": "neither-consolidation",
   "metadata": {},
   "outputs": [
    {
     "data": {
      "text/plain": [
       "customer                         0\n",
       "state                            0\n",
       "customer_lifetime_value          0\n",
       "response                         0\n",
       "coverage                         0\n",
       "education                        0\n",
       "effective_to_date                0\n",
       "employmentstatus                 0\n",
       "gender                           0\n",
       "income                           0\n",
       "location_code                    0\n",
       "marital_status                   0\n",
       "monthly_premium_auto             0\n",
       "months_since_last_claim          0\n",
       "months_since_policy_inception    0\n",
       "number_of_open_complaints        0\n",
       "number_of_policies               0\n",
       "policy_type                      0\n",
       "policy                           0\n",
       "renew_offer_type                 0\n",
       "sales_channel                    0\n",
       "total_claim_amount               0\n",
       "vehicle_class                    0\n",
       "vehicle_size                     0\n",
       "dtype: int64"
      ]
     },
     "execution_count": 82,
     "metadata": {},
     "output_type": "execute_result"
    }
   ],
   "source": [
    "customer_df.isnull().sum()"
   ]
  },
  {
   "cell_type": "markdown",
   "id": "nuclear-version",
   "metadata": {},
   "source": [
    "### 7. Define a function that differentiates between continuous and discrete variables. Hint: A number of unique values might be useful. Store continuous data into a continuous variable and do the same for discrete and categorical."
   ]
  },
  {
   "cell_type": "code",
   "execution_count": 83,
   "id": "sustained-supplement",
   "metadata": {},
   "outputs": [],
   "source": [
    "# FUNCTION FAILED #1\n",
    "# continuous = pd.DataFrame({})\n",
    "# discrete = pd.DataFrame({}) \n",
    "# def catcont(x):\n",
    "#     if x.dtypes == ('float64') :\n",
    "#         continuous.concat([continuous,pd.DataFrame(x)], axis=0)\n",
    "#     else:\n",
    "#         discrete.concat([discrete,pd.DataFrame(x)], axis=0)\n",
    "    \n",
    "def catcont(x):\n",
    "    if len(x.value_counts()) > 100:\n",
    "        return 'continuous'\n",
    "    else:\n",
    "        return 'discrete' "
   ]
  },
  {
   "cell_type": "code",
   "execution_count": 84,
   "id": "frequent-brief",
   "metadata": {},
   "outputs": [],
   "source": [
    "numerical = customer_df.select_dtypes(include = np.number)\n",
    "categorical = customer_df.select_dtypes(include = np.object)\n",
    "numerical.dtypes;"
   ]
  },
  {
   "cell_type": "code",
   "execution_count": 85,
   "id": "instant-spine",
   "metadata": {},
   "outputs": [],
   "source": [
    "numerical.head();"
   ]
  },
  {
   "cell_type": "code",
   "execution_count": 86,
   "id": "chief-rainbow",
   "metadata": {},
   "outputs": [
    {
     "data": {
      "text/plain": [
       "customer_lifetime_value          continuous\n",
       "income                           continuous\n",
       "monthly_premium_auto             continuous\n",
       "months_since_last_claim            discrete\n",
       "months_since_policy_inception      discrete\n",
       "number_of_open_complaints          discrete\n",
       "number_of_policies                 discrete\n",
       "total_claim_amount               continuous\n",
       "dtype: object"
      ]
     },
     "execution_count": 86,
     "metadata": {},
     "output_type": "execute_result"
    }
   ],
   "source": [
    "numerical.apply(catcont)\n",
    "# catcont(numerical)"
   ]
  },
  {
   "cell_type": "code",
   "execution_count": 87,
   "id": "exposed-astronomy",
   "metadata": {},
   "outputs": [
    {
     "data": {
      "text/html": [
       "<div>\n",
       "<style scoped>\n",
       "    .dataframe tbody tr th:only-of-type {\n",
       "        vertical-align: middle;\n",
       "    }\n",
       "\n",
       "    .dataframe tbody tr th {\n",
       "        vertical-align: top;\n",
       "    }\n",
       "\n",
       "    .dataframe thead th {\n",
       "        text-align: right;\n",
       "    }\n",
       "</style>\n",
       "<table border=\"1\" class=\"dataframe\">\n",
       "  <thead>\n",
       "    <tr style=\"text-align: right;\">\n",
       "      <th></th>\n",
       "      <th>months_since_last_claim</th>\n",
       "      <th>months_since_policy_inception</th>\n",
       "      <th>number_of_open_complaints</th>\n",
       "      <th>number_of_policies</th>\n",
       "    </tr>\n",
       "  </thead>\n",
       "  <tbody>\n",
       "    <tr>\n",
       "      <th>0</th>\n",
       "      <td>32</td>\n",
       "      <td>5</td>\n",
       "      <td>0</td>\n",
       "      <td>1</td>\n",
       "    </tr>\n",
       "    <tr>\n",
       "      <th>1</th>\n",
       "      <td>13</td>\n",
       "      <td>42</td>\n",
       "      <td>0</td>\n",
       "      <td>8</td>\n",
       "    </tr>\n",
       "    <tr>\n",
       "      <th>2</th>\n",
       "      <td>18</td>\n",
       "      <td>38</td>\n",
       "      <td>0</td>\n",
       "      <td>2</td>\n",
       "    </tr>\n",
       "    <tr>\n",
       "      <th>3</th>\n",
       "      <td>18</td>\n",
       "      <td>65</td>\n",
       "      <td>0</td>\n",
       "      <td>7</td>\n",
       "    </tr>\n",
       "    <tr>\n",
       "      <th>4</th>\n",
       "      <td>12</td>\n",
       "      <td>44</td>\n",
       "      <td>0</td>\n",
       "      <td>1</td>\n",
       "    </tr>\n",
       "  </tbody>\n",
       "</table>\n",
       "</div>"
      ],
      "text/plain": [
       "   months_since_last_claim  months_since_policy_inception  \\\n",
       "0                       32                              5   \n",
       "1                       13                             42   \n",
       "2                       18                             38   \n",
       "3                       18                             65   \n",
       "4                       12                             44   \n",
       "\n",
       "   number_of_open_complaints  number_of_policies  \n",
       "0                          0                   1  \n",
       "1                          0                   8  \n",
       "2                          0                   2  \n",
       "3                          0                   7  \n",
       "4                          0                   1  "
      ]
     },
     "execution_count": 87,
     "metadata": {},
     "output_type": "execute_result"
    },
    {
     "data": {
      "text/html": [
       "<div>\n",
       "<style scoped>\n",
       "    .dataframe tbody tr th:only-of-type {\n",
       "        vertical-align: middle;\n",
       "    }\n",
       "\n",
       "    .dataframe tbody tr th {\n",
       "        vertical-align: top;\n",
       "    }\n",
       "\n",
       "    .dataframe thead th {\n",
       "        text-align: right;\n",
       "    }\n",
       "</style>\n",
       "<table border=\"1\" class=\"dataframe\">\n",
       "  <thead>\n",
       "    <tr style=\"text-align: right;\">\n",
       "      <th></th>\n",
       "      <th>income</th>\n",
       "      <th>total_claim_amount</th>\n",
       "      <th>monthly_premium_auto</th>\n",
       "      <th>customer_lifetime_value</th>\n",
       "    </tr>\n",
       "  </thead>\n",
       "  <tbody>\n",
       "    <tr>\n",
       "      <th>0</th>\n",
       "      <td>56274</td>\n",
       "      <td>384.811147</td>\n",
       "      <td>69</td>\n",
       "      <td>2763.519279</td>\n",
       "    </tr>\n",
       "    <tr>\n",
       "      <th>1</th>\n",
       "      <td>0</td>\n",
       "      <td>1131.464935</td>\n",
       "      <td>94</td>\n",
       "      <td>6979.535903</td>\n",
       "    </tr>\n",
       "    <tr>\n",
       "      <th>2</th>\n",
       "      <td>48767</td>\n",
       "      <td>566.472247</td>\n",
       "      <td>108</td>\n",
       "      <td>12887.431650</td>\n",
       "    </tr>\n",
       "    <tr>\n",
       "      <th>3</th>\n",
       "      <td>0</td>\n",
       "      <td>529.881344</td>\n",
       "      <td>106</td>\n",
       "      <td>7645.861827</td>\n",
       "    </tr>\n",
       "    <tr>\n",
       "      <th>4</th>\n",
       "      <td>43836</td>\n",
       "      <td>138.130879</td>\n",
       "      <td>73</td>\n",
       "      <td>2813.692575</td>\n",
       "    </tr>\n",
       "  </tbody>\n",
       "</table>\n",
       "</div>"
      ],
      "text/plain": [
       "   income  total_claim_amount  monthly_premium_auto  customer_lifetime_value\n",
       "0   56274          384.811147                    69              2763.519279\n",
       "1       0         1131.464935                    94              6979.535903\n",
       "2   48767          566.472247                   108             12887.431650\n",
       "3       0          529.881344                   106              7645.861827\n",
       "4   43836          138.130879                    73              2813.692575"
      ]
     },
     "execution_count": 87,
     "metadata": {},
     "output_type": "execute_result"
    }
   ],
   "source": [
    "discrete = numerical.drop(['income', 'total_claim_amount', 'monthly_premium_auto', 'customer_lifetime_value'], axis=1)\n",
    "discrete.head()\n",
    "continuous = numerical.loc[:,['income', 'total_claim_amount', 'monthly_premium_auto', 'customer_lifetime_value']]\n",
    "continuous.head()"
   ]
  },
  {
   "cell_type": "markdown",
   "id": "oriented-frost",
   "metadata": {},
   "source": [
    "### 8. For the categorical data, check if there is some kind of text in a variable so we would need to clean it. Hint: Use the same method you used in step 7. Depending on the implementation, decide what to do with the variables you get."
   ]
  },
  {
   "cell_type": "code",
   "execution_count": 88,
   "id": "sustained-bargain",
   "metadata": {
    "scrolled": false
   },
   "outputs": [
    {
     "data": {
      "text/plain": [
       "customer            9134\n",
       "state                  5\n",
       "response               2\n",
       "coverage               3\n",
       "education              5\n",
       "employmentstatus       5\n",
       "gender                 2\n",
       "location_code          3\n",
       "marital_status         3\n",
       "policy_type            3\n",
       "policy                 9\n",
       "renew_offer_type       4\n",
       "sales_channel          4\n",
       "vehicle_class          6\n",
       "vehicle_size           3\n",
       "dtype: int64"
      ]
     },
     "execution_count": 88,
     "metadata": {},
     "output_type": "execute_result"
    },
    {
     "data": {
      "text/plain": [
       "RT60959    1\n",
       "QN67807    1\n",
       "SJ95423    1\n",
       "UG49494    1\n",
       "MH76107    1\n",
       "          ..\n",
       "MT78037    1\n",
       "IZ79227    1\n",
       "ET39822    1\n",
       "SE47384    1\n",
       "GZ31904    1\n",
       "Name: customer, Length: 9134, dtype: int64"
      ]
     },
     "execution_count": 88,
     "metadata": {},
     "output_type": "execute_result"
    },
    {
     "data": {
      "text/plain": [
       "California    3150\n",
       "Oregon        2601\n",
       "Arizona       1703\n",
       "Nevada         882\n",
       "Washington     798\n",
       "Name: state, dtype: int64"
      ]
     },
     "execution_count": 88,
     "metadata": {},
     "output_type": "execute_result"
    },
    {
     "data": {
      "text/plain": [
       "No     7826\n",
       "Yes    1308\n",
       "Name: response, dtype: int64"
      ]
     },
     "execution_count": 88,
     "metadata": {},
     "output_type": "execute_result"
    },
    {
     "data": {
      "text/plain": [
       "Basic       5568\n",
       "Extended    2742\n",
       "Premium      824\n",
       "Name: coverage, dtype: int64"
      ]
     },
     "execution_count": 88,
     "metadata": {},
     "output_type": "execute_result"
    },
    {
     "data": {
      "text/plain": [
       "Bachelor                2748\n",
       "College                 2681\n",
       "High School or Below    2622\n",
       "Master                   741\n",
       "Doctor                   342\n",
       "Name: education, dtype: int64"
      ]
     },
     "execution_count": 88,
     "metadata": {},
     "output_type": "execute_result"
    },
    {
     "data": {
      "text/plain": [
       "Employed         5698\n",
       "Unemployed       2317\n",
       "Medical Leave     432\n",
       "Disabled          405\n",
       "Retired           282\n",
       "Name: employmentstatus, dtype: int64"
      ]
     },
     "execution_count": 88,
     "metadata": {},
     "output_type": "execute_result"
    },
    {
     "data": {
      "text/plain": [
       "F    4658\n",
       "M    4476\n",
       "Name: gender, dtype: int64"
      ]
     },
     "execution_count": 88,
     "metadata": {},
     "output_type": "execute_result"
    },
    {
     "data": {
      "text/plain": [
       "Suburban    5779\n",
       "Rural       1773\n",
       "Urban       1582\n",
       "Name: location_code, dtype: int64"
      ]
     },
     "execution_count": 88,
     "metadata": {},
     "output_type": "execute_result"
    },
    {
     "data": {
      "text/plain": [
       "Married     5298\n",
       "Single      2467\n",
       "Divorced    1369\n",
       "Name: marital_status, dtype: int64"
      ]
     },
     "execution_count": 88,
     "metadata": {},
     "output_type": "execute_result"
    },
    {
     "data": {
      "text/plain": [
       "Personal Auto     6788\n",
       "Corporate Auto    1968\n",
       "Special Auto       378\n",
       "Name: policy_type, dtype: int64"
      ]
     },
     "execution_count": 88,
     "metadata": {},
     "output_type": "execute_result"
    },
    {
     "data": {
      "text/plain": [
       "Personal L3     3426\n",
       "Personal L2     2122\n",
       "Personal L1     1240\n",
       "Corporate L3    1014\n",
       "Corporate L2     595\n",
       "Corporate L1     359\n",
       "Special L2       164\n",
       "Special L3       148\n",
       "Special L1        66\n",
       "Name: policy, dtype: int64"
      ]
     },
     "execution_count": 88,
     "metadata": {},
     "output_type": "execute_result"
    },
    {
     "data": {
      "text/plain": [
       "Offer1    3752\n",
       "Offer2    2926\n",
       "Offer3    1432\n",
       "Offer4    1024\n",
       "Name: renew_offer_type, dtype: int64"
      ]
     },
     "execution_count": 88,
     "metadata": {},
     "output_type": "execute_result"
    },
    {
     "data": {
      "text/plain": [
       "Agent          3477\n",
       "Branch         2567\n",
       "Call Center    1765\n",
       "Web            1325\n",
       "Name: sales_channel, dtype: int64"
      ]
     },
     "execution_count": 88,
     "metadata": {},
     "output_type": "execute_result"
    },
    {
     "data": {
      "text/plain": [
       "Four-Door Car    4621\n",
       "Two-Door Car     1886\n",
       "SUV              1796\n",
       "Sports Car        484\n",
       "Luxury SUV        184\n",
       "Luxury Car        163\n",
       "Name: vehicle_class, dtype: int64"
      ]
     },
     "execution_count": 88,
     "metadata": {},
     "output_type": "execute_result"
    },
    {
     "data": {
      "text/plain": [
       "Medsize    6424\n",
       "Small      1764\n",
       "Large       946\n",
       "Name: vehicle_size, dtype: int64"
      ]
     },
     "execution_count": 88,
     "metadata": {},
     "output_type": "execute_result"
    }
   ],
   "source": [
    "categorical.nunique()\n",
    "\n",
    "for x in categorical:\n",
    "    categorical[x].value_counts()"
   ]
  },
  {
   "cell_type": "markdown",
   "id": "italic-scoop",
   "metadata": {},
   "source": [
    "### 9. Get categorical features."
   ]
  },
  {
   "cell_type": "code",
   "execution_count": 89,
   "id": "complete-night",
   "metadata": {},
   "outputs": [
    {
     "data": {
      "text/html": [
       "<div>\n",
       "<style scoped>\n",
       "    .dataframe tbody tr th:only-of-type {\n",
       "        vertical-align: middle;\n",
       "    }\n",
       "\n",
       "    .dataframe tbody tr th {\n",
       "        vertical-align: top;\n",
       "    }\n",
       "\n",
       "    .dataframe thead th {\n",
       "        text-align: right;\n",
       "    }\n",
       "</style>\n",
       "<table border=\"1\" class=\"dataframe\">\n",
       "  <thead>\n",
       "    <tr style=\"text-align: right;\">\n",
       "      <th></th>\n",
       "      <th>customer</th>\n",
       "      <th>state</th>\n",
       "      <th>response</th>\n",
       "      <th>coverage</th>\n",
       "      <th>education</th>\n",
       "      <th>employmentstatus</th>\n",
       "      <th>gender</th>\n",
       "      <th>location_code</th>\n",
       "      <th>marital_status</th>\n",
       "      <th>policy_type</th>\n",
       "      <th>policy</th>\n",
       "      <th>renew_offer_type</th>\n",
       "      <th>sales_channel</th>\n",
       "      <th>vehicle_class</th>\n",
       "      <th>vehicle_size</th>\n",
       "    </tr>\n",
       "  </thead>\n",
       "  <tbody>\n",
       "    <tr>\n",
       "      <th>0</th>\n",
       "      <td>BU79786</td>\n",
       "      <td>Washington</td>\n",
       "      <td>No</td>\n",
       "      <td>Basic</td>\n",
       "      <td>Bachelor</td>\n",
       "      <td>Employed</td>\n",
       "      <td>F</td>\n",
       "      <td>Suburban</td>\n",
       "      <td>Married</td>\n",
       "      <td>Corporate Auto</td>\n",
       "      <td>Corporate L3</td>\n",
       "      <td>Offer1</td>\n",
       "      <td>Agent</td>\n",
       "      <td>Two-Door Car</td>\n",
       "      <td>Medsize</td>\n",
       "    </tr>\n",
       "    <tr>\n",
       "      <th>1</th>\n",
       "      <td>QZ44356</td>\n",
       "      <td>Arizona</td>\n",
       "      <td>No</td>\n",
       "      <td>Extended</td>\n",
       "      <td>Bachelor</td>\n",
       "      <td>Unemployed</td>\n",
       "      <td>F</td>\n",
       "      <td>Suburban</td>\n",
       "      <td>Single</td>\n",
       "      <td>Personal Auto</td>\n",
       "      <td>Personal L3</td>\n",
       "      <td>Offer3</td>\n",
       "      <td>Agent</td>\n",
       "      <td>Four-Door Car</td>\n",
       "      <td>Medsize</td>\n",
       "    </tr>\n",
       "    <tr>\n",
       "      <th>2</th>\n",
       "      <td>AI49188</td>\n",
       "      <td>Nevada</td>\n",
       "      <td>No</td>\n",
       "      <td>Premium</td>\n",
       "      <td>Bachelor</td>\n",
       "      <td>Employed</td>\n",
       "      <td>F</td>\n",
       "      <td>Suburban</td>\n",
       "      <td>Married</td>\n",
       "      <td>Personal Auto</td>\n",
       "      <td>Personal L3</td>\n",
       "      <td>Offer1</td>\n",
       "      <td>Agent</td>\n",
       "      <td>Two-Door Car</td>\n",
       "      <td>Medsize</td>\n",
       "    </tr>\n",
       "    <tr>\n",
       "      <th>3</th>\n",
       "      <td>WW63253</td>\n",
       "      <td>California</td>\n",
       "      <td>No</td>\n",
       "      <td>Basic</td>\n",
       "      <td>Bachelor</td>\n",
       "      <td>Unemployed</td>\n",
       "      <td>M</td>\n",
       "      <td>Suburban</td>\n",
       "      <td>Married</td>\n",
       "      <td>Corporate Auto</td>\n",
       "      <td>Corporate L2</td>\n",
       "      <td>Offer1</td>\n",
       "      <td>Call Center</td>\n",
       "      <td>SUV</td>\n",
       "      <td>Medsize</td>\n",
       "    </tr>\n",
       "    <tr>\n",
       "      <th>4</th>\n",
       "      <td>HB64268</td>\n",
       "      <td>Washington</td>\n",
       "      <td>No</td>\n",
       "      <td>Basic</td>\n",
       "      <td>Bachelor</td>\n",
       "      <td>Employed</td>\n",
       "      <td>M</td>\n",
       "      <td>Rural</td>\n",
       "      <td>Single</td>\n",
       "      <td>Personal Auto</td>\n",
       "      <td>Personal L1</td>\n",
       "      <td>Offer1</td>\n",
       "      <td>Agent</td>\n",
       "      <td>Four-Door Car</td>\n",
       "      <td>Medsize</td>\n",
       "    </tr>\n",
       "  </tbody>\n",
       "</table>\n",
       "</div>"
      ],
      "text/plain": [
       "  customer       state response  coverage education employmentstatus gender  \\\n",
       "0  BU79786  Washington       No     Basic  Bachelor         Employed      F   \n",
       "1  QZ44356     Arizona       No  Extended  Bachelor       Unemployed      F   \n",
       "2  AI49188      Nevada       No   Premium  Bachelor         Employed      F   \n",
       "3  WW63253  California       No     Basic  Bachelor       Unemployed      M   \n",
       "4  HB64268  Washington       No     Basic  Bachelor         Employed      M   \n",
       "\n",
       "  location_code marital_status     policy_type        policy renew_offer_type  \\\n",
       "0      Suburban        Married  Corporate Auto  Corporate L3           Offer1   \n",
       "1      Suburban         Single   Personal Auto   Personal L3           Offer3   \n",
       "2      Suburban        Married   Personal Auto   Personal L3           Offer1   \n",
       "3      Suburban        Married  Corporate Auto  Corporate L2           Offer1   \n",
       "4         Rural         Single   Personal Auto   Personal L1           Offer1   \n",
       "\n",
       "  sales_channel  vehicle_class vehicle_size  \n",
       "0         Agent   Two-Door Car      Medsize  \n",
       "1         Agent  Four-Door Car      Medsize  \n",
       "2         Agent   Two-Door Car      Medsize  \n",
       "3   Call Center            SUV      Medsize  \n",
       "4         Agent  Four-Door Car      Medsize  "
      ]
     },
     "execution_count": 89,
     "metadata": {},
     "output_type": "execute_result"
    }
   ],
   "source": [
    "categorical.head()"
   ]
  },
  {
   "cell_type": "markdown",
   "id": "worst-conditions",
   "metadata": {},
   "source": [
    "### 10. What should we do with the customer_id column?"
   ]
  },
  {
   "cell_type": "code",
   "execution_count": 90,
   "id": "weekly-nothing",
   "metadata": {},
   "outputs": [],
   "source": [
    "# categorical['customer'].nunique() == len(categorical)\n",
    "# categorical.set_index('customer', inplace = True)"
   ]
  },
  {
   "cell_type": "code",
   "execution_count": 91,
   "id": "anonymous-heaven",
   "metadata": {},
   "outputs": [
    {
     "name": "stderr",
     "output_type": "stream",
     "text": [
      "C:\\Users\\besca\\anaconda3\\lib\\site-packages\\pandas\\core\\frame.py:4315: SettingWithCopyWarning: \n",
      "A value is trying to be set on a copy of a slice from a DataFrame\n",
      "\n",
      "See the caveats in the documentation: https://pandas.pydata.org/pandas-docs/stable/user_guide/indexing.html#returning-a-view-versus-a-copy\n",
      "  errors=errors,\n"
     ]
    }
   ],
   "source": [
    "# Won't be considered \n",
    "categorical.drop(['customer'], axis=1, inplace=True)"
   ]
  },
  {
   "cell_type": "code",
   "execution_count": null,
   "id": "indonesian-edition",
   "metadata": {},
   "outputs": [],
   "source": []
  },
  {
   "cell_type": "markdown",
   "id": "black-practitioner",
   "metadata": {},
   "source": [
    "# Lab | Cleaning categorical data"
   ]
  },
  {
   "cell_type": "markdown",
   "id": "mature-sleeping",
   "metadata": {},
   "source": [
    "### 1. Import the necessary libraries if you are starting a new notebook."
   ]
  },
  {
   "cell_type": "code",
   "execution_count": 92,
   "id": "lesbian-prefix",
   "metadata": {},
   "outputs": [],
   "source": [
    "# all imported"
   ]
  },
  {
   "cell_type": "markdown",
   "id": "nutritional-establishment",
   "metadata": {},
   "source": [
    "### 2. Load the continuous and discrete variables into continuous_df and discrete_df variables."
   ]
  },
  {
   "cell_type": "code",
   "execution_count": 93,
   "id": "competent-activity",
   "metadata": {},
   "outputs": [
    {
     "data": {
      "text/html": [
       "<div>\n",
       "<style scoped>\n",
       "    .dataframe tbody tr th:only-of-type {\n",
       "        vertical-align: middle;\n",
       "    }\n",
       "\n",
       "    .dataframe tbody tr th {\n",
       "        vertical-align: top;\n",
       "    }\n",
       "\n",
       "    .dataframe thead th {\n",
       "        text-align: right;\n",
       "    }\n",
       "</style>\n",
       "<table border=\"1\" class=\"dataframe\">\n",
       "  <thead>\n",
       "    <tr style=\"text-align: right;\">\n",
       "      <th></th>\n",
       "      <th>income</th>\n",
       "      <th>total_claim_amount</th>\n",
       "      <th>monthly_premium_auto</th>\n",
       "      <th>customer_lifetime_value</th>\n",
       "    </tr>\n",
       "  </thead>\n",
       "  <tbody>\n",
       "    <tr>\n",
       "      <th>0</th>\n",
       "      <td>56274</td>\n",
       "      <td>384.811147</td>\n",
       "      <td>69</td>\n",
       "      <td>2763.519279</td>\n",
       "    </tr>\n",
       "    <tr>\n",
       "      <th>1</th>\n",
       "      <td>0</td>\n",
       "      <td>1131.464935</td>\n",
       "      <td>94</td>\n",
       "      <td>6979.535903</td>\n",
       "    </tr>\n",
       "    <tr>\n",
       "      <th>2</th>\n",
       "      <td>48767</td>\n",
       "      <td>566.472247</td>\n",
       "      <td>108</td>\n",
       "      <td>12887.431650</td>\n",
       "    </tr>\n",
       "    <tr>\n",
       "      <th>3</th>\n",
       "      <td>0</td>\n",
       "      <td>529.881344</td>\n",
       "      <td>106</td>\n",
       "      <td>7645.861827</td>\n",
       "    </tr>\n",
       "    <tr>\n",
       "      <th>4</th>\n",
       "      <td>43836</td>\n",
       "      <td>138.130879</td>\n",
       "      <td>73</td>\n",
       "      <td>2813.692575</td>\n",
       "    </tr>\n",
       "    <tr>\n",
       "      <th>...</th>\n",
       "      <td>...</td>\n",
       "      <td>...</td>\n",
       "      <td>...</td>\n",
       "      <td>...</td>\n",
       "    </tr>\n",
       "    <tr>\n",
       "      <th>9129</th>\n",
       "      <td>71941</td>\n",
       "      <td>198.234764</td>\n",
       "      <td>73</td>\n",
       "      <td>23405.987980</td>\n",
       "    </tr>\n",
       "    <tr>\n",
       "      <th>9130</th>\n",
       "      <td>21604</td>\n",
       "      <td>379.200000</td>\n",
       "      <td>79</td>\n",
       "      <td>3096.511217</td>\n",
       "    </tr>\n",
       "    <tr>\n",
       "      <th>9131</th>\n",
       "      <td>0</td>\n",
       "      <td>790.784983</td>\n",
       "      <td>85</td>\n",
       "      <td>8163.890428</td>\n",
       "    </tr>\n",
       "    <tr>\n",
       "      <th>9132</th>\n",
       "      <td>21941</td>\n",
       "      <td>691.200000</td>\n",
       "      <td>96</td>\n",
       "      <td>7524.442436</td>\n",
       "    </tr>\n",
       "    <tr>\n",
       "      <th>9133</th>\n",
       "      <td>0</td>\n",
       "      <td>369.600000</td>\n",
       "      <td>77</td>\n",
       "      <td>2611.836866</td>\n",
       "    </tr>\n",
       "  </tbody>\n",
       "</table>\n",
       "<p>9134 rows × 4 columns</p>\n",
       "</div>"
      ],
      "text/plain": [
       "      income  total_claim_amount  monthly_premium_auto  \\\n",
       "0      56274          384.811147                    69   \n",
       "1          0         1131.464935                    94   \n",
       "2      48767          566.472247                   108   \n",
       "3          0          529.881344                   106   \n",
       "4      43836          138.130879                    73   \n",
       "...      ...                 ...                   ...   \n",
       "9129   71941          198.234764                    73   \n",
       "9130   21604          379.200000                    79   \n",
       "9131       0          790.784983                    85   \n",
       "9132   21941          691.200000                    96   \n",
       "9133       0          369.600000                    77   \n",
       "\n",
       "      customer_lifetime_value  \n",
       "0                 2763.519279  \n",
       "1                 6979.535903  \n",
       "2                12887.431650  \n",
       "3                 7645.861827  \n",
       "4                 2813.692575  \n",
       "...                       ...  \n",
       "9129             23405.987980  \n",
       "9130              3096.511217  \n",
       "9131              8163.890428  \n",
       "9132              7524.442436  \n",
       "9133              2611.836866  \n",
       "\n",
       "[9134 rows x 4 columns]"
      ]
     },
     "execution_count": 93,
     "metadata": {},
     "output_type": "execute_result"
    },
    {
     "data": {
      "text/html": [
       "<div>\n",
       "<style scoped>\n",
       "    .dataframe tbody tr th:only-of-type {\n",
       "        vertical-align: middle;\n",
       "    }\n",
       "\n",
       "    .dataframe tbody tr th {\n",
       "        vertical-align: top;\n",
       "    }\n",
       "\n",
       "    .dataframe thead th {\n",
       "        text-align: right;\n",
       "    }\n",
       "</style>\n",
       "<table border=\"1\" class=\"dataframe\">\n",
       "  <thead>\n",
       "    <tr style=\"text-align: right;\">\n",
       "      <th></th>\n",
       "      <th>months_since_last_claim</th>\n",
       "      <th>months_since_policy_inception</th>\n",
       "      <th>number_of_open_complaints</th>\n",
       "      <th>number_of_policies</th>\n",
       "    </tr>\n",
       "  </thead>\n",
       "  <tbody>\n",
       "    <tr>\n",
       "      <th>0</th>\n",
       "      <td>32</td>\n",
       "      <td>5</td>\n",
       "      <td>0</td>\n",
       "      <td>1</td>\n",
       "    </tr>\n",
       "    <tr>\n",
       "      <th>1</th>\n",
       "      <td>13</td>\n",
       "      <td>42</td>\n",
       "      <td>0</td>\n",
       "      <td>8</td>\n",
       "    </tr>\n",
       "    <tr>\n",
       "      <th>2</th>\n",
       "      <td>18</td>\n",
       "      <td>38</td>\n",
       "      <td>0</td>\n",
       "      <td>2</td>\n",
       "    </tr>\n",
       "    <tr>\n",
       "      <th>3</th>\n",
       "      <td>18</td>\n",
       "      <td>65</td>\n",
       "      <td>0</td>\n",
       "      <td>7</td>\n",
       "    </tr>\n",
       "    <tr>\n",
       "      <th>4</th>\n",
       "      <td>12</td>\n",
       "      <td>44</td>\n",
       "      <td>0</td>\n",
       "      <td>1</td>\n",
       "    </tr>\n",
       "    <tr>\n",
       "      <th>...</th>\n",
       "      <td>...</td>\n",
       "      <td>...</td>\n",
       "      <td>...</td>\n",
       "      <td>...</td>\n",
       "    </tr>\n",
       "    <tr>\n",
       "      <th>9129</th>\n",
       "      <td>18</td>\n",
       "      <td>89</td>\n",
       "      <td>0</td>\n",
       "      <td>2</td>\n",
       "    </tr>\n",
       "    <tr>\n",
       "      <th>9130</th>\n",
       "      <td>14</td>\n",
       "      <td>28</td>\n",
       "      <td>0</td>\n",
       "      <td>1</td>\n",
       "    </tr>\n",
       "    <tr>\n",
       "      <th>9131</th>\n",
       "      <td>9</td>\n",
       "      <td>37</td>\n",
       "      <td>3</td>\n",
       "      <td>2</td>\n",
       "    </tr>\n",
       "    <tr>\n",
       "      <th>9132</th>\n",
       "      <td>34</td>\n",
       "      <td>3</td>\n",
       "      <td>0</td>\n",
       "      <td>3</td>\n",
       "    </tr>\n",
       "    <tr>\n",
       "      <th>9133</th>\n",
       "      <td>3</td>\n",
       "      <td>90</td>\n",
       "      <td>0</td>\n",
       "      <td>1</td>\n",
       "    </tr>\n",
       "  </tbody>\n",
       "</table>\n",
       "<p>9134 rows × 4 columns</p>\n",
       "</div>"
      ],
      "text/plain": [
       "      months_since_last_claim  months_since_policy_inception  \\\n",
       "0                          32                              5   \n",
       "1                          13                             42   \n",
       "2                          18                             38   \n",
       "3                          18                             65   \n",
       "4                          12                             44   \n",
       "...                       ...                            ...   \n",
       "9129                       18                             89   \n",
       "9130                       14                             28   \n",
       "9131                        9                             37   \n",
       "9132                       34                              3   \n",
       "9133                        3                             90   \n",
       "\n",
       "      number_of_open_complaints  number_of_policies  \n",
       "0                             0                   1  \n",
       "1                             0                   8  \n",
       "2                             0                   2  \n",
       "3                             0                   7  \n",
       "4                             0                   1  \n",
       "...                         ...                 ...  \n",
       "9129                          0                   2  \n",
       "9130                          0                   1  \n",
       "9131                          3                   2  \n",
       "9132                          0                   3  \n",
       "9133                          0                   1  \n",
       "\n",
       "[9134 rows x 4 columns]"
      ]
     },
     "execution_count": 93,
     "metadata": {},
     "output_type": "execute_result"
    }
   ],
   "source": [
    "continuous_df = continuous\n",
    "discrete_df = discrete\n",
    "continuous_df\n",
    "discrete_df"
   ]
  },
  {
   "cell_type": "markdown",
   "id": "recorded-mechanics",
   "metadata": {},
   "source": [
    "### 3. Plot a correlation matrix, what can you see?"
   ]
  },
  {
   "cell_type": "code",
   "execution_count": 94,
   "id": "incident-young",
   "metadata": {},
   "outputs": [
    {
     "data": {
      "text/plain": [
       "<AxesSubplot:>"
      ]
     },
     "execution_count": 94,
     "metadata": {},
     "output_type": "execute_result"
    },
    {
     "data": {
      "image/png": "[encoded data removed]",
      "text/plain": [
       "<Figure size 432x288 with 2 Axes>"
      ]
     },
     "metadata": {
      "needs_background": "light"
     },
     "output_type": "display_data"
    }
   ],
   "source": [
    "corr_matrix = numerical.corr()\n",
    "sns.heatmap(corr_matrix, annot=True)\n",
    "plt.show()"
   ]
  },
  {
   "cell_type": "markdown",
   "id": "directed-murder",
   "metadata": {},
   "source": [
    "### 4. Create a function to plot every discrete variables. Do the same with continuous variables (be careful, you may change the plot type to another one better suited for continuous data)."
   ]
  },
  {
   "cell_type": "code",
   "execution_count": 95,
   "id": "about-genealogy",
   "metadata": {},
   "outputs": [],
   "source": [
    "# FUNCTION FAILED #2\n",
    "def graphs(x):\n",
    "    if x in discrete_df:\n",
    "        return sns.boxplot(x)\n",
    "    else: \n",
    "        pass"
   ]
  },
  {
   "cell_type": "code",
   "execution_count": 96,
   "id": "martial-pottery",
   "metadata": {},
   "outputs": [],
   "source": [
    "# discrete_df.apply(graphs)\n",
    "# graphs(discrete_df)"
   ]
  },
  {
   "cell_type": "code",
   "execution_count": 97,
   "id": "adult-newport",
   "metadata": {},
   "outputs": [],
   "source": [
    "# for i in discrete_df.columns:\n",
    "#     sns.displot(discrete_df[i])\n",
    "#     plt.show()\n",
    "    \n",
    "# for i in range(len(continuous_df.columns)):\n",
    "#     sns.distplot(continuous_df.iloc[:,i],bins=20)\n",
    "#     plt.show()\n"
   ]
  },
  {
   "cell_type": "code",
   "execution_count": 98,
   "id": "opposite-rescue",
   "metadata": {},
   "outputs": [],
   "source": [
    "# for i in discrete_df.columns:\n",
    "#     sns.displot(discrete_df[i])\n",
    "#     plt.show()\n",
    "    \n",
    "# for i in range(len(continuous_df.columns)):\n",
    "#     sns.distplot(continuous_df.iloc[:,i],bins=20)\n",
    "#     plt.show()\n",
    "\n",
    "# for i in continuous_df.columns:\n",
    "#     sns.violinplot(continuous_df[i])\n",
    "#     plt.show()\n"
   ]
  },
  {
   "cell_type": "code",
   "execution_count": 99,
   "id": "complimentary-mortgage",
   "metadata": {},
   "outputs": [],
   "source": [
    "# def plot_con_box(df):\n",
    "#     for i in range(len(col_names_c)):\n",
    "#         sns.boxplot(df.iloc[:,i])\n",
    "#         plt.show()\n",
    "        \n",
    "# plot_con_box(continuous_df)\n",
    "\n",
    "# for i in range(len(categorical_df.columns)):\n",
    "#         sns.countplot(categorical_df.iloc[:,i])\n",
    "#         plt.show()\n"
   ]
  },
  {
   "cell_type": "code",
   "execution_count": 100,
   "id": "swedish-heading",
   "metadata": {},
   "outputs": [
    {
     "data": {
      "text/plain": [
       "income                       int64\n",
       "total_claim_amount         float64\n",
       "monthly_premium_auto         int64\n",
       "customer_lifetime_value    float64\n",
       "dtype: object"
      ]
     },
     "execution_count": 100,
     "metadata": {},
     "output_type": "execute_result"
    }
   ],
   "source": [
    "continuous_df.dtypes"
   ]
  },
  {
   "cell_type": "code",
   "execution_count": 101,
   "id": "laughing-comparison",
   "metadata": {},
   "outputs": [
    {
     "data": {
      "image/png": "[encoded data removed]",
      "text/plain": [
       "<Figure size 1440x288 with 4 Axes>"
      ]
     },
     "metadata": {
      "needs_background": "light"
     },
     "output_type": "display_data"
    }
   ],
   "source": [
    "fig, axes = plt.subplots(1,4,  figsize=(20, 4))\n",
    "\n",
    "fig.suptitle('Distribution of variables in boxplots')\n",
    "\n",
    "sns.boxplot(ax=axes[0],data= customer_df, x= 'customer_lifetime_value')\n",
    "sns.boxplot(ax=axes[1],data= customer_df, x= 'income')\n",
    "sns.boxplot(ax=axes[2],data= customer_df, x= 'total_claim_amount')\n",
    "sns.boxplot(ax=axes[3],data= customer_df, x= 'monthly_premium_auto');\n",
    "\n",
    "\n"
   ]
  },
  {
   "cell_type": "code",
   "execution_count": 102,
   "id": "thrown-cherry",
   "metadata": {},
   "outputs": [
    {
     "data": {
      "text/plain": [
       "months_since_last_claim          int64\n",
       "months_since_policy_inception    int64\n",
       "number_of_open_complaints        int64\n",
       "number_of_policies               int64\n",
       "dtype: object"
      ]
     },
     "execution_count": 102,
     "metadata": {},
     "output_type": "execute_result"
    }
   ],
   "source": [
    "discrete_df.dtypes"
   ]
  },
  {
   "cell_type": "code",
   "execution_count": 103,
   "id": "stainless-spending",
   "metadata": {},
   "outputs": [
    {
     "data": {
      "image/png": "[encoded data removed]",
      "text/plain": [
       "<Figure size 1440x288 with 4 Axes>"
      ]
     },
     "metadata": {
      "needs_background": "light"
     },
     "output_type": "display_data"
    }
   ],
   "source": [
    "fig, axes = plt.subplots(1,4,  figsize=(20, 4))\n",
    "\n",
    "fig.suptitle('Distribution of variables in boxplots')\n",
    "\n",
    "sns.boxplot(ax=axes[0],data= customer_df, x= 'months_since_last_claim' )\n",
    "sns.boxplot(ax=axes[1],data= customer_df, x= 'months_since_policy_inception' )\n",
    "sns.boxplot(ax=axes[2],data= customer_df, x= 'number_of_open_complaints')\n",
    "sns.boxplot(ax=axes[3],data= customer_df, x= 'number_of_policies');"
   ]
  },
  {
   "cell_type": "markdown",
   "id": "hybrid-calcium",
   "metadata": {},
   "source": [
    "### 5. What can you see in the plots?"
   ]
  },
  {
   "cell_type": "code",
   "execution_count": 104,
   "id": "minute-heater",
   "metadata": {},
   "outputs": [],
   "source": [
    "# Monthly_premium_auto has quite a lot of outliers\n",
    "# Looks like number_of_open_compaints can be categorical, so maybe we should convert it "
   ]
  },
  {
   "cell_type": "code",
   "execution_count": 105,
   "id": "identical-prerequisite",
   "metadata": {},
   "outputs": [],
   "source": [
    "# discrete_df = discrete_df.astype({'number_of_open_compaints':'object'})"
   ]
  },
  {
   "cell_type": "markdown",
   "id": "functional-march",
   "metadata": {},
   "source": [
    "### 6. Look for outliers in the continuous variables we have found. Hint: There was a good plot to do that."
   ]
  },
  {
   "cell_type": "code",
   "execution_count": 106,
   "id": "lightweight-wednesday",
   "metadata": {},
   "outputs": [],
   "source": [
    "# for i in continuous_df.columns:\n",
    "#     sns.violinplot(continuous_df[i])\n",
    "#     plt.show()"
   ]
  },
  {
   "cell_type": "code",
   "execution_count": 107,
   "id": "promising-vermont",
   "metadata": {},
   "outputs": [
    {
     "data": {
      "image/png": "[encoded data removed]",
      "text/plain": [
       "<Figure size 1440x288 with 4 Axes>"
      ]
     },
     "metadata": {
      "needs_background": "light"
     },
     "output_type": "display_data"
    }
   ],
   "source": [
    "fig, axes = plt.subplots(1,4,  figsize=(20, 4))\n",
    "\n",
    "fig.suptitle('Distribution of variables in violinplots')\n",
    "\n",
    "sns.violinplot(ax=axes[0],data= customer_df, x= 'customer_lifetime_value')\n",
    "sns.violinplot(ax=axes[1],data= customer_df, x= 'income')\n",
    "sns.violinplot(ax=axes[2],data= customer_df, x= 'total_claim_amount')\n",
    "sns.violinplot(ax=axes[3],data= customer_df, x= 'monthly_premium_auto');"
   ]
  },
  {
   "cell_type": "code",
   "execution_count": 108,
   "id": "stuffed-greene",
   "metadata": {},
   "outputs": [],
   "source": [
    "# FUNCTION FAILED #3\n",
    "# def continuous_check_outliers(x):\n",
    "#     for x in continuous_df:\n",
    "#         iqr = np.percentile(continuous_df[x],75) - np.percentile(continuous_df[x],25)\n",
    "#         upper_limit = np.percentile(continuous_df[x],75) + 1.5*iqr\n",
    "#         extraordinary_points = continuous_df[continuous_df[x] > upper_limit]\n",
    "#         return len(extraordinary_points)"
   ]
  },
  {
   "cell_type": "code",
   "execution_count": 109,
   "id": "affected-finland",
   "metadata": {},
   "outputs": [],
   "source": [
    "# continuous_df.apply(continuous_check_outliers)"
   ]
  },
  {
   "cell_type": "code",
   "execution_count": 110,
   "id": "upset-corner",
   "metadata": {},
   "outputs": [
    {
     "data": {
      "text/plain": [
       "430"
      ]
     },
     "execution_count": 110,
     "metadata": {},
     "output_type": "execute_result"
    }
   ],
   "source": [
    "iqr = np.percentile(continuous_df['monthly_premium_auto'],75) - np.percentile(continuous_df['monthly_premium_auto'],25)\n",
    "upper_limit = np.percentile(continuous_df['monthly_premium_auto'],75) + 1.5*iqr\n",
    "extraordinary_points = continuous_df[continuous_df['monthly_premium_auto'] > upper_limit]\n",
    "len(extraordinary_points)  # THis checks the number of points that will be removed"
   ]
  },
  {
   "cell_type": "code",
   "execution_count": 111,
   "id": "constant-publication",
   "metadata": {},
   "outputs": [
    {
     "name": "stdout",
     "output_type": "stream",
     "text": [
      "1368.7870968750003\n"
     ]
    },
    {
     "data": {
      "text/plain": [
       "116"
      ]
     },
     "execution_count": 111,
     "metadata": {},
     "output_type": "execute_result"
    }
   ],
   "source": [
    "iqr = np.percentile(continuous_df['total_claim_amount'],75) - np.percentile(continuous_df['income'],25)\n",
    "upper_limit = np.percentile(continuous_df['total_claim_amount'],75) + 1.5*iqr\n",
    "print(upper_limit)\n",
    "extraordinary_points = continuous_df[continuous_df['total_claim_amount'] > upper_limit]\n",
    "len(extraordinary_points)  # THis checks the number of points that will be removed"
   ]
  },
  {
   "cell_type": "code",
   "execution_count": 112,
   "id": "seven-values",
   "metadata": {},
   "outputs": [
    {
     "name": "stdout",
     "output_type": "stream",
     "text": [
      "16414.039911750002\n"
     ]
    },
    {
     "data": {
      "text/plain": [
       "817"
      ]
     },
     "execution_count": 112,
     "metadata": {},
     "output_type": "execute_result"
    }
   ],
   "source": [
    "iqr = np.percentile(continuous_df['customer_lifetime_value'],75) - np.percentile(continuous_df['customer_lifetime_value'],25)\n",
    "upper_limit = np.percentile(continuous_df['customer_lifetime_value'],75) + 1.5*iqr\n",
    "print(upper_limit)\n",
    "extraordinary_points = continuous_df[continuous_df['customer_lifetime_value'] > upper_limit]\n",
    "len(extraordinary_points)  # THis checks the number of points that will be removed"
   ]
  },
  {
   "cell_type": "code",
   "execution_count": 113,
   "id": "essential-fifth",
   "metadata": {},
   "outputs": [
    {
     "data": {
      "text/plain": [
       "(9134, 24)"
      ]
     },
     "execution_count": 113,
     "metadata": {},
     "output_type": "execute_result"
    }
   ],
   "source": [
    "customer_df.shape"
   ]
  },
  {
   "cell_type": "markdown",
   "id": "eight-taylor",
   "metadata": {},
   "source": [
    "### 7. Have you found outliers? If you have, what should we do with them?"
   ]
  },
  {
   "cell_type": "code",
   "execution_count": 114,
   "id": "suspected-comparative",
   "metadata": {},
   "outputs": [],
   "source": [
    "# After discussing with the group and analysing the distribution of the numerical variables, we understand that Customer_Lifetime_Value, Income, Total_Claim_Amount and Monthly_Premium_Auto have a very disperse distribution. \n",
    "# However, removing outliers would be a big mistake as we can see how they are all representative of a specific target group which it is also one of the most profitable for the insurance company\n",
    "# The suggestion then would be to separate them from the more normally distributed cases, group them in a new dataset, and ask the business to run two different analysis on the two newly-created datasets!"
   ]
  },
  {
   "cell_type": "markdown",
   "id": "accomplished-seminar",
   "metadata": {},
   "source": [
    "### 8. Check nan values per column."
   ]
  },
  {
   "cell_type": "code",
   "execution_count": 115,
   "id": "false-patrol",
   "metadata": {},
   "outputs": [
    {
     "data": {
      "text/plain": [
       "customer                         0\n",
       "state                            0\n",
       "customer_lifetime_value          0\n",
       "response                         0\n",
       "coverage                         0\n",
       "education                        0\n",
       "effective_to_date                0\n",
       "employmentstatus                 0\n",
       "gender                           0\n",
       "income                           0\n",
       "location_code                    0\n",
       "marital_status                   0\n",
       "monthly_premium_auto             0\n",
       "months_since_last_claim          0\n",
       "months_since_policy_inception    0\n",
       "number_of_open_complaints        0\n",
       "number_of_policies               0\n",
       "policy_type                      0\n",
       "policy                           0\n",
       "renew_offer_type                 0\n",
       "sales_channel                    0\n",
       "total_claim_amount               0\n",
       "vehicle_class                    0\n",
       "vehicle_size                     0\n",
       "dtype: int64"
      ]
     },
     "execution_count": 115,
     "metadata": {},
     "output_type": "execute_result"
    }
   ],
   "source": [
    "customer_df.isnull().sum()"
   ]
  },
  {
   "cell_type": "code",
   "execution_count": null,
   "id": "timely-albania",
   "metadata": {},
   "outputs": [],
   "source": []
  },
  {
   "cell_type": "markdown",
   "id": "mighty-station",
   "metadata": {},
   "source": [
    "# Lab | Feature extraction"
   ]
  },
  {
   "cell_type": "markdown",
   "id": "level-consultation",
   "metadata": {},
   "source": [
    "### 1. Open the categoricals variable we created before."
   ]
  },
  {
   "cell_type": "code",
   "execution_count": 116,
   "id": "lesser-ultimate",
   "metadata": {},
   "outputs": [
    {
     "data": {
      "text/html": [
       "<div>\n",
       "<style scoped>\n",
       "    .dataframe tbody tr th:only-of-type {\n",
       "        vertical-align: middle;\n",
       "    }\n",
       "\n",
       "    .dataframe tbody tr th {\n",
       "        vertical-align: top;\n",
       "    }\n",
       "\n",
       "    .dataframe thead th {\n",
       "        text-align: right;\n",
       "    }\n",
       "</style>\n",
       "<table border=\"1\" class=\"dataframe\">\n",
       "  <thead>\n",
       "    <tr style=\"text-align: right;\">\n",
       "      <th></th>\n",
       "      <th>state</th>\n",
       "      <th>response</th>\n",
       "      <th>coverage</th>\n",
       "      <th>education</th>\n",
       "      <th>employmentstatus</th>\n",
       "      <th>gender</th>\n",
       "      <th>location_code</th>\n",
       "      <th>marital_status</th>\n",
       "      <th>policy_type</th>\n",
       "      <th>policy</th>\n",
       "      <th>renew_offer_type</th>\n",
       "      <th>sales_channel</th>\n",
       "      <th>vehicle_class</th>\n",
       "      <th>vehicle_size</th>\n",
       "    </tr>\n",
       "  </thead>\n",
       "  <tbody>\n",
       "    <tr>\n",
       "      <th>0</th>\n",
       "      <td>Washington</td>\n",
       "      <td>No</td>\n",
       "      <td>Basic</td>\n",
       "      <td>Bachelor</td>\n",
       "      <td>Employed</td>\n",
       "      <td>F</td>\n",
       "      <td>Suburban</td>\n",
       "      <td>Married</td>\n",
       "      <td>Corporate Auto</td>\n",
       "      <td>Corporate L3</td>\n",
       "      <td>Offer1</td>\n",
       "      <td>Agent</td>\n",
       "      <td>Two-Door Car</td>\n",
       "      <td>Medsize</td>\n",
       "    </tr>\n",
       "    <tr>\n",
       "      <th>1</th>\n",
       "      <td>Arizona</td>\n",
       "      <td>No</td>\n",
       "      <td>Extended</td>\n",
       "      <td>Bachelor</td>\n",
       "      <td>Unemployed</td>\n",
       "      <td>F</td>\n",
       "      <td>Suburban</td>\n",
       "      <td>Single</td>\n",
       "      <td>Personal Auto</td>\n",
       "      <td>Personal L3</td>\n",
       "      <td>Offer3</td>\n",
       "      <td>Agent</td>\n",
       "      <td>Four-Door Car</td>\n",
       "      <td>Medsize</td>\n",
       "    </tr>\n",
       "    <tr>\n",
       "      <th>2</th>\n",
       "      <td>Nevada</td>\n",
       "      <td>No</td>\n",
       "      <td>Premium</td>\n",
       "      <td>Bachelor</td>\n",
       "      <td>Employed</td>\n",
       "      <td>F</td>\n",
       "      <td>Suburban</td>\n",
       "      <td>Married</td>\n",
       "      <td>Personal Auto</td>\n",
       "      <td>Personal L3</td>\n",
       "      <td>Offer1</td>\n",
       "      <td>Agent</td>\n",
       "      <td>Two-Door Car</td>\n",
       "      <td>Medsize</td>\n",
       "    </tr>\n",
       "    <tr>\n",
       "      <th>3</th>\n",
       "      <td>California</td>\n",
       "      <td>No</td>\n",
       "      <td>Basic</td>\n",
       "      <td>Bachelor</td>\n",
       "      <td>Unemployed</td>\n",
       "      <td>M</td>\n",
       "      <td>Suburban</td>\n",
       "      <td>Married</td>\n",
       "      <td>Corporate Auto</td>\n",
       "      <td>Corporate L2</td>\n",
       "      <td>Offer1</td>\n",
       "      <td>Call Center</td>\n",
       "      <td>SUV</td>\n",
       "      <td>Medsize</td>\n",
       "    </tr>\n",
       "    <tr>\n",
       "      <th>4</th>\n",
       "      <td>Washington</td>\n",
       "      <td>No</td>\n",
       "      <td>Basic</td>\n",
       "      <td>Bachelor</td>\n",
       "      <td>Employed</td>\n",
       "      <td>M</td>\n",
       "      <td>Rural</td>\n",
       "      <td>Single</td>\n",
       "      <td>Personal Auto</td>\n",
       "      <td>Personal L1</td>\n",
       "      <td>Offer1</td>\n",
       "      <td>Agent</td>\n",
       "      <td>Four-Door Car</td>\n",
       "      <td>Medsize</td>\n",
       "    </tr>\n",
       "  </tbody>\n",
       "</table>\n",
       "</div>"
      ],
      "text/plain": [
       "        state response  coverage education employmentstatus gender  \\\n",
       "0  Washington       No     Basic  Bachelor         Employed      F   \n",
       "1     Arizona       No  Extended  Bachelor       Unemployed      F   \n",
       "2      Nevada       No   Premium  Bachelor         Employed      F   \n",
       "3  California       No     Basic  Bachelor       Unemployed      M   \n",
       "4  Washington       No     Basic  Bachelor         Employed      M   \n",
       "\n",
       "  location_code marital_status     policy_type        policy renew_offer_type  \\\n",
       "0      Suburban        Married  Corporate Auto  Corporate L3           Offer1   \n",
       "1      Suburban         Single   Personal Auto   Personal L3           Offer3   \n",
       "2      Suburban        Married   Personal Auto   Personal L3           Offer1   \n",
       "3      Suburban        Married  Corporate Auto  Corporate L2           Offer1   \n",
       "4         Rural         Single   Personal Auto   Personal L1           Offer1   \n",
       "\n",
       "  sales_channel  vehicle_class vehicle_size  \n",
       "0         Agent   Two-Door Car      Medsize  \n",
       "1         Agent  Four-Door Car      Medsize  \n",
       "2         Agent   Two-Door Car      Medsize  \n",
       "3   Call Center            SUV      Medsize  \n",
       "4         Agent  Four-Door Car      Medsize  "
      ]
     },
     "execution_count": 116,
     "metadata": {},
     "output_type": "execute_result"
    },
    {
     "data": {
      "text/plain": [
       "Index(['state', 'response', 'coverage', 'education', 'employmentstatus',\n",
       "       'gender', 'location_code', 'marital_status', 'policy_type', 'policy',\n",
       "       'renew_offer_type', 'sales_channel', 'vehicle_class', 'vehicle_size'],\n",
       "      dtype='object')"
      ]
     },
     "execution_count": 116,
     "metadata": {},
     "output_type": "execute_result"
    }
   ],
   "source": [
    "categorical.head()\n",
    "categorical.columns"
   ]
  },
  {
   "cell_type": "markdown",
   "id": "surgical-hazard",
   "metadata": {},
   "source": [
    "### 2. Plot all the categorical variables with the proper plot. What can you see?"
   ]
  },
  {
   "cell_type": "code",
   "execution_count": 117,
   "id": "smart-clarity",
   "metadata": {},
   "outputs": [
    {
     "data": {
      "text/plain": [
       "Text(0.5, 0.98, 'Distribution of variables in countplots')"
      ]
     },
     "execution_count": 117,
     "metadata": {},
     "output_type": "execute_result"
    },
    {
     "data": {
      "text/plain": [
       "<AxesSubplot:xlabel='state', ylabel='count'>"
      ]
     },
     "execution_count": 117,
     "metadata": {},
     "output_type": "execute_result"
    },
    {
     "data": {
      "text/plain": [
       "<AxesSubplot:xlabel='response', ylabel='count'>"
      ]
     },
     "execution_count": 117,
     "metadata": {},
     "output_type": "execute_result"
    },
    {
     "data": {
      "text/plain": [
       "<AxesSubplot:xlabel='coverage', ylabel='count'>"
      ]
     },
     "execution_count": 117,
     "metadata": {},
     "output_type": "execute_result"
    },
    {
     "data": {
      "text/plain": [
       "<AxesSubplot:xlabel='education', ylabel='count'>"
      ]
     },
     "execution_count": 117,
     "metadata": {},
     "output_type": "execute_result"
    },
    {
     "data": {
      "text/plain": [
       "<AxesSubplot:xlabel='employmentstatus', ylabel='count'>"
      ]
     },
     "execution_count": 117,
     "metadata": {},
     "output_type": "execute_result"
    },
    {
     "data": {
      "text/plain": [
       "<AxesSubplot:xlabel='gender', ylabel='count'>"
      ]
     },
     "execution_count": 117,
     "metadata": {},
     "output_type": "execute_result"
    },
    {
     "data": {
      "text/plain": [
       "<AxesSubplot:xlabel='location_code', ylabel='count'>"
      ]
     },
     "execution_count": 117,
     "metadata": {},
     "output_type": "execute_result"
    },
    {
     "data": {
      "text/plain": [
       "<AxesSubplot:xlabel='marital_status', ylabel='count'>"
      ]
     },
     "execution_count": 117,
     "metadata": {},
     "output_type": "execute_result"
    },
    {
     "data": {
      "text/plain": [
       "<AxesSubplot:xlabel='policy_type', ylabel='count'>"
      ]
     },
     "execution_count": 117,
     "metadata": {},
     "output_type": "execute_result"
    },
    {
     "data": {
      "text/plain": [
       "<AxesSubplot:xlabel='policy', ylabel='count'>"
      ]
     },
     "execution_count": 117,
     "metadata": {},
     "output_type": "execute_result"
    },
    {
     "data": {
      "text/plain": [
       "<AxesSubplot:xlabel='renew_offer_type', ylabel='count'>"
      ]
     },
     "execution_count": 117,
     "metadata": {},
     "output_type": "execute_result"
    },
    {
     "data": {
      "text/plain": [
       "<AxesSubplot:xlabel='sales_channel', ylabel='count'>"
      ]
     },
     "execution_count": 117,
     "metadata": {},
     "output_type": "execute_result"
    },
    {
     "data": {
      "text/plain": [
       "<AxesSubplot:xlabel='vehicle_class', ylabel='count'>"
      ]
     },
     "execution_count": 117,
     "metadata": {},
     "output_type": "execute_result"
    },
    {
     "data": {
      "text/plain": [
       "<AxesSubplot:xlabel='vehicle_size', ylabel='count'>"
      ]
     },
     "execution_count": 117,
     "metadata": {},
     "output_type": "execute_result"
    },
    {
     "data": {
      "image/png": "[encoded data removed]",
      "text/plain": [
       "<Figure size 2160x2160 with 15 Axes>"
      ]
     },
     "metadata": {
      "needs_background": "light"
     },
     "output_type": "display_data"
    }
   ],
   "source": [
    "fig, axes = plt.subplots(3,5,  figsize=(30, 30))\n",
    "\n",
    "fig.suptitle('Distribution of variables in countplots')\n",
    "\n",
    "sns.countplot(ax=axes[0,0],data= customer_df, x= 'state' )\n",
    "sns.countplot(ax=axes[0,1],data= customer_df, x= 'response' )\n",
    "sns.countplot(ax=axes[0,2],data= customer_df, x= 'coverage')\n",
    "sns.countplot(ax=axes[0,3],data= customer_df, x= 'education')\n",
    "sns.countplot(ax=axes[0,4],data= customer_df, x= 'employmentstatus')\n",
    "sns.countplot(ax=axes[1,0],data= customer_df, x= 'gender')\n",
    "sns.countplot(ax=axes[1,1],data= customer_df, x= 'location_code')\n",
    "sns.countplot(ax=axes[1,2],data= customer_df, x= 'marital_status')\n",
    "sns.countplot(ax=axes[1,3],data= customer_df, x= 'policy_type')\n",
    "sns.countplot(ax=axes[1,4],data= customer_df, x= 'policy')\n",
    "sns.countplot(ax=axes[2,0],data= customer_df, x= 'renew_offer_type')\n",
    "sns.countplot(ax=axes[2,1],data= customer_df, x= 'sales_channel')\n",
    "sns.countplot(ax=axes[2,2],data= customer_df, x= 'vehicle_class')\n",
    "sns.countplot(ax=axes[2,3],data= customer_df, x= 'vehicle_size')"
   ]
  },
  {
   "cell_type": "markdown",
   "id": "peripheral-extraction",
   "metadata": {},
   "source": [
    "### 3. There might be some columns that seem to be redundant, check their values to be sure. What should we do with them?"
   ]
  },
  {
   "cell_type": "markdown",
   "id": "wrapped-nursery",
   "metadata": {},
   "source": [
    "The variables coverage and maritual status have similar distributions so we have checked if they are correlated. They are not so there is no reason to drop any of the variables."
   ]
  },
  {
   "cell_type": "code",
   "execution_count": 118,
   "id": "inclusive-rolling",
   "metadata": {},
   "outputs": [
    {
     "data": {
      "text/html": [
       "<div>\n",
       "<style scoped>\n",
       "    .dataframe tbody tr th:only-of-type {\n",
       "        vertical-align: middle;\n",
       "    }\n",
       "\n",
       "    .dataframe tbody tr th {\n",
       "        vertical-align: top;\n",
       "    }\n",
       "\n",
       "    .dataframe thead th {\n",
       "        text-align: right;\n",
       "    }\n",
       "</style>\n",
       "<table border=\"1\" class=\"dataframe\">\n",
       "  <thead>\n",
       "    <tr style=\"text-align: right;\">\n",
       "      <th>marital_status</th>\n",
       "      <th>Divorced</th>\n",
       "      <th>Married</th>\n",
       "      <th>Single</th>\n",
       "    </tr>\n",
       "    <tr>\n",
       "      <th>coverage</th>\n",
       "      <th></th>\n",
       "      <th></th>\n",
       "      <th></th>\n",
       "    </tr>\n",
       "  </thead>\n",
       "  <tbody>\n",
       "    <tr>\n",
       "      <th>Basic</th>\n",
       "      <td>825</td>\n",
       "      <td>3247</td>\n",
       "      <td>1496</td>\n",
       "    </tr>\n",
       "    <tr>\n",
       "      <th>Extended</th>\n",
       "      <td>427</td>\n",
       "      <td>1573</td>\n",
       "      <td>742</td>\n",
       "    </tr>\n",
       "    <tr>\n",
       "      <th>Premium</th>\n",
       "      <td>117</td>\n",
       "      <td>478</td>\n",
       "      <td>229</td>\n",
       "    </tr>\n",
       "  </tbody>\n",
       "</table>\n",
       "</div>"
      ],
      "text/plain": [
       "marital_status  Divorced  Married  Single\n",
       "coverage                                 \n",
       "Basic                825     3247    1496\n",
       "Extended             427     1573     742\n",
       "Premium              117      478     229"
      ]
     },
     "execution_count": 118,
     "metadata": {},
     "output_type": "execute_result"
    }
   ],
   "source": [
    "data_crosstab = pd.crosstab(categorical['coverage'], categorical['marital_status'], margins = False)\n",
    "data_crosstab"
   ]
  },
  {
   "cell_type": "code",
   "execution_count": 119,
   "id": "another-bahamas",
   "metadata": {},
   "outputs": [
    {
     "data": {
      "text/plain": [
       "(1.5917156364713243,\n",
       " 0.810280319861366,\n",
       " 4,\n",
       " array([[ 834.52945041, 3229.61068535, 1503.85986424],\n",
       "        [ 410.96978323, 1590.44405518,  740.58616159],\n",
       "        [ 123.50076637,  477.94525947,  222.55397416]]))"
      ]
     },
     "execution_count": 119,
     "metadata": {},
     "output_type": "execute_result"
    }
   ],
   "source": [
    "st.chi2_contingency(data_crosstab)"
   ]
  },
  {
   "cell_type": "code",
   "execution_count": 120,
   "id": "threatened-seating",
   "metadata": {},
   "outputs": [],
   "source": [
    "# WRITE A FUNCTION TO CHECK CORRELATION BETWEEN ALL VARIABLES\n",
    "# WRITE A FUNCTION TO SHOW THAT POLICY TYPE IS THE SUM OF POLICY AND ERASE POLICY\n",
    "# data['policy'].count('Personal L3')\n",
    "# data.pivot_table(index=['policy'],values=['customer'],aggfunc={'count'})\n",
    "\n",
    "\n",
    "# data_crosstab = pd.crosstab(data['policy'], data['policy_type'], margins = True)\n",
    "# data_crosstab\n",
    "\n"
   ]
  },
  {
   "cell_type": "code",
   "execution_count": 121,
   "id": "different-italy",
   "metadata": {
    "scrolled": true
   },
   "outputs": [
    {
     "name": "stderr",
     "output_type": "stream",
     "text": [
      "C:\\Users\\besca\\anaconda3\\lib\\site-packages\\pandas\\core\\frame.py:4315: SettingWithCopyWarning: \n",
      "A value is trying to be set on a copy of a slice from a DataFrame\n",
      "\n",
      "See the caveats in the documentation: https://pandas.pydata.org/pandas-docs/stable/user_guide/indexing.html#returning-a-view-versus-a-copy\n",
      "  errors=errors,\n"
     ]
    }
   ],
   "source": [
    "categorical.drop(['policy'], axis=1, inplace=True)"
   ]
  },
  {
   "cell_type": "markdown",
   "id": "defensive-amsterdam",
   "metadata": {},
   "source": [
    "### 4. Plot time variable. Can you extract something from it?"
   ]
  },
  {
   "cell_type": "code",
   "execution_count": 122,
   "id": "stretch-mercy",
   "metadata": {},
   "outputs": [
    {
     "data": {
      "text/plain": [
       "<Figure size 1080x288 with 0 Axes>"
      ]
     },
     "execution_count": 122,
     "metadata": {},
     "output_type": "execute_result"
    },
    {
     "data": {
      "text/plain": [
       "<AxesSubplot:xlabel='effective_to_date', ylabel='Count'>"
      ]
     },
     "execution_count": 122,
     "metadata": {},
     "output_type": "execute_result"
    },
    {
     "data": {
      "image/png": "[encoded data removed]",
      "text/plain": [
       "<Figure size 1080x288 with 1 Axes>"
      ]
     },
     "metadata": {
      "needs_background": "light"
     },
     "output_type": "display_data"
    }
   ],
   "source": [
    "plt.figure(figsize=(15,4))\n",
    "sns.histplot(data=customer_df, x=\"effective_to_date\")"
   ]
  },
  {
   "cell_type": "code",
   "execution_count": null,
   "id": "roman-gospel",
   "metadata": {},
   "outputs": [],
   "source": []
  },
  {
   "cell_type": "markdown",
   "id": "global-campaign",
   "metadata": {},
   "source": [
    "# Lab | Data cleaning and wrangling"
   ]
  },
  {
   "cell_type": "markdown",
   "id": "fresh-editor",
   "metadata": {},
   "source": [
    "### 1. We will start with removing outliers. So far, we have discussed different methods to remove outliers. Use the one you feel more comfortable with, define a function for that. Use the function to remove the outliers and apply it to the dataframe."
   ]
  },
  {
   "cell_type": "code",
   "execution_count": 123,
   "id": "starting-hardwood",
   "metadata": {},
   "outputs": [],
   "source": [
    "# After discussing with the group and analysing the distribution of the numerical variables, we understand that Customer_Lifetime_Value, Income, Total_Claim_Amount and Monthly_Premium_Auto have a very disperse distribution. \n",
    "# However, removing outliers would be a big mistake as we can see how they are all representative of a specific target group which it is also one of the most profitable for the insurance company\n",
    "# The suggestion then would be to separate them from the more normally distributed cases, group them in a new dataset, and ask the business to run two different analysis on the two newly-created datasets!"
   ]
  },
  {
   "cell_type": "markdown",
   "id": "efficient-saver",
   "metadata": {},
   "source": [
    "### 2. Create a copy of the dataframe for the data wrangling."
   ]
  },
  {
   "cell_type": "code",
   "execution_count": 124,
   "id": "wicked-webcam",
   "metadata": {},
   "outputs": [],
   "source": [
    "df = pd.concat([continuous_df,categorical], axis= 1)"
   ]
  },
  {
   "cell_type": "markdown",
   "id": "pleasant-diagnosis",
   "metadata": {},
   "source": [
    "### 3. The time variable can be useful. Try to transform its data into a useful one. Hint: Day week and month as integers might be useful."
   ]
  },
  {
   "cell_type": "code",
   "execution_count": 125,
   "id": "inclusive-industry",
   "metadata": {},
   "outputs": [],
   "source": [
    "import datetime\n",
    "def to_integer(dt_time):\n",
    "    return 10000*dt_time.year + 100*dt_time.month + dt_time.day"
   ]
  },
  {
   "cell_type": "code",
   "execution_count": 126,
   "id": "designed-computer",
   "metadata": {},
   "outputs": [
    {
     "data": {
      "text/plain": [
       "0    20110224\n",
       "1    20110131\n",
       "2    20110219\n",
       "3    20110120\n",
       "4    20110203\n",
       "Name: effective_to_date, dtype: int64"
      ]
     },
     "execution_count": 126,
     "metadata": {},
     "output_type": "execute_result"
    }
   ],
   "source": [
    "customer_df['effective_to_date'] = customer_df['effective_to_date'].apply(to_integer)\n",
    "customer_df['effective_to_date'].head()"
   ]
  },
  {
   "cell_type": "markdown",
   "id": "controlled-palmer",
   "metadata": {},
   "source": [
    "### 4. Since the model will only accept numerical data, check and make sure that every column is numerical, if some are not, change it using encoding."
   ]
  },
  {
   "cell_type": "markdown",
   "id": "electrical-joint",
   "metadata": {},
   "source": [
    "Every column is numerical"
   ]
  },
  {
   "cell_type": "markdown",
   "id": "electrical-negotiation",
   "metadata": {},
   "source": [
    "# Lab | Comparing regression models"
   ]
  },
  {
   "cell_type": "markdown",
   "id": "published-round",
   "metadata": {},
   "source": [
    "### 1. Try a simple linear regression with all the data to see whether we are getting good results."
   ]
  },
  {
   "cell_type": "markdown",
   "id": "tutorial-seminar",
   "metadata": {},
   "source": [
    "#### Separate x/y"
   ]
  },
  {
   "cell_type": "code",
   "execution_count": 127,
   "id": "smoking-draft",
   "metadata": {},
   "outputs": [
    {
     "data": {
      "text/plain": [
       "(9134,)"
      ]
     },
     "execution_count": 127,
     "metadata": {},
     "output_type": "execute_result"
    },
    {
     "data": {
      "text/plain": [
       "(9134, 16)"
      ]
     },
     "execution_count": 127,
     "metadata": {},
     "output_type": "execute_result"
    }
   ],
   "source": [
    "y = df['total_claim_amount']\n",
    "X= df.drop(['total_claim_amount'], axis=1)\n",
    "y.shape\n",
    "X.shape\n",
    "# numerical_train = df.select_dtypes(include = np.number)\n",
    "# categorical_train = df.select_dtypes(include = np.object)"
   ]
  },
  {
   "cell_type": "markdown",
   "id": "compliant-registration",
   "metadata": {},
   "source": [
    "#### Train, test split "
   ]
  },
  {
   "cell_type": "code",
   "execution_count": 128,
   "id": "chubby-nevada",
   "metadata": {},
   "outputs": [
    {
     "data": {
      "text/html": [
       "<div>\n",
       "<style scoped>\n",
       "    .dataframe tbody tr th:only-of-type {\n",
       "        vertical-align: middle;\n",
       "    }\n",
       "\n",
       "    .dataframe tbody tr th {\n",
       "        vertical-align: top;\n",
       "    }\n",
       "\n",
       "    .dataframe thead th {\n",
       "        text-align: right;\n",
       "    }\n",
       "</style>\n",
       "<table border=\"1\" class=\"dataframe\">\n",
       "  <thead>\n",
       "    <tr style=\"text-align: right;\">\n",
       "      <th></th>\n",
       "      <th>income</th>\n",
       "      <th>monthly_premium_auto</th>\n",
       "      <th>customer_lifetime_value</th>\n",
       "      <th>state</th>\n",
       "      <th>response</th>\n",
       "      <th>coverage</th>\n",
       "      <th>education</th>\n",
       "      <th>employmentstatus</th>\n",
       "      <th>gender</th>\n",
       "      <th>location_code</th>\n",
       "      <th>marital_status</th>\n",
       "      <th>policy_type</th>\n",
       "      <th>renew_offer_type</th>\n",
       "      <th>sales_channel</th>\n",
       "      <th>vehicle_class</th>\n",
       "      <th>vehicle_size</th>\n",
       "    </tr>\n",
       "  </thead>\n",
       "  <tbody>\n",
       "    <tr>\n",
       "      <th>3774</th>\n",
       "      <td>53133</td>\n",
       "      <td>91</td>\n",
       "      <td>6938.874476</td>\n",
       "      <td>Oregon</td>\n",
       "      <td>No</td>\n",
       "      <td>Extended</td>\n",
       "      <td>Bachelor</td>\n",
       "      <td>Employed</td>\n",
       "      <td>M</td>\n",
       "      <td>Suburban</td>\n",
       "      <td>Single</td>\n",
       "      <td>Personal Auto</td>\n",
       "      <td>Offer2</td>\n",
       "      <td>Agent</td>\n",
       "      <td>Two-Door Car</td>\n",
       "      <td>Small</td>\n",
       "    </tr>\n",
       "    <tr>\n",
       "      <th>3441</th>\n",
       "      <td>0</td>\n",
       "      <td>72</td>\n",
       "      <td>2454.589361</td>\n",
       "      <td>Oregon</td>\n",
       "      <td>No</td>\n",
       "      <td>Basic</td>\n",
       "      <td>Bachelor</td>\n",
       "      <td>Unemployed</td>\n",
       "      <td>F</td>\n",
       "      <td>Suburban</td>\n",
       "      <td>Single</td>\n",
       "      <td>Personal Auto</td>\n",
       "      <td>Offer2</td>\n",
       "      <td>Branch</td>\n",
       "      <td>Two-Door Car</td>\n",
       "      <td>Medsize</td>\n",
       "    </tr>\n",
       "    <tr>\n",
       "      <th>3560</th>\n",
       "      <td>58713</td>\n",
       "      <td>98</td>\n",
       "      <td>3910.697956</td>\n",
       "      <td>Arizona</td>\n",
       "      <td>No</td>\n",
       "      <td>Extended</td>\n",
       "      <td>Bachelor</td>\n",
       "      <td>Employed</td>\n",
       "      <td>F</td>\n",
       "      <td>Suburban</td>\n",
       "      <td>Married</td>\n",
       "      <td>Special Auto</td>\n",
       "      <td>Offer1</td>\n",
       "      <td>Agent</td>\n",
       "      <td>Four-Door Car</td>\n",
       "      <td>Small</td>\n",
       "    </tr>\n",
       "    <tr>\n",
       "      <th>6034</th>\n",
       "      <td>72661</td>\n",
       "      <td>83</td>\n",
       "      <td>6639.328932</td>\n",
       "      <td>Nevada</td>\n",
       "      <td>No</td>\n",
       "      <td>Extended</td>\n",
       "      <td>Bachelor</td>\n",
       "      <td>Employed</td>\n",
       "      <td>F</td>\n",
       "      <td>Suburban</td>\n",
       "      <td>Married</td>\n",
       "      <td>Personal Auto</td>\n",
       "      <td>Offer1</td>\n",
       "      <td>Branch</td>\n",
       "      <td>Four-Door Car</td>\n",
       "      <td>Small</td>\n",
       "    </tr>\n",
       "    <tr>\n",
       "      <th>8904</th>\n",
       "      <td>18820</td>\n",
       "      <td>95</td>\n",
       "      <td>6480.099944</td>\n",
       "      <td>California</td>\n",
       "      <td>No</td>\n",
       "      <td>Extended</td>\n",
       "      <td>Bachelor</td>\n",
       "      <td>Medical Leave</td>\n",
       "      <td>M</td>\n",
       "      <td>Suburban</td>\n",
       "      <td>Married</td>\n",
       "      <td>Personal Auto</td>\n",
       "      <td>Offer1</td>\n",
       "      <td>Branch</td>\n",
       "      <td>Two-Door Car</td>\n",
       "      <td>Small</td>\n",
       "    </tr>\n",
       "  </tbody>\n",
       "</table>\n",
       "</div>"
      ],
      "text/plain": [
       "      income  monthly_premium_auto  customer_lifetime_value       state  \\\n",
       "3774   53133                    91              6938.874476      Oregon   \n",
       "3441       0                    72              2454.589361      Oregon   \n",
       "3560   58713                    98              3910.697956     Arizona   \n",
       "6034   72661                    83              6639.328932      Nevada   \n",
       "8904   18820                    95              6480.099944  California   \n",
       "\n",
       "     response  coverage education employmentstatus gender location_code  \\\n",
       "3774       No  Extended  Bachelor         Employed      M      Suburban   \n",
       "3441       No     Basic  Bachelor       Unemployed      F      Suburban   \n",
       "3560       No  Extended  Bachelor         Employed      F      Suburban   \n",
       "6034       No  Extended  Bachelor         Employed      F      Suburban   \n",
       "8904       No  Extended  Bachelor    Medical Leave      M      Suburban   \n",
       "\n",
       "     marital_status    policy_type renew_offer_type sales_channel  \\\n",
       "3774         Single  Personal Auto           Offer2         Agent   \n",
       "3441         Single  Personal Auto           Offer2        Branch   \n",
       "3560        Married   Special Auto           Offer1         Agent   \n",
       "6034        Married  Personal Auto           Offer1        Branch   \n",
       "8904        Married  Personal Auto           Offer1        Branch   \n",
       "\n",
       "      vehicle_class vehicle_size  \n",
       "3774   Two-Door Car        Small  \n",
       "3441   Two-Door Car      Medsize  \n",
       "3560  Four-Door Car        Small  \n",
       "6034  Four-Door Car        Small  \n",
       "8904   Two-Door Car        Small  "
      ]
     },
     "execution_count": 128,
     "metadata": {},
     "output_type": "execute_result"
    }
   ],
   "source": [
    "# Splitting into train set and test set.\n",
    "from sklearn.model_selection import train_test_split\n",
    "X_train, X_test, y_train, y_test = train_test_split(X, y, test_size=0.25, random_state=100)\n",
    "X_train.head()"
   ]
  },
  {
   "cell_type": "markdown",
   "id": "abroad-style",
   "metadata": {},
   "source": [
    "#### Select numerical variables in the train"
   ]
  },
  {
   "cell_type": "code",
   "execution_count": 129,
   "id": "substantial-interface",
   "metadata": {},
   "outputs": [
    {
     "data": {
      "text/plain": [
       "(6850, 3)"
      ]
     },
     "execution_count": 129,
     "metadata": {},
     "output_type": "execute_result"
    }
   ],
   "source": [
    "numerical_train = X_train.select_dtypes(include = np.number)\n",
    "numerical_train.shape"
   ]
  },
  {
   "cell_type": "markdown",
   "id": "extraordinary-packaging",
   "metadata": {},
   "source": [
    "##### Apply transformation to numericals "
   ]
  },
  {
   "cell_type": "code",
   "execution_count": 130,
   "id": "foster-smile",
   "metadata": {},
   "outputs": [
    {
     "name": "stdout",
     "output_type": "stream",
     "text": [
      "(6850, 3)\n"
     ]
    }
   ],
   "source": [
    "# scaling standard scaler: make data normal distributed with mean=0 and std=1\n",
    "transformer = StandardScaler().fit(numerical_train)\n",
    "num_standardized = transformer.transform(numerical_train)\n",
    "print(num_standardized.shape)\n",
    "train_num_stand = pd.DataFrame(num_standardized, columns=numerical_train.columns)"
   ]
  },
  {
   "cell_type": "markdown",
   "id": "sharing-blogger",
   "metadata": {},
   "source": [
    "#### Select categorical variables in the train and test"
   ]
  },
  {
   "cell_type": "code",
   "execution_count": 131,
   "id": "portable-springfield",
   "metadata": {},
   "outputs": [
    {
     "data": {
      "text/plain": [
       "(6850, 13)"
      ]
     },
     "execution_count": 131,
     "metadata": {},
     "output_type": "execute_result"
    }
   ],
   "source": [
    "categorical_train = X_train.select_dtypes(include = np.object)\n",
    "categorical_train.shape"
   ]
  },
  {
   "cell_type": "markdown",
   "id": "practical-michigan",
   "metadata": {},
   "source": [
    "##### Encode categoricals"
   ]
  },
  {
   "cell_type": "code",
   "execution_count": 132,
   "id": "miniature-titanium",
   "metadata": {},
   "outputs": [
    {
     "name": "stderr",
     "output_type": "stream",
     "text": [
      "C:\\Users\\besca\\anaconda3\\lib\\site-packages\\ipykernel_launcher.py:1: SettingWithCopyWarning: \n",
      "A value is trying to be set on a copy of a slice from a DataFrame.\n",
      "Try using .loc[row_indexer,col_indexer] = value instead\n",
      "\n",
      "See the caveats in the documentation: https://pandas.pydata.org/pandas-docs/stable/user_guide/indexing.html#returning-a-view-versus-a-copy\n",
      "  \"\"\"Entry point for launching an IPython kernel.\n",
      "C:\\Users\\besca\\anaconda3\\lib\\site-packages\\ipykernel_launcher.py:2: SettingWithCopyWarning: \n",
      "A value is trying to be set on a copy of a slice from a DataFrame.\n",
      "Try using .loc[row_indexer,col_indexer] = value instead\n",
      "\n",
      "See the caveats in the documentation: https://pandas.pydata.org/pandas-docs/stable/user_guide/indexing.html#returning-a-view-versus-a-copy\n",
      "  \n",
      "C:\\Users\\besca\\anaconda3\\lib\\site-packages\\ipykernel_launcher.py:3: SettingWithCopyWarning: \n",
      "A value is trying to be set on a copy of a slice from a DataFrame.\n",
      "Try using .loc[row_indexer,col_indexer] = value instead\n",
      "\n",
      "See the caveats in the documentation: https://pandas.pydata.org/pandas-docs/stable/user_guide/indexing.html#returning-a-view-versus-a-copy\n",
      "  This is separate from the ipykernel package so we can avoid doing imports until\n",
      "C:\\Users\\besca\\anaconda3\\lib\\site-packages\\ipykernel_launcher.py:4: SettingWithCopyWarning: \n",
      "A value is trying to be set on a copy of a slice from a DataFrame.\n",
      "Try using .loc[row_indexer,col_indexer] = value instead\n",
      "\n",
      "See the caveats in the documentation: https://pandas.pydata.org/pandas-docs/stable/user_guide/indexing.html#returning-a-view-versus-a-copy\n",
      "  after removing the cwd from sys.path.\n",
      "C:\\Users\\besca\\anaconda3\\lib\\site-packages\\ipykernel_launcher.py:5: SettingWithCopyWarning: \n",
      "A value is trying to be set on a copy of a slice from a DataFrame.\n",
      "Try using .loc[row_indexer,col_indexer] = value instead\n",
      "\n",
      "See the caveats in the documentation: https://pandas.pydata.org/pandas-docs/stable/user_guide/indexing.html#returning-a-view-versus-a-copy\n",
      "  \"\"\"\n"
     ]
    }
   ],
   "source": [
    "categorical_train['coverage'] = categorical_train['coverage'].map({'Basic' : 0, 'Extended' : 1, 'Premium' : 2})\n",
    "categorical_train['education'] = categorical_train['education'].map({'Bachelor' : 1, 'College' : 1, 'High School or Below' : 0, 'Master': 2, 'Doctor':3})\n",
    "categorical_train['vehicle_size'] = categorical_train['vehicle_size'].map({'Small' : 0, 'Medsize' : 1, 'Large' : 2})\n",
    "categorical_train['employmentstatus'] = categorical_train['employmentstatus'].map({'Medical Leave': 0, 'Disabled' : 1,'Retired': 2, 'Unemployed':3, 'Employed':4})\n",
    "categorical_train['location_code'] = categorical_train['location_code'].map({'Urban' : 0, 'Suburban' : 1, 'Rural' : 2})\n",
    "\n",
    "train_categorical_encoded = categorical_train[['coverage','education','vehicle_size','employmentstatus','location_code']]"
   ]
  },
  {
   "cell_type": "code",
   "execution_count": 133,
   "id": "juvenile-nigeria",
   "metadata": {},
   "outputs": [
    {
     "data": {
      "text/plain": [
       "(6850, 8)"
      ]
     },
     "execution_count": 133,
     "metadata": {},
     "output_type": "execute_result"
    }
   ],
   "source": [
    "train_categorical_onehot = X_train[['state','response','gender','marital_status', 'policy_type','renew_offer_type', 'sales_channel', 'vehicle_class']]\n",
    "train_categorical_onehot.shape"
   ]
  },
  {
   "cell_type": "code",
   "execution_count": 134,
   "id": "increased-ranch",
   "metadata": {},
   "outputs": [
    {
     "data": {
      "text/plain": [
       "(6850, 29)"
      ]
     },
     "execution_count": 134,
     "metadata": {},
     "output_type": "execute_result"
    },
    {
     "data": {
      "text/html": [
       "<div>\n",
       "<style scoped>\n",
       "    .dataframe tbody tr th:only-of-type {\n",
       "        vertical-align: middle;\n",
       "    }\n",
       "\n",
       "    .dataframe tbody tr th {\n",
       "        vertical-align: top;\n",
       "    }\n",
       "\n",
       "    .dataframe thead th {\n",
       "        text-align: right;\n",
       "    }\n",
       "</style>\n",
       "<table border=\"1\" class=\"dataframe\">\n",
       "  <thead>\n",
       "    <tr style=\"text-align: right;\">\n",
       "      <th></th>\n",
       "      <th>Arizona</th>\n",
       "      <th>California</th>\n",
       "      <th>Nevada</th>\n",
       "      <th>Oregon</th>\n",
       "      <th>Washington</th>\n",
       "      <th>No</th>\n",
       "      <th>Yes</th>\n",
       "      <th>F</th>\n",
       "      <th>M</th>\n",
       "      <th>Divorced</th>\n",
       "      <th>...</th>\n",
       "      <th>Agent</th>\n",
       "      <th>Branch</th>\n",
       "      <th>Call Center</th>\n",
       "      <th>Web</th>\n",
       "      <th>Four-Door Car</th>\n",
       "      <th>Luxury Car</th>\n",
       "      <th>Luxury SUV</th>\n",
       "      <th>SUV</th>\n",
       "      <th>Sports Car</th>\n",
       "      <th>Two-Door Car</th>\n",
       "    </tr>\n",
       "  </thead>\n",
       "  <tbody>\n",
       "    <tr>\n",
       "      <th>0</th>\n",
       "      <td>0.0</td>\n",
       "      <td>0.0</td>\n",
       "      <td>0.0</td>\n",
       "      <td>1.0</td>\n",
       "      <td>0.0</td>\n",
       "      <td>1.0</td>\n",
       "      <td>0.0</td>\n",
       "      <td>0.0</td>\n",
       "      <td>1.0</td>\n",
       "      <td>0.0</td>\n",
       "      <td>...</td>\n",
       "      <td>1.0</td>\n",
       "      <td>0.0</td>\n",
       "      <td>0.0</td>\n",
       "      <td>0.0</td>\n",
       "      <td>0.0</td>\n",
       "      <td>0.0</td>\n",
       "      <td>0.0</td>\n",
       "      <td>0.0</td>\n",
       "      <td>0.0</td>\n",
       "      <td>1.0</td>\n",
       "    </tr>\n",
       "    <tr>\n",
       "      <th>1</th>\n",
       "      <td>0.0</td>\n",
       "      <td>0.0</td>\n",
       "      <td>0.0</td>\n",
       "      <td>1.0</td>\n",
       "      <td>0.0</td>\n",
       "      <td>1.0</td>\n",
       "      <td>0.0</td>\n",
       "      <td>1.0</td>\n",
       "      <td>0.0</td>\n",
       "      <td>0.0</td>\n",
       "      <td>...</td>\n",
       "      <td>0.0</td>\n",
       "      <td>1.0</td>\n",
       "      <td>0.0</td>\n",
       "      <td>0.0</td>\n",
       "      <td>0.0</td>\n",
       "      <td>0.0</td>\n",
       "      <td>0.0</td>\n",
       "      <td>0.0</td>\n",
       "      <td>0.0</td>\n",
       "      <td>1.0</td>\n",
       "    </tr>\n",
       "    <tr>\n",
       "      <th>2</th>\n",
       "      <td>1.0</td>\n",
       "      <td>0.0</td>\n",
       "      <td>0.0</td>\n",
       "      <td>0.0</td>\n",
       "      <td>0.0</td>\n",
       "      <td>1.0</td>\n",
       "      <td>0.0</td>\n",
       "      <td>1.0</td>\n",
       "      <td>0.0</td>\n",
       "      <td>0.0</td>\n",
       "      <td>...</td>\n",
       "      <td>1.0</td>\n",
       "      <td>0.0</td>\n",
       "      <td>0.0</td>\n",
       "      <td>0.0</td>\n",
       "      <td>1.0</td>\n",
       "      <td>0.0</td>\n",
       "      <td>0.0</td>\n",
       "      <td>0.0</td>\n",
       "      <td>0.0</td>\n",
       "      <td>0.0</td>\n",
       "    </tr>\n",
       "    <tr>\n",
       "      <th>3</th>\n",
       "      <td>0.0</td>\n",
       "      <td>0.0</td>\n",
       "      <td>1.0</td>\n",
       "      <td>0.0</td>\n",
       "      <td>0.0</td>\n",
       "      <td>1.0</td>\n",
       "      <td>0.0</td>\n",
       "      <td>1.0</td>\n",
       "      <td>0.0</td>\n",
       "      <td>0.0</td>\n",
       "      <td>...</td>\n",
       "      <td>0.0</td>\n",
       "      <td>1.0</td>\n",
       "      <td>0.0</td>\n",
       "      <td>0.0</td>\n",
       "      <td>1.0</td>\n",
       "      <td>0.0</td>\n",
       "      <td>0.0</td>\n",
       "      <td>0.0</td>\n",
       "      <td>0.0</td>\n",
       "      <td>0.0</td>\n",
       "    </tr>\n",
       "    <tr>\n",
       "      <th>4</th>\n",
       "      <td>0.0</td>\n",
       "      <td>1.0</td>\n",
       "      <td>0.0</td>\n",
       "      <td>0.0</td>\n",
       "      <td>0.0</td>\n",
       "      <td>1.0</td>\n",
       "      <td>0.0</td>\n",
       "      <td>0.0</td>\n",
       "      <td>1.0</td>\n",
       "      <td>0.0</td>\n",
       "      <td>...</td>\n",
       "      <td>0.0</td>\n",
       "      <td>1.0</td>\n",
       "      <td>0.0</td>\n",
       "      <td>0.0</td>\n",
       "      <td>0.0</td>\n",
       "      <td>0.0</td>\n",
       "      <td>0.0</td>\n",
       "      <td>0.0</td>\n",
       "      <td>0.0</td>\n",
       "      <td>1.0</td>\n",
       "    </tr>\n",
       "  </tbody>\n",
       "</table>\n",
       "<p>5 rows × 29 columns</p>\n",
       "</div>"
      ],
      "text/plain": [
       "   Arizona  California  Nevada  Oregon  Washington   No  Yes    F    M  \\\n",
       "0      0.0         0.0     0.0     1.0         0.0  1.0  0.0  0.0  1.0   \n",
       "1      0.0         0.0     0.0     1.0         0.0  1.0  0.0  1.0  0.0   \n",
       "2      1.0         0.0     0.0     0.0         0.0  1.0  0.0  1.0  0.0   \n",
       "3      0.0         0.0     1.0     0.0         0.0  1.0  0.0  1.0  0.0   \n",
       "4      0.0         1.0     0.0     0.0         0.0  1.0  0.0  0.0  1.0   \n",
       "\n",
       "   Divorced  ...  Agent  Branch  Call Center  Web  Four-Door Car  Luxury Car  \\\n",
       "0       0.0  ...    1.0     0.0          0.0  0.0            0.0         0.0   \n",
       "1       0.0  ...    0.0     1.0          0.0  0.0            0.0         0.0   \n",
       "2       0.0  ...    1.0     0.0          0.0  0.0            1.0         0.0   \n",
       "3       0.0  ...    0.0     1.0          0.0  0.0            1.0         0.0   \n",
       "4       0.0  ...    0.0     1.0          0.0  0.0            0.0         0.0   \n",
       "\n",
       "   Luxury SUV  SUV  Sports Car  Two-Door Car  \n",
       "0         0.0  0.0         0.0           1.0  \n",
       "1         0.0  0.0         0.0           1.0  \n",
       "2         0.0  0.0         0.0           0.0  \n",
       "3         0.0  0.0         0.0           0.0  \n",
       "4         0.0  0.0         0.0           1.0  \n",
       "\n",
       "[5 rows x 29 columns]"
      ]
     },
     "execution_count": 134,
     "metadata": {},
     "output_type": "execute_result"
    }
   ],
   "source": [
    "from sklearn.preprocessing import OneHotEncoder\n",
    "encoder = OneHotEncoder().fit(train_categorical_onehot)\n",
    "train_onehot = encoder.transform(train_categorical_onehot).toarray()\n",
    "enc = [columname for sublist in encoder.categories_ for columname in sublist]\n",
    "train_onehot = pd.DataFrame(train_onehot,columns=enc)\n",
    "train_onehot.shape\n",
    "train_onehot.head()"
   ]
  },
  {
   "cell_type": "code",
   "execution_count": 135,
   "id": "shared-migration",
   "metadata": {},
   "outputs": [],
   "source": [
    "train_categorical_encoded.reset_index(drop=True, inplace=True)\n",
    "train_onehot.reset_index(drop=True, inplace=True)"
   ]
  },
  {
   "cell_type": "markdown",
   "id": "original-eligibility",
   "metadata": {},
   "source": [
    "##### Concatenate categoricals"
   ]
  },
  {
   "cell_type": "code",
   "execution_count": 136,
   "id": "extra-quarter",
   "metadata": {},
   "outputs": [
    {
     "data": {
      "text/html": [
       "<div>\n",
       "<style scoped>\n",
       "    .dataframe tbody tr th:only-of-type {\n",
       "        vertical-align: middle;\n",
       "    }\n",
       "\n",
       "    .dataframe tbody tr th {\n",
       "        vertical-align: top;\n",
       "    }\n",
       "\n",
       "    .dataframe thead th {\n",
       "        text-align: right;\n",
       "    }\n",
       "</style>\n",
       "<table border=\"1\" class=\"dataframe\">\n",
       "  <thead>\n",
       "    <tr style=\"text-align: right;\">\n",
       "      <th></th>\n",
       "      <th>coverage</th>\n",
       "      <th>education</th>\n",
       "      <th>vehicle_size</th>\n",
       "      <th>employmentstatus</th>\n",
       "      <th>location_code</th>\n",
       "      <th>Arizona</th>\n",
       "      <th>California</th>\n",
       "      <th>Nevada</th>\n",
       "      <th>Oregon</th>\n",
       "      <th>Washington</th>\n",
       "      <th>...</th>\n",
       "      <th>Agent</th>\n",
       "      <th>Branch</th>\n",
       "      <th>Call Center</th>\n",
       "      <th>Web</th>\n",
       "      <th>Four-Door Car</th>\n",
       "      <th>Luxury Car</th>\n",
       "      <th>Luxury SUV</th>\n",
       "      <th>SUV</th>\n",
       "      <th>Sports Car</th>\n",
       "      <th>Two-Door Car</th>\n",
       "    </tr>\n",
       "  </thead>\n",
       "  <tbody>\n",
       "    <tr>\n",
       "      <th>0</th>\n",
       "      <td>1</td>\n",
       "      <td>1</td>\n",
       "      <td>0</td>\n",
       "      <td>4</td>\n",
       "      <td>1</td>\n",
       "      <td>0.0</td>\n",
       "      <td>0.0</td>\n",
       "      <td>0.0</td>\n",
       "      <td>1.0</td>\n",
       "      <td>0.0</td>\n",
       "      <td>...</td>\n",
       "      <td>1.0</td>\n",
       "      <td>0.0</td>\n",
       "      <td>0.0</td>\n",
       "      <td>0.0</td>\n",
       "      <td>0.0</td>\n",
       "      <td>0.0</td>\n",
       "      <td>0.0</td>\n",
       "      <td>0.0</td>\n",
       "      <td>0.0</td>\n",
       "      <td>1.0</td>\n",
       "    </tr>\n",
       "    <tr>\n",
       "      <th>1</th>\n",
       "      <td>0</td>\n",
       "      <td>1</td>\n",
       "      <td>1</td>\n",
       "      <td>3</td>\n",
       "      <td>1</td>\n",
       "      <td>0.0</td>\n",
       "      <td>0.0</td>\n",
       "      <td>0.0</td>\n",
       "      <td>1.0</td>\n",
       "      <td>0.0</td>\n",
       "      <td>...</td>\n",
       "      <td>0.0</td>\n",
       "      <td>1.0</td>\n",
       "      <td>0.0</td>\n",
       "      <td>0.0</td>\n",
       "      <td>0.0</td>\n",
       "      <td>0.0</td>\n",
       "      <td>0.0</td>\n",
       "      <td>0.0</td>\n",
       "      <td>0.0</td>\n",
       "      <td>1.0</td>\n",
       "    </tr>\n",
       "    <tr>\n",
       "      <th>2</th>\n",
       "      <td>1</td>\n",
       "      <td>1</td>\n",
       "      <td>0</td>\n",
       "      <td>4</td>\n",
       "      <td>1</td>\n",
       "      <td>1.0</td>\n",
       "      <td>0.0</td>\n",
       "      <td>0.0</td>\n",
       "      <td>0.0</td>\n",
       "      <td>0.0</td>\n",
       "      <td>...</td>\n",
       "      <td>1.0</td>\n",
       "      <td>0.0</td>\n",
       "      <td>0.0</td>\n",
       "      <td>0.0</td>\n",
       "      <td>1.0</td>\n",
       "      <td>0.0</td>\n",
       "      <td>0.0</td>\n",
       "      <td>0.0</td>\n",
       "      <td>0.0</td>\n",
       "      <td>0.0</td>\n",
       "    </tr>\n",
       "    <tr>\n",
       "      <th>3</th>\n",
       "      <td>1</td>\n",
       "      <td>1</td>\n",
       "      <td>0</td>\n",
       "      <td>4</td>\n",
       "      <td>1</td>\n",
       "      <td>0.0</td>\n",
       "      <td>0.0</td>\n",
       "      <td>1.0</td>\n",
       "      <td>0.0</td>\n",
       "      <td>0.0</td>\n",
       "      <td>...</td>\n",
       "      <td>0.0</td>\n",
       "      <td>1.0</td>\n",
       "      <td>0.0</td>\n",
       "      <td>0.0</td>\n",
       "      <td>1.0</td>\n",
       "      <td>0.0</td>\n",
       "      <td>0.0</td>\n",
       "      <td>0.0</td>\n",
       "      <td>0.0</td>\n",
       "      <td>0.0</td>\n",
       "    </tr>\n",
       "    <tr>\n",
       "      <th>4</th>\n",
       "      <td>1</td>\n",
       "      <td>1</td>\n",
       "      <td>0</td>\n",
       "      <td>0</td>\n",
       "      <td>1</td>\n",
       "      <td>0.0</td>\n",
       "      <td>1.0</td>\n",
       "      <td>0.0</td>\n",
       "      <td>0.0</td>\n",
       "      <td>0.0</td>\n",
       "      <td>...</td>\n",
       "      <td>0.0</td>\n",
       "      <td>1.0</td>\n",
       "      <td>0.0</td>\n",
       "      <td>0.0</td>\n",
       "      <td>0.0</td>\n",
       "      <td>0.0</td>\n",
       "      <td>0.0</td>\n",
       "      <td>0.0</td>\n",
       "      <td>0.0</td>\n",
       "      <td>1.0</td>\n",
       "    </tr>\n",
       "  </tbody>\n",
       "</table>\n",
       "<p>5 rows × 34 columns</p>\n",
       "</div>"
      ],
      "text/plain": [
       "   coverage  education  vehicle_size  employmentstatus  location_code  \\\n",
       "0         1          1             0                 4              1   \n",
       "1         0          1             1                 3              1   \n",
       "2         1          1             0                 4              1   \n",
       "3         1          1             0                 4              1   \n",
       "4         1          1             0                 0              1   \n",
       "\n",
       "   Arizona  California  Nevada  Oregon  Washington  ...  Agent  Branch  \\\n",
       "0      0.0         0.0     0.0     1.0         0.0  ...    1.0     0.0   \n",
       "1      0.0         0.0     0.0     1.0         0.0  ...    0.0     1.0   \n",
       "2      1.0         0.0     0.0     0.0         0.0  ...    1.0     0.0   \n",
       "3      0.0         0.0     1.0     0.0         0.0  ...    0.0     1.0   \n",
       "4      0.0         1.0     0.0     0.0         0.0  ...    0.0     1.0   \n",
       "\n",
       "   Call Center  Web  Four-Door Car  Luxury Car  Luxury SUV  SUV  Sports Car  \\\n",
       "0          0.0  0.0            0.0         0.0         0.0  0.0         0.0   \n",
       "1          0.0  0.0            0.0         0.0         0.0  0.0         0.0   \n",
       "2          0.0  0.0            1.0         0.0         0.0  0.0         0.0   \n",
       "3          0.0  0.0            1.0         0.0         0.0  0.0         0.0   \n",
       "4          0.0  0.0            0.0         0.0         0.0  0.0         0.0   \n",
       "\n",
       "   Two-Door Car  \n",
       "0           1.0  \n",
       "1           1.0  \n",
       "2           0.0  \n",
       "3           0.0  \n",
       "4           1.0  \n",
       "\n",
       "[5 rows x 34 columns]"
      ]
     },
     "execution_count": 136,
     "metadata": {},
     "output_type": "execute_result"
    },
    {
     "data": {
      "text/plain": [
       "(6850, 34)"
      ]
     },
     "execution_count": 136,
     "metadata": {},
     "output_type": "execute_result"
    }
   ],
   "source": [
    "train_cat_enc = pd.concat([train_categorical_encoded,train_onehot], axis=1)\n",
    "train_cat_enc.head()\n",
    "train_cat_enc.shape"
   ]
  },
  {
   "cell_type": "markdown",
   "id": "floppy-comparison",
   "metadata": {},
   "source": [
    "#### Get final train dataset"
   ]
  },
  {
   "cell_type": "code",
   "execution_count": 137,
   "id": "polish-local",
   "metadata": {},
   "outputs": [],
   "source": [
    "X_train_preproc = pd.concat([train_num_stand,train_cat_enc], axis= 1)"
   ]
  },
  {
   "cell_type": "markdown",
   "id": "endangered-rating",
   "metadata": {},
   "source": [
    "#### Modeling"
   ]
  },
  {
   "cell_type": "code",
   "execution_count": 138,
   "id": "alpha-harmony",
   "metadata": {},
   "outputs": [],
   "source": [
    "# from sklearn import linear_model\n",
    "lm = linear_model.LinearRegression()"
   ]
  },
  {
   "cell_type": "code",
   "execution_count": 139,
   "id": "written-front",
   "metadata": {},
   "outputs": [],
   "source": [
    "model = lm.fit(X_train_preproc,y_train)"
   ]
  },
  {
   "cell_type": "markdown",
   "id": "italic-absolute",
   "metadata": {},
   "source": [
    "### VALIDATION"
   ]
  },
  {
   "cell_type": "markdown",
   "id": "right-easter",
   "metadata": {},
   "source": [
    "#### Select numerical variables in the test"
   ]
  },
  {
   "cell_type": "code",
   "execution_count": 140,
   "id": "smart-hearts",
   "metadata": {},
   "outputs": [
    {
     "data": {
      "text/plain": [
       "(2284, 3)"
      ]
     },
     "execution_count": 140,
     "metadata": {},
     "output_type": "execute_result"
    }
   ],
   "source": [
    "numerical_test = X_test.select_dtypes(include = np.number)\n",
    "numerical_test.shape"
   ]
  },
  {
   "cell_type": "markdown",
   "id": "transparent-designer",
   "metadata": {},
   "source": [
    "##### Apply transformation to numericals "
   ]
  },
  {
   "cell_type": "code",
   "execution_count": 141,
   "id": "electric-edition",
   "metadata": {},
   "outputs": [
    {
     "name": "stdout",
     "output_type": "stream",
     "text": [
      "(2284, 3)\n"
     ]
    }
   ],
   "source": [
    "# scaling standard scaler: make data normal distributed with mean=0 and std=1\n",
    "test_num_standardized = transformer.transform(numerical_test)\n",
    "print(test_num_standardized.shape)\n",
    "test_num_stand = pd.DataFrame(test_num_standardized, columns=numerical_test.columns)"
   ]
  },
  {
   "cell_type": "markdown",
   "id": "noticed-singer",
   "metadata": {},
   "source": [
    "#### Select categorical variables in the train and test"
   ]
  },
  {
   "cell_type": "code",
   "execution_count": 142,
   "id": "sufficient-toyota",
   "metadata": {},
   "outputs": [
    {
     "data": {
      "text/plain": [
       "(2284, 13)"
      ]
     },
     "execution_count": 142,
     "metadata": {},
     "output_type": "execute_result"
    }
   ],
   "source": [
    "categorical_test = X_test.select_dtypes(include = np.object)\n",
    "categorical_test.shape"
   ]
  },
  {
   "cell_type": "markdown",
   "id": "falling-rachel",
   "metadata": {},
   "source": [
    "##### Encode categoricals"
   ]
  },
  {
   "cell_type": "code",
   "execution_count": 143,
   "id": "realistic-tension",
   "metadata": {},
   "outputs": [
    {
     "name": "stderr",
     "output_type": "stream",
     "text": [
      "C:\\Users\\besca\\anaconda3\\lib\\site-packages\\ipykernel_launcher.py:1: SettingWithCopyWarning: \n",
      "A value is trying to be set on a copy of a slice from a DataFrame.\n",
      "Try using .loc[row_indexer,col_indexer] = value instead\n",
      "\n",
      "See the caveats in the documentation: https://pandas.pydata.org/pandas-docs/stable/user_guide/indexing.html#returning-a-view-versus-a-copy\n",
      "  \"\"\"Entry point for launching an IPython kernel.\n",
      "C:\\Users\\besca\\anaconda3\\lib\\site-packages\\ipykernel_launcher.py:2: SettingWithCopyWarning: \n",
      "A value is trying to be set on a copy of a slice from a DataFrame.\n",
      "Try using .loc[row_indexer,col_indexer] = value instead\n",
      "\n",
      "See the caveats in the documentation: https://pandas.pydata.org/pandas-docs/stable/user_guide/indexing.html#returning-a-view-versus-a-copy\n",
      "  \n",
      "C:\\Users\\besca\\anaconda3\\lib\\site-packages\\ipykernel_launcher.py:3: SettingWithCopyWarning: \n",
      "A value is trying to be set on a copy of a slice from a DataFrame.\n",
      "Try using .loc[row_indexer,col_indexer] = value instead\n",
      "\n",
      "See the caveats in the documentation: https://pandas.pydata.org/pandas-docs/stable/user_guide/indexing.html#returning-a-view-versus-a-copy\n",
      "  This is separate from the ipykernel package so we can avoid doing imports until\n",
      "C:\\Users\\besca\\anaconda3\\lib\\site-packages\\ipykernel_launcher.py:4: SettingWithCopyWarning: \n",
      "A value is trying to be set on a copy of a slice from a DataFrame.\n",
      "Try using .loc[row_indexer,col_indexer] = value instead\n",
      "\n",
      "See the caveats in the documentation: https://pandas.pydata.org/pandas-docs/stable/user_guide/indexing.html#returning-a-view-versus-a-copy\n",
      "  after removing the cwd from sys.path.\n",
      "C:\\Users\\besca\\anaconda3\\lib\\site-packages\\ipykernel_launcher.py:5: SettingWithCopyWarning: \n",
      "A value is trying to be set on a copy of a slice from a DataFrame.\n",
      "Try using .loc[row_indexer,col_indexer] = value instead\n",
      "\n",
      "See the caveats in the documentation: https://pandas.pydata.org/pandas-docs/stable/user_guide/indexing.html#returning-a-view-versus-a-copy\n",
      "  \"\"\"\n"
     ]
    }
   ],
   "source": [
    "categorical_test['coverage'] = categorical_test['coverage'].map({'Basic' : 0, 'Extended' : 1, 'Premium' : 2})\n",
    "categorical_test['education'] = categorical_test['education'].map({'Bachelor' : 1, 'College' : 1, 'High School or Below' : 0, 'Master': 2, 'Doctor':3})\n",
    "categorical_test['vehicle_size'] = categorical_test['vehicle_size'].map({'Small' : 0, 'Medsize' : 1, 'Large' : 2})\n",
    "categorical_test['employmentstatus'] = categorical_test['employmentstatus'].map({'Medical Leave': 0, 'Disabled' : 1,'Retired': 2, 'Unemployed':3, 'Employed':4})\n",
    "categorical_test['location_code'] = categorical_test['location_code'].map({'Urban' : 0, 'Suburban' : 1, 'Rural' : 2})\n",
    "\n",
    "test_categorical_encoded = categorical_test[['coverage','education','vehicle_size','employmentstatus','location_code']]"
   ]
  },
  {
   "cell_type": "code",
   "execution_count": 144,
   "id": "powerful-wayne",
   "metadata": {},
   "outputs": [
    {
     "data": {
      "text/plain": [
       "(2284, 8)"
      ]
     },
     "execution_count": 144,
     "metadata": {},
     "output_type": "execute_result"
    }
   ],
   "source": [
    "test_categorical_onehot = X_test[['state','response','gender','marital_status', 'policy_type','renew_offer_type', 'sales_channel', 'vehicle_class']]\n",
    "test_categorical_onehot.shape"
   ]
  },
  {
   "cell_type": "code",
   "execution_count": 145,
   "id": "appropriate-voltage",
   "metadata": {},
   "outputs": [
    {
     "data": {
      "text/plain": [
       "(2284, 29)"
      ]
     },
     "execution_count": 145,
     "metadata": {},
     "output_type": "execute_result"
    },
    {
     "data": {
      "text/html": [
       "<div>\n",
       "<style scoped>\n",
       "    .dataframe tbody tr th:only-of-type {\n",
       "        vertical-align: middle;\n",
       "    }\n",
       "\n",
       "    .dataframe tbody tr th {\n",
       "        vertical-align: top;\n",
       "    }\n",
       "\n",
       "    .dataframe thead th {\n",
       "        text-align: right;\n",
       "    }\n",
       "</style>\n",
       "<table border=\"1\" class=\"dataframe\">\n",
       "  <thead>\n",
       "    <tr style=\"text-align: right;\">\n",
       "      <th></th>\n",
       "      <th>Arizona</th>\n",
       "      <th>California</th>\n",
       "      <th>Nevada</th>\n",
       "      <th>Oregon</th>\n",
       "      <th>Washington</th>\n",
       "      <th>No</th>\n",
       "      <th>Yes</th>\n",
       "      <th>F</th>\n",
       "      <th>M</th>\n",
       "      <th>Divorced</th>\n",
       "      <th>...</th>\n",
       "      <th>Agent</th>\n",
       "      <th>Branch</th>\n",
       "      <th>Call Center</th>\n",
       "      <th>Web</th>\n",
       "      <th>Four-Door Car</th>\n",
       "      <th>Luxury Car</th>\n",
       "      <th>Luxury SUV</th>\n",
       "      <th>SUV</th>\n",
       "      <th>Sports Car</th>\n",
       "      <th>Two-Door Car</th>\n",
       "    </tr>\n",
       "  </thead>\n",
       "  <tbody>\n",
       "    <tr>\n",
       "      <th>0</th>\n",
       "      <td>0.0</td>\n",
       "      <td>0.0</td>\n",
       "      <td>0.0</td>\n",
       "      <td>1.0</td>\n",
       "      <td>0.0</td>\n",
       "      <td>1.0</td>\n",
       "      <td>0.0</td>\n",
       "      <td>0.0</td>\n",
       "      <td>1.0</td>\n",
       "      <td>1.0</td>\n",
       "      <td>...</td>\n",
       "      <td>0.0</td>\n",
       "      <td>0.0</td>\n",
       "      <td>0.0</td>\n",
       "      <td>1.0</td>\n",
       "      <td>1.0</td>\n",
       "      <td>0.0</td>\n",
       "      <td>0.0</td>\n",
       "      <td>0.0</td>\n",
       "      <td>0.0</td>\n",
       "      <td>0.0</td>\n",
       "    </tr>\n",
       "    <tr>\n",
       "      <th>1</th>\n",
       "      <td>0.0</td>\n",
       "      <td>0.0</td>\n",
       "      <td>1.0</td>\n",
       "      <td>0.0</td>\n",
       "      <td>0.0</td>\n",
       "      <td>1.0</td>\n",
       "      <td>0.0</td>\n",
       "      <td>1.0</td>\n",
       "      <td>0.0</td>\n",
       "      <td>0.0</td>\n",
       "      <td>...</td>\n",
       "      <td>0.0</td>\n",
       "      <td>0.0</td>\n",
       "      <td>1.0</td>\n",
       "      <td>0.0</td>\n",
       "      <td>0.0</td>\n",
       "      <td>0.0</td>\n",
       "      <td>0.0</td>\n",
       "      <td>1.0</td>\n",
       "      <td>0.0</td>\n",
       "      <td>0.0</td>\n",
       "    </tr>\n",
       "    <tr>\n",
       "      <th>2</th>\n",
       "      <td>0.0</td>\n",
       "      <td>1.0</td>\n",
       "      <td>0.0</td>\n",
       "      <td>0.0</td>\n",
       "      <td>0.0</td>\n",
       "      <td>1.0</td>\n",
       "      <td>0.0</td>\n",
       "      <td>1.0</td>\n",
       "      <td>0.0</td>\n",
       "      <td>0.0</td>\n",
       "      <td>...</td>\n",
       "      <td>0.0</td>\n",
       "      <td>0.0</td>\n",
       "      <td>0.0</td>\n",
       "      <td>1.0</td>\n",
       "      <td>1.0</td>\n",
       "      <td>0.0</td>\n",
       "      <td>0.0</td>\n",
       "      <td>0.0</td>\n",
       "      <td>0.0</td>\n",
       "      <td>0.0</td>\n",
       "    </tr>\n",
       "    <tr>\n",
       "      <th>3</th>\n",
       "      <td>0.0</td>\n",
       "      <td>1.0</td>\n",
       "      <td>0.0</td>\n",
       "      <td>0.0</td>\n",
       "      <td>0.0</td>\n",
       "      <td>1.0</td>\n",
       "      <td>0.0</td>\n",
       "      <td>1.0</td>\n",
       "      <td>0.0</td>\n",
       "      <td>0.0</td>\n",
       "      <td>...</td>\n",
       "      <td>0.0</td>\n",
       "      <td>0.0</td>\n",
       "      <td>0.0</td>\n",
       "      <td>1.0</td>\n",
       "      <td>1.0</td>\n",
       "      <td>0.0</td>\n",
       "      <td>0.0</td>\n",
       "      <td>0.0</td>\n",
       "      <td>0.0</td>\n",
       "      <td>0.0</td>\n",
       "    </tr>\n",
       "    <tr>\n",
       "      <th>4</th>\n",
       "      <td>0.0</td>\n",
       "      <td>0.0</td>\n",
       "      <td>0.0</td>\n",
       "      <td>1.0</td>\n",
       "      <td>0.0</td>\n",
       "      <td>1.0</td>\n",
       "      <td>0.0</td>\n",
       "      <td>1.0</td>\n",
       "      <td>0.0</td>\n",
       "      <td>0.0</td>\n",
       "      <td>...</td>\n",
       "      <td>1.0</td>\n",
       "      <td>0.0</td>\n",
       "      <td>0.0</td>\n",
       "      <td>0.0</td>\n",
       "      <td>1.0</td>\n",
       "      <td>0.0</td>\n",
       "      <td>0.0</td>\n",
       "      <td>0.0</td>\n",
       "      <td>0.0</td>\n",
       "      <td>0.0</td>\n",
       "    </tr>\n",
       "  </tbody>\n",
       "</table>\n",
       "<p>5 rows × 29 columns</p>\n",
       "</div>"
      ],
      "text/plain": [
       "   Arizona  California  Nevada  Oregon  Washington   No  Yes    F    M  \\\n",
       "0      0.0         0.0     0.0     1.0         0.0  1.0  0.0  0.0  1.0   \n",
       "1      0.0         0.0     1.0     0.0         0.0  1.0  0.0  1.0  0.0   \n",
       "2      0.0         1.0     0.0     0.0         0.0  1.0  0.0  1.0  0.0   \n",
       "3      0.0         1.0     0.0     0.0         0.0  1.0  0.0  1.0  0.0   \n",
       "4      0.0         0.0     0.0     1.0         0.0  1.0  0.0  1.0  0.0   \n",
       "\n",
       "   Divorced  ...  Agent  Branch  Call Center  Web  Four-Door Car  Luxury Car  \\\n",
       "0       1.0  ...    0.0     0.0          0.0  1.0            1.0         0.0   \n",
       "1       0.0  ...    0.0     0.0          1.0  0.0            0.0         0.0   \n",
       "2       0.0  ...    0.0     0.0          0.0  1.0            1.0         0.0   \n",
       "3       0.0  ...    0.0     0.0          0.0  1.0            1.0         0.0   \n",
       "4       0.0  ...    1.0     0.0          0.0  0.0            1.0         0.0   \n",
       "\n",
       "   Luxury SUV  SUV  Sports Car  Two-Door Car  \n",
       "0         0.0  0.0         0.0           0.0  \n",
       "1         0.0  1.0         0.0           0.0  \n",
       "2         0.0  0.0         0.0           0.0  \n",
       "3         0.0  0.0         0.0           0.0  \n",
       "4         0.0  0.0         0.0           0.0  \n",
       "\n",
       "[5 rows x 29 columns]"
      ]
     },
     "execution_count": 145,
     "metadata": {},
     "output_type": "execute_result"
    }
   ],
   "source": [
    "test_onehot = encoder.transform(test_categorical_onehot).toarray()\n",
    "enc = [columname for sublist in encoder.categories_ for columname in sublist]\n",
    "test_onehot = pd.DataFrame(test_onehot,columns=enc)\n",
    "test_onehot.shape\n",
    "test_onehot.head()"
   ]
  },
  {
   "cell_type": "code",
   "execution_count": 146,
   "id": "apart-campbell",
   "metadata": {},
   "outputs": [],
   "source": [
    "test_categorical_encoded.reset_index(drop=True, inplace=True)\n",
    "test_onehot.reset_index(drop=True, inplace=True)"
   ]
  },
  {
   "cell_type": "markdown",
   "id": "sublime-brave",
   "metadata": {},
   "source": [
    "##### Concatenate categoricals"
   ]
  },
  {
   "cell_type": "code",
   "execution_count": 147,
   "id": "global-elevation",
   "metadata": {},
   "outputs": [
    {
     "data": {
      "text/html": [
       "<div>\n",
       "<style scoped>\n",
       "    .dataframe tbody tr th:only-of-type {\n",
       "        vertical-align: middle;\n",
       "    }\n",
       "\n",
       "    .dataframe tbody tr th {\n",
       "        vertical-align: top;\n",
       "    }\n",
       "\n",
       "    .dataframe thead th {\n",
       "        text-align: right;\n",
       "    }\n",
       "</style>\n",
       "<table border=\"1\" class=\"dataframe\">\n",
       "  <thead>\n",
       "    <tr style=\"text-align: right;\">\n",
       "      <th></th>\n",
       "      <th>coverage</th>\n",
       "      <th>education</th>\n",
       "      <th>vehicle_size</th>\n",
       "      <th>employmentstatus</th>\n",
       "      <th>location_code</th>\n",
       "      <th>Arizona</th>\n",
       "      <th>California</th>\n",
       "      <th>Nevada</th>\n",
       "      <th>Oregon</th>\n",
       "      <th>Washington</th>\n",
       "      <th>...</th>\n",
       "      <th>Agent</th>\n",
       "      <th>Branch</th>\n",
       "      <th>Call Center</th>\n",
       "      <th>Web</th>\n",
       "      <th>Four-Door Car</th>\n",
       "      <th>Luxury Car</th>\n",
       "      <th>Luxury SUV</th>\n",
       "      <th>SUV</th>\n",
       "      <th>Sports Car</th>\n",
       "      <th>Two-Door Car</th>\n",
       "    </tr>\n",
       "  </thead>\n",
       "  <tbody>\n",
       "    <tr>\n",
       "      <th>0</th>\n",
       "      <td>0</td>\n",
       "      <td>1</td>\n",
       "      <td>1</td>\n",
       "      <td>4</td>\n",
       "      <td>1</td>\n",
       "      <td>0.0</td>\n",
       "      <td>0.0</td>\n",
       "      <td>0.0</td>\n",
       "      <td>1.0</td>\n",
       "      <td>0.0</td>\n",
       "      <td>...</td>\n",
       "      <td>0.0</td>\n",
       "      <td>0.0</td>\n",
       "      <td>0.0</td>\n",
       "      <td>1.0</td>\n",
       "      <td>1.0</td>\n",
       "      <td>0.0</td>\n",
       "      <td>0.0</td>\n",
       "      <td>0.0</td>\n",
       "      <td>0.0</td>\n",
       "      <td>0.0</td>\n",
       "    </tr>\n",
       "    <tr>\n",
       "      <th>1</th>\n",
       "      <td>1</td>\n",
       "      <td>0</td>\n",
       "      <td>1</td>\n",
       "      <td>4</td>\n",
       "      <td>2</td>\n",
       "      <td>0.0</td>\n",
       "      <td>0.0</td>\n",
       "      <td>1.0</td>\n",
       "      <td>0.0</td>\n",
       "      <td>0.0</td>\n",
       "      <td>...</td>\n",
       "      <td>0.0</td>\n",
       "      <td>0.0</td>\n",
       "      <td>1.0</td>\n",
       "      <td>0.0</td>\n",
       "      <td>0.0</td>\n",
       "      <td>0.0</td>\n",
       "      <td>0.0</td>\n",
       "      <td>1.0</td>\n",
       "      <td>0.0</td>\n",
       "      <td>0.0</td>\n",
       "    </tr>\n",
       "    <tr>\n",
       "      <th>2</th>\n",
       "      <td>0</td>\n",
       "      <td>0</td>\n",
       "      <td>2</td>\n",
       "      <td>4</td>\n",
       "      <td>2</td>\n",
       "      <td>0.0</td>\n",
       "      <td>1.0</td>\n",
       "      <td>0.0</td>\n",
       "      <td>0.0</td>\n",
       "      <td>0.0</td>\n",
       "      <td>...</td>\n",
       "      <td>0.0</td>\n",
       "      <td>0.0</td>\n",
       "      <td>0.0</td>\n",
       "      <td>1.0</td>\n",
       "      <td>1.0</td>\n",
       "      <td>0.0</td>\n",
       "      <td>0.0</td>\n",
       "      <td>0.0</td>\n",
       "      <td>0.0</td>\n",
       "      <td>0.0</td>\n",
       "    </tr>\n",
       "    <tr>\n",
       "      <th>3</th>\n",
       "      <td>1</td>\n",
       "      <td>1</td>\n",
       "      <td>1</td>\n",
       "      <td>2</td>\n",
       "      <td>1</td>\n",
       "      <td>0.0</td>\n",
       "      <td>1.0</td>\n",
       "      <td>0.0</td>\n",
       "      <td>0.0</td>\n",
       "      <td>0.0</td>\n",
       "      <td>...</td>\n",
       "      <td>0.0</td>\n",
       "      <td>0.0</td>\n",
       "      <td>0.0</td>\n",
       "      <td>1.0</td>\n",
       "      <td>1.0</td>\n",
       "      <td>0.0</td>\n",
       "      <td>0.0</td>\n",
       "      <td>0.0</td>\n",
       "      <td>0.0</td>\n",
       "      <td>0.0</td>\n",
       "    </tr>\n",
       "    <tr>\n",
       "      <th>4</th>\n",
       "      <td>2</td>\n",
       "      <td>1</td>\n",
       "      <td>1</td>\n",
       "      <td>4</td>\n",
       "      <td>2</td>\n",
       "      <td>0.0</td>\n",
       "      <td>0.0</td>\n",
       "      <td>0.0</td>\n",
       "      <td>1.0</td>\n",
       "      <td>0.0</td>\n",
       "      <td>...</td>\n",
       "      <td>1.0</td>\n",
       "      <td>0.0</td>\n",
       "      <td>0.0</td>\n",
       "      <td>0.0</td>\n",
       "      <td>1.0</td>\n",
       "      <td>0.0</td>\n",
       "      <td>0.0</td>\n",
       "      <td>0.0</td>\n",
       "      <td>0.0</td>\n",
       "      <td>0.0</td>\n",
       "    </tr>\n",
       "  </tbody>\n",
       "</table>\n",
       "<p>5 rows × 34 columns</p>\n",
       "</div>"
      ],
      "text/plain": [
       "   coverage  education  vehicle_size  employmentstatus  location_code  \\\n",
       "0         0          1             1                 4              1   \n",
       "1         1          0             1                 4              2   \n",
       "2         0          0             2                 4              2   \n",
       "3         1          1             1                 2              1   \n",
       "4         2          1             1                 4              2   \n",
       "\n",
       "   Arizona  California  Nevada  Oregon  Washington  ...  Agent  Branch  \\\n",
       "0      0.0         0.0     0.0     1.0         0.0  ...    0.0     0.0   \n",
       "1      0.0         0.0     1.0     0.0         0.0  ...    0.0     0.0   \n",
       "2      0.0         1.0     0.0     0.0         0.0  ...    0.0     0.0   \n",
       "3      0.0         1.0     0.0     0.0         0.0  ...    0.0     0.0   \n",
       "4      0.0         0.0     0.0     1.0         0.0  ...    1.0     0.0   \n",
       "\n",
       "   Call Center  Web  Four-Door Car  Luxury Car  Luxury SUV  SUV  Sports Car  \\\n",
       "0          0.0  1.0            1.0         0.0         0.0  0.0         0.0   \n",
       "1          1.0  0.0            0.0         0.0         0.0  1.0         0.0   \n",
       "2          0.0  1.0            1.0         0.0         0.0  0.0         0.0   \n",
       "3          0.0  1.0            1.0         0.0         0.0  0.0         0.0   \n",
       "4          0.0  0.0            1.0         0.0         0.0  0.0         0.0   \n",
       "\n",
       "   Two-Door Car  \n",
       "0           0.0  \n",
       "1           0.0  \n",
       "2           0.0  \n",
       "3           0.0  \n",
       "4           0.0  \n",
       "\n",
       "[5 rows x 34 columns]"
      ]
     },
     "execution_count": 147,
     "metadata": {},
     "output_type": "execute_result"
    },
    {
     "data": {
      "text/plain": [
       "(2284, 34)"
      ]
     },
     "execution_count": 147,
     "metadata": {},
     "output_type": "execute_result"
    }
   ],
   "source": [
    "test_cat_enc = pd.concat([test_categorical_encoded,test_onehot], axis=1)\n",
    "test_cat_enc.head()\n",
    "test_cat_enc.shape"
   ]
  },
  {
   "cell_type": "markdown",
   "id": "statutory-platform",
   "metadata": {},
   "source": [
    "#### Get final test dataset"
   ]
  },
  {
   "cell_type": "code",
   "execution_count": 148,
   "id": "molecular-router",
   "metadata": {},
   "outputs": [
    {
     "data": {
      "text/plain": [
       "(2284, 37)"
      ]
     },
     "execution_count": 148,
     "metadata": {},
     "output_type": "execute_result"
    }
   ],
   "source": [
    "X_test_preproc = pd.concat([test_num_stand,test_cat_enc], axis= 1)\n",
    "X_test_preproc.shape"
   ]
  },
  {
   "cell_type": "markdown",
   "id": "steady-teens",
   "metadata": {},
   "source": [
    "### Validate model"
   ]
  },
  {
   "cell_type": "code",
   "execution_count": 149,
   "id": "smart-helping",
   "metadata": {},
   "outputs": [
    {
     "data": {
      "text/plain": [
       "array([207.41328455, 507.72860875, 164.72589391, ..., 126.86365682,\n",
       "       257.237375  , 429.00391521])"
      ]
     },
     "execution_count": 149,
     "metadata": {},
     "output_type": "execute_result"
    }
   ],
   "source": [
    "predictions = lm.predict(X_test_preproc)\n",
    "predictions"
   ]
  },
  {
   "cell_type": "code",
   "execution_count": 150,
   "id": "dominican-genealogy",
   "metadata": {},
   "outputs": [
    {
     "name": "stdout",
     "output_type": "stream",
     "text": [
      "0.6116464453255892\n"
     ]
    }
   ],
   "source": [
    "# R2.\n",
    "r2 = r2_score(y_test, predictions)\n",
    "print(r2)\n",
    "# MSE.\n",
    "mse = mean_squared_error(y_test, predictions)\n",
    "# RMSE.\n",
    "rmse = math.sqrt(mse)"
   ]
  },
  {
   "cell_type": "markdown",
   "id": "express-silicon",
   "metadata": {},
   "source": [
    "### 2. Define a function that takes a list of models and train (and tests) them so we can try a lot of them without repeating code."
   ]
  },
  {
   "cell_type": "code",
   "execution_count": 201,
   "id": "incoming-failure",
   "metadata": {},
   "outputs": [],
   "source": [
    "import warnings\n",
    "warnings.filterwarnings('ignore')"
   ]
  },
  {
   "cell_type": "code",
   "execution_count": 202,
   "id": "dynamic-orientation",
   "metadata": {},
   "outputs": [],
   "source": [
    "from sklearn import linear_model\n",
    "\n",
    "def linear_function(x):\n",
    "    # train,test split\n",
    "    X_train, X_test, y_train, y_test = train_test_split(X, y, test_size=x, random_state=100)\n",
    "    # TRAIN SET PREPARATION\n",
    "    # transform numericals\n",
    "    numerical_train = X_train.select_dtypes(include = np.number)\n",
    "    transformer = StandardScaler().fit(numerical_train)\n",
    "    num_standardized = transformer.transform(numerical_train)\n",
    "    train_num_stand = pd.DataFrame(num_standardized, columns=numerical_train.columns)\n",
    "    # encode categoricals\n",
    "    categorical_train = X_train.select_dtypes(include = np.object)\n",
    "    categorical_train['coverage'] = categorical_train['coverage'].map({'Basic' : 0, 'Extended' : 1, 'Premium' : 2})\n",
    "    categorical_train['education'] = categorical_train['education'].map({'Bachelor' : 1, 'College' : 1, 'High School or Below' : 0, 'Master': 2, 'Doctor':3})\n",
    "    categorical_train['vehicle_size'] = categorical_train['vehicle_size'].map({'Small' : 0, 'Medsize' : 1, 'Large' : 2})\n",
    "    categorical_train['employmentstatus'] = categorical_train['employmentstatus'].map({'Medical Leave': 0, 'Disabled' : 1,'Retired': 2, 'Unemployed':3, 'Employed':4})\n",
    "    categorical_train['location_code'] = categorical_train['location_code'].map({'Urban' : 0, 'Suburban' : 1, 'Rural' : 2})\n",
    "    train_categorical_encoded = categorical_train[['coverage','education','vehicle_size','employmentstatus','location_code']];\n",
    "    train_categorical_onehot = X_train[['state','response','gender','marital_status', 'policy_type','renew_offer_type', 'sales_channel', 'vehicle_class']]\n",
    "    encoder = OneHotEncoder().fit(train_categorical_onehot)\n",
    "    train_onehot = encoder.transform(train_categorical_onehot).toarray()\n",
    "    enc = [columname for sublist in encoder.categories_ for columname in sublist]\n",
    "    train_onehot = pd.DataFrame(train_onehot,columns=enc)\n",
    "    train_categorical_encoded.reset_index(drop=True, inplace=True)\n",
    "    train_onehot.reset_index(drop=True, inplace=True)\n",
    "    train_cat_enc = pd.concat([train_categorical_encoded,train_onehot], axis=1)\n",
    "    # final train set\n",
    "    X_train_preproc = pd.concat([train_num_stand,train_cat_enc], axis= 1)\n",
    "    # model\n",
    "    lm = linear_model.LinearRegression()\n",
    "    model = lm.fit(X_train_preproc,y_train)\n",
    "    # TEST SET PREPARATION\n",
    "    # transform numericals\n",
    "    numerical_test = X_test.select_dtypes(include = np.number)\n",
    "    test_num_standardized = transformer.transform(numerical_test)\n",
    "    test_num_stand = pd.DataFrame(test_num_standardized, columns=numerical_test.columns)\n",
    "    # encode categoricals\n",
    "    categorical_test = X_test.select_dtypes(include = np.object)\n",
    "    categorical_test['coverage'] = categorical_test['coverage'].map({'Basic' : 0, 'Extended' : 1, 'Premium' : 2})\n",
    "    categorical_test['education'] = categorical_test['education'].map({'Bachelor' : 1, 'College' : 1, 'High School or Below' : 0, 'Master': 2, 'Doctor':3})\n",
    "    categorical_test['vehicle_size'] = categorical_test['vehicle_size'].map({'Small' : 0, 'Medsize' : 1, 'Large' : 2})\n",
    "    categorical_test['employmentstatus'] = categorical_test['employmentstatus'].map({'Medical Leave': 0, 'Disabled' : 1,'Retired': 2, 'Unemployed':3, 'Employed':4})\n",
    "    categorical_test['location_code'] = categorical_test['location_code'].map({'Urban' : 0, 'Suburban' : 1, 'Rural' : 2})\n",
    "    test_categorical_encoded = categorical_test[['coverage','education','vehicle_size','employmentstatus','location_code']]\n",
    "    test_categorical_onehot = X_test[['state','response','gender','marital_status', 'policy_type','renew_offer_type', 'sales_channel', 'vehicle_class']]\n",
    "    test_onehot = encoder.transform(test_categorical_onehot).toarray()\n",
    "    enc = [columname for sublist in encoder.categories_ for columname in sublist]\n",
    "    test_onehot = pd.DataFrame(test_onehot,columns=enc)\n",
    "    test_categorical_encoded.reset_index(drop=True, inplace=True)\n",
    "    test_onehot.reset_index(drop=True, inplace=True)\n",
    "    test_cat_enc = pd.concat([test_categorical_encoded,test_onehot], axis=1)\n",
    "    # final test set\n",
    "    X_test_preproc = pd.concat([test_num_stand,test_cat_enc], axis= 1)\n",
    "    # VALIDATION\n",
    "    predictions = lm.predict(X_test_preproc)\n",
    "    r2 = r2_score(y_test, predictions)\n",
    "    print(r2)\n"
   ]
  },
  {
   "cell_type": "code",
   "execution_count": 203,
   "id": "tamil-radius",
   "metadata": {
    "scrolled": true
   },
   "outputs": [
    {
     "name": "stdout",
     "output_type": "stream",
     "text": [
      "0.6044955821868562\n",
      "0.6178899952683905\n",
      "0.6116464453255892\n",
      "0.6101250560580085\n"
     ]
    }
   ],
   "source": [
    "linear_function(0.2)\n",
    "linear_function(0.3)\n",
    "linear_function(0.25)\n",
    "linear_function(0.15)\n",
    "\n",
    "# for i in [0.2,0.3,0.25,0.15]:\n",
    "#     models_function(i)"
   ]
  },
  {
   "cell_type": "markdown",
   "id": "nutritional-school",
   "metadata": {},
   "source": [
    "### 3. Use the function to check LinearRegressor and KNeighborsRegressor. You can check also the MLPRegressor for this task"
   ]
  },
  {
   "cell_type": "code",
   "execution_count": 204,
   "id": "convinced-anderson",
   "metadata": {},
   "outputs": [],
   "source": [
    "from sklearn.neighbors import KNeighborsRegressor\n",
    "\n",
    "def kneighbors_function(x):\n",
    "    # train,test split\n",
    "    X_train, X_test, y_train, y_test = train_test_split(X, y, test_size=x, random_state=100)\n",
    "    # TRAIN SET PREPARATION\n",
    "    # transform numericals\n",
    "    numerical_train = X_train.select_dtypes(include = np.number)\n",
    "    transformer = StandardScaler().fit(numerical_train)\n",
    "    num_standardized = transformer.transform(numerical_train)\n",
    "    train_num_stand = pd.DataFrame(num_standardized, columns=numerical_train.columns)\n",
    "    # encode categoricals\n",
    "    categorical_train = X_train.select_dtypes(include = np.object)\n",
    "    categorical_train['coverage'] = categorical_train['coverage'].map({'Basic' : 0, 'Extended' : 1, 'Premium' : 2})\n",
    "    categorical_train['education'] = categorical_train['education'].map({'Bachelor' : 1, 'College' : 1, 'High School or Below' : 0, 'Master': 2, 'Doctor':3})\n",
    "    categorical_train['vehicle_size'] = categorical_train['vehicle_size'].map({'Small' : 0, 'Medsize' : 1, 'Large' : 2})\n",
    "    categorical_train['employmentstatus'] = categorical_train['employmentstatus'].map({'Medical Leave': 0, 'Disabled' : 1,'Retired': 2, 'Unemployed':3, 'Employed':4})\n",
    "    categorical_train['location_code'] = categorical_train['location_code'].map({'Urban' : 0, 'Suburban' : 1, 'Rural' : 2})\n",
    "    train_categorical_encoded = categorical_train[['coverage','education','vehicle_size','employmentstatus','location_code']];\n",
    "    train_categorical_onehot = X_train[['state','response','gender','marital_status', 'policy_type','renew_offer_type', 'sales_channel', 'vehicle_class']]\n",
    "    encoder = OneHotEncoder().fit(train_categorical_onehot)\n",
    "    train_onehot = encoder.transform(train_categorical_onehot).toarray()\n",
    "    enc = [columname for sublist in encoder.categories_ for columname in sublist]\n",
    "    train_onehot = pd.DataFrame(train_onehot,columns=enc)\n",
    "    train_categorical_encoded.reset_index(drop=True, inplace=True)\n",
    "    train_onehot.reset_index(drop=True, inplace=True)\n",
    "    train_cat_enc = pd.concat([train_categorical_encoded,train_onehot], axis=1)\n",
    "    # final train set\n",
    "    X_train_preproc = pd.concat([train_num_stand,train_cat_enc], axis= 1)\n",
    "    # model\n",
    "    neigh = KNeighborsRegressor(n_neighbors=2)\n",
    "    neigh.fit(X_train_preproc, y_train)\n",
    "    # TEST SET PREPARATION\n",
    "    # transform numericals\n",
    "    numerical_test = X_test.select_dtypes(include = np.number)\n",
    "    test_num_standardized = transformer.transform(numerical_test)\n",
    "    test_num_stand = pd.DataFrame(test_num_standardized, columns=numerical_test.columns)\n",
    "    # encode categoricals\n",
    "    categorical_test = X_test.select_dtypes(include = np.object)\n",
    "    categorical_test['coverage'] = categorical_test['coverage'].map({'Basic' : 0, 'Extended' : 1, 'Premium' : 2})\n",
    "    categorical_test['education'] = categorical_test['education'].map({'Bachelor' : 1, 'College' : 1, 'High School or Below' : 0, 'Master': 2, 'Doctor':3})\n",
    "    categorical_test['vehicle_size'] = categorical_test['vehicle_size'].map({'Small' : 0, 'Medsize' : 1, 'Large' : 2})\n",
    "    categorical_test['employmentstatus'] = categorical_test['employmentstatus'].map({'Medical Leave': 0, 'Disabled' : 1,'Retired': 2, 'Unemployed':3, 'Employed':4})\n",
    "    categorical_test['location_code'] = categorical_test['location_code'].map({'Urban' : 0, 'Suburban' : 1, 'Rural' : 2})\n",
    "    test_categorical_encoded = categorical_test[['coverage','education','vehicle_size','employmentstatus','location_code']]\n",
    "    test_categorical_onehot = X_test[['state','response','gender','marital_status', 'policy_type','renew_offer_type', 'sales_channel', 'vehicle_class']]\n",
    "    test_onehot = encoder.transform(test_categorical_onehot).toarray()\n",
    "    enc = [columname for sublist in encoder.categories_ for columname in sublist]\n",
    "    test_onehot = pd.DataFrame(test_onehot,columns=enc)\n",
    "    test_categorical_encoded.reset_index(drop=True, inplace=True)\n",
    "    test_onehot.reset_index(drop=True, inplace=True)\n",
    "    test_cat_enc = pd.concat([test_categorical_encoded,test_onehot], axis=1)\n",
    "    # final test set\n",
    "    X_test_preproc = pd.concat([test_num_stand,test_cat_enc], axis= 1)\n",
    "    # VALIDATION\n",
    "    predictions = neigh.predict(X_test_preproc)\n",
    "    r2 = r2_score(y_test, predictions)\n",
    "    print(r2)"
   ]
  },
  {
   "cell_type": "code",
   "execution_count": 205,
   "id": "blond-reaction",
   "metadata": {},
   "outputs": [
    {
     "name": "stdout",
     "output_type": "stream",
     "text": [
      "0.5738525691845462\n",
      "0.5748224164538608\n",
      "0.5828038146553478\n",
      "0.603218260312739\n"
     ]
    }
   ],
   "source": [
    "kneighbors_function(0.2)\n",
    "kneighbors_function(0.3)\n",
    "kneighbors_function(0.25)\n",
    "kneighbors_function(0.15)"
   ]
  },
  {
   "cell_type": "code",
   "execution_count": 206,
   "id": "logical-estonia",
   "metadata": {},
   "outputs": [],
   "source": [
    "from sklearn.neural_network import MLPRegressor\n",
    "from sklearn.datasets import make_regression\n",
    "\n",
    "def MLPRegressor_function(x):\n",
    "    # train,test split\n",
    "    X_train, X_test, y_train, y_test = train_test_split(X, y, test_size=x, random_state=100)\n",
    "    # TRAIN SET PREPARATION\n",
    "    # transform numericals\n",
    "    numerical_train = X_train.select_dtypes(include = np.number)\n",
    "    transformer = StandardScaler().fit(numerical_train)\n",
    "    num_standardized = transformer.transform(numerical_train)\n",
    "    train_num_stand = pd.DataFrame(num_standardized, columns=numerical_train.columns)\n",
    "    # encode categoricals\n",
    "    categorical_train = X_train.select_dtypes(include = np.object)\n",
    "    categorical_train['coverage'] = categorical_train['coverage'].map({'Basic' : 0, 'Extended' : 1, 'Premium' : 2})\n",
    "    categorical_train['education'] = categorical_train['education'].map({'Bachelor' : 1, 'College' : 1, 'High School or Below' : 0, 'Master': 2, 'Doctor':3})\n",
    "    categorical_train['vehicle_size'] = categorical_train['vehicle_size'].map({'Small' : 0, 'Medsize' : 1, 'Large' : 2})\n",
    "    categorical_train['employmentstatus'] = categorical_train['employmentstatus'].map({'Medical Leave': 0, 'Disabled' : 1,'Retired': 2, 'Unemployed':3, 'Employed':4})\n",
    "    categorical_train['location_code'] = categorical_train['location_code'].map({'Urban' : 0, 'Suburban' : 1, 'Rural' : 2})\n",
    "    train_categorical_encoded = categorical_train[['coverage','education','vehicle_size','employmentstatus','location_code']];\n",
    "    train_categorical_onehot = X_train[['state','response','gender','marital_status', 'policy_type','renew_offer_type', 'sales_channel', 'vehicle_class']]\n",
    "    encoder = OneHotEncoder().fit(train_categorical_onehot)\n",
    "    train_onehot = encoder.transform(train_categorical_onehot).toarray()\n",
    "    enc = [columname for sublist in encoder.categories_ for columname in sublist]\n",
    "    train_onehot = pd.DataFrame(train_onehot,columns=enc)\n",
    "    train_categorical_encoded.reset_index(drop=True, inplace=True)\n",
    "    train_onehot.reset_index(drop=True, inplace=True)\n",
    "    train_cat_enc = pd.concat([train_categorical_encoded,train_onehot], axis=1)\n",
    "    # final train set\n",
    "    X_train_preproc = pd.concat([train_num_stand,train_cat_enc], axis= 1)\n",
    "    # model\n",
    "    regr = MLPRegressor(random_state=1, max_iter=500).fit(X_train_preproc, y_train)\n",
    "    # TEST SET PREPARATION\n",
    "    # transform numericals\n",
    "    numerical_test = X_test.select_dtypes(include = np.number)\n",
    "    test_num_standardized = transformer.transform(numerical_test)\n",
    "    test_num_stand = pd.DataFrame(test_num_standardized, columns=numerical_test.columns)\n",
    "    # encode categoricals\n",
    "    categorical_test = X_test.select_dtypes(include = np.object)\n",
    "    categorical_test['coverage'] = categorical_test['coverage'].map({'Basic' : 0, 'Extended' : 1, 'Premium' : 2})\n",
    "    categorical_test['education'] = categorical_test['education'].map({'Bachelor' : 1, 'College' : 1, 'High School or Below' : 0, 'Master': 2, 'Doctor':3})\n",
    "    categorical_test['vehicle_size'] = categorical_test['vehicle_size'].map({'Small' : 0, 'Medsize' : 1, 'Large' : 2})\n",
    "    categorical_test['employmentstatus'] = categorical_test['employmentstatus'].map({'Medical Leave': 0, 'Disabled' : 1,'Retired': 2, 'Unemployed':3, 'Employed':4})\n",
    "    categorical_test['location_code'] = categorical_test['location_code'].map({'Urban' : 0, 'Suburban' : 1, 'Rural' : 2})\n",
    "    test_categorical_encoded = categorical_test[['coverage','education','vehicle_size','employmentstatus','location_code']]\n",
    "    test_categorical_onehot = X_test[['state','response','gender','marital_status', 'policy_type','renew_offer_type', 'sales_channel', 'vehicle_class']]\n",
    "    test_onehot = encoder.transform(test_categorical_onehot).toarray()\n",
    "    enc = [columname for sublist in encoder.categories_ for columname in sublist]\n",
    "    test_onehot = pd.DataFrame(test_onehot,columns=enc)\n",
    "    test_categorical_encoded.reset_index(drop=True, inplace=True)\n",
    "    test_onehot.reset_index(drop=True, inplace=True)\n",
    "    test_cat_enc = pd.concat([test_categorical_encoded,test_onehot], axis=1)\n",
    "    # final test set\n",
    "    X_test_preproc = pd.concat([test_num_stand,test_cat_enc], axis= 1)\n",
    "    # VALIDATION\n",
    "    predictions = regr.predict(X_test_preproc)\n",
    "    r2 = r2_score(y_test, predictions)\n",
    "    print(r2)"
   ]
  },
  {
   "cell_type": "code",
   "execution_count": 207,
   "id": "vocational-corruption",
   "metadata": {},
   "outputs": [
    {
     "name": "stdout",
     "output_type": "stream",
     "text": [
      "0.8330178437298119\n",
      "0.8361556494035252\n",
      "0.8355428132697575\n",
      "0.8338253029055833\n"
     ]
    }
   ],
   "source": [
    "MLPRegressor_function(0.2)\n",
    "MLPRegressor_function(0.3)\n",
    "MLPRegressor_function(0.25)\n",
    "MLPRegressor_function(0.15)"
   ]
  },
  {
   "cell_type": "markdown",
   "id": "furnished-cricket",
   "metadata": {},
   "source": [
    "### 4. Check and discuss the results."
   ]
  },
  {
   "cell_type": "markdown",
   "id": "incorrect-rugby",
   "metadata": {},
   "source": [
    "After applying different algorithms to our dataset with different test sizes, we can conclude that MPL Regressor has yielded the best results in predicting the total claim amount of our future customers. "
   ]
  }
 ],
 "metadata": {
  "kernelspec": {
   "display_name": "Python 3",
   "language": "python",
   "name": "python3"
  },
  "language_info": {
   "codemirror_mode": {
    "name": "ipython",
    "version": 3
   },
   "file_extension": ".py",
   "mimetype": "text/x-python",
   "name": "python",
   "nbconvert_exporter": "python",
   "pygments_lexer": "ipython3",
   "version": "3.7.10"
  }
 },
 "nbformat": 4,
 "nbformat_minor": 5
}
