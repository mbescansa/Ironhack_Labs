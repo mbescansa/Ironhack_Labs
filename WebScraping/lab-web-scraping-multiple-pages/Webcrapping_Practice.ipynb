{
 "cells": [
  {
   "cell_type": "code",
   "execution_count": 729,
   "id": "parallel-costs",
   "metadata": {},
   "outputs": [],
   "source": [
    "from bs4 import BeautifulSoup\n",
    "import requests\n",
    "import pandas as pd\n",
    "import re\n"
   ]
  },
  {
   "cell_type": "code",
   "execution_count": 730,
   "id": "magnetic-oracle",
   "metadata": {},
   "outputs": [],
   "source": [
    "# To make run all you ask in one cell, not only the last required\n",
    "from IPython.core.interactiveshell import InteractiveShell\n",
    "InteractiveShell.ast_node_interactivity = \"all\""
   ]
  },
  {
   "cell_type": "markdown",
   "id": "brilliant-swing",
   "metadata": {},
   "source": [
    "### 1. Retrieve an arbitrary Wikipedia page of \"Python\" and create a list of links on that page"
   ]
  },
  {
   "cell_type": "code",
   "execution_count": 731,
   "id": "prescription-spending",
   "metadata": {},
   "outputs": [],
   "source": [
    "url1 ='https://en.wikipedia.org/wiki/Python'"
   ]
  },
  {
   "cell_type": "code",
   "execution_count": 732,
   "id": "painted-agent",
   "metadata": {},
   "outputs": [
    {
     "data": {
      "text/plain": [
       "200"
      ]
     },
     "execution_count": 732,
     "metadata": {},
     "output_type": "execute_result"
    }
   ],
   "source": [
    "response1 = requests.get(url1)\n",
    "response1.status_code # 200 status code means OK!\n",
    "# response.content"
   ]
  },
  {
   "cell_type": "code",
   "execution_count": 733,
   "id": "choice-briefing",
   "metadata": {},
   "outputs": [],
   "source": [
    "soup1 = BeautifulSoup(response1.content, \"html.parser\")"
   ]
  },
  {
   "cell_type": "code",
   "execution_count": 734,
   "id": "signed-large",
   "metadata": {},
   "outputs": [],
   "source": [
    "#mw-content-text > div.mw-parser-output > ul:nth-child(3) > li > a"
   ]
  },
  {
   "cell_type": "code",
   "execution_count": 735,
   "id": "identical-partnership",
   "metadata": {},
   "outputs": [],
   "source": [
    "# soup1.select('#mw-content-text > div.mw-parser-output > ul:nth-child(3) > li > a')"
   ]
  },
  {
   "cell_type": "code",
   "execution_count": 736,
   "id": "secondary-march",
   "metadata": {},
   "outputs": [
    {
     "data": {
      "text/plain": [
       "[<a class=\"mw-redirect\" href=\"/wiki/Pythons\" title=\"Pythons\">Pythons</a>,\n",
       " <a href=\"/wiki/Python_(genus)\" title=\"Python (genus)\"><i>Python</i> (genus)</a>,\n",
       " <a href=\"#Computing\"><span class=\"tocnumber\">1</span> <span class=\"toctext\">Computing</span></a>,\n",
       " <a href=\"#People\"><span class=\"tocnumber\">2</span> <span class=\"toctext\">People</span></a>,\n",
       " <a href=\"#Roller_coasters\"><span class=\"tocnumber\">3</span> <span class=\"toctext\">Roller coasters</span></a>,\n",
       " <a href=\"#Vehicles\"><span class=\"tocnumber\">4</span> <span class=\"toctext\">Vehicles</span></a>,\n",
       " <a href=\"#Weaponry\"><span class=\"tocnumber\">5</span> <span class=\"toctext\">Weaponry</span></a>,\n",
       " <a href=\"#Other_uses\"><span class=\"tocnumber\">6</span> <span class=\"toctext\">Other uses</span></a>,\n",
       " <a href=\"#See_also\"><span class=\"tocnumber\">7</span> <span class=\"toctext\">See also</span></a>,\n",
       " <a href=\"/wiki/Python_(programming_language)\" title=\"Python (programming language)\">Python (programming language)</a>,\n",
       " <a href=\"/wiki/CMU_Common_Lisp\" title=\"CMU Common Lisp\">CMU Common Lisp</a>,\n",
       " <a href=\"/wiki/PERQ#PERQ_3\" title=\"PERQ\">PERQ 3</a>,\n",
       " <a href=\"/wiki/Python_of_Aenus\" title=\"Python of Aenus\">Python of Aenus</a>,\n",
       " <a href=\"/wiki/Python_(painter)\" title=\"Python (painter)\">Python (painter)</a>,\n",
       " <a href=\"/wiki/Python_of_Byzantium\" title=\"Python of Byzantium\">Python of Byzantium</a>,\n",
       " <a href=\"/wiki/Python_of_Catana\" title=\"Python of Catana\">Python of Catana</a>,\n",
       " <a href=\"/wiki/Python_Anghelo\" title=\"Python Anghelo\">Python Anghelo</a>,\n",
       " <a href=\"/wiki/Python_(Efteling)\" title=\"Python (Efteling)\">Python (Efteling)</a>,\n",
       " <a href=\"/wiki/Python_(Busch_Gardens_Tampa_Bay)\" title=\"Python (Busch Gardens Tampa Bay)\">Python (Busch Gardens Tampa Bay)</a>,\n",
       " <a href=\"/wiki/Python_(Coney_Island,_Cincinnati,_Ohio)\" title=\"Python (Coney Island, Cincinnati, Ohio)\">Python (Coney Island, Cincinnati, Ohio)</a>,\n",
       " <a href=\"/wiki/Python_(automobile_maker)\" title=\"Python (automobile maker)\">Python (automobile maker)</a>,\n",
       " <a href=\"/wiki/Python_(Ford_prototype)\" title=\"Python (Ford prototype)\">Python (Ford prototype)</a>,\n",
       " <a href=\"/wiki/Python_(missile)\" title=\"Python (missile)\">Python (missile)</a>,\n",
       " <a href=\"/wiki/Python_(nuclear_primary)\" title=\"Python (nuclear primary)\">Python (nuclear primary)</a>,\n",
       " <a href=\"/wiki/Colt_Python\" title=\"Colt Python\">Colt Python</a>,\n",
       " <a href=\"/wiki/PYTHON\" title=\"PYTHON\">PYTHON</a>,\n",
       " <a href=\"/wiki/Python_(film)\" title=\"Python (film)\"><i>Python</i> (film)</a>,\n",
       " <a href=\"/wiki/Python_(mythology)\" title=\"Python (mythology)\">Python (mythology)</a>,\n",
       " <a href=\"/wiki/Monty_Python\" title=\"Monty Python\">Monty Python</a>,\n",
       " <a href=\"/wiki/Python_(Monty)_Pictures\" title=\"Python (Monty) Pictures\">Python (Monty) Pictures</a>,\n",
       " <a href=\"/wiki/Cython\" title=\"Cython\">Cython</a>,\n",
       " <a href=\"/wiki/Pyton\" title=\"Pyton\">Pyton</a>,\n",
       " <a href=\"/wiki/Pithon\" title=\"Pithon\">Pithon</a>,\n",
       " <a href=\"/wiki/Category:Disambiguation_pages\" title=\"Category:Disambiguation pages\">Disambiguation pages</a>,\n",
       " <a href=\"/wiki/Category:Human_name_disambiguation_pages\" title=\"Category:Human name disambiguation pages\">Human name disambiguation pages</a>,\n",
       " <a href=\"/wiki/Category:Disambiguation_pages_with_given-name-holder_lists\" title=\"Category:Disambiguation pages with given-name-holder lists\">Disambiguation pages with given-name-holder lists</a>,\n",
       " <a href=\"/wiki/Category:Disambiguation_pages_with_short_descriptions\" title=\"Category:Disambiguation pages with short descriptions\">Disambiguation pages with short descriptions</a>,\n",
       " <a href=\"/wiki/Category:Short_description_is_different_from_Wikidata\" title=\"Category:Short description is different from Wikidata\">Short description is different from Wikidata</a>,\n",
       " <a href=\"/wiki/Category:All_article_disambiguation_pages\" title=\"Category:All article disambiguation pages\">All article disambiguation pages</a>,\n",
       " <a href=\"/wiki/Category:All_disambiguation_pages\" title=\"Category:All disambiguation pages\">All disambiguation pages</a>,\n",
       " <a href=\"/wiki/Category:Animal_common_name_disambiguation_pages\" title=\"Category:Animal common name disambiguation pages\">Animal common name disambiguation pages</a>,\n",
       " <a accesskey=\"n\" href=\"/wiki/Special:MyTalk\" title=\"Discussion about edits from this IP address [n]\">Talk</a>,\n",
       " <a accesskey=\"y\" href=\"/wiki/Special:MyContributions\" title=\"A list of edits made from this IP address [y]\">Contributions</a>,\n",
       " <a href=\"/w/index.php?title=Special:CreateAccount&amp;returnto=Python\" title=\"You are encouraged to create an account and log in; however, it is not mandatory\">Create account</a>,\n",
       " <a accesskey=\"o\" href=\"/w/index.php?title=Special:UserLogin&amp;returnto=Python\" title=\"You're encouraged to log in; however, it's not mandatory. [o]\">Log in</a>,\n",
       " <a accesskey=\"c\" href=\"/wiki/Python\" title=\"View the content page [c]\">Article</a>,\n",
       " <a accesskey=\"t\" href=\"/wiki/Talk:Python\" rel=\"discussion\" title=\"Discuss improvements to the content page [t]\">Talk</a>,\n",
       " <a href=\"/wiki/Python\">Read</a>,\n",
       " <a accesskey=\"e\" href=\"/w/index.php?title=Python&amp;action=edit\" title=\"Edit this page [e]\">Edit</a>,\n",
       " <a accesskey=\"h\" href=\"/w/index.php?title=Python&amp;action=history\" title=\"Past revisions of this page [h]\">View history</a>,\n",
       " <a accesskey=\"z\" href=\"/wiki/Main_Page\" title=\"Visit the main page [z]\">Main page</a>,\n",
       " <a href=\"/wiki/Wikipedia:Contents\" title=\"Guides to browsing Wikipedia\">Contents</a>,\n",
       " <a href=\"/wiki/Portal:Current_events\" title=\"Articles related to current events\">Current events</a>,\n",
       " <a accesskey=\"x\" href=\"/wiki/Special:Random\" title=\"Visit a randomly selected article [x]\">Random article</a>,\n",
       " <a href=\"/wiki/Wikipedia:About\" title=\"Learn about Wikipedia and how it works\">About Wikipedia</a>,\n",
       " <a href=\"//en.wikipedia.org/wiki/Wikipedia:Contact_us\" title=\"How to contact Wikipedia\">Contact us</a>,\n",
       " <a href=\"https://donate.wikimedia.org/wiki/Special:FundraiserRedirector?utm_source=donate&amp;utm_medium=sidebar&amp;utm_campaign=C13_en.wikipedia.org&amp;uselang=en\" title=\"Support us by donating to the Wikimedia Foundation\">Donate</a>,\n",
       " <a href=\"/wiki/Help:Contents\" title=\"Guidance on how to use and edit Wikipedia\">Help</a>,\n",
       " <a href=\"/wiki/Help:Introduction\" title=\"Learn how to edit Wikipedia\">Learn to edit</a>,\n",
       " <a href=\"/wiki/Wikipedia:Community_portal\" title=\"The hub for editors\">Community portal</a>,\n",
       " <a accesskey=\"r\" href=\"/wiki/Special:RecentChanges\" title=\"A list of recent changes to Wikipedia [r]\">Recent changes</a>,\n",
       " <a href=\"/wiki/Wikipedia:File_Upload_Wizard\" title=\"Add images or other media for use on Wikipedia\">Upload file</a>,\n",
       " <a accesskey=\"j\" href=\"/wiki/Special:WhatLinksHere/Python\" title=\"List of all English Wikipedia pages containing links to this page [j]\">What links here</a>,\n",
       " <a accesskey=\"k\" href=\"/wiki/Special:RecentChangesLinked/Python\" rel=\"nofollow\" title=\"Recent changes in pages linked from this page [k]\">Related changes</a>,\n",
       " <a accesskey=\"u\" href=\"/wiki/Wikipedia:File_Upload_Wizard\" title=\"Upload files [u]\">Upload file</a>,\n",
       " <a accesskey=\"q\" href=\"/wiki/Special:SpecialPages\" title=\"A list of all special pages [q]\">Special pages</a>,\n",
       " <a href=\"/w/index.php?title=Python&amp;oldid=997582414\" title=\"Permanent link to this revision of this page\">Permanent link</a>,\n",
       " <a href=\"/w/index.php?title=Python&amp;action=info\" title=\"More information about this page\">Page information</a>,\n",
       " <a href=\"/w/index.php?title=Special:CiteThisPage&amp;page=Python&amp;id=997582414&amp;wpFormIdentifier=titleform\" title=\"Information on how to cite this page\">Cite this page</a>,\n",
       " <a accesskey=\"g\" href=\"https://www.wikidata.org/wiki/Special:EntityPage/Q747452\" title=\"Structured data on this page hosted by Wikidata [g]\">Wikidata item</a>,\n",
       " <a href=\"/w/index.php?title=Special:DownloadAsPdf&amp;page=Python&amp;action=show-download-screen\" title=\"Download this page as a PDF file\">Download as PDF</a>,\n",
       " <a accesskey=\"p\" href=\"/w/index.php?title=Python&amp;printable=yes\" title=\"Printable version of this page [p]\">Printable version</a>,\n",
       " <a href=\"https://commons.wikimedia.org/wiki/Category:Python\" hreflang=\"en\">Wikimedia Commons</a>,\n",
       " <a class=\"interlanguage-link-target\" href=\"https://af.wikipedia.org/wiki/Python\" hreflang=\"af\" lang=\"af\" title=\"Python – Afrikaans\">Afrikaans</a>,\n",
       " <a class=\"interlanguage-link-target\" href=\"https://als.wikipedia.org/wiki/Python\" hreflang=\"gsw\" lang=\"gsw\" title=\"Python – Alemannisch\">Alemannisch</a>,\n",
       " <a class=\"interlanguage-link-target\" href=\"https://ar.wikipedia.org/wiki/%D8%A8%D8%A7%D9%8A%D8%AB%D9%88%D9%86_(%D8%AA%D9%88%D8%B6%D9%8A%D8%AD)\" hreflang=\"ar\" lang=\"ar\" title=\"بايثون (توضيح) – Arabic\">العربية</a>,\n",
       " <a class=\"interlanguage-link-target\" href=\"https://az.wikipedia.org/wiki/Python\" hreflang=\"az\" lang=\"az\" title=\"Python – Azerbaijani\">Azərbaycanca</a>,\n",
       " <a class=\"interlanguage-link-target\" href=\"https://bn.wikipedia.org/wiki/%E0%A6%AA%E0%A6%BE%E0%A6%87%E0%A6%A5%E0%A6%A8_(%E0%A6%A6%E0%A7%8D%E0%A6%AC%E0%A7%8D%E0%A6%AF%E0%A6%B0%E0%A7%8D%E0%A6%A5%E0%A6%A4%E0%A6%BE_%E0%A6%A8%E0%A6%BF%E0%A6%B0%E0%A6%B8%E0%A6%A8)\" hreflang=\"bn\" lang=\"bn\" title=\"পাইথন (দ্ব্যর্থতা নিরসন) – Bangla\">বাংলা</a>,\n",
       " <a class=\"interlanguage-link-target\" href=\"https://be.wikipedia.org/wiki/Python\" hreflang=\"be\" lang=\"be\" title=\"Python – Belarusian\">Беларуская</a>,\n",
       " <a class=\"interlanguage-link-target\" href=\"https://bg.wikipedia.org/wiki/%D0%9F%D0%B8%D1%82%D0%BE%D0%BD_(%D0%BF%D0%BE%D1%8F%D1%81%D0%BD%D0%B5%D0%BD%D0%B8%D0%B5)\" hreflang=\"bg\" lang=\"bg\" title=\"Питон (пояснение) – Bulgarian\">Български</a>,\n",
       " <a class=\"interlanguage-link-target\" href=\"https://cs.wikipedia.org/wiki/Python_(rozcestn%C3%ADk)\" hreflang=\"cs\" lang=\"cs\" title=\"Python (rozcestník) – Czech\">Čeština</a>,\n",
       " <a class=\"interlanguage-link-target\" href=\"https://da.wikipedia.org/wiki/Python\" hreflang=\"da\" lang=\"da\" title=\"Python – Danish\">Dansk</a>,\n",
       " <a class=\"interlanguage-link-target\" href=\"https://de.wikipedia.org/wiki/Python\" hreflang=\"de\" lang=\"de\" title=\"Python – German\">Deutsch</a>,\n",
       " <a class=\"interlanguage-link-target\" href=\"https://eo.wikipedia.org/wiki/Pitono_(apartigilo)\" hreflang=\"eo\" lang=\"eo\" title=\"Pitono (apartigilo) – Esperanto\">Esperanto</a>,\n",
       " <a class=\"interlanguage-link-target\" href=\"https://eu.wikipedia.org/wiki/Python_(argipena)\" hreflang=\"eu\" lang=\"eu\" title=\"Python (argipena) – Basque\">Euskara</a>,\n",
       " <a class=\"interlanguage-link-target\" href=\"https://fa.wikipedia.org/wiki/%D9%BE%D8%A7%DB%8C%D8%AA%D9%88%D9%86\" hreflang=\"fa\" lang=\"fa\" title=\"پایتون – Persian\">فارسی</a>,\n",
       " <a class=\"interlanguage-link-target\" href=\"https://fr.wikipedia.org/wiki/Python\" hreflang=\"fr\" lang=\"fr\" title=\"Python – French\">Français</a>,\n",
       " <a class=\"interlanguage-link-target\" href=\"https://ko.wikipedia.org/wiki/%ED%8C%8C%EC%9D%B4%EC%84%A0\" hreflang=\"ko\" lang=\"ko\" title=\"파이선 – Korean\">한국어</a>,\n",
       " <a class=\"interlanguage-link-target\" href=\"https://hr.wikipedia.org/wiki/Python_(razdvojba)\" hreflang=\"hr\" lang=\"hr\" title=\"Python (razdvojba) – Croatian\">Hrvatski</a>,\n",
       " <a class=\"interlanguage-link-target\" href=\"https://io.wikipedia.org/wiki/Pitono\" hreflang=\"io\" lang=\"io\" title=\"Pitono – Ido\">Ido</a>,\n",
       " <a class=\"interlanguage-link-target\" href=\"https://id.wikipedia.org/wiki/Python\" hreflang=\"id\" lang=\"id\" title=\"Python – Indonesian\">Bahasa Indonesia</a>,\n",
       " <a class=\"interlanguage-link-target\" href=\"https://ia.wikipedia.org/wiki/Python_(disambiguation)\" hreflang=\"ia\" lang=\"ia\" title=\"Python (disambiguation) – Interlingua\">Interlingua</a>,\n",
       " <a class=\"interlanguage-link-target\" href=\"https://is.wikipedia.org/wiki/Python_(a%C3%B0greining)\" hreflang=\"is\" lang=\"is\" title=\"Python (aðgreining) – Icelandic\">Íslenska</a>,\n",
       " <a class=\"interlanguage-link-target\" href=\"https://it.wikipedia.org/wiki/Python_(disambigua)\" hreflang=\"it\" lang=\"it\" title=\"Python (disambigua) – Italian\">Italiano</a>,\n",
       " <a class=\"interlanguage-link-target\" href=\"https://he.wikipedia.org/wiki/%D7%A4%D7%99%D7%AA%D7%95%D7%9F\" hreflang=\"he\" lang=\"he\" title=\"פיתון – Hebrew\">עברית</a>,\n",
       " <a class=\"interlanguage-link-target\" href=\"https://ka.wikipedia.org/wiki/%E1%83%9E%E1%83%98%E1%83%97%E1%83%9D%E1%83%9C%E1%83%98_(%E1%83%9B%E1%83%A0%E1%83%90%E1%83%95%E1%83%90%E1%83%9A%E1%83%9B%E1%83%9C%E1%83%98%E1%83%A8%E1%83%95%E1%83%9C%E1%83%94%E1%83%9A%E1%83%9D%E1%83%95%E1%83%90%E1%83%9C%E1%83%98)\" hreflang=\"ka\" lang=\"ka\" title=\"პითონი (მრავალმნიშვნელოვანი) – Georgian\">ქართული</a>,\n",
       " <a class=\"interlanguage-link-target\" href=\"https://kg.wikipedia.org/wiki/Mboma_(nyoka)\" hreflang=\"kg\" lang=\"kg\" title=\"Mboma (nyoka) – Kongo\">Kongo</a>,\n",
       " <a class=\"interlanguage-link-target\" href=\"https://la.wikipedia.org/wiki/Python_(discretiva)\" hreflang=\"la\" lang=\"la\" title=\"Python (discretiva) – Latin\">Latina</a>,\n",
       " <a class=\"interlanguage-link-target\" href=\"https://lb.wikipedia.org/wiki/Python\" hreflang=\"lb\" lang=\"lb\" title=\"Python – Luxembourgish\">Lëtzebuergesch</a>,\n",
       " <a class=\"interlanguage-link-target\" href=\"https://hu.wikipedia.org/wiki/Python_(egy%C3%A9rtelm%C5%B1s%C3%ADt%C5%91_lap)\" hreflang=\"hu\" lang=\"hu\" title=\"Python (egyértelműsítő lap) – Hungarian\">Magyar</a>,\n",
       " <a class=\"interlanguage-link-target\" href=\"https://mr.wikipedia.org/wiki/%E0%A4%AA%E0%A4%BE%E0%A4%AF%E0%A4%A5%E0%A5%89%E0%A4%A8_(%E0%A4%86%E0%A4%9C%E0%A5%8D%E0%A4%9E%E0%A4%BE%E0%A4%B5%E0%A4%B2%E0%A5%80_%E0%A4%AD%E0%A4%BE%E0%A4%B7%E0%A4%BE)\" hreflang=\"mr\" lang=\"mr\" title=\"पायथॉन (आज्ञावली भाषा) – Marathi\">मराठी</a>,\n",
       " <a class=\"interlanguage-link-target\" href=\"https://nl.wikipedia.org/wiki/Python\" hreflang=\"nl\" lang=\"nl\" title=\"Python – Dutch\">Nederlands</a>,\n",
       " <a class=\"interlanguage-link-target\" href=\"https://ja.wikipedia.org/wiki/%E3%83%91%E3%82%A4%E3%82%BD%E3%83%B3\" hreflang=\"ja\" lang=\"ja\" title=\"パイソン – Japanese\">日本語</a>,\n",
       " <a class=\"interlanguage-link-target\" href=\"https://no.wikipedia.org/wiki/Pyton\" hreflang=\"nb\" lang=\"nb\" title=\"Pyton – Norwegian Bokmål\">Norsk bokmål</a>,\n",
       " <a class=\"interlanguage-link-target\" href=\"https://pl.wikipedia.org/wiki/Pyton\" hreflang=\"pl\" lang=\"pl\" title=\"Pyton – Polish\">Polski</a>,\n",
       " <a class=\"interlanguage-link-target\" href=\"https://pt.wikipedia.org/wiki/Python_(desambigua%C3%A7%C3%A3o)\" hreflang=\"pt\" lang=\"pt\" title=\"Python (desambiguação) – Portuguese\">Português</a>,\n",
       " <a class=\"interlanguage-link-target\" href=\"https://ru.wikipedia.org/wiki/Python_(%D0%B7%D0%BD%D0%B0%D1%87%D0%B5%D0%BD%D0%B8%D1%8F)\" hreflang=\"ru\" lang=\"ru\" title=\"Python (значения) – Russian\">Русский</a>,\n",
       " <a class=\"interlanguage-link-target\" href=\"https://sk.wikipedia.org/wiki/Python\" hreflang=\"sk\" lang=\"sk\" title=\"Python – Slovak\">Slovenčina</a>,\n",
       " <a class=\"interlanguage-link-target\" href=\"https://sr.wikipedia.org/wiki/%D0%9F%D0%B8%D1%82%D0%BE%D0%BD_(%D0%B2%D0%B8%D1%88%D0%B5%D0%B7%D0%BD%D0%B0%D1%87%D0%BD%D0%B0_%D0%BE%D0%B4%D1%80%D0%B5%D0%B4%D0%BD%D0%B8%D1%86%D0%B0)\" hreflang=\"sr\" lang=\"sr\" title=\"Питон (вишезначна одредница) – Serbian\">Српски / srpski</a>,\n",
       " <a class=\"interlanguage-link-target\" href=\"https://sh.wikipedia.org/wiki/Python\" hreflang=\"sh\" lang=\"sh\" title=\"Python – Serbo-Croatian\">Srpskohrvatski / српскохрватски</a>,\n",
       " <a class=\"interlanguage-link-target\" href=\"https://fi.wikipedia.org/wiki/Python\" hreflang=\"fi\" lang=\"fi\" title=\"Python – Finnish\">Suomi</a>,\n",
       " <a class=\"interlanguage-link-target\" href=\"https://sv.wikipedia.org/wiki/Pyton\" hreflang=\"sv\" lang=\"sv\" title=\"Pyton – Swedish\">Svenska</a>,\n",
       " <a class=\"interlanguage-link-target\" href=\"https://th.wikipedia.org/wiki/%E0%B9%84%E0%B8%9E%E0%B8%97%E0%B8%AD%E0%B8%99\" hreflang=\"th\" lang=\"th\" title=\"ไพทอน – Thai\">ไทย</a>,\n",
       " <a class=\"interlanguage-link-target\" href=\"https://tr.wikipedia.org/wiki/Python\" hreflang=\"tr\" lang=\"tr\" title=\"Python – Turkish\">Türkçe</a>,\n",
       " <a class=\"interlanguage-link-target\" href=\"https://uk.wikipedia.org/wiki/%D0%9F%D1%96%D1%84%D0%BE%D0%BD\" hreflang=\"uk\" lang=\"uk\" title=\"Піфон – Ukrainian\">Українська</a>,\n",
       " <a class=\"interlanguage-link-target\" href=\"https://ur.wikipedia.org/wiki/%D9%BE%D8%A7%D8%A6%DB%8C%D8%AA%DA%BE%D9%88%D9%86\" hreflang=\"ur\" lang=\"ur\" title=\"پائیتھون – Urdu\">اردو</a>,\n",
       " <a class=\"interlanguage-link-target\" href=\"https://vi.wikipedia.org/wiki/Python\" hreflang=\"vi\" lang=\"vi\" title=\"Python – Vietnamese\">Tiếng Việt</a>,\n",
       " <a class=\"interlanguage-link-target\" href=\"https://zh.wikipedia.org/wiki/Python_(%E6%B6%88%E6%AD%A7%E4%B9%89)\" hreflang=\"zh\" lang=\"zh\" title=\"Python (消歧义) – Chinese\">中文</a>,\n",
       " <a href=\"//en.wikipedia.org/wiki/Wikipedia:Text_of_Creative_Commons_Attribution-ShareAlike_3.0_Unported_License\" rel=\"license\">Creative Commons Attribution-ShareAlike License</a>,\n",
       " <a href=\"//creativecommons.org/licenses/by-sa/3.0/\" rel=\"license\" style=\"display:none;\"></a>,\n",
       " <a href=\"//foundation.wikimedia.org/wiki/Terms_of_Use\">Terms of Use</a>,\n",
       " <a href=\"//foundation.wikimedia.org/wiki/Privacy_policy\">Privacy Policy</a>,\n",
       " <a href=\"//www.wikimediafoundation.org/\">Wikimedia Foundation, Inc.</a>,\n",
       " <a class=\"extiw\" href=\"https://foundation.wikimedia.org/wiki/Privacy_policy\" title=\"wmf:Privacy policy\">Privacy policy</a>,\n",
       " <a href=\"/wiki/Wikipedia:About\" title=\"Wikipedia:About\">About Wikipedia</a>,\n",
       " <a href=\"/wiki/Wikipedia:General_disclaimer\" title=\"Wikipedia:General disclaimer\">Disclaimers</a>,\n",
       " <a href=\"//en.wikipedia.org/wiki/Wikipedia:Contact_us\">Contact Wikipedia</a>,\n",
       " <a class=\"noprint stopMobileRedirectToggle\" href=\"//en.m.wikipedia.org/w/index.php?title=Python&amp;mobileaction=toggle_view_mobile\">Mobile view</a>,\n",
       " <a href=\"https://www.mediawiki.org/wiki/Special:MyLanguage/How_to_contribute\">Developers</a>,\n",
       " <a href=\"https://stats.wikimedia.org/#/en.wikipedia.org\">Statistics</a>,\n",
       " <a href=\"https://foundation.wikimedia.org/wiki/Cookie_statement\">Cookie statement</a>,\n",
       " <a href=\"https://wikimediafoundation.org/\"><img alt=\"Wikimedia Foundation\" height=\"31\" loading=\"lazy\" src=\"/static/images/footer/wikimedia-button.png\" srcset=\"/static/images/footer/wikimedia-button-1.5x.png 1.5x, /static/images/footer/wikimedia-button-2x.png 2x\" width=\"88\"/></a>,\n",
       " <a href=\"https://www.mediawiki.org/\"><img alt=\"Powered by MediaWiki\" height=\"31\" loading=\"lazy\" src=\"/static/images/footer/poweredby_mediawiki_88x31.png\" srcset=\"/static/images/footer/poweredby_mediawiki_132x47.png 1.5x, /static/images/footer/poweredby_mediawiki_176x62.png 2x\" width=\"88\"/></a>]"
      ]
     },
     "execution_count": 736,
     "metadata": {},
     "output_type": "execute_result"
    }
   ],
   "source": [
    "# soup1\n",
    "soup1.select(\"li a\")"
   ]
  },
  {
   "cell_type": "code",
   "execution_count": 737,
   "id": "opponent-grant",
   "metadata": {},
   "outputs": [
    {
     "name": "stdout",
     "output_type": "stream",
     "text": [
      "/wiki/Pythons\n",
      "/wiki/Python_(genus)\n",
      "#Computing\n",
      "#People\n",
      "#Roller_coasters\n",
      "#Vehicles\n",
      "#Weaponry\n",
      "#Other_uses\n",
      "#See_also\n",
      "/wiki/Python_(programming_language)\n",
      "/wiki/CMU_Common_Lisp\n",
      "/wiki/PERQ#PERQ_3\n",
      "/wiki/Python_of_Aenus\n",
      "/wiki/Python_(painter)\n",
      "/wiki/Python_of_Byzantium\n",
      "/wiki/Python_of_Catana\n",
      "/wiki/Python_Anghelo\n",
      "/wiki/Python_(Efteling)\n",
      "/wiki/Python_(Busch_Gardens_Tampa_Bay)\n",
      "/wiki/Python_(Coney_Island,_Cincinnati,_Ohio)\n",
      "/wiki/Python_(automobile_maker)\n",
      "/wiki/Python_(Ford_prototype)\n",
      "/wiki/Python_(missile)\n",
      "/wiki/Python_(nuclear_primary)\n",
      "/wiki/Colt_Python\n",
      "/wiki/PYTHON\n",
      "/wiki/Python_(film)\n",
      "/wiki/Python_(mythology)\n",
      "/wiki/Monty_Python\n",
      "/wiki/Python_(Monty)_Pictures\n",
      "/wiki/Cython\n",
      "/wiki/Pyton\n",
      "/wiki/Pithon\n",
      "/wiki/Category:Disambiguation_pages\n",
      "/wiki/Category:Human_name_disambiguation_pages\n",
      "/wiki/Category:Disambiguation_pages_with_given-name-holder_lists\n",
      "/wiki/Category:Disambiguation_pages_with_short_descriptions\n",
      "/wiki/Category:Short_description_is_different_from_Wikidata\n",
      "/wiki/Category:All_article_disambiguation_pages\n",
      "/wiki/Category:All_disambiguation_pages\n",
      "/wiki/Category:Animal_common_name_disambiguation_pages\n",
      "/wiki/Special:MyTalk\n",
      "/wiki/Special:MyContributions\n",
      "/w/index.php?title=Special:CreateAccount&returnto=Python\n",
      "/w/index.php?title=Special:UserLogin&returnto=Python\n",
      "/wiki/Python\n",
      "/wiki/Talk:Python\n",
      "/wiki/Python\n",
      "/w/index.php?title=Python&action=edit\n",
      "/w/index.php?title=Python&action=history\n",
      "/wiki/Main_Page\n",
      "/wiki/Wikipedia:Contents\n",
      "/wiki/Portal:Current_events\n",
      "/wiki/Special:Random\n",
      "/wiki/Wikipedia:About\n",
      "//en.wikipedia.org/wiki/Wikipedia:Contact_us\n",
      "https://donate.wikimedia.org/wiki/Special:FundraiserRedirector?utm_source=donate&utm_medium=sidebar&utm_campaign=C13_en.wikipedia.org&uselang=en\n",
      "/wiki/Help:Contents\n",
      "/wiki/Help:Introduction\n",
      "/wiki/Wikipedia:Community_portal\n",
      "/wiki/Special:RecentChanges\n",
      "/wiki/Wikipedia:File_Upload_Wizard\n",
      "/wiki/Special:WhatLinksHere/Python\n",
      "/wiki/Special:RecentChangesLinked/Python\n",
      "/wiki/Wikipedia:File_Upload_Wizard\n",
      "/wiki/Special:SpecialPages\n",
      "/w/index.php?title=Python&oldid=997582414\n",
      "/w/index.php?title=Python&action=info\n",
      "/w/index.php?title=Special:CiteThisPage&page=Python&id=997582414&wpFormIdentifier=titleform\n",
      "https://www.wikidata.org/wiki/Special:EntityPage/Q747452\n",
      "/w/index.php?title=Special:DownloadAsPdf&page=Python&action=show-download-screen\n",
      "/w/index.php?title=Python&printable=yes\n",
      "https://commons.wikimedia.org/wiki/Category:Python\n",
      "https://af.wikipedia.org/wiki/Python\n",
      "https://als.wikipedia.org/wiki/Python\n",
      "https://ar.wikipedia.org/wiki/%D8%A8%D8%A7%D9%8A%D8%AB%D9%88%D9%86_(%D8%AA%D9%88%D8%B6%D9%8A%D8%AD)\n",
      "https://az.wikipedia.org/wiki/Python\n",
      "https://bn.wikipedia.org/wiki/%E0%A6%AA%E0%A6%BE%E0%A6%87%E0%A6%A5%E0%A6%A8_(%E0%A6%A6%E0%A7%8D%E0%A6%AC%E0%A7%8D%E0%A6%AF%E0%A6%B0%E0%A7%8D%E0%A6%A5%E0%A6%A4%E0%A6%BE_%E0%A6%A8%E0%A6%BF%E0%A6%B0%E0%A6%B8%E0%A6%A8)\n",
      "https://be.wikipedia.org/wiki/Python\n",
      "https://bg.wikipedia.org/wiki/%D0%9F%D0%B8%D1%82%D0%BE%D0%BD_(%D0%BF%D0%BE%D1%8F%D1%81%D0%BD%D0%B5%D0%BD%D0%B8%D0%B5)\n",
      "https://cs.wikipedia.org/wiki/Python_(rozcestn%C3%ADk)\n",
      "https://da.wikipedia.org/wiki/Python\n",
      "https://de.wikipedia.org/wiki/Python\n",
      "https://eo.wikipedia.org/wiki/Pitono_(apartigilo)\n",
      "https://eu.wikipedia.org/wiki/Python_(argipena)\n",
      "https://fa.wikipedia.org/wiki/%D9%BE%D8%A7%DB%8C%D8%AA%D9%88%D9%86\n",
      "https://fr.wikipedia.org/wiki/Python\n",
      "https://ko.wikipedia.org/wiki/%ED%8C%8C%EC%9D%B4%EC%84%A0\n",
      "https://hr.wikipedia.org/wiki/Python_(razdvojba)\n",
      "https://io.wikipedia.org/wiki/Pitono\n",
      "https://id.wikipedia.org/wiki/Python\n",
      "https://ia.wikipedia.org/wiki/Python_(disambiguation)\n",
      "https://is.wikipedia.org/wiki/Python_(a%C3%B0greining)\n",
      "https://it.wikipedia.org/wiki/Python_(disambigua)\n",
      "https://he.wikipedia.org/wiki/%D7%A4%D7%99%D7%AA%D7%95%D7%9F\n",
      "https://ka.wikipedia.org/wiki/%E1%83%9E%E1%83%98%E1%83%97%E1%83%9D%E1%83%9C%E1%83%98_(%E1%83%9B%E1%83%A0%E1%83%90%E1%83%95%E1%83%90%E1%83%9A%E1%83%9B%E1%83%9C%E1%83%98%E1%83%A8%E1%83%95%E1%83%9C%E1%83%94%E1%83%9A%E1%83%9D%E1%83%95%E1%83%90%E1%83%9C%E1%83%98)\n",
      "https://kg.wikipedia.org/wiki/Mboma_(nyoka)\n",
      "https://la.wikipedia.org/wiki/Python_(discretiva)\n",
      "https://lb.wikipedia.org/wiki/Python\n",
      "https://hu.wikipedia.org/wiki/Python_(egy%C3%A9rtelm%C5%B1s%C3%ADt%C5%91_lap)\n",
      "https://mr.wikipedia.org/wiki/%E0%A4%AA%E0%A4%BE%E0%A4%AF%E0%A4%A5%E0%A5%89%E0%A4%A8_(%E0%A4%86%E0%A4%9C%E0%A5%8D%E0%A4%9E%E0%A4%BE%E0%A4%B5%E0%A4%B2%E0%A5%80_%E0%A4%AD%E0%A4%BE%E0%A4%B7%E0%A4%BE)\n",
      "https://nl.wikipedia.org/wiki/Python\n",
      "https://ja.wikipedia.org/wiki/%E3%83%91%E3%82%A4%E3%82%BD%E3%83%B3\n",
      "https://no.wikipedia.org/wiki/Pyton\n",
      "https://pl.wikipedia.org/wiki/Pyton\n",
      "https://pt.wikipedia.org/wiki/Python_(desambigua%C3%A7%C3%A3o)\n",
      "https://ru.wikipedia.org/wiki/Python_(%D0%B7%D0%BD%D0%B0%D1%87%D0%B5%D0%BD%D0%B8%D1%8F)\n",
      "https://sk.wikipedia.org/wiki/Python\n",
      "https://sr.wikipedia.org/wiki/%D0%9F%D0%B8%D1%82%D0%BE%D0%BD_(%D0%B2%D0%B8%D1%88%D0%B5%D0%B7%D0%BD%D0%B0%D1%87%D0%BD%D0%B0_%D0%BE%D0%B4%D1%80%D0%B5%D0%B4%D0%BD%D0%B8%D1%86%D0%B0)\n",
      "https://sh.wikipedia.org/wiki/Python\n",
      "https://fi.wikipedia.org/wiki/Python\n",
      "https://sv.wikipedia.org/wiki/Pyton\n",
      "https://th.wikipedia.org/wiki/%E0%B9%84%E0%B8%9E%E0%B8%97%E0%B8%AD%E0%B8%99\n",
      "https://tr.wikipedia.org/wiki/Python\n",
      "https://uk.wikipedia.org/wiki/%D0%9F%D1%96%D1%84%D0%BE%D0%BD\n",
      "https://ur.wikipedia.org/wiki/%D9%BE%D8%A7%D8%A6%DB%8C%D8%AA%DA%BE%D9%88%D9%86\n",
      "https://vi.wikipedia.org/wiki/Python\n",
      "https://zh.wikipedia.org/wiki/Python_(%E6%B6%88%E6%AD%A7%E4%B9%89)\n",
      "//en.wikipedia.org/wiki/Wikipedia:Text_of_Creative_Commons_Attribution-ShareAlike_3.0_Unported_License\n",
      "//creativecommons.org/licenses/by-sa/3.0/\n",
      "//foundation.wikimedia.org/wiki/Terms_of_Use\n",
      "//foundation.wikimedia.org/wiki/Privacy_policy\n",
      "//www.wikimediafoundation.org/\n",
      "https://foundation.wikimedia.org/wiki/Privacy_policy\n",
      "/wiki/Wikipedia:About\n",
      "/wiki/Wikipedia:General_disclaimer\n",
      "//en.wikipedia.org/wiki/Wikipedia:Contact_us\n",
      "//en.m.wikipedia.org/w/index.php?title=Python&mobileaction=toggle_view_mobile\n",
      "https://www.mediawiki.org/wiki/Special:MyLanguage/How_to_contribute\n",
      "https://stats.wikimedia.org/#/en.wikipedia.org\n",
      "https://foundation.wikimedia.org/wiki/Cookie_statement\n",
      "https://wikimediafoundation.org/\n",
      "https://www.mediawiki.org/\n"
     ]
    }
   ],
   "source": [
    "for a in soup1.select('li a', href=True):\n",
    "    print (a['href'])\n",
    "    \n",
    "# for i in range(num_iter):\n",
    "#     links.append(soup1.select('li a')[i]['href'])\n"
   ]
  },
  {
   "cell_type": "markdown",
   "id": "developmental-learning",
   "metadata": {},
   "source": [
    "### 2. Find the number of titles that have changed in the United States Code since its last release point"
   ]
  },
  {
   "cell_type": "code",
   "execution_count": 738,
   "id": "advance-building",
   "metadata": {},
   "outputs": [],
   "source": [
    "url2 = 'http://uscode.house.gov/download/download.shtml'"
   ]
  },
  {
   "cell_type": "code",
   "execution_count": 739,
   "id": "apparent-medline",
   "metadata": {},
   "outputs": [
    {
     "data": {
      "text/plain": [
       "200"
      ]
     },
     "execution_count": 739,
     "metadata": {},
     "output_type": "execute_result"
    }
   ],
   "source": [
    "response2 = requests.get(url2)\n",
    "response2.status_code # 200 status code means OK!"
   ]
  },
  {
   "cell_type": "code",
   "execution_count": 740,
   "id": "moving-reserve",
   "metadata": {},
   "outputs": [],
   "source": [
    "soup2 = BeautifulSoup(response2.content, \"html.parser\")"
   ]
  },
  {
   "cell_type": "code",
   "execution_count": 741,
   "id": "arbitrary-royal",
   "metadata": {
    "scrolled": false
   },
   "outputs": [],
   "source": [
    "# soup"
   ]
  },
  {
   "cell_type": "code",
   "execution_count": 742,
   "id": "available-planet",
   "metadata": {
    "scrolled": true
   },
   "outputs": [],
   "source": [
    "list2=soup2.find_all(id=re.compile(\"us\\/usc\\/t\\d{1,2}$\"))\n"
   ]
  },
  {
   "cell_type": "code",
   "execution_count": 743,
   "id": "jewish-subdivision",
   "metadata": {},
   "outputs": [
    {
     "data": {
      "text/plain": [
       "54"
      ]
     },
     "execution_count": 743,
     "metadata": {},
     "output_type": "execute_result"
    }
   ],
   "source": [
    "len(list2)"
   ]
  },
  {
   "cell_type": "code",
   "execution_count": 744,
   "id": "loaded-amazon",
   "metadata": {
    "scrolled": true
   },
   "outputs": [],
   "source": [
    "links2 = []\n",
    "\n",
    "num_iter = len(list2)\n",
    "\n",
    "for i in range(num_iter):\n",
    "    links2.append(list2[i].get_text())"
   ]
  },
  {
   "cell_type": "code",
   "execution_count": 745,
   "id": "proud-smart",
   "metadata": {},
   "outputs": [
    {
     "data": {
      "text/plain": [
       "['\\n\\n          Title 1 - General Provisions ٭\\n',\n",
       " '\\n\\n          Title 2 - The Congress\\n\\n        ',\n",
       " '\\n\\n          Title 3 - The President ٭\\n',\n",
       " '\\n\\n          Title 4 - Flag and Seal, Seat of Government, and the States ٭\\n',\n",
       " '\\n\\n          Title 5 - Government Organization and Employees ٭\\n',\n",
       " '\\n\\n          Title 6 - Domestic Security\\n\\n        ',\n",
       " '\\n\\n          Title 7 - Agriculture\\n\\n        ',\n",
       " '\\n\\n          Title 8 - Aliens and Nationality\\n\\n        ',\n",
       " '\\n\\n          Title 9 - Arbitration ٭\\n',\n",
       " '\\n\\n          Title 10 - Armed Forces ٭\\n',\n",
       " '\\n\\n          Title 11 - Bankruptcy ٭\\n',\n",
       " '\\n\\n          Title 12 - Banks and Banking\\n\\n        ',\n",
       " '\\n\\n          Title 13 - Census ٭\\n',\n",
       " '\\n\\n          Title 14 - Coast Guard ٭\\n',\n",
       " '\\n\\n          Title 15 - Commerce and Trade\\n\\n        ',\n",
       " '\\n\\n          Title 16 - Conservation\\n\\n        ',\n",
       " '\\n\\n          Title 17 - Copyrights ٭\\n',\n",
       " '\\n\\n          Title 18 - Crimes and Criminal Procedure ٭\\n',\n",
       " '\\n\\n          Title 19 - Customs Duties\\n\\n        ',\n",
       " '\\n\\n          Title 20 - Education\\n\\n        ',\n",
       " '\\n\\n          Title 21 - Food and Drugs\\n\\n        ',\n",
       " '\\n\\n          Title 22 - Foreign Relations and Intercourse\\n\\n        ',\n",
       " '\\n\\n          Title 23 - Highways ٭\\n',\n",
       " '\\n\\n          Title 24 - Hospitals and Asylums\\n\\n        ',\n",
       " '\\n\\n          Title 25 - Indians\\n\\n        ',\n",
       " '\\n\\n          Title 26 - Internal Revenue Code\\n\\n        ',\n",
       " '\\n\\n          Title 27 - Intoxicating Liquors\\n\\n        ',\n",
       " '\\n\\n          Title 28 - Judiciary and Judicial Procedure ٭\\n',\n",
       " '\\n\\n          Title 29 - Labor\\n\\n        ',\n",
       " '\\n\\n          Title 30 - Mineral Lands and Mining\\n\\n        ',\n",
       " '\\n\\n          Title 31 - Money and Finance ٭\\n',\n",
       " '\\n\\n          Title 32 - National Guard ٭\\n',\n",
       " '\\n\\n          Title 33 - Navigation and Navigable Waters\\n\\n        ',\n",
       " '\\n\\n          Title 34 - Crime Control and Law Enforcement\\n\\n        ',\n",
       " '\\n\\n          Title 35 - Patents ٭\\n',\n",
       " '\\n\\n          Title 36 - Patriotic and National Observances, Ceremonies, and Organizations ٭\\n',\n",
       " '\\n\\n          Title 37 - Pay and Allowances of the Uniformed Services ٭\\n',\n",
       " \"\\n\\n          Title 38 - Veterans' Benefits ٭\\n\",\n",
       " '\\n\\n          Title 39 - Postal Service ٭\\n',\n",
       " '\\n\\n          Title 40 - Public Buildings, Property, and Works ٭\\n',\n",
       " '\\n\\n          Title 41 - Public Contracts ٭\\n',\n",
       " '\\n\\n          Title 42 - The Public Health and Welfare\\n\\n        ',\n",
       " '\\n\\n          Title 43 - Public Lands\\n\\n        ',\n",
       " '\\n\\n          Title 44 - Public Printing and Documents ٭\\n',\n",
       " '\\n\\n          Title 45 - Railroads\\n\\n        ',\n",
       " '\\n\\n          Title 46 - Shipping ٭\\n',\n",
       " '\\n\\n          Title 47 - Telecommunications\\n\\n        ',\n",
       " '\\n\\n          Title 48 - Territories and Insular Possessions\\n\\n        ',\n",
       " '\\n\\n          Title 49 - Transportation ٭\\n',\n",
       " '\\n\\n          Title 50 - War and National Defense\\n\\n        ',\n",
       " '\\n\\n          Title 51 - National and Commercial Space Programs ٭\\n',\n",
       " '\\n\\n          Title 52 - Voting and Elections\\n\\n        ',\n",
       " '\\n\\n          Title 53 [Reserved]\\n\\n        ',\n",
       " '\\n\\n          Title 54 - National Park Service and Related Programs ٭\\n']"
      ]
     },
     "execution_count": 745,
     "metadata": {},
     "output_type": "execute_result"
    }
   ],
   "source": [
    "links2"
   ]
  },
  {
   "cell_type": "markdown",
   "id": "entitled-keyboard",
   "metadata": {},
   "source": [
    "### 3. Create a Python list with the top ten FBI's Most Wanted names"
   ]
  },
  {
   "cell_type": "code",
   "execution_count": 746,
   "id": "tough-bride",
   "metadata": {},
   "outputs": [],
   "source": [
    "url3 = 'https://www.fbi.gov/wanted/topten'"
   ]
  },
  {
   "cell_type": "code",
   "execution_count": 747,
   "id": "indoor-horizontal",
   "metadata": {},
   "outputs": [
    {
     "data": {
      "text/plain": [
       "200"
      ]
     },
     "execution_count": 747,
     "metadata": {},
     "output_type": "execute_result"
    }
   ],
   "source": [
    "response3 = requests.get(url3)\n",
    "response3.status_code # 200 status code means OK!"
   ]
  },
  {
   "cell_type": "code",
   "execution_count": 748,
   "id": "failing-acrylic",
   "metadata": {},
   "outputs": [],
   "source": [
    "soup3 = BeautifulSoup(response3.content, \"html.parser\")"
   ]
  },
  {
   "cell_type": "code",
   "execution_count": 749,
   "id": "registered-advisory",
   "metadata": {},
   "outputs": [],
   "source": [
    "# soup3"
   ]
  },
  {
   "cell_type": "code",
   "execution_count": 750,
   "id": "joint-nerve",
   "metadata": {},
   "outputs": [],
   "source": [
    "links3 = []\n",
    "\n",
    "num_iter = len(soup3.select('h3'))\n",
    "\n",
    "for i in range(num_iter):\n",
    "    links3.append(soup3.select('h3')[i].get_text())"
   ]
  },
  {
   "cell_type": "code",
   "execution_count": 751,
   "id": "twelve-baseball",
   "metadata": {},
   "outputs": [
    {
     "data": {
      "text/plain": [
       "['\\nRAFAEL CARO-QUINTERO\\n',\n",
       " '\\nBHADRESHKUMAR CHETANBHAI PATEL\\n',\n",
       " '\\nROBERT WILLIAM FISHER\\n',\n",
       " '\\nALEJANDRO ROSALES CASTILLO\\n',\n",
       " '\\nARNOLDO JIMENEZ\\n',\n",
       " '\\nJASON DEREK BROWN\\n',\n",
       " '\\nALEXIS FLORES\\n',\n",
       " '\\nJOSE RODOLFO VILLARREAL-HERNANDEZ\\n',\n",
       " '\\nEUGENE PALMER\\n',\n",
       " '\\nYASER ABDEL SAID\\n']"
      ]
     },
     "execution_count": 751,
     "metadata": {},
     "output_type": "execute_result"
    }
   ],
   "source": [
    "links3"
   ]
  },
  {
   "cell_type": "markdown",
   "id": "passing-account",
   "metadata": {},
   "source": [
    "### 4. Display the 20 latest earthquakes info (date, time, latitude, longitude and region name) by the EMSC as a pandas dataframe"
   ]
  },
  {
   "cell_type": "code",
   "execution_count": 752,
   "id": "accurate-auckland",
   "metadata": {},
   "outputs": [],
   "source": [
    "url4 = 'https://www.emsc-csem.org/Earthquake/'"
   ]
  },
  {
   "cell_type": "code",
   "execution_count": 753,
   "id": "biblical-native",
   "metadata": {},
   "outputs": [
    {
     "data": {
      "text/plain": [
       "200"
      ]
     },
     "execution_count": 753,
     "metadata": {},
     "output_type": "execute_result"
    }
   ],
   "source": [
    "response4 = requests.get(url4)\n",
    "response4.status_code # 200 status code means OK!"
   ]
  },
  {
   "cell_type": "code",
   "execution_count": 754,
   "id": "comparable-depression",
   "metadata": {},
   "outputs": [],
   "source": [
    "soup4 = BeautifulSoup(response4.content, \"html.parser\")"
   ]
  },
  {
   "cell_type": "code",
   "execution_count": 756,
   "id": "juvenile-waters",
   "metadata": {},
   "outputs": [
    {
     "data": {
      "text/plain": [
       "[<tr class=\"ligne1 normal\" id=\"976537\" onclick=\"go_details(event,976537);\"><td class=\"tabev0\"></td><td class=\"tabev0\"></td><td class=\"tabev0\"></td><td class=\"tabev6\"><b><i style=\"display:none;\">earthquake</i><a href=\"/Earthquake/earthquake.php?id=976537\">2021-04-27   20:27:47.6</a></b><i class=\"ago\" id=\"ago0\">17min ago</i></td><td class=\"tabev1\">36.44 </td><td class=\"tabev2\">N  </td><td class=\"tabev1\">27.15 </td><td class=\"tabev2\">E  </td><td class=\"tabev3\">2</td><td class=\"tabev5\" id=\"magtyp0\">ML</td><td class=\"tabev2\">2.6</td><td class=\"tb_region\" id=\"reg0\"> DODECANESE IS.-TURKEY BORDER REG</td><td class=\"comment updatetimeno\" id=\"upd0\" style=\"text-align:right;\">2021-04-27 20:36</td></tr>,\n",
       " <tr class=\"ligne2 normal\" id=\"976539\" onclick=\"go_details(event,976539);\"><td class=\"tabev0\"></td><td class=\"tabev0\"></td><td class=\"tabev0\"></td><td class=\"tabev6\"><b><i style=\"display:none;\">earthquake</i><a href=\"/Earthquake/earthquake.php?id=976539\">2021-04-27   20:27:47.2</a></b><i class=\"ago\" id=\"ago1\">17min ago</i></td><td class=\"tabev1\">23.16 </td><td class=\"tabev2\">N  </td><td class=\"tabev1\">120.92 </td><td class=\"tabev2\">E  </td><td class=\"tabev3\">5</td><td class=\"tabev5\" id=\"magtyp1\">ML</td><td class=\"tabev2\">4.0</td><td class=\"tb_region\" id=\"reg1\"> TAIWAN</td><td class=\"comment updatetimeno\" id=\"upd1\" style=\"text-align:right;\">2021-04-27 20:35</td></tr>,\n",
       " <tr class=\"ligne1 normal\" id=\"976538\" onclick=\"go_details(event,976538);\"><td class=\"tabev0\"></td><td class=\"tabev0\"></td><td class=\"tabev0\"></td><td class=\"tabev6\"><b><i style=\"display:none;\">earthquake</i><a href=\"/Earthquake/earthquake.php?id=976538\">2021-04-27   20:23:09.0</a></b><i class=\"ago\" id=\"ago2\">21min ago</i></td><td class=\"tabev1\">32.70 </td><td class=\"tabev2\">S  </td><td class=\"tabev1\">69.09 </td><td class=\"tabev2\">W  </td><td class=\"tabev3\">19</td><td class=\"tabev5\" id=\"magtyp2\"> M</td><td class=\"tabev2\">3.0</td><td class=\"tb_region\" id=\"reg2\"> MENDOZA, ARGENTINA</td><td class=\"comment updatetimeno\" id=\"upd2\" style=\"text-align:right;\">2021-04-27 20:31</td></tr>,\n",
       " <tr class=\"ligne2 normal\" id=\"976536\" onclick=\"go_details(event,976536);\"><td class=\"tabev0\"></td><td class=\"tabev0\"></td><td class=\"tabev0\"></td><td class=\"tabev6\"><b><i style=\"display:none;\">earthquake</i><a href=\"/Earthquake/earthquake.php?id=976536\">2021-04-27   20:17:46.2</a></b><i class=\"ago\" id=\"ago3\">27min ago</i></td><td class=\"tabev1\">26.68 </td><td class=\"tabev2\">N  </td><td class=\"tabev1\">141.73 </td><td class=\"tabev2\">E  </td><td class=\"tabev3\">117</td><td class=\"tabev5\" id=\"magtyp3\">M </td><td class=\"tabev2\">4.9</td><td class=\"tb_region\" id=\"reg3\"> BONIN ISLANDS, JAPAN REGION</td><td class=\"comment updatetimeno\" id=\"upd3\" style=\"text-align:right;\">2021-04-27 20:41</td></tr>,\n",
       " <tr class=\"ligne1 normal\" id=\"976529\" onclick=\"go_details(event,976529);\"><td class=\"tabev0\"></td><td class=\"tabev0\"></td><td class=\"tabev0\"></td><td class=\"tabev6\"><b><i style=\"display:none;\">earthquake</i><a href=\"/Earthquake/earthquake.php?id=976529\">2021-04-27   20:01:28.1</a></b><i class=\"ago\" id=\"ago4\">43min ago</i></td><td class=\"tabev1\">36.47 </td><td class=\"tabev2\">N  </td><td class=\"tabev1\">27.15 </td><td class=\"tabev2\">E  </td><td class=\"tabev3\">5</td><td class=\"tabev5\" id=\"magtyp4\">ML</td><td class=\"tabev2\">2.9</td><td class=\"tb_region\" id=\"reg4\"> DODECANESE IS.-TURKEY BORDER REG</td><td class=\"comment updatetimeno\" id=\"upd4\" style=\"text-align:right;\">2021-04-27 20:12</td></tr>,\n",
       " <tr class=\"ligne2 normal\" id=\"976524\" onclick=\"go_details(event,976524);\"><td class=\"tabev0\"></td><td class=\"tabev0\"></td><td class=\"tabev0\"></td><td class=\"tabev6\"><b><i style=\"display:none;\">earthquake</i><a href=\"/Earthquake/earthquake.php?id=976524\">2021-04-27   19:43:12.5</a></b><i class=\"ago\" id=\"ago5\">1hr 01min ago</i></td><td class=\"tabev1\">36.45 </td><td class=\"tabev2\">N  </td><td class=\"tabev1\">27.12 </td><td class=\"tabev2\">E  </td><td class=\"tabev3\">2</td><td class=\"tabev5\" id=\"magtyp5\">ML</td><td class=\"tabev2\">2.5</td><td class=\"tb_region\" id=\"reg5\"> DODECANESE IS.-TURKEY BORDER REG</td><td class=\"comment updatetimeno\" id=\"upd5\" style=\"text-align:right;\">2021-04-27 19:50</td></tr>,\n",
       " <tr class=\"ligne1 normal\" id=\"976527\" onclick=\"go_details(event,976527);\"><td class=\"tabev0\"></td><td class=\"tabev0\"></td><td class=\"tabev0\"></td><td class=\"tabev6\"><b><i style=\"display:none;\">earthquake</i><a href=\"/Earthquake/earthquake.php?id=976527\">2021-04-27   19:42:10.9</a></b><i class=\"ago\" id=\"ago6\">1hr 02min ago</i></td><td class=\"tabev1\">31.66 </td><td class=\"tabev2\">N  </td><td class=\"tabev1\">104.38 </td><td class=\"tabev2\">W  </td><td class=\"tabev3\">5</td><td class=\"tabev5\" id=\"magtyp6\">ML</td><td class=\"tabev2\">4.1</td><td class=\"tb_region\" id=\"reg6\"> WESTERN TEXAS</td><td class=\"comment updatetimeno\" id=\"upd6\" style=\"text-align:right;\">2021-04-27 20:00</td></tr>,\n",
       " <tr class=\"ligne2 normal\" id=\"976525\" onclick=\"go_details(event,976525);\"><td class=\"tabev0\"></td><td class=\"tabev0\"></td><td class=\"tabev0\"><span class=\"intensity\" onclick=\"go_details(event,null,'https://www.emsc-csem.org/Earthquake/popup_intensmap.php?id=976525&amp;f=/FELTREPORTS/97/976525/IntensityMap.png');\" onmouseout=\"info_b2('notshow','');\" onmouseover=\"info_b2('show','See the &lt;b&gt; Intensity map&lt;/b&gt;');\" style=\"background-color:#FFFFFF;\">F</span></td><td class=\"tabev6\"><b><i style=\"display:none;\">earthquake</i><a href=\"/Earthquake/earthquake.php?id=976525\">2021-04-27   19:38:51.0</a></b><i class=\"ago\" id=\"ago7\">1hr 06min ago</i></td><td class=\"tabev1\">16.75 </td><td class=\"tabev2\">S  </td><td class=\"tabev1\">71.48 </td><td class=\"tabev2\">W  </td><td class=\"tabev3\">30</td><td class=\"tabev5\" id=\"magtyp7\"> M</td><td class=\"tabev2\">3.9</td><td class=\"tb_region\" id=\"reg7\"> SOUTHERN PERU</td><td class=\"comment updatetimeno\" id=\"upd7\" style=\"text-align:right;\">2021-04-27 19:45</td></tr>,\n",
       " <tr class=\"ligne1 normal\" id=\"976523\" onclick=\"go_details(event,976523);\"><td class=\"tabev0\"></td><td class=\"tabev0\"></td><td class=\"tabev0\"></td><td class=\"tabev6\"><b><i style=\"display:none;\">earthquake</i><a href=\"/Earthquake/earthquake.php?id=976523\">2021-04-27   19:36:08.7</a></b><i class=\"ago\" id=\"ago8\">1hr 08min ago</i></td><td class=\"tabev1\">33.94 </td><td class=\"tabev2\">N  </td><td class=\"tabev1\">118.37 </td><td class=\"tabev2\">W  </td><td class=\"tabev3\">22</td><td class=\"tabev5\" id=\"magtyp8\">Ml</td><td class=\"tabev2\">2.1</td><td class=\"tb_region\" id=\"reg8\"> GREATER LOS ANGELES AREA, CALIF.</td><td class=\"comment updatetimeno\" id=\"upd8\" style=\"text-align:right;\">2021-04-27 19:39</td></tr>,\n",
       " <tr class=\"ligne2 normal\" id=\"976532\" onclick=\"go_details(event,976532);\"><td class=\"tabev0\"></td><td class=\"tabev0\"></td><td class=\"tabev0\"></td><td class=\"tabev6\"><b><i style=\"display:none;\">earthquake</i><a href=\"/Earthquake/earthquake.php?id=976532\">2021-04-27   19:30:41.1</a></b><i class=\"ago\" id=\"ago9\">1hr 14min ago</i></td><td class=\"tabev1\">37.99 </td><td class=\"tabev2\">S  </td><td class=\"tabev1\">17.14 </td><td class=\"tabev2\">W  </td><td class=\"tabev3\">33</td><td class=\"tabev5\" id=\"magtyp9\">mb</td><td class=\"tabev2\">5.0</td><td class=\"tb_region\" id=\"reg9\"> SOUTHERN MID-ATLANTIC RIDGE</td><td class=\"comment updatetimeno\" id=\"upd9\" style=\"text-align:right;\">2021-04-27 20:37</td></tr>,\n",
       " <tr class=\"ligne1 normal\" id=\"976530\" onclick=\"go_details(event,976530);\"><td class=\"tabev0\"></td><td class=\"tabev0\"></td><td class=\"tabev0\"></td><td class=\"tabev6\"><b><i style=\"display:none;\">earthquake</i><a href=\"/Earthquake/earthquake.php?id=976530\">2021-04-27   19:26:30.0</a></b><i class=\"ago\" id=\"ago10\">1hr 18min ago</i></td><td class=\"tabev1\">9.54 </td><td class=\"tabev2\">N  </td><td class=\"tabev1\">84.83 </td><td class=\"tabev2\">W  </td><td class=\"tabev3\">20</td><td class=\"tabev5\" id=\"magtyp10\"> M</td><td class=\"tabev2\">3.4</td><td class=\"tb_region\" id=\"reg10\"> COSTA RICA</td><td class=\"comment updatetimeno\" id=\"upd10\" style=\"text-align:right;\">2021-04-27 20:05</td></tr>,\n",
       " <tr class=\"ligne2 normal\" id=\"976522\" onclick=\"go_details(event,976522);\"><td class=\"tabev0\" style=\"text-align:center;\"><a href=\"https://www.emsc-csem.org/Earthquake/Testimonies/comments.php?id=976522\" onmouseout=\"info_b2('notshow','');\" onmouseover=\"info_b2('show','See the &lt;b&gt;testimony&lt;/b&gt; for this earthquake');\"><span class=\"\" style=\"vertical-align:middle;\">1</span></a></td><td class=\"tabev0\"></td><td class=\"tabev0\"><span class=\"intensity\" onclick=\"go_details(event,null,'https://www.emsc-csem.org/Earthquake/popup_intensmap.php?id=976522&amp;f=/FELTREPORTS/97/976522/IntensityMap.png');\" onmouseout=\"info_b2('notshow','');\" onmouseover=\"info_b2('show','See the &lt;b&gt; Intensity map&lt;/b&gt;');\" style=\"background-color:#66CCFF;\">III</span></td><td class=\"tabev6\"><b><i style=\"display:none;\">earthquake</i><a href=\"/Earthquake/earthquake.php?id=976522\">2021-04-27   19:24:07.5</a></b><i class=\"ago\" id=\"ago11\">1hr 20min ago</i></td><td class=\"tabev1\">38.04 </td><td class=\"tabev2\">N  </td><td class=\"tabev1\">27.07 </td><td class=\"tabev2\">E  </td><td class=\"tabev3\">7</td><td class=\"tabev5\" id=\"magtyp11\">ML</td><td class=\"tabev2\">2.2</td><td class=\"tb_region\" id=\"reg11\"> WESTERN TURKEY</td><td class=\"comment updatetimeno\" id=\"upd11\" style=\"text-align:right;\">2021-04-27 19:34</td></tr>,\n",
       " <tr class=\"ligne1 normal\" id=\"976520\" onclick=\"go_details(event,976520);\"><td class=\"tabev0\"></td><td class=\"tabev0\"></td><td class=\"tabev0\"></td><td class=\"tabev6\"><b><i style=\"display:none;\">earthquake</i><a href=\"/Earthquake/earthquake.php?id=976520\">2021-04-27   19:09:39.2</a></b><i class=\"ago\" id=\"ago12\">1hr 35min ago</i></td><td class=\"tabev1\">40.12 </td><td class=\"tabev2\">N  </td><td class=\"tabev1\">15.87 </td><td class=\"tabev2\">E  </td><td class=\"tabev3\">10</td><td class=\"tabev5\" id=\"magtyp12\">ML</td><td class=\"tabev2\">2.4</td><td class=\"tb_region\" id=\"reg12\"> SOUTHERN ITALY</td><td class=\"comment updatetimeno\" id=\"upd12\" style=\"text-align:right;\">2021-04-27 19:17</td></tr>,\n",
       " <tr class=\"ligne2 normal\" id=\"976534\" onclick=\"go_details(event,976534);\"><td class=\"tabev0\"></td><td class=\"tabev0\"></td><td class=\"tabev0\"></td><td class=\"tabev6\"><b><i style=\"display:none;\">earthquake</i><a href=\"/Earthquake/earthquake.php?id=976534\">2021-04-27   19:00:04.2</a></b><i class=\"ago\" id=\"ago13\">1hr 45min ago</i></td><td class=\"tabev1\">37.25 </td><td class=\"tabev2\">N  </td><td class=\"tabev1\">114.40 </td><td class=\"tabev2\">W  </td><td class=\"tabev3\">12</td><td class=\"tabev5\" id=\"magtyp13\">ml</td><td class=\"tabev2\">2.3</td><td class=\"tb_region\" id=\"reg13\"> NEVADA</td><td class=\"comment updatetimeno\" id=\"upd13\" style=\"text-align:right;\">2021-04-27 20:17</td></tr>,\n",
       " <tr class=\"ligne1 normal\" id=\"976514\" onclick=\"go_details(event,976514);\"><td class=\"tabev0\"></td><td class=\"tabev0\"></td><td class=\"tabev0\"></td><td class=\"tabev6\"><b><i style=\"display:none;\">earthquake</i><a href=\"/Earthquake/earthquake.php?id=976514\">2021-04-27   18:35:08.8</a></b><i class=\"ago\" id=\"ago14\">2hr 09min ago</i></td><td class=\"tabev1\">19.78 </td><td class=\"tabev2\">S  </td><td class=\"tabev1\">67.30 </td><td class=\"tabev2\">W  </td><td class=\"tabev3\">100</td><td class=\"tabev5\" id=\"magtyp14\">ML</td><td class=\"tabev2\">3.5</td><td class=\"tb_region\" id=\"reg14\"> POTOSI, BOLIVIA</td><td class=\"comment updatetimeno\" id=\"upd14\" style=\"text-align:right;\">2021-04-27 18:56</td></tr>,\n",
       " <tr class=\"ligne2 normal\" id=\"976516\" onclick=\"go_details(event,976516);\"><td class=\"tabev0\"></td><td class=\"tabev0\"></td><td class=\"tabev0\"></td><td class=\"tabev6\"><b><i style=\"display:none;\">earthquake</i><a href=\"/Earthquake/earthquake.php?id=976516\">2021-04-27   18:28:57.8</a></b><i class=\"ago\" id=\"ago15\">2hr 16min ago</i></td><td class=\"tabev1\">29.54 </td><td class=\"tabev2\">S  </td><td class=\"tabev1\">176.68 </td><td class=\"tabev2\">W  </td><td class=\"tabev3\">10</td><td class=\"tabev5\" id=\"magtyp15\">mb</td><td class=\"tabev2\">4.9</td><td class=\"tb_region\" id=\"reg15\"> KERMADEC ISLANDS REGION</td><td class=\"comment updatetimeno\" id=\"upd15\" style=\"text-align:right;\">2021-04-27 20:07</td></tr>,\n",
       " <tr class=\"ligne1 normal\" id=\"976513\" onclick=\"go_details(event,976513);\"><td class=\"tabev0\"></td><td class=\"tabev0\"></td><td class=\"tabev0\"></td><td class=\"tabev6\"><b><i style=\"display:none;\">earthquake</i><a href=\"/Earthquake/earthquake.php?id=976513\">2021-04-27   18:27:19.6</a></b><i class=\"ago\" id=\"ago16\">2hr 17min ago</i></td><td class=\"tabev1\">33.94 </td><td class=\"tabev2\">N  </td><td class=\"tabev1\">118.40 </td><td class=\"tabev2\">W  </td><td class=\"tabev3\">23</td><td class=\"tabev5\" id=\"magtyp16\">Ml</td><td class=\"tabev2\">2.2</td><td class=\"tb_region\" id=\"reg16\"> GREATER LOS ANGELES AREA, CALIF.</td><td class=\"comment updatetimeno\" id=\"upd16\" style=\"text-align:right;\">2021-04-27 18:31</td></tr>,\n",
       " <tr class=\"ligne2 normal\" id=\"976510\" onclick=\"go_details(event,976510);\"><td class=\"tabev0\"></td><td class=\"tabev0\"></td><td class=\"tabev0\"></td><td class=\"tabev6\"><b><i style=\"display:none;\">earthquake</i><a href=\"/Earthquake/earthquake.php?id=976510\">2021-04-27   18:17:48.3</a></b><i class=\"ago\" id=\"ago17\">2hr 27min ago</i></td><td class=\"tabev1\">33.95 </td><td class=\"tabev2\">N  </td><td class=\"tabev1\">118.35 </td><td class=\"tabev2\">W  </td><td class=\"tabev3\">21</td><td class=\"tabev5\" id=\"magtyp17\">Ml</td><td class=\"tabev2\">2.2</td><td class=\"tb_region\" id=\"reg17\"> GREATER LOS ANGELES AREA, CALIF.</td><td class=\"comment updatetimeno\" id=\"upd17\" style=\"text-align:right;\">2021-04-27 18:21</td></tr>,\n",
       " <tr class=\"ligne1 normal\" id=\"976509\" onclick=\"go_details(event,976509);\"><td class=\"tabev0\"></td><td class=\"tabev0\"></td><td class=\"tabev0\"></td><td class=\"tabev6\"><b><i style=\"display:none;\">earthquake</i><a href=\"/Earthquake/earthquake.php?id=976509\">2021-04-27   18:12:12.8</a></b><i class=\"ago\" id=\"ago18\">2hr 32min ago</i></td><td class=\"tabev1\">19.25 </td><td class=\"tabev2\">N  </td><td class=\"tabev1\">155.44 </td><td class=\"tabev2\">W  </td><td class=\"tabev3\">35</td><td class=\"tabev5\" id=\"magtyp18\">ML</td><td class=\"tabev2\">2.4</td><td class=\"tb_region\" id=\"reg18\"> ISLAND OF HAWAII, HAWAII</td><td class=\"comment updatetimeno\" id=\"upd18\" style=\"text-align:right;\">2021-04-27 20:26</td></tr>,\n",
       " <tr class=\"ligne2 normal\" id=\"976503\" onclick=\"go_details(event,976503);\"><td class=\"tabev0\" style=\"text-align:center;\"><a href=\"https://www.emsc-csem.org/Earthquake/Testimonies/comments.php?id=976503\" onmouseout=\"info_b2('notshow','');\" onmouseover=\"info_b2('show','See the &lt;b&gt;50 testimonies&lt;/b&gt; for this earthquake');\"><span class=\"\" style=\"vertical-align:middle;\">50</span></a></td><td class=\"tabev0\"></td><td class=\"tabev0\"><span class=\"intensity\" onclick=\"go_details(event,null,'https://www.emsc-csem.org/Earthquake/popup_intensmap.php?id=976503&amp;f=/FELTREPORTS/97/976503/IntensityMap.png');\" onmouseout=\"info_b2('notshow','');\" onmouseover=\"info_b2('show','See the &lt;b&gt; Intensity map&lt;/b&gt;');\" style=\"background-color:#00FFFF;\">IV</span></td><td class=\"tabev6\"><b><i style=\"display:none;\">earthquake</i><a href=\"/Earthquake/earthquake.php?id=976503\">2021-04-27   17:54:35.4</a></b><i class=\"ago\" id=\"ago19\">2hr 50min ago</i></td><td class=\"tabev1\">61.33 </td><td class=\"tabev2\">N  </td><td class=\"tabev1\">149.95 </td><td class=\"tabev2\">W  </td><td class=\"tabev3\">46</td><td class=\"tabev5\" id=\"magtyp19\">Mw</td><td class=\"tabev2\">4.7</td><td class=\"tb_region\" id=\"reg19\"> SOUTHERN ALASKA</td><td class=\"comment updatetimeno\" id=\"upd19\" style=\"text-align:right;\">2021-04-27 18:13</td></tr>,\n",
       " <tr class=\"ligne1 normal\" id=\"976511\" onclick=\"go_details(event,976511);\"><td class=\"tabev0\"></td><td class=\"tabev0\"></td><td class=\"tabev0\"></td><td class=\"tabev6\"><b><i style=\"display:none;\">earthquake</i><a href=\"/Earthquake/earthquake.php?id=976511\">2021-04-27   17:53:30.0</a></b><i class=\"ago\" id=\"ago20\">2hr 51min ago</i></td><td class=\"tabev1\">9.56 </td><td class=\"tabev2\">N  </td><td class=\"tabev1\">84.81 </td><td class=\"tabev2\">W  </td><td class=\"tabev3\">23</td><td class=\"tabev5\" id=\"magtyp20\"> M</td><td class=\"tabev2\">3.2</td><td class=\"tb_region\" id=\"reg20\"> COSTA RICA</td><td class=\"comment updatetimeno\" id=\"upd20\" style=\"text-align:right;\">2021-04-27 18:20</td></tr>,\n",
       " <tr class=\"ligne2 normal\" id=\"976507\" onclick=\"go_details(event,976507);\"><td class=\"tabev0\"></td><td class=\"tabev0\"></td><td class=\"tabev0\"></td><td class=\"tabev6\"><b><i style=\"display:none;\">earthquake</i><a href=\"/Earthquake/earthquake.php?id=976507\">2021-04-27   17:53:06.2</a></b><i class=\"ago\" id=\"ago21\">2hr 51min ago</i></td><td class=\"tabev1\">29.68 </td><td class=\"tabev2\">S  </td><td class=\"tabev1\">176.93 </td><td class=\"tabev2\">W  </td><td class=\"tabev3\">10</td><td class=\"tabev5\" id=\"magtyp21\">Mw</td><td class=\"tabev2\">5.3</td><td class=\"tb_region\" id=\"reg21\"> KERMADEC ISLANDS REGION</td><td class=\"comment updatetimeno\" id=\"upd21\" style=\"text-align:right;\">2021-04-27 19:15</td></tr>,\n",
       " <tr class=\"ligne1 normal\" id=\"976498\" onclick=\"go_details(event,976498);\"><td class=\"tabev0\"></td><td class=\"tabev0\"></td><td class=\"tabev0\"></td><td class=\"tabev6\"><b><i style=\"display:none;\">earthquake</i><a href=\"/Earthquake/earthquake.php?id=976498\">2021-04-27   17:48:52.5</a></b><i class=\"ago\" id=\"ago22\">2hr 56min ago</i></td><td class=\"tabev1\">19.25 </td><td class=\"tabev2\">N  </td><td class=\"tabev1\">155.44 </td><td class=\"tabev2\">W  </td><td class=\"tabev3\">35</td><td class=\"tabev5\" id=\"magtyp22\">ML</td><td class=\"tabev2\">2.9</td><td class=\"tb_region\" id=\"reg22\"> ISLAND OF HAWAII, HAWAII</td><td class=\"comment updatetimeno\" id=\"upd22\" style=\"text-align:right;\">2021-04-27 19:17</td></tr>,\n",
       " <tr class=\"ligne2 normal\" id=\"976496\" onclick=\"go_details(event,976496);\"><td class=\"tabev0\" style=\"text-align:center;\"><a href=\"https://www.emsc-csem.org/Earthquake/Testimonies/comments.php?id=976496\" onmouseout=\"info_b2('notshow','');\" onmouseover=\"info_b2('show','See the &lt;b&gt;3 testimonies&lt;/b&gt; for this earthquake');\"><span class=\"\" style=\"vertical-align:middle;\">3</span></a></td><td class=\"tabev0\"></td><td class=\"tabev0\"><span class=\"intensity\" onclick=\"go_details(event,null,'https://www.emsc-csem.org/Earthquake/popup_intensmap.php?id=976496&amp;f=/FELTREPORTS/97/976496/IntensityMap.png');\" onmouseout=\"info_b2('notshow','');\" onmouseover=\"info_b2('show','See the &lt;b&gt; Intensity map&lt;/b&gt;');\" style=\"background-color:#66CCFF;\">III</span></td><td class=\"tabev6\"><b><i style=\"display:none;\">earthquake</i><a href=\"/Earthquake/earthquake.php?id=976496\">2021-04-27   17:48:36.7</a></b><i class=\"ago\" id=\"ago23\">2hr 56min ago</i></td><td class=\"tabev1\">40.62 </td><td class=\"tabev2\">N  </td><td class=\"tabev1\">21.59 </td><td class=\"tabev2\">E  </td><td class=\"tabev3\">2</td><td class=\"tabev5\" id=\"magtyp23\">ML</td><td class=\"tabev2\">3.0</td><td class=\"tb_region\" id=\"reg23\"> GREECE</td><td class=\"comment updatetimeno\" id=\"upd23\" style=\"text-align:right;\">2021-04-27 18:25</td></tr>,\n",
       " <tr class=\"ligne1 normal\" id=\"976505\" onclick=\"go_details(event,976505);\"><td class=\"tabev0\"></td><td class=\"tabev0\"></td><td class=\"tabev0\"></td><td class=\"tabev6\"><b><i style=\"display:none;\">earthquake</i><a href=\"/Earthquake/earthquake.php?id=976505\">2021-04-27   17:47:42.6</a></b><i class=\"ago\" id=\"ago24\">2hr 57min ago</i></td><td class=\"tabev1\">19.05 </td><td class=\"tabev2\">N  </td><td class=\"tabev1\">120.86 </td><td class=\"tabev2\">E  </td><td class=\"tabev3\">40</td><td class=\"tabev5\" id=\"magtyp24\">mb</td><td class=\"tabev2\">4.5</td><td class=\"tb_region\" id=\"reg24\"> BABUYAN ISL REGION, PHILIPPINES</td><td class=\"comment updatetimeno\" id=\"upd24\" style=\"text-align:right;\">2021-04-27 19:30</td></tr>,\n",
       " <tr class=\"ligne2 normal\" id=\"976497\" onclick=\"go_details(event,976497);\"><td class=\"tabev0\"></td><td class=\"tabev0\"></td><td class=\"tabev0\"></td><td class=\"tabev6\"><b><i style=\"display:none;\">earthquake</i><a href=\"/Earthquake/earthquake.php?id=976497\">2021-04-27   17:47:22.2</a></b><i class=\"ago\" id=\"ago25\">2hr 57min ago</i></td><td class=\"tabev1\">35.98 </td><td class=\"tabev2\">N  </td><td class=\"tabev1\">120.54 </td><td class=\"tabev2\">W  </td><td class=\"tabev3\">10</td><td class=\"tabev5\" id=\"magtyp25\">ML</td><td class=\"tabev2\">2.5</td><td class=\"tb_region\" id=\"reg25\"> CENTRAL CALIFORNIA</td><td class=\"comment updatetimeno\" id=\"upd25\" style=\"text-align:right;\">2021-04-27 18:59</td></tr>,\n",
       " <tr class=\"ligne1 normal\" id=\"976500\" onclick=\"go_details(event,976500);\"><td class=\"tabev0\"></td><td class=\"tabev0\"></td><td class=\"tabev0\"></td><td class=\"tabev6\"><b><i style=\"display:none;\">earthquake</i><a href=\"/Earthquake/earthquake.php?id=976500\">2021-04-27   17:38:01.0</a></b><i class=\"ago\" id=\"ago26\">3hr 07min ago</i></td><td class=\"tabev1\">26.61 </td><td class=\"tabev2\">S  </td><td class=\"tabev1\">70.84 </td><td class=\"tabev2\">W  </td><td class=\"tabev3\">55</td><td class=\"tabev5\" id=\"magtyp26\">ML</td><td class=\"tabev2\">3.6</td><td class=\"tb_region\" id=\"reg26\"> OFFSHORE ATACAMA, CHILE</td><td class=\"comment updatetimeno\" id=\"upd26\" style=\"text-align:right;\">2021-04-27 17:55</td></tr>,\n",
       " <tr class=\"ligne2 normal\" id=\"976495\" onclick=\"go_details(event,976495);\"><td class=\"tabev0\"></td><td class=\"tabev0\"></td><td class=\"tabev0\"></td><td class=\"tabev6\"><b><i style=\"display:none;\">earthquake</i><a href=\"/Earthquake/earthquake.php?id=976495\">2021-04-27   17:31:59.0</a></b><i class=\"ago\" id=\"ago27\">3hr 13min ago</i></td><td class=\"tabev1\">10.76 </td><td class=\"tabev2\">S  </td><td class=\"tabev1\">75.35 </td><td class=\"tabev2\">W  </td><td class=\"tabev3\">19</td><td class=\"tabev5\" id=\"magtyp27\"> M</td><td class=\"tabev2\">3.8</td><td class=\"tb_region\" id=\"reg27\"> CENTRAL PERU</td><td class=\"comment updatetimeno\" id=\"upd27\" style=\"text-align:right;\">2021-04-27 17:40</td></tr>,\n",
       " <tr class=\"ligne1 normal\" id=\"976493\" onclick=\"go_details(event,976493);\"><td class=\"tabev0\"></td><td class=\"tabev0\"></td><td class=\"tabev0\"></td><td class=\"tabev6\"><b><i style=\"display:none;\">earthquake</i><a href=\"/Earthquake/earthquake.php?id=976493\">2021-04-27   17:30:43.7</a></b><i class=\"ago\" id=\"ago28\">3hr 14min ago</i></td><td class=\"tabev1\">36.43 </td><td class=\"tabev2\">N  </td><td class=\"tabev1\">27.10 </td><td class=\"tabev2\">E  </td><td class=\"tabev3\">5</td><td class=\"tabev5\" id=\"magtyp28\">ML</td><td class=\"tabev2\">2.5</td><td class=\"tb_region\" id=\"reg28\"> DODECANESE IS.-TURKEY BORDER REG</td><td class=\"comment updatetimeno\" id=\"upd28\" style=\"text-align:right;\">2021-04-27 17:48</td></tr>,\n",
       " <tr class=\"ligne2 normal\" id=\"976490\" onclick=\"go_details(event,976490);\"><td class=\"tabev0\"></td><td class=\"tabev0\"></td><td class=\"tabev0\"><span class=\"intensity\" onclick=\"go_details(event,null,'https://www.emsc-csem.org/Earthquake/popup_intensmap.php?id=976490&amp;f=/FELTREPORTS/97/976490/IntensityMap.png');\" onmouseout=\"info_b2('notshow','');\" onmouseover=\"info_b2('show','See the &lt;b&gt; Intensity map&lt;/b&gt;');\" style=\"background-color:#FFFFFF;\">F</span></td><td class=\"tabev6\"><b><i style=\"display:none;\">earthquake</i><a href=\"/Earthquake/earthquake.php?id=976490\">2021-04-27   17:26:00.6</a></b><i class=\"ago\" id=\"ago29\">3hr 19min ago</i></td><td class=\"tabev1\">60.40 </td><td class=\"tabev2\">N  </td><td class=\"tabev1\">147.68 </td><td class=\"tabev2\">W  </td><td class=\"tabev3\">26</td><td class=\"tabev5\" id=\"magtyp29\">mb</td><td class=\"tabev2\">4.3</td><td class=\"tb_region\" id=\"reg29\"> SOUTHERN ALASKA</td><td class=\"comment updatetimeno\" id=\"upd29\" style=\"text-align:right;\">2021-04-27 17:43</td></tr>,\n",
       " <tr class=\"ligne1 normal\" id=\"976499\" onclick=\"go_details(event,976499);\"><td class=\"tabev0\"></td><td class=\"tabev0\"></td><td class=\"tabev0\"></td><td class=\"tabev6\"><b><i style=\"display:none;\">earthquake</i><a href=\"/Earthquake/earthquake.php?id=976499\">2021-04-27   17:25:06.6</a></b><i class=\"ago\" id=\"ago30\">3hr 19min ago</i></td><td class=\"tabev1\">20.47 </td><td class=\"tabev2\">S  </td><td class=\"tabev1\">177.52 </td><td class=\"tabev2\">W  </td><td class=\"tabev3\">515</td><td class=\"tabev5\" id=\"magtyp30\">mb</td><td class=\"tabev2\">4.5</td><td class=\"tb_region\" id=\"reg30\"> FIJI REGION</td><td class=\"comment updatetimeno\" id=\"upd30\" style=\"text-align:right;\">2021-04-27 19:39</td></tr>,\n",
       " <tr class=\"ligne2 normal\" id=\"976487\" onclick=\"go_details(event,976487);\"><td class=\"tabev0\"></td><td class=\"tabev0\"></td><td class=\"tabev0\"></td><td class=\"tabev6\"><b><i style=\"display:none;\">earthquake</i><a href=\"/Earthquake/earthquake.php?id=976487\">2021-04-27   17:17:11.0</a></b><i class=\"ago\" id=\"ago31\">3hr 27min ago</i></td><td class=\"tabev1\">0.23 </td><td class=\"tabev2\">S  </td><td class=\"tabev1\">122.91 </td><td class=\"tabev2\">E  </td><td class=\"tabev3\">54</td><td class=\"tabev5\" id=\"magtyp31\"> M</td><td class=\"tabev2\">4.1</td><td class=\"tb_region\" id=\"reg31\"> SULAWESI, INDONESIA</td><td class=\"comment updatetimeno\" id=\"upd31\" style=\"text-align:right;\">2021-04-27 17:25</td></tr>,\n",
       " <tr class=\"ligne1 normal\" id=\"976506\" onclick=\"go_details(event,976506);\"><td class=\"tabev0\"></td><td class=\"tabev0\"></td><td class=\"tabev0\"></td><td class=\"tabev6\"><b><i style=\"display:none;\">earthquake</i><a href=\"/Earthquake/earthquake.php?id=976506\">2021-04-27   17:15:48.8</a></b><i class=\"ago\" id=\"ago32\">3hr 29min ago</i></td><td class=\"tabev1\">29.50 </td><td class=\"tabev2\">S  </td><td class=\"tabev1\">176.72 </td><td class=\"tabev2\">W  </td><td class=\"tabev3\">10</td><td class=\"tabev5\" id=\"magtyp32\">mb</td><td class=\"tabev2\">5.0</td><td class=\"tb_region\" id=\"reg32\"> KERMADEC ISLANDS REGION</td><td class=\"comment updatetimeno\" id=\"upd32\" style=\"text-align:right;\">2021-04-27 18:45</td></tr>,\n",
       " <tr class=\"ligne2 normal\" id=\"976492\" onclick=\"go_details(event,976492);\"><td class=\"tabev0\"></td><td class=\"tabev0\"></td><td class=\"tabev0\"></td><td class=\"tabev6\"><b><i style=\"display:none;\">earthquake</i><a href=\"/Earthquake/earthquake.php?id=976492\">2021-04-27   17:15:45.0</a></b><i class=\"ago\" id=\"ago33\">3hr 29min ago</i></td><td class=\"tabev1\">16.52 </td><td class=\"tabev2\">N  </td><td class=\"tabev1\">118.96 </td><td class=\"tabev2\">E  </td><td class=\"tabev3\">17</td><td class=\"tabev5\" id=\"magtyp33\"> M</td><td class=\"tabev2\">3.7</td><td class=\"tb_region\" id=\"reg33\"> PHILIPPINE ISLANDS REGION</td><td class=\"comment updatetimeno\" id=\"upd33\" style=\"text-align:right;\">2021-04-27 17:30</td></tr>,\n",
       " <tr class=\"ligne1 normal\" id=\"976482\" onclick=\"go_details(event,976482);\"><td class=\"tabev0\"></td><td class=\"tabev0\"></td><td class=\"tabev0\"><span class=\"intensity\" onclick=\"go_details(event,null,'https://www.emsc-csem.org/Earthquake/popup_intensmap.php?id=976482&amp;f=/FELTREPORTS/97/976482/IntensityMap.png');\" onmouseout=\"info_b2('notshow','');\" onmouseover=\"info_b2('show','See the &lt;b&gt; Intensity map&lt;/b&gt;');\" style=\"background-color:#FFFFFF;\">F</span></td><td class=\"tabev6\"><b><i style=\"display:none;\">earthquake</i><a href=\"/Earthquake/earthquake.php?id=976482\">2021-04-27   17:14:47.9</a></b><i class=\"ago\" id=\"ago34\">3hr 30min ago</i></td><td class=\"tabev1\">35.98 </td><td class=\"tabev2\">N  </td><td class=\"tabev1\">25.81 </td><td class=\"tabev2\">E  </td><td class=\"tabev3\">2</td><td class=\"tabev5\" id=\"magtyp34\">ML</td><td class=\"tabev2\">2.5</td><td class=\"tb_region\" id=\"reg34\"> CRETE, GREECE</td><td class=\"comment updatetimeno\" id=\"upd34\" style=\"text-align:right;\">2021-04-27 18:04</td></tr>,\n",
       " <tr class=\"ligne2 normal\" id=\"976489\" onclick=\"go_details(event,976489);\"><td class=\"tabev0\"></td><td class=\"tabev0\"></td><td class=\"tabev0\"></td><td class=\"tabev6\"><b><i style=\"display:none;\">earthquake</i><a href=\"/Earthquake/earthquake.php?id=976489\">2021-04-27   17:13:31.0</a></b><i class=\"ago\" id=\"ago35\">3hr 31min ago</i></td><td class=\"tabev1\">12.30 </td><td class=\"tabev2\">N  </td><td class=\"tabev1\">87.49 </td><td class=\"tabev2\">W  </td><td class=\"tabev3\">26</td><td class=\"tabev5\" id=\"magtyp35\"> M</td><td class=\"tabev2\">2.6</td><td class=\"tb_region\" id=\"reg35\"> NEAR COAST OF NICARAGUA</td><td class=\"comment updatetimeno\" id=\"upd35\" style=\"text-align:right;\">2021-04-27 17:25</td></tr>,\n",
       " <tr class=\"ligne1 normal\" id=\"976481\" onclick=\"go_details(event,976481);\"><td class=\"tabev0\"></td><td class=\"tabev0\"></td><td class=\"tabev0\"></td><td class=\"tabev6\"><b><i style=\"display:none;\">earthquake</i><a href=\"/Earthquake/earthquake.php?id=976481\">2021-04-27   17:05:09.0</a></b><i class=\"ago\" id=\"ago36\">3hr 39min ago</i></td><td class=\"tabev1\">28.89 </td><td class=\"tabev2\">S  </td><td class=\"tabev1\">71.09 </td><td class=\"tabev2\">W  </td><td class=\"tabev3\">44</td><td class=\"tabev5\" id=\"magtyp36\">ML</td><td class=\"tabev2\">3.1</td><td class=\"tb_region\" id=\"reg36\"> ATACAMA, CHILE</td><td class=\"comment updatetimeno\" id=\"upd36\" style=\"text-align:right;\">2021-04-27 17:14</td></tr>,\n",
       " <tr class=\"ligne2 normal\" id=\"976484\" onclick=\"go_details(event,976484);\"><td class=\"tabev0\"></td><td class=\"tabev0\"></td><td class=\"tabev0\"></td><td class=\"tabev6\"><b><i style=\"display:none;\">earthquake</i><a href=\"/Earthquake/earthquake.php?id=976484\">2021-04-27   17:03:57.9</a></b><i class=\"ago\" id=\"ago37\">3hr 41min ago</i></td><td class=\"tabev1\">37.59 </td><td class=\"tabev2\">S  </td><td class=\"tabev1\">179.82 </td><td class=\"tabev2\">E  </td><td class=\"tabev3\">12</td><td class=\"tabev5\" id=\"magtyp37\">ML</td><td class=\"tabev2\">3.6</td><td class=\"tb_region\" id=\"reg37\"> OFF E. COAST OF N. ISLAND, N.Z.</td><td class=\"comment updatetimeno\" id=\"upd37\" style=\"text-align:right;\">2021-04-27 17:20</td></tr>,\n",
       " <tr class=\"ligne1 normal\" id=\"976480\" onclick=\"go_details(event,976480);\"><td class=\"tabev0\"></td><td class=\"tabev0\"></td><td class=\"tabev0\"></td><td class=\"tabev6\"><b><i style=\"display:none;\">earthquake</i><a href=\"/Earthquake/earthquake.php?id=976480\">2021-04-27   16:58:09.6</a></b><i class=\"ago\" id=\"ago38\">3hr 46min ago</i></td><td class=\"tabev1\">5.28 </td><td class=\"tabev2\">N  </td><td class=\"tabev1\">126.49 </td><td class=\"tabev2\">E  </td><td class=\"tabev3\">54</td><td class=\"tabev5\" id=\"magtyp38\">mb</td><td class=\"tabev2\">4.5</td><td class=\"tb_region\" id=\"reg38\"> MINDANAO, PHILIPPINES</td><td class=\"comment updatetimeno\" id=\"upd38\" style=\"text-align:right;\">2021-04-27 18:22</td></tr>,\n",
       " <tr class=\"ligne2 normal\" id=\"976491\" onclick=\"go_details(event,976491);\"><td class=\"tabev0\" style=\"text-align:center;\"><a href=\"https://www.emsc-csem.org/Earthquake/Testimonies/comments.php?id=976491\" onmouseout=\"info_b2('notshow','');\" onmouseover=\"info_b2('show','See the &lt;b&gt;9 testimonies&lt;/b&gt; for this earthquake');\"><span class=\"\" style=\"vertical-align:middle;\">9</span></a></td><td class=\"tabev0\"></td><td class=\"tabev0\"><span class=\"intensity\" onclick=\"go_details(event,null,'https://www.emsc-csem.org/Earthquake/popup_intensmap.php?id=976491&amp;f=/FELTREPORTS/97/976491/IntensityMap.png');\" onmouseout=\"info_b2('notshow','');\" onmouseover=\"info_b2('show','See the &lt;b&gt; Intensity map&lt;/b&gt;');\" style=\"background-color:#00FFFF;\">IV</span></td><td class=\"tabev6\"><b><i style=\"display:none;\">earthquake</i><a href=\"/Earthquake/earthquake.php?id=976491\">2021-04-27   16:53:02.6</a></b><i class=\"ago\" id=\"ago39\">3hr 52min ago</i></td><td class=\"tabev1\">42.91 </td><td class=\"tabev2\">N  </td><td class=\"tabev1\">17.81 </td><td class=\"tabev2\">E  </td><td class=\"tabev3\">2</td><td class=\"tabev5\" id=\"magtyp39\">ML</td><td class=\"tabev2\">3.1</td><td class=\"tb_region\" id=\"reg39\"> BOSNIA AND HERZEGOVINA</td><td class=\"comment updatetimeno\" id=\"upd39\" style=\"text-align:right;\">2021-04-27 17:31</td></tr>,\n",
       " <tr class=\"ligne1 normal\" id=\"976477\" onclick=\"go_details(event,976477);\"><td class=\"tabev0\"></td><td class=\"tabev0\"></td><td class=\"tabev0\"></td><td class=\"tabev6\"><b><i style=\"display:none;\">earthquake</i><a href=\"/Earthquake/earthquake.php?id=976477\">2021-04-27   16:51:24.0</a></b><i class=\"ago\" id=\"ago40\">3hr 53min ago</i></td><td class=\"tabev1\">7.70 </td><td class=\"tabev2\">S  </td><td class=\"tabev1\">128.98 </td><td class=\"tabev2\">E  </td><td class=\"tabev3\">90</td><td class=\"tabev5\" id=\"magtyp40\"> M</td><td class=\"tabev2\">4.4</td><td class=\"tb_region\" id=\"reg40\"> KEPULAUAN BARAT DAYA, INDONESIA</td><td class=\"comment updatetimeno\" id=\"upd40\" style=\"text-align:right;\">2021-04-27 17:00</td></tr>,\n",
       " <tr class=\"ligne2 normal\" id=\"976471\" onclick=\"go_details(event,976471);\"><td class=\"tabev0\"></td><td class=\"tabev0\"></td><td class=\"tabev0\"></td><td class=\"tabev6\"><b><i style=\"display:none;\">earthquake</i><a href=\"/Earthquake/earthquake.php?id=976471\">2021-04-27   16:43:09.2</a></b><i class=\"ago\" id=\"ago41\">4hr 01min ago</i></td><td class=\"tabev1\">29.59 </td><td class=\"tabev2\">S  </td><td class=\"tabev1\">176.71 </td><td class=\"tabev2\">W  </td><td class=\"tabev3\">10</td><td class=\"tabev5\" id=\"magtyp41\">Mw</td><td class=\"tabev2\">5.0</td><td class=\"tb_region\" id=\"reg41\"> KERMADEC ISLANDS REGION</td><td class=\"comment updatetimeno\" id=\"upd41\" style=\"text-align:right;\">2021-04-27 18:40</td></tr>,\n",
       " <tr class=\"ligne1 normal\" id=\"976488\" onclick=\"go_details(event,976488);\"><td class=\"tabev0\"></td><td class=\"tabev0\"></td><td class=\"tabev0\"></td><td class=\"tabev6\"><b><i style=\"display:none;\">earthquake</i><a href=\"/Earthquake/earthquake.php?id=976488\">2021-04-27   16:41:49.0</a></b><i class=\"ago\" id=\"ago42\">4hr 03min ago</i></td><td class=\"tabev1\">28.19 </td><td class=\"tabev2\">S  </td><td class=\"tabev1\">67.55 </td><td class=\"tabev2\">W  </td><td class=\"tabev3\">134</td><td class=\"tabev5\" id=\"magtyp42\"> M</td><td class=\"tabev2\">3.1</td><td class=\"tb_region\" id=\"reg42\"> CATAMARCA, ARGENTINA</td><td class=\"comment updatetimeno\" id=\"upd42\" style=\"text-align:right;\">2021-04-27 17:25</td></tr>,\n",
       " <tr class=\"ligne2 normal\" id=\"976468\" onclick=\"go_details(event,976468);\"><td class=\"tabev0\"></td><td class=\"tabev0\"></td><td class=\"tabev0\"></td><td class=\"tabev6\"><b><i style=\"display:none;\">earthquake</i><a href=\"/Earthquake/earthquake.php?id=976468\">2021-04-27   16:38:12.0</a></b><i class=\"ago\" id=\"ago43\">4hr 06min ago</i></td><td class=\"tabev1\">33.94 </td><td class=\"tabev2\">N  </td><td class=\"tabev1\">118.37 </td><td class=\"tabev2\">W  </td><td class=\"tabev3\">22</td><td class=\"tabev5\" id=\"magtyp43\">Ml</td><td class=\"tabev2\">2.4</td><td class=\"tb_region\" id=\"reg43\"> GREATER LOS ANGELES AREA, CALIF.</td><td class=\"comment updatetimeno\" id=\"upd43\" style=\"text-align:right;\">2021-04-27 16:41</td></tr>,\n",
       " <tr class=\"ligne1 normal\" id=\"976478\" onclick=\"go_details(event,976478);\"><td class=\"tabev0\"></td><td class=\"tabev0\"></td><td class=\"tabev0\"></td><td class=\"tabev6\"><b><i style=\"display:none;\">earthquake</i><a href=\"/Earthquake/earthquake.php?id=976478\">2021-04-27   16:37:38.0</a></b><i class=\"ago\" id=\"ago44\">4hr 07min ago</i></td><td class=\"tabev1\">8.56 </td><td class=\"tabev2\">S  </td><td class=\"tabev1\">113.53 </td><td class=\"tabev2\">E  </td><td class=\"tabev3\">88</td><td class=\"tabev5\" id=\"magtyp44\"> M</td><td class=\"tabev2\">3.3</td><td class=\"tb_region\" id=\"reg44\"> JAVA, INDONESIA</td><td class=\"comment updatetimeno\" id=\"upd44\" style=\"text-align:right;\">2021-04-27 17:00</td></tr>,\n",
       " <tr class=\"ligne2 info\" id=\"976469\" onclick=\"go_details(event,976469);\"><td class=\"tabev0\"></td><td class=\"tabev0\"></td><td class=\"tabev0\"></td><td class=\"tabev6\"><b><i style=\"display:none;\">earthquake</i><a href=\"/Earthquake/earthquake.php?id=976469\">2021-04-27   16:33:35.5</a></b><i class=\"ago\" id=\"ago45\">4hr 11min ago</i></td><td class=\"tabev1\">29.23 </td><td class=\"tabev2\">S  </td><td class=\"tabev1\">176.91 </td><td class=\"tabev2\">W  </td><td class=\"tabev3\">20</td><td class=\"tabev5\" id=\"magtyp45\">Mw</td><td class=\"tabev2\">6.0</td><td class=\"tb_region\" id=\"reg45\"> KERMADEC ISLANDS REGION</td><td class=\"comment updatetimeno\" id=\"upd45\" style=\"text-align:right;\">2021-04-27 19:25</td></tr>,\n",
       " <tr class=\"ligne1 normal\" id=\"976466\" onclick=\"go_details(event,976466);\"><td class=\"tabev0\"></td><td class=\"tabev0\"></td><td class=\"tabev0\"></td><td class=\"tabev6\"><b><i style=\"display:none;\">earthquake</i><a href=\"/Earthquake/earthquake.php?id=976466\">2021-04-27   16:20:58.0</a></b><i class=\"ago\" id=\"ago46\">4hr 24min ago</i></td><td class=\"tabev1\">5.38 </td><td class=\"tabev2\">N  </td><td class=\"tabev1\">125.32 </td><td class=\"tabev2\">E  </td><td class=\"tabev3\">6</td><td class=\"tabev5\" id=\"magtyp46\"> M</td><td class=\"tabev2\">3.2</td><td class=\"tb_region\" id=\"reg46\"> MINDANAO, PHILIPPINES</td><td class=\"comment updatetimeno\" id=\"upd46\" style=\"text-align:right;\">2021-04-27 16:30</td></tr>,\n",
       " <tr class=\"ligne2 normal\" id=\"976465\" onclick=\"go_details(event,976465);\"><td class=\"tabev0\"></td><td class=\"tabev0\"></td><td class=\"tabev0\"></td><td class=\"tabev6\"><b><i style=\"display:none;\">earthquake</i><a href=\"/Earthquake/earthquake.php?id=976465\">2021-04-27   16:20:28.7</a></b><i class=\"ago\" id=\"ago47\">4hr 24min ago</i></td><td class=\"tabev1\">19.96 </td><td class=\"tabev2\">N  </td><td class=\"tabev1\">155.54 </td><td class=\"tabev2\">W  </td><td class=\"tabev3\">34</td><td class=\"tabev5\" id=\"magtyp47\">Ml</td><td class=\"tabev2\">2.0</td><td class=\"tb_region\" id=\"reg47\"> ISLAND OF HAWAII, HAWAII</td><td class=\"comment updatetimeno\" id=\"upd47\" style=\"text-align:right;\">2021-04-27 16:26</td></tr>,\n",
       " <tr class=\"ligne1 normal\" id=\"976463\" onclick=\"go_details(event,976463);\"><td class=\"tabev0\"></td><td class=\"tabev0\"></td><td class=\"tabev0\"></td><td class=\"tabev6\"><b><i style=\"display:none;\">earthquake</i><a href=\"/Earthquake/earthquake.php?id=976463\">2021-04-27   16:15:16.0</a></b><i class=\"ago\" id=\"ago48\">4hr 29min ago</i></td><td class=\"tabev1\">0.82 </td><td class=\"tabev2\">N  </td><td class=\"tabev1\">125.78 </td><td class=\"tabev2\">E  </td><td class=\"tabev3\">10</td><td class=\"tabev5\" id=\"magtyp48\"> M</td><td class=\"tabev2\">3.5</td><td class=\"tb_region\" id=\"reg48\"> MOLUCCA SEA</td><td class=\"comment updatetimeno\" id=\"upd48\" style=\"text-align:right;\">2021-04-27 16:20</td></tr>,\n",
       " <tr class=\"ligne2 normal\" id=\"976462\" onclick=\"go_details(event,976462);\"><td class=\"tabev0\"></td><td class=\"tabev0\"></td><td class=\"tabev0\"></td><td class=\"tabev6\"><b><i style=\"display:none;\">earthquake</i><a href=\"/Earthquake/earthquake.php?id=976462\">2021-04-27   16:07:22.4</a></b><i class=\"ago\" id=\"ago49\">4hr 37min ago</i></td><td class=\"tabev1\">37.08 </td><td class=\"tabev2\">N  </td><td class=\"tabev1\">20.93 </td><td class=\"tabev2\">E  </td><td class=\"tabev3\">13</td><td class=\"tabev5\" id=\"magtyp49\">ML</td><td class=\"tabev2\">2.6</td><td class=\"tb_region\" id=\"reg49\"> IONIAN SEA</td><td class=\"comment updatetimeno\" id=\"upd49\" style=\"text-align:right;\">2021-04-27 16:23</td></tr>]"
      ]
     },
     "execution_count": 756,
     "metadata": {},
     "output_type": "execute_result"
    }
   ],
   "source": [
    "soup4.select(\"tbody tr, .ligne1 normal.ligne2 normal \")"
   ]
  },
  {
   "cell_type": "code",
   "execution_count": 760,
   "id": "prescription-idaho",
   "metadata": {},
   "outputs": [],
   "source": [
    "datetime = []\n",
    "for i in range(20):\n",
    "    datetime.append(soup4.select(\"td.tabev6 > b > a\")[i].get_text())"
   ]
  },
  {
   "cell_type": "code",
   "execution_count": 761,
   "id": "wrapped-honey",
   "metadata": {},
   "outputs": [],
   "source": [
    "latitude1 = []\n",
    "for i in range(20):\n",
    "    latitude1.append(soup4.select(\"td:nth-child(5)\")[i].get_text())\n",
    "\n",
    "# latitude1"
   ]
  },
  {
   "cell_type": "code",
   "execution_count": 762,
   "id": "collective-liability",
   "metadata": {},
   "outputs": [],
   "source": [
    "latitude2 = []\n",
    "for i in range(20):\n",
    "    latitude2.append(soup4.select(\"td:nth-child(6)\")[i].get_text())\n",
    "\n",
    "# latitude2"
   ]
  },
  {
   "cell_type": "code",
   "execution_count": 763,
   "id": "helpful-warrant",
   "metadata": {},
   "outputs": [],
   "source": [
    "longitude1 = []\n",
    "for i in range(20):\n",
    "    longitude1.append(soup4.select(\"td:nth-child(7)\")[i].get_text())\n",
    "\n",
    "# longitude1"
   ]
  },
  {
   "cell_type": "code",
   "execution_count": 764,
   "id": "occupational-cuisine",
   "metadata": {},
   "outputs": [],
   "source": [
    "longitude2 = []\n",
    "for i in range(20):\n",
    "    longitude2.append(soup4.select(\"td:nth-child(8)\")[i].get_text())\n",
    "\n",
    "# longitude2"
   ]
  },
  {
   "cell_type": "code",
   "execution_count": 765,
   "id": "romantic-great",
   "metadata": {},
   "outputs": [],
   "source": [
    "regions = soup4.find_all(id=re.compile(\"reg\\d\"))"
   ]
  },
  {
   "cell_type": "code",
   "execution_count": 766,
   "id": "continent-description",
   "metadata": {},
   "outputs": [],
   "source": [
    "regionname = []\n",
    "for i in range(20):\n",
    "    regionname.append(regions[i].get_text())\n",
    "\n",
    "# regionname"
   ]
  },
  {
   "cell_type": "code",
   "execution_count": 767,
   "id": "hundred-locking",
   "metadata": {},
   "outputs": [],
   "source": [
    "earthquakes = pd.DataFrame({'datetime':datetime,\"latitude1\":latitude1,\"latitude2\":latitude2,\n",
    "                       'longitude1':longitude1,'longitude2':longitude2,'region':regionname })"
   ]
  },
  {
   "cell_type": "code",
   "execution_count": 768,
   "id": "exceptional-sister",
   "metadata": {},
   "outputs": [],
   "source": [
    "earthquakes['latitude1'] = earthquakes['latitude1']+earthquakes['latitude2']\n",
    "earthquakes['longitude1'] = earthquakes['longitude1']+earthquakes['longitude2']\n",
    "earthquakes.drop(['latitude2','longitude2'], axis=1, inplace=True)"
   ]
  },
  {
   "cell_type": "code",
   "execution_count": 769,
   "id": "unusual-graham",
   "metadata": {},
   "outputs": [],
   "source": [
    "earthquakes.rename(columns = {'latitude1':'latitude','longitude1':'longitude'}, inplace = True)"
   ]
  },
  {
   "cell_type": "code",
   "execution_count": 770,
   "id": "known-newark",
   "metadata": {},
   "outputs": [
    {
     "data": {
      "text/html": [
       "<div>\n",
       "<style scoped>\n",
       "    .dataframe tbody tr th:only-of-type {\n",
       "        vertical-align: middle;\n",
       "    }\n",
       "\n",
       "    .dataframe tbody tr th {\n",
       "        vertical-align: top;\n",
       "    }\n",
       "\n",
       "    .dataframe thead th {\n",
       "        text-align: right;\n",
       "    }\n",
       "</style>\n",
       "<table border=\"1\" class=\"dataframe\">\n",
       "  <thead>\n",
       "    <tr style=\"text-align: right;\">\n",
       "      <th></th>\n",
       "      <th>datetime</th>\n",
       "      <th>latitude</th>\n",
       "      <th>longitude</th>\n",
       "      <th>region</th>\n",
       "    </tr>\n",
       "  </thead>\n",
       "  <tbody>\n",
       "    <tr>\n",
       "      <th>0</th>\n",
       "      <td>2021-04-27   20:27:47.6</td>\n",
       "      <td>36.44 N</td>\n",
       "      <td>27.15 E</td>\n",
       "      <td>DODECANESE IS.-TURKEY BORDER REG</td>\n",
       "    </tr>\n",
       "    <tr>\n",
       "      <th>1</th>\n",
       "      <td>2021-04-27   20:27:47.2</td>\n",
       "      <td>23.16 N</td>\n",
       "      <td>120.92 E</td>\n",
       "      <td>TAIWAN</td>\n",
       "    </tr>\n",
       "    <tr>\n",
       "      <th>2</th>\n",
       "      <td>2021-04-27   20:23:09.0</td>\n",
       "      <td>32.70 S</td>\n",
       "      <td>69.09 W</td>\n",
       "      <td>MENDOZA, ARGENTINA</td>\n",
       "    </tr>\n",
       "    <tr>\n",
       "      <th>3</th>\n",
       "      <td>2021-04-27   20:17:46.2</td>\n",
       "      <td>26.68 N</td>\n",
       "      <td>141.73 E</td>\n",
       "      <td>BONIN ISLANDS, JAPAN REGION</td>\n",
       "    </tr>\n",
       "    <tr>\n",
       "      <th>4</th>\n",
       "      <td>2021-04-27   20:01:28.1</td>\n",
       "      <td>36.47 N</td>\n",
       "      <td>27.15 E</td>\n",
       "      <td>DODECANESE IS.-TURKEY BORDER REG</td>\n",
       "    </tr>\n",
       "    <tr>\n",
       "      <th>5</th>\n",
       "      <td>2021-04-27   19:43:12.5</td>\n",
       "      <td>36.45 N</td>\n",
       "      <td>27.12 E</td>\n",
       "      <td>DODECANESE IS.-TURKEY BORDER REG</td>\n",
       "    </tr>\n",
       "    <tr>\n",
       "      <th>6</th>\n",
       "      <td>2021-04-27   19:42:10.9</td>\n",
       "      <td>31.66 N</td>\n",
       "      <td>104.38 W</td>\n",
       "      <td>WESTERN TEXAS</td>\n",
       "    </tr>\n",
       "    <tr>\n",
       "      <th>7</th>\n",
       "      <td>2021-04-27   19:38:51.0</td>\n",
       "      <td>16.75 S</td>\n",
       "      <td>71.48 W</td>\n",
       "      <td>SOUTHERN PERU</td>\n",
       "    </tr>\n",
       "    <tr>\n",
       "      <th>8</th>\n",
       "      <td>2021-04-27   19:36:08.7</td>\n",
       "      <td>33.94 N</td>\n",
       "      <td>118.37 W</td>\n",
       "      <td>GREATER LOS ANGELES AREA, CALIF.</td>\n",
       "    </tr>\n",
       "    <tr>\n",
       "      <th>9</th>\n",
       "      <td>2021-04-27   19:30:41.1</td>\n",
       "      <td>37.99 S</td>\n",
       "      <td>17.14 W</td>\n",
       "      <td>SOUTHERN MID-ATLANTIC RIDGE</td>\n",
       "    </tr>\n",
       "    <tr>\n",
       "      <th>10</th>\n",
       "      <td>2021-04-27   19:26:30.0</td>\n",
       "      <td>9.54 N</td>\n",
       "      <td>84.83 W</td>\n",
       "      <td>COSTA RICA</td>\n",
       "    </tr>\n",
       "    <tr>\n",
       "      <th>11</th>\n",
       "      <td>2021-04-27   19:24:07.5</td>\n",
       "      <td>38.04 N</td>\n",
       "      <td>27.07 E</td>\n",
       "      <td>WESTERN TURKEY</td>\n",
       "    </tr>\n",
       "    <tr>\n",
       "      <th>12</th>\n",
       "      <td>2021-04-27   19:09:39.2</td>\n",
       "      <td>40.12 N</td>\n",
       "      <td>15.87 E</td>\n",
       "      <td>SOUTHERN ITALY</td>\n",
       "    </tr>\n",
       "    <tr>\n",
       "      <th>13</th>\n",
       "      <td>2021-04-27   19:00:04.2</td>\n",
       "      <td>37.25 N</td>\n",
       "      <td>114.40 W</td>\n",
       "      <td>NEVADA</td>\n",
       "    </tr>\n",
       "    <tr>\n",
       "      <th>14</th>\n",
       "      <td>2021-04-27   18:35:08.8</td>\n",
       "      <td>19.78 S</td>\n",
       "      <td>67.30 W</td>\n",
       "      <td>POTOSI, BOLIVIA</td>\n",
       "    </tr>\n",
       "    <tr>\n",
       "      <th>15</th>\n",
       "      <td>2021-04-27   18:28:57.8</td>\n",
       "      <td>29.54 S</td>\n",
       "      <td>176.68 W</td>\n",
       "      <td>KERMADEC ISLANDS REGION</td>\n",
       "    </tr>\n",
       "    <tr>\n",
       "      <th>16</th>\n",
       "      <td>2021-04-27   18:27:19.6</td>\n",
       "      <td>33.94 N</td>\n",
       "      <td>118.40 W</td>\n",
       "      <td>GREATER LOS ANGELES AREA, CALIF.</td>\n",
       "    </tr>\n",
       "    <tr>\n",
       "      <th>17</th>\n",
       "      <td>2021-04-27   18:17:48.3</td>\n",
       "      <td>33.95 N</td>\n",
       "      <td>118.35 W</td>\n",
       "      <td>GREATER LOS ANGELES AREA, CALIF.</td>\n",
       "    </tr>\n",
       "    <tr>\n",
       "      <th>18</th>\n",
       "      <td>2021-04-27   18:12:12.8</td>\n",
       "      <td>19.25 N</td>\n",
       "      <td>155.44 W</td>\n",
       "      <td>ISLAND OF HAWAII, HAWAII</td>\n",
       "    </tr>\n",
       "    <tr>\n",
       "      <th>19</th>\n",
       "      <td>2021-04-27   17:54:35.4</td>\n",
       "      <td>61.33 N</td>\n",
       "      <td>149.95 W</td>\n",
       "      <td>SOUTHERN ALASKA</td>\n",
       "    </tr>\n",
       "  </tbody>\n",
       "</table>\n",
       "</div>"
      ],
      "text/plain": [
       "                   datetime   latitude   longitude  \\\n",
       "0   2021-04-27   20:27:47.6  36.44 N     27.15 E     \n",
       "1   2021-04-27   20:27:47.2  23.16 N    120.92 E     \n",
       "2   2021-04-27   20:23:09.0  32.70 S     69.09 W     \n",
       "3   2021-04-27   20:17:46.2  26.68 N    141.73 E     \n",
       "4   2021-04-27   20:01:28.1  36.47 N     27.15 E     \n",
       "5   2021-04-27   19:43:12.5  36.45 N     27.12 E     \n",
       "6   2021-04-27   19:42:10.9  31.66 N    104.38 W     \n",
       "7   2021-04-27   19:38:51.0  16.75 S     71.48 W     \n",
       "8   2021-04-27   19:36:08.7  33.94 N    118.37 W     \n",
       "9   2021-04-27   19:30:41.1  37.99 S     17.14 W     \n",
       "10  2021-04-27   19:26:30.0   9.54 N     84.83 W     \n",
       "11  2021-04-27   19:24:07.5  38.04 N     27.07 E     \n",
       "12  2021-04-27   19:09:39.2  40.12 N     15.87 E     \n",
       "13  2021-04-27   19:00:04.2  37.25 N    114.40 W     \n",
       "14  2021-04-27   18:35:08.8  19.78 S     67.30 W     \n",
       "15  2021-04-27   18:28:57.8  29.54 S    176.68 W     \n",
       "16  2021-04-27   18:27:19.6  33.94 N    118.40 W     \n",
       "17  2021-04-27   18:17:48.3  33.95 N    118.35 W     \n",
       "18  2021-04-27   18:12:12.8  19.25 N    155.44 W     \n",
       "19  2021-04-27   17:54:35.4  61.33 N    149.95 W     \n",
       "\n",
       "                               region  \n",
       "0    DODECANESE IS.-TURKEY BORDER REG  \n",
       "1                              TAIWAN  \n",
       "2                  MENDOZA, ARGENTINA  \n",
       "3         BONIN ISLANDS, JAPAN REGION  \n",
       "4    DODECANESE IS.-TURKEY BORDER REG  \n",
       "5    DODECANESE IS.-TURKEY BORDER REG  \n",
       "6                       WESTERN TEXAS  \n",
       "7                       SOUTHERN PERU  \n",
       "8    GREATER LOS ANGELES AREA, CALIF.  \n",
       "9         SOUTHERN MID-ATLANTIC RIDGE  \n",
       "10                         COSTA RICA  \n",
       "11                     WESTERN TURKEY  \n",
       "12                     SOUTHERN ITALY  \n",
       "13                             NEVADA  \n",
       "14                    POTOSI, BOLIVIA  \n",
       "15            KERMADEC ISLANDS REGION  \n",
       "16   GREATER LOS ANGELES AREA, CALIF.  \n",
       "17   GREATER LOS ANGELES AREA, CALIF.  \n",
       "18           ISLAND OF HAWAII, HAWAII  \n",
       "19                    SOUTHERN ALASKA  "
      ]
     },
     "execution_count": 770,
     "metadata": {},
     "output_type": "execute_result"
    }
   ],
   "source": [
    "earthquakes"
   ]
  },
  {
   "cell_type": "markdown",
   "id": "affecting-faculty",
   "metadata": {},
   "source": [
    "### 5. List all language names and number of related articles in the order they appear in wikipedia.org"
   ]
  },
  {
   "cell_type": "code",
   "execution_count": 771,
   "id": "collectible-lexington",
   "metadata": {},
   "outputs": [],
   "source": [
    "url5 = 'https://www.wikipedia.org/'"
   ]
  },
  {
   "cell_type": "code",
   "execution_count": 772,
   "id": "secret-associate",
   "metadata": {},
   "outputs": [
    {
     "data": {
      "text/plain": [
       "200"
      ]
     },
     "execution_count": 772,
     "metadata": {},
     "output_type": "execute_result"
    }
   ],
   "source": [
    "response5 = requests.get(url5)\n",
    "response5.status_code # 200 status code means OK!"
   ]
  },
  {
   "cell_type": "code",
   "execution_count": 773,
   "id": "missing-municipality",
   "metadata": {},
   "outputs": [],
   "source": [
    "soup5 = BeautifulSoup(response5.content, \"html.parser\")"
   ]
  },
  {
   "cell_type": "code",
   "execution_count": 774,
   "id": "posted-reggae",
   "metadata": {},
   "outputs": [
    {
     "data": {
      "text/plain": [
       "[<li><a href=\"//ar.wikipedia.org/\" lang=\"ar\" title=\"Al-ʿArabīyah\"><bdi dir=\"rtl\">العربية</bdi></a></li>,\n",
       " <li><a href=\"//de.wikipedia.org/\" lang=\"de\">Deutsch</a></li>,\n",
       " <li><a href=\"//en.wikipedia.org/\" lang=\"en\" title=\"English\">English</a></li>,\n",
       " <li><a href=\"//es.wikipedia.org/\" lang=\"es\">Español</a></li>,\n",
       " <li><a href=\"//fr.wikipedia.org/\" lang=\"fr\">Français</a></li>,\n",
       " <li><a href=\"//it.wikipedia.org/\" lang=\"it\">Italiano</a></li>,\n",
       " <li><a href=\"//arz.wikipedia.org/\" lang=\"arz\" title=\"Maṣrī\"><bdi dir=\"rtl\">مصرى</bdi></a></li>,\n",
       " <li><a href=\"//nl.wikipedia.org/\" lang=\"nl\">Nederlands</a></li>,\n",
       " <li><a href=\"//ja.wikipedia.org/\" lang=\"ja\" title=\"Nihongo\">日本語</a></li>,\n",
       " <li><a href=\"//pl.wikipedia.org/\" lang=\"pl\">Polski</a></li>,\n",
       " <li><a href=\"//pt.wikipedia.org/\" lang=\"pt\">Português</a></li>,\n",
       " <li><a href=\"//ru.wikipedia.org/\" lang=\"ru\" title=\"Russkiy\">Русский</a></li>,\n",
       " <li><a href=\"//ceb.wikipedia.org/\" lang=\"ceb\">Sinugboanong Binisaya</a></li>,\n",
       " <li><a href=\"//sv.wikipedia.org/\" lang=\"sv\">Svenska</a></li>,\n",
       " <li><a href=\"//uk.wikipedia.org/\" lang=\"uk\" title=\"Ukrayins’ka\">Українська</a></li>,\n",
       " <li><a href=\"//vi.wikipedia.org/\" lang=\"vi\">Tiếng Việt</a></li>,\n",
       " <li><a href=\"//war.wikipedia.org/\" lang=\"war\">Winaray</a></li>,\n",
       " <li><a href=\"//zh.wikipedia.org/\" lang=\"zh\" title=\"Zhōngwén\">中文</a></li>,\n",
       " <li><a href=\"//sk.wikipedia.org/\" lang=\"sk\" title=\"Angličtina\">Slovenčina</a></li>,\n",
       " <li><a href=\"//ast.wikipedia.org/\" lang=\"ast\">Asturianu</a></li>,\n",
       " <li><a href=\"//az.wikipedia.org/\" lang=\"az\">Azərbaycanca</a></li>,\n",
       " <li><a href=\"//bg.wikipedia.org/\" lang=\"bg\" title=\"Bǎlgarski\">Български</a></li>,\n",
       " <li><a href=\"//zh-min-nan.wikipedia.org/\" lang=\"nan\">Bân-lâm-gú / Hō-ló-oē</a></li>,\n",
       " <li><a href=\"//bn.wikipedia.org/\" lang=\"bn\" title=\"Bangla\">বাংলা</a></li>,\n",
       " <li><a href=\"//be.wikipedia.org/\" lang=\"be\" title=\"Belaruskaya\">Беларуская</a></li>,\n",
       " <li><a href=\"//ca.wikipedia.org/\" lang=\"ca\">Català</a></li>,\n",
       " <li><a href=\"//cs.wikipedia.org/\" lang=\"cs\" title=\"čeština\">Čeština</a></li>,\n",
       " <li><a href=\"//cy.wikipedia.org/\" lang=\"cy\" title=\"Cymraeg\">Cymraeg</a></li>,\n",
       " <li><a href=\"//da.wikipedia.org/\" lang=\"da\">Dansk</a></li>,\n",
       " <li><a href=\"//et.wikipedia.org/\" lang=\"et\">Eesti</a></li>,\n",
       " <li><a href=\"//el.wikipedia.org/\" lang=\"el\" title=\"Ellīniká\">Ελληνικά</a></li>,\n",
       " <li><a href=\"//eo.wikipedia.org/\" lang=\"eo\">Esperanto</a></li>,\n",
       " <li><a href=\"//eu.wikipedia.org/\" lang=\"eu\">Euskara</a></li>,\n",
       " <li><a href=\"//fa.wikipedia.org/\" lang=\"fa\" title=\"Fārsi\"><bdi dir=\"rtl\">فارسی</bdi></a></li>,\n",
       " <li><a href=\"//gl.wikipedia.org/\" lang=\"gl\">Galego</a></li>,\n",
       " <li><a href=\"//hy.wikipedia.org/\" lang=\"hy\" title=\"Hayeren\">Հայերեն</a></li>,\n",
       " <li><a href=\"//hi.wikipedia.org/\" lang=\"hi\" title=\"Hindī\">हिन्दी</a></li>,\n",
       " <li><a href=\"//hr.wikipedia.org/\" lang=\"hr\">Hrvatski</a></li>,\n",
       " <li><a href=\"//id.wikipedia.org/\" lang=\"id\">Bahasa Indonesia</a></li>,\n",
       " <li><a href=\"//he.wikipedia.org/\" lang=\"he\" title=\"Ivrit\"><bdi dir=\"rtl\">עברית</bdi></a></li>,\n",
       " <li><a href=\"//ka.wikipedia.org/\" lang=\"ka\" title=\"Kartuli\">ქართული</a></li>,\n",
       " <li><a href=\"//la.wikipedia.org/\" lang=\"la\">Latina</a></li>,\n",
       " <li><a href=\"//lv.wikipedia.org/\" lang=\"lv\">Latviešu</a></li>,\n",
       " <li><a href=\"//lt.wikipedia.org/\" lang=\"lt\">Lietuvių</a></li>,\n",
       " <li><a href=\"//hu.wikipedia.org/\" lang=\"hu\">Magyar</a></li>,\n",
       " <li><a href=\"//mk.wikipedia.org/\" lang=\"mk\" title=\"Makedonski\">Македонски</a></li>,\n",
       " <li><a href=\"//ms.wikipedia.org/\" lang=\"ms\">Bahasa Melayu</a></li>,\n",
       " <li><a href=\"//min.wikipedia.org/\" lang=\"min\">Bahaso Minangkabau</a></li>,\n",
       " <li lang=\"no\">Norsk<ul><li><a href=\"//no.wikipedia.org/\" lang=\"nb\">bokmål</a></li><li><a href=\"//nn.wikipedia.org/\" lang=\"nn\">nynorsk</a></li></ul></li>,\n",
       " <li><a href=\"//no.wikipedia.org/\" lang=\"nb\">bokmål</a></li>,\n",
       " <li><a href=\"//nn.wikipedia.org/\" lang=\"nn\">nynorsk</a></li>,\n",
       " <li><a href=\"//ce.wikipedia.org/\" lang=\"ce\" title=\"Noxçiyn\">Нохчийн</a></li>,\n",
       " <li><a href=\"//uz.wikipedia.org/\" lang=\"uz\">Oʻzbekcha / Ўзбекча</a></li>,\n",
       " <li><a href=\"//kk.wikipedia.org/\" lang=\"kk\"><span lang=\"kk-Cyrl\">Қазақша</span> / <span lang=\"kk-Latn\">Qazaqşa</span> / <bdi dir=\"rtl\" lang=\"kk-Arab\">قازاقشا</bdi></a></li>,\n",
       " <li><a href=\"//ro.wikipedia.org/\" lang=\"ro\" title=\"Română\">Română</a></li>,\n",
       " <li><a href=\"//simple.wikipedia.org/\" lang=\"en\">Simple English</a></li>,\n",
       " <li><a href=\"//sl.wikipedia.org/\" lang=\"sl\">Slovenščina</a></li>,\n",
       " <li><a href=\"//sr.wikipedia.org/\" lang=\"sr\">Српски / Srpski</a></li>,\n",
       " <li><a href=\"//sh.wikipedia.org/\" lang=\"sh\">Srpskohrvatski / Српскохрватски</a></li>,\n",
       " <li><a href=\"//fi.wikipedia.org/\" lang=\"fi\" title=\"suomi\">Suomi</a></li>,\n",
       " <li><a href=\"//ta.wikipedia.org/\" lang=\"ta\" title=\"Tamiḻ\">தமிழ்</a></li>,\n",
       " <li><a href=\"//tt.wikipedia.org/\" lang=\"tt\">Татарча / Tatarça</a></li>,\n",
       " <li><a href=\"//th.wikipedia.org/\" lang=\"th\" title=\"Phasa Thai\">ภาษาไทย</a></li>,\n",
       " <li><a href=\"//tg.wikipedia.org/\" lang=\"tg\" title=\"Tojikī\">Тоҷикӣ</a></li>,\n",
       " <li><a href=\"//azb.wikipedia.org/\" lang=\"azb\" title=\"Türkce\"><bdi dir=\"rtl\">تۆرکجه</bdi></a></li>,\n",
       " <li><a href=\"//tr.wikipedia.org/\" lang=\"tr\" title=\"Türkçe\">Türkçe</a></li>,\n",
       " <li><a href=\"//ur.wikipedia.org/\" lang=\"ur\" title=\"Urdu\"><bdi dir=\"rtl\">اردو</bdi></a></li>,\n",
       " <li><a href=\"//vo.wikipedia.org/\" lang=\"vo\">Volapük</a></li>,\n",
       " <li><a data-convert-hans=\"粤语\" href=\"//zh-yue.wikipedia.org/\" id=\"zh-yue_wiki\" lang=\"yue\" title=\"Yuht Yúh / Jyut6 jyu5\">粵語</a></li>,\n",
       " <li><a href=\"//my.wikipedia.org/\" lang=\"my\" title=\"Myanmarsar\">မြန်မာဘာသာ</a></li>,\n",
       " <li><a href=\"//ko.wikipedia.org/\" lang=\"ko\" title=\"Hangugeo\">한국어</a></li>,\n",
       " <li><a href=\"//ace.wikipedia.org/\" lang=\"ace\">Bahsa Acèh</a></li>,\n",
       " <li><a href=\"//af.wikipedia.org/\" lang=\"af\">Afrikaans</a></li>,\n",
       " <li><a href=\"//als.wikipedia.org/\" lang=\"gsw\">Alemannisch</a></li>,\n",
       " <li><a href=\"//am.wikipedia.org/\" lang=\"am\" title=\"Āmariññā\">አማርኛ</a></li>,\n",
       " <li><a href=\"//an.wikipedia.org/\" lang=\"an\">Aragonés</a></li>,\n",
       " <li><a href=\"//map-bms.wikipedia.org/\" lang=\"map-x-bms\">Basa Banyumasan</a></li>,\n",
       " <li><a href=\"//ba.wikipedia.org/\" lang=\"ba\" title=\"Başqortsa\">Башҡортса</a></li>,\n",
       " <li><a href=\"//be-tarask.wikipedia.org/\" lang=\"be\" title=\"Belaruskaya (Taraškievica)\">Беларуская (Тарашкевіца)</a></li>,\n",
       " <li><a href=\"//bcl.wikipedia.org/\" lang=\"bcl\">Bikol Central</a></li>,\n",
       " <li><a href=\"//bpy.wikipedia.org/\" lang=\"bpy\" title=\"Bishnupriya Manipuri\">বিষ্ণুপ্রিয়া মণিপুরী</a></li>,\n",
       " <li><a href=\"//bar.wikipedia.org/\" lang=\"bar\">Boarisch</a></li>,\n",
       " <li><a href=\"//bs.wikipedia.org/\" lang=\"bs\">Bosanski</a></li>,\n",
       " <li><a href=\"//br.wikipedia.org/\" lang=\"br\">Brezhoneg</a></li>,\n",
       " <li><a href=\"//cv.wikipedia.org/\" lang=\"cv\" title=\"Čăvašla\">Чӑвашла</a></li>,\n",
       " <li><a href=\"//nv.wikipedia.org/\" lang=\"nv\">Diné Bizaad</a></li>,\n",
       " <li><a href=\"//eml.wikipedia.org/\" lang=\"roa-x-eml\">Emigliàn–Rumagnòl</a></li>,\n",
       " <li><a href=\"//fo.wikipedia.org/\" lang=\"fo\">Føroyskt</a></li>,\n",
       " <li><a href=\"//fy.wikipedia.org/\" lang=\"fy\">Frysk</a></li>,\n",
       " <li><a href=\"//ga.wikipedia.org/\" lang=\"ga\">Gaeilge</a></li>,\n",
       " <li><a href=\"//gd.wikipedia.org/\" lang=\"gd\">Gàidhlig</a></li>,\n",
       " <li><a href=\"//gu.wikipedia.org/\" lang=\"gu\" title=\"Gujarati\">ગુજરાતી</a></li>,\n",
       " <li><a href=\"//hsb.wikipedia.org/\" lang=\"hsb\">Hornjoserbsce</a></li>,\n",
       " <li><a href=\"//io.wikipedia.org/\" lang=\"io\" title=\"Ido\">Ido</a></li>,\n",
       " <li><a href=\"//ilo.wikipedia.org/\" lang=\"ilo\">Ilokano</a></li>,\n",
       " <li><a href=\"//ia.wikipedia.org/\" lang=\"ia\">Interlingua</a></li>,\n",
       " <li><a href=\"//os.wikipedia.org/\" lang=\"os\" title=\"Iron Ævzag\">Ирон æвзаг</a></li>,\n",
       " <li><a href=\"//is.wikipedia.org/\" lang=\"is\">Íslenska</a></li>,\n",
       " <li><a href=\"//jv.wikipedia.org/\" lang=\"jv\" title=\"Jawa\">Jawa</a></li>,\n",
       " <li><a href=\"//kn.wikipedia.org/\" lang=\"kn\" title=\"Kannada\">ಕನ್ನಡ</a></li>,\n",
       " <li><a href=\"//ht.wikipedia.org/\" lang=\"ht\">Kreyòl Ayisyen</a></li>,\n",
       " <li><a href=\"//ku.wikipedia.org/\" lang=\"ku\"><span lang=\"ku-Latn\">Kurdî</span> / <bdi dir=\"rtl\" lang=\"ku-Arab\">كوردی</bdi></a></li>,\n",
       " <li><a href=\"//ckb.wikipedia.org/\" lang=\"ckb\" title=\"Kurdîy Nawendî\"><bdi dir=\"rtl\">کوردیی ناوەندی</bdi></a></li>,\n",
       " <li><a href=\"//ky.wikipedia.org/\" lang=\"ky\" title=\"Kyrgyzča\">Кыргызча</a></li>,\n",
       " <li><a href=\"//mrj.wikipedia.org/\" lang=\"mjr\" title=\"Kyryk Mary\">Кырык Мары</a></li>,\n",
       " <li><a href=\"//lb.wikipedia.org/\" lang=\"lb\">Lëtzebuergesch</a></li>,\n",
       " <li><a href=\"//li.wikipedia.org/\" lang=\"li\">Limburgs</a></li>,\n",
       " <li><a href=\"//lmo.wikipedia.org/\" lang=\"lmo\">Lombard</a></li>,\n",
       " <li><a href=\"//lij.wikipedia.org/\" lang=\"lij\">Lìgure</a></li>,\n",
       " <li><a href=\"//mai.wikipedia.org/\" lang=\"mai\" title=\"Maithilī\">मैथिली</a></li>,\n",
       " <li><a href=\"//mg.wikipedia.org/\" lang=\"mg\">Malagasy</a></li>,\n",
       " <li><a href=\"//ml.wikipedia.org/\" lang=\"ml\" title=\"Malayalam\">മലയാളം</a></li>,\n",
       " <li><a href=\"//zh-classical.wikipedia.org/\" lang=\"lzh\" title=\"Man4jin4 / Wényán\">文言</a></li>,\n",
       " <li><a href=\"//mr.wikipedia.org/\" lang=\"mr\" title=\"Marathi\">मराठी</a></li>,\n",
       " <li><a href=\"//xmf.wikipedia.org/\" lang=\"xmf\" title=\"Margaluri\">მარგალური</a></li>,\n",
       " <li><a href=\"//mzn.wikipedia.org/\" lang=\"mzn\" title=\"Mäzeruni\"><bdi dir=\"rtl\">مازِرونی</bdi></a></li>,\n",
       " <li><a href=\"//cdo.wikipedia.org/\" lang=\"cdo\" title=\"Ming-deng-ngu\">Mìng-dĕ̤ng-ngṳ̄ / 閩東語</a></li>,\n",
       " <li><a href=\"//mn.wikipedia.org/\" lang=\"mn\" title=\"Mongol\">Монгол</a></li>,\n",
       " <li><a href=\"//new.wikipedia.org/\" lang=\"new\" title=\"Nepal Bhasa\">नेपाल भाषा</a></li>,\n",
       " <li><a href=\"//ne.wikipedia.org/\" lang=\"ne\" title=\"Nepālī\">नेपाली</a></li>,\n",
       " <li><a href=\"//nap.wikipedia.org/\" lang=\"nap\">Nnapulitano</a></li>,\n",
       " <li><a href=\"//frr.wikipedia.org/\" lang=\"frr\">Nordfriisk</a></li>,\n",
       " <li><a href=\"//oc.wikipedia.org/\" lang=\"oc\">Occitan</a></li>,\n",
       " <li><a href=\"//mhr.wikipedia.org/\" lang=\"mhr\" title=\"Olyk Marij\">Марий</a></li>,\n",
       " <li><a href=\"//or.wikipedia.org/\" lang=\"or\" title=\"Oṛiā\">ଓଡି଼ଆ</a></li>,\n",
       " <li><a href=\"//pa.wikipedia.org/\" lang=\"pa\" title=\"Pañjābī (Gurmukhī)\">ਪੰਜਾਬੀ (ਗੁਰਮੁਖੀ)</a></li>,\n",
       " <li><a href=\"//pnb.wikipedia.org/\" lang=\"pnb\" title=\"Pañjābī (Shāhmukhī)\"><bdi dir=\"rtl\">پنجابی (شاہ مکھی)</bdi></a></li>,\n",
       " <li><a href=\"//ps.wikipedia.org/\" lang=\"ps\" title=\"Paʂto\"><bdi dir=\"rtl\">پښتو</bdi></a></li>,\n",
       " <li><a href=\"//pms.wikipedia.org/\" lang=\"pms\">Piemontèis</a></li>,\n",
       " <li><a href=\"//nds.wikipedia.org/\" lang=\"nds\">Plattdüütsch</a></li>,\n",
       " <li><a href=\"//qu.wikipedia.org/\" lang=\"qu\">Runa Simi</a></li>,\n",
       " <li><a href=\"//sa.wikipedia.org/\" lang=\"sa\" title=\"Saṃskṛtam\">संस्कृतम्</a></li>,\n",
       " <li><a href=\"//sah.wikipedia.org/\" lang=\"sah\" title=\"Saxa Tyla\">Саха Тыла</a></li>,\n",
       " <li><a href=\"//sco.wikipedia.org/\" lang=\"sco\">Scots</a></li>,\n",
       " <li><a href=\"//sq.wikipedia.org/\" lang=\"sq\">Shqip</a></li>,\n",
       " <li><a href=\"//scn.wikipedia.org/\" lang=\"scn\">Sicilianu</a></li>,\n",
       " <li><a href=\"//si.wikipedia.org/\" lang=\"si\" title=\"Siṃhala\">සිංහල</a></li>,\n",
       " <li><a href=\"//sd.wikipedia.org/\" lang=\"sd\" title=\"Sindhī\"><bdi dir=\"rtl\">سنڌي</bdi></a></li>,\n",
       " <li><a href=\"//szl.wikipedia.org/\" lang=\"szl\">Ślůnski</a></li>,\n",
       " <li><a href=\"//su.wikipedia.org/\" lang=\"su\">Basa Sunda</a></li>,\n",
       " <li><a href=\"//sw.wikipedia.org/\" lang=\"sw\">Kiswahili</a></li>,\n",
       " <li><a href=\"//tl.wikipedia.org/\" lang=\"tl\">Tagalog</a></li>,\n",
       " <li><a href=\"//te.wikipedia.org/\" lang=\"te\" title=\"Telugu\">తెలుగు</a></li>,\n",
       " <li><a href=\"//bug.wikipedia.org/\" lang=\"bug\">ᨅᨔ ᨕᨙᨁᨗ / Basa Ugi</a></li>,\n",
       " <li><a href=\"//vec.wikipedia.org/\" lang=\"vec\">Vèneto</a></li>,\n",
       " <li><a href=\"//wa.wikipedia.org/\" lang=\"wa\">Walon</a></li>,\n",
       " <li><a data-convert-hans=\"吴语\" href=\"//wuu.wikipedia.org/\" id=\"wuu_wiki\" lang=\"wuu\" title=\"Wú Yǔ\">吳語</a></li>,\n",
       " <li><a href=\"//yi.wikipedia.org/\" lang=\"yi\" title=\"Yidiš\"><bdi dir=\"rtl\">ייִדיש</bdi></a></li>,\n",
       " <li><a href=\"//yo.wikipedia.org/\" lang=\"yo\">Yorùbá</a></li>,\n",
       " <li><a href=\"//diq.wikipedia.org/\" lang=\"diq\" title=\"Zazaki\">Zazaki</a></li>,\n",
       " <li><a href=\"//bat-smg.wikipedia.org/\" lang=\"sgs\">Žemaitėška</a></li>,\n",
       " <li><a href=\"//kbd.wikipedia.org/\" lang=\"kbd\" title=\"Adighabze\">Адыгэбзэ</a></li>,\n",
       " <li><a href=\"//ang.wikipedia.org/\" lang=\"ang\">Ænglisc</a></li>,\n",
       " <li><a href=\"//ak.wikipedia.org/\" lang=\"ak\">Akan</a></li>,\n",
       " <li><a href=\"//ab.wikipedia.org/\" lang=\"ab\" title=\"Aṗsua\">Аҧсуа</a></li>,\n",
       " <li><a href=\"//hyw.wikipedia.org/\" lang=\"hyw\" title=\"Arevmdahayeren\">Արեւմտահայերէն</a></li>,\n",
       " <li><a href=\"//roa-rup.wikipedia.org/\" lang=\"roa-rup\">Armãneashce</a></li>,\n",
       " <li><a href=\"//frp.wikipedia.org/\" lang=\"frp\">Arpitan</a></li>,\n",
       " <li><a href=\"//ig.wikipedia.org/\" lang=\"ig\">asụsụ bekee maọbụ asụsụ oyibo</a></li>,\n",
       " <li><a href=\"//arc.wikipedia.org/\" lang=\"arc\" title=\"Ātûrāyâ\"><bdi dir=\"rtl\">ܐܬܘܪܝܐ</bdi></a></li>,\n",
       " <li><a href=\"//gn.wikipedia.org/\" lang=\"gn\">Avañe’ẽ</a></li>,\n",
       " <li><a href=\"//av.wikipedia.org/\" lang=\"av\" title=\"Avar\">Авар</a></li>,\n",
       " <li><a href=\"//ay.wikipedia.org/\" lang=\"ay\">Aymar</a></li>,\n",
       " <li><a href=\"//ban.wikipedia.org/\" lang=\"ban\" title=\"Basa Bali\">Basa Bali</a></li>,\n",
       " <li><a href=\"//bjn.wikipedia.org/\" lang=\"bjn\">Bahasa Banjar</a></li>,\n",
       " <li><a href=\"//bh.wikipedia.org/\" lang=\"bh\" title=\"Bhōjapurī\">भोजपुरी</a></li>,\n",
       " <li><a href=\"//bi.wikipedia.org/\" lang=\"bi\">Bislama</a></li>,\n",
       " <li><a href=\"//bo.wikipedia.org/\" lang=\"bo\" title=\"Bod Skad\">བོད་ཡིག</a></li>,\n",
       " <li><a href=\"//bxr.wikipedia.org/\" lang=\"bxr\" title=\"Buryad\">Буряад</a></li>,\n",
       " <li><a href=\"//cbk-zam.wikipedia.org/\" lang=\"cbk-x-zam\">Chavacano de Zamboanga</a></li>,\n",
       " <li><a href=\"//co.wikipedia.org/\" lang=\"co\">Corsu</a></li>,\n",
       " <li><a href=\"//za.wikipedia.org/\" lang=\"za\">Vahcuengh / 話僮</a></li>,\n",
       " <li><a href=\"//se.wikipedia.org/\" lang=\"se\">Davvisámegiella</a></li>,\n",
       " <li><a href=\"//pdc.wikipedia.org/\" lang=\"pdc\">Deitsch</a></li>,\n",
       " <li><a href=\"//dsb.wikipedia.org/\" lang=\"dsb\">Dolnoserbski</a></li>,\n",
       " <li><a href=\"//myv.wikipedia.org/\" lang=\"myv\" title=\"Erzjanj\">Эрзянь</a></li>,\n",
       " <li><a href=\"//ext.wikipedia.org/\" lang=\"ext\">Estremeñu</a></li>,\n",
       " <li><a href=\"//hif.wikipedia.org/\" lang=\"hif\">Fiji Hindi</a></li>,\n",
       " <li><a href=\"//fur.wikipedia.org/\" lang=\"fur\">Furlan</a></li>,\n",
       " <li><a href=\"//gv.wikipedia.org/\" lang=\"gv\">Gaelg</a></li>,\n",
       " <li><a href=\"//gag.wikipedia.org/\" lang=\"gag\">Gagauz</a></li>,\n",
       " <li><a href=\"//ki.wikipedia.org/\" lang=\"ki\">Gĩkũyũ</a></li>,\n",
       " <li><a href=\"//glk.wikipedia.org/\" lang=\"glk\" title=\"Giləki\"><bdi dir=\"rtl\">گیلکی</bdi></a></li>,\n",
       " <li><a data-convert-hans=\"赣语\" href=\"//gan.wikipedia.org/\" id=\"gan_wiki\" lang=\"gan\" title=\"Gon ua\">贛語</a></li>,\n",
       " <li><a href=\"//hak.wikipedia.org/\" lang=\"hak\">Hak-kâ-ngî / 客家語</a></li>,\n",
       " <li><a href=\"//xal.wikipedia.org/\" lang=\"xal\" title=\"Halʹmg\">Хальмг</a></li>,\n",
       " <li><a href=\"//ha.wikipedia.org/\" lang=\"ha\"><span lang=\"ha-Latn\">Hausa</span> / <bdi dir=\"rtl\" lang=\"ha-Arab\">هَوُسَا</bdi></a></li>,\n",
       " <li><a href=\"//haw.wikipedia.org/\" lang=\"haw\">ʻŌlelo Hawaiʻi</a></li>,\n",
       " <li><a href=\"//ie.wikipedia.org/\" lang=\"ie\">Interlingue</a></li>,\n",
       " <li><a href=\"//pam.wikipedia.org/\" lang=\"pam\">Kapampangan</a></li>,\n",
       " <li><a href=\"//csb.wikipedia.org/\" lang=\"csb\">Kaszëbsczi</a></li>,\n",
       " <li><a href=\"//kw.wikipedia.org/\" lang=\"kw\">Kernewek</a></li>,\n",
       " <li><a href=\"//km.wikipedia.org/\" lang=\"km\" title=\"Phéasa Khmér\">ភាសាខ្មែរ</a></li>,\n",
       " <li><a href=\"//rw.wikipedia.org/\" lang=\"rw\">Kinyarwanda</a></li>,\n",
       " <li><a href=\"//kv.wikipedia.org/\" lang=\"kv\" title=\"Komi\">Коми</a></li>,\n",
       " <li><a href=\"//kg.wikipedia.org/\" lang=\"kg\">Kongo</a></li>,\n",
       " <li><a href=\"//gom.wikipedia.org/\" lang=\"gom\">कोंकणी / Konknni</a></li>,\n",
       " <li><a href=\"//gcr.wikipedia.org/\" lang=\"gcr\" title=\"Kriyòl Gwiyannen\">Kriyòl Gwiyannen</a></li>,\n",
       " <li><a href=\"//lo.wikipedia.org/\" lang=\"lo\" title=\"Phaasaa Laao\">ພາສາລາວ</a></li>,\n",
       " <li><a href=\"//lad.wikipedia.org/\" lang=\"lad\" title=\"Ladino\"><span lang=\"lad-Latn\">Dzhudezmo</span> / <bdi dir=\"rtl\" lang=\"lad-Hebr\">לאדינו</bdi></a></li>,\n",
       " <li><a href=\"//lbe.wikipedia.org/\" lang=\"lbe\" title=\"Lakːu\">Лакку</a></li>,\n",
       " <li><a href=\"//ltg.wikipedia.org/\" lang=\"ltg\">Latgaļu</a></li>,\n",
       " <li><a href=\"//lez.wikipedia.org/\" lang=\"lez\" title=\"Lezgi\">Лезги</a></li>,\n",
       " <li><a href=\"//ln.wikipedia.org/\" lang=\"ln\">Lingála</a></li>,\n",
       " <li><a href=\"//jbo.wikipedia.org/\" lang=\"jbo\">lojban</a></li>,\n",
       " <li><a href=\"//lg.wikipedia.org/\" lang=\"lg\">Luganda</a></li>,\n",
       " <li><a href=\"//mt.wikipedia.org/\" lang=\"mt\">Malti</a></li>,\n",
       " <li><a href=\"//ty.wikipedia.org/\" lang=\"ty\">Reo Mā’ohi</a></li>,\n",
       " <li><a href=\"//mi.wikipedia.org/\" lang=\"mi\">Māori</a></li>,\n",
       " <li><a href=\"//mwl.wikipedia.org/\" lang=\"mwl\">Mirandés</a></li>,\n",
       " <li><a href=\"//mdf.wikipedia.org/\" lang=\"mdf\" title=\"Mokšenj\">Мокшень</a></li>,\n",
       " <li><a href=\"//fj.wikipedia.org/\" lang=\"fj\">Na Vosa Vaka-Viti</a></li>,\n",
       " <li><a href=\"//nah.wikipedia.org/\" lang=\"nah\">Nāhuatlahtōlli</a></li>,\n",
       " <li><a href=\"//na.wikipedia.org/\" lang=\"na\">Dorerin Naoero</a></li>,\n",
       " <li><a href=\"//nds-nl.wikipedia.org/\" lang=\"nds-nl\">Nedersaksisch</a></li>,\n",
       " <li><a href=\"//nrm.wikipedia.org/\" lang=\"roa-x-nrm\">Nouormand / Normaund</a></li>,\n",
       " <li><a href=\"//nov.wikipedia.org/\" lang=\"nov\">Novial</a></li>,\n",
       " <li><a href=\"//om.wikipedia.org/\" lang=\"om\" title=\"Ingiliffaa\">Afaan Oromoo</a></li>,\n",
       " <li><a href=\"//as.wikipedia.org/\" lang=\"as\" title=\"Ôxômiya\">অসমীযা়</a></li>,\n",
       " <li><a href=\"//pi.wikipedia.org/\" lang=\"pi\" title=\"Pāḷi\">पालि</a></li>,\n",
       " <li><a href=\"//pag.wikipedia.org/\" lang=\"pag\">Pangasinán</a></li>,\n",
       " <li><a href=\"//pap.wikipedia.org/\" lang=\"pap\">Papiamentu</a></li>,\n",
       " <li><a href=\"//koi.wikipedia.org/\" lang=\"koi\" title=\"Perem Komi\">Перем Коми</a></li>,\n",
       " <li><a href=\"//pfl.wikipedia.org/\" lang=\"pfl\">Pfälzisch</a></li>,\n",
       " <li><a href=\"//pcd.wikipedia.org/\" lang=\"pcd\">Picard</a></li>,\n",
       " <li><a href=\"//krc.wikipedia.org/\" lang=\"krc\" title=\"Qaraçay–Malqar\">Къарачай–Малкъар</a></li>,\n",
       " <li><a href=\"//kaa.wikipedia.org/\" lang=\"kaa\">Qaraqalpaqsha</a></li>,\n",
       " <li><a href=\"//crh.wikipedia.org/\" lang=\"crh\">Qırımtatarca</a></li>,\n",
       " <li><a href=\"//ksh.wikipedia.org/\" lang=\"ksh\">Ripoarisch</a></li>,\n",
       " <li><a href=\"//rm.wikipedia.org/\" lang=\"rm\">Rumantsch</a></li>,\n",
       " <li><a href=\"//rue.wikipedia.org/\" lang=\"rue\" title=\"Rusin’skyj Yazyk\">Русиньскый Язык</a></li>,\n",
       " <li><a href=\"//sm.wikipedia.org/\" lang=\"sm\">Gagana Sāmoa</a></li>,\n",
       " <li><a href=\"//sc.wikipedia.org/\" lang=\"sc\">Sardu</a></li>,\n",
       " <li><a href=\"//stq.wikipedia.org/\" lang=\"stq\">Seeltersk</a></li>,\n",
       " <li><a href=\"//nso.wikipedia.org/\" lang=\"nso\">Sesotho sa Leboa</a></li>,\n",
       " <li><a href=\"//sn.wikipedia.org/\" lang=\"sn\">ChiShona</a></li>,\n",
       " <li><a href=\"//so.wikipedia.org/\" lang=\"so\">Soomaaliga</a></li>,\n",
       " <li><a href=\"//srn.wikipedia.org/\" lang=\"srn\">Sranantongo</a></li>,\n",
       " <li><a href=\"//kab.wikipedia.org/\" lang=\"kab\" title=\"Taqbaylit\">Taqbaylit</a></li>,\n",
       " <li><a href=\"//roa-tara.wikipedia.org/\" lang=\"roa\">Tarandíne</a></li>,\n",
       " <li><a href=\"//tet.wikipedia.org/\" lang=\"tet\">Tetun</a></li>,\n",
       " <li><a href=\"//tpi.wikipedia.org/\" lang=\"tpi\">Tok Pisin</a></li>,\n",
       " <li><a href=\"//to.wikipedia.org/\" lang=\"to\">faka Tonga</a></li>,\n",
       " <li><a href=\"//tk.wikipedia.org/\" lang=\"tk\">Türkmençe</a></li>,\n",
       " <li><a href=\"//tyv.wikipedia.org/\" lang=\"tyv\" title=\"Tyva dyl\">Тыва дыл</a></li>,\n",
       " <li><a href=\"//udm.wikipedia.org/\" lang=\"udm\" title=\"Udmurt\">Удмурт</a></li>,\n",
       " <li><a href=\"//ug.wikipedia.org/\" lang=\"ug\"><bdi dir=\"rtl\">ئۇيغۇرچه</bdi></a></li>,\n",
       " <li><a href=\"//vep.wikipedia.org/\" lang=\"vep\">Vepsän</a></li>,\n",
       " <li><a href=\"//fiu-vro.wikipedia.org/\" lang=\"fiu-vro\">Võro</a></li>,\n",
       " <li><a href=\"//vls.wikipedia.org/\" lang=\"vls\">West-Vlams</a></li>,\n",
       " <li><a href=\"//wo.wikipedia.org/\" lang=\"wo\">Wolof</a></li>,\n",
       " <li><a href=\"//xh.wikipedia.org/\" lang=\"xh\">isiXhosa</a></li>,\n",
       " <li><a href=\"//zea.wikipedia.org/\" lang=\"zea\">Zeêuws</a></li>,\n",
       " <li><a href=\"//zu.wikipedia.org/\" lang=\"zu\">isiZulu</a></li>,\n",
       " <li><a href=\"//dv.wikipedia.org/\" lang=\"dv\" title=\"އިނގިރޭސި\"><bdi dir=\"rtl\">ދިވެހިބަސް</bdi></a></li>,\n",
       " <li><a href=\"//bm.wikipedia.org/\" lang=\"bm\">Bamanankan</a></li>,\n",
       " <li><a href=\"//ch.wikipedia.org/\" lang=\"ch\">Chamoru</a></li>,\n",
       " <li><a href=\"//ny.wikipedia.org/\" lang=\"ny\">Chichewa</a></li>,\n",
       " <li><a href=\"//ee.wikipedia.org/\" lang=\"ee\">Eʋegbe</a></li>,\n",
       " <li><a href=\"//ff.wikipedia.org/\" lang=\"ff\">Fulfulde</a></li>,\n",
       " <li><a href=\"//got.wikipedia.org/\" lang=\"got\" title=\"Gutisk\">𐌲𐌿𐍄𐌹𐍃𐌺</a></li>,\n",
       " <li><a href=\"//iu.wikipedia.org/\" lang=\"iu\">ᐃᓄᒃᑎᑐᑦ / Inuktitut</a></li>,\n",
       " <li><a href=\"//ik.wikipedia.org/\" lang=\"ik\">Iñupiak</a></li>,\n",
       " <li><a href=\"//kl.wikipedia.org/\" lang=\"kl\">Kalaallisut</a></li>,\n",
       " <li><a href=\"//ks.wikipedia.org/\" lang=\"ks\" title=\"Kashmiri\"><bdi dir=\"rtl\">كشميري</bdi></a></li>,\n",
       " <li><a href=\"//cr.wikipedia.org/\" lang=\"cr\">Nēhiyawēwin / ᓀᐦᐃᔭᐍᐏᐣ</a></li>,\n",
       " <li><a href=\"//pih.wikipedia.org/\" lang=\"pih\">Norfuk / Pitkern</a></li>,\n",
       " <li><a href=\"//pnt.wikipedia.org/\" lang=\"pnt\" title=\"Pontiaká\">Ποντιακά</a></li>,\n",
       " <li><a href=\"//dz.wikipedia.org/\" lang=\"dz\" title=\"Rdzong-Kha\">རྫོང་ཁ</a></li>,\n",
       " <li><a href=\"//rmy.wikipedia.org/\" lang=\"rmy\">Romani</a></li>,\n",
       " <li><a href=\"//rn.wikipedia.org/\" lang=\"rn\">Kirundi</a></li>,\n",
       " <li><a href=\"//sg.wikipedia.org/\" lang=\"sg\">Sängö</a></li>,\n",
       " <li><a href=\"//st.wikipedia.org/\" lang=\"st\">Sesotho</a></li>,\n",
       " <li><a href=\"//tn.wikipedia.org/\" lang=\"tn\">Setswana</a></li>,\n",
       " <li><a href=\"//cu.wikipedia.org/\" lang=\"cu\" title=\"Slověnĭskŭ\">Словѣ́ньскъ / ⰔⰎⰑⰂⰡⰐⰠⰔⰍⰟ</a></li>,\n",
       " <li><a href=\"//ss.wikipedia.org/\" lang=\"ss\">SiSwati</a></li>,\n",
       " <li><a href=\"//chr.wikipedia.org/\" lang=\"chr\" title=\"Tsalagi\">ᏣᎳᎩ</a></li>,\n",
       " <li><a href=\"//chy.wikipedia.org/\" lang=\"chy\">Tsėhesenėstsestotse</a></li>,\n",
       " <li><a href=\"//ve.wikipedia.org/\" lang=\"ve\">Tshivenḓa</a></li>,\n",
       " <li><a href=\"//ts.wikipedia.org/\" lang=\"ts\">Xitsonga</a></li>,\n",
       " <li><a href=\"//tum.wikipedia.org/\" lang=\"tum\">chiTumbuka</a></li>,\n",
       " <li><a href=\"//tw.wikipedia.org/\" lang=\"tw\">Twi</a></li>,\n",
       " <li><a href=\"//ti.wikipedia.org/\" lang=\"ti\" title=\"Təgərəña\">ትግርኛ</a></li>,\n",
       " <li><a href=\"//nqo.wikipedia.org/\" lang=\"nqo\" title=\"N'Ko\">ߒߞߏ</a></li>,\n",
       " <li class=\"app-badge app-badge-android\">\n",
       " <a href=\"https://play.google.com/store/apps/details?id=org.wikipedia&amp;referrer=utm_source%3Dportal%26utm_medium%3Dbutton%26anid%3Dadmob\" rel=\"noreferrer\" target=\"_blank\">\n",
       " <span class=\"jsl10n sprite svg-badge_google_play_store\" data-jsl10n=\"app-links.google-store\">Google Play Store</span>\n",
       " </a>\n",
       " </li>,\n",
       " <li class=\"app-badge app-badge-ios\">\n",
       " <a href=\"https://itunes.apple.com/app/apple-store/id324715238?pt=208305&amp;ct=portal&amp;mt=8\" rel=\"noreferrer\" target=\"_blank\">\n",
       " <span class=\"jsl10n sprite svg-badge_ios_app_store\" data-jsl10n=\"app-links.apple-store\">Apple App Store</span>\n",
       " </a>\n",
       " </li>]"
      ]
     },
     "execution_count": 774,
     "metadata": {},
     "output_type": "execute_result"
    }
   ],
   "source": [
    "soup5.select(\"li\")"
   ]
  },
  {
   "cell_type": "code",
   "execution_count": 775,
   "id": "weird-classroom",
   "metadata": {},
   "outputs": [
    {
     "ename": "SelectorSyntaxError",
     "evalue": "Expected a selector at position 0\n  line 1:\n\n^",
     "output_type": "error",
     "traceback": [
      "\u001b[1;31m---------------------------------------------------------------------------\u001b[0m",
      "\u001b[1;31mSelectorSyntaxError\u001b[0m                       Traceback (most recent call last)",
      "\u001b[1;32m<ipython-input-775-a9c50bf3b988>\u001b[0m in \u001b[0;36m<module>\u001b[1;34m\u001b[0m\n\u001b[0;32m      1\u001b[0m \u001b[0mlinks5\u001b[0m \u001b[1;33m=\u001b[0m \u001b[1;33m[\u001b[0m\u001b[1;33m]\u001b[0m\u001b[1;33m\u001b[0m\u001b[1;33m\u001b[0m\u001b[0m\n\u001b[0;32m      2\u001b[0m \u001b[1;33m\u001b[0m\u001b[0m\n\u001b[1;32m----> 3\u001b[1;33m \u001b[0mnum_iter\u001b[0m \u001b[1;33m=\u001b[0m \u001b[0mlen\u001b[0m\u001b[1;33m(\u001b[0m\u001b[0msoup5\u001b[0m\u001b[1;33m.\u001b[0m\u001b[0mselect\u001b[0m\u001b[1;33m(\u001b[0m\u001b[1;34m''\u001b[0m\u001b[1;33m)\u001b[0m\u001b[1;33m)\u001b[0m\u001b[1;33m\u001b[0m\u001b[1;33m\u001b[0m\u001b[0m\n\u001b[0m\u001b[0;32m      4\u001b[0m \u001b[1;33m\u001b[0m\u001b[0m\n\u001b[0;32m      5\u001b[0m \u001b[1;32mfor\u001b[0m \u001b[0mi\u001b[0m \u001b[1;32min\u001b[0m \u001b[0mrange\u001b[0m\u001b[1;33m(\u001b[0m\u001b[0mnum_iter\u001b[0m\u001b[1;33m)\u001b[0m\u001b[1;33m:\u001b[0m\u001b[1;33m\u001b[0m\u001b[1;33m\u001b[0m\u001b[0m\n",
      "\u001b[1;32m~\\anaconda3\\lib\\site-packages\\bs4\\element.py\u001b[0m in \u001b[0;36mselect\u001b[1;34m(self, selector, namespaces, limit, **kwargs)\u001b[0m\n\u001b[0;32m   1867\u001b[0m             )\n\u001b[0;32m   1868\u001b[0m \u001b[1;33m\u001b[0m\u001b[0m\n\u001b[1;32m-> 1869\u001b[1;33m         \u001b[0mresults\u001b[0m \u001b[1;33m=\u001b[0m \u001b[0msoupsieve\u001b[0m\u001b[1;33m.\u001b[0m\u001b[0mselect\u001b[0m\u001b[1;33m(\u001b[0m\u001b[0mselector\u001b[0m\u001b[1;33m,\u001b[0m \u001b[0mself\u001b[0m\u001b[1;33m,\u001b[0m \u001b[0mnamespaces\u001b[0m\u001b[1;33m,\u001b[0m \u001b[0mlimit\u001b[0m\u001b[1;33m,\u001b[0m \u001b[1;33m**\u001b[0m\u001b[0mkwargs\u001b[0m\u001b[1;33m)\u001b[0m\u001b[1;33m\u001b[0m\u001b[1;33m\u001b[0m\u001b[0m\n\u001b[0m\u001b[0;32m   1870\u001b[0m \u001b[1;33m\u001b[0m\u001b[0m\n\u001b[0;32m   1871\u001b[0m         \u001b[1;31m# We do this because it's more consistent and because\u001b[0m\u001b[1;33m\u001b[0m\u001b[1;33m\u001b[0m\u001b[1;33m\u001b[0m\u001b[0m\n",
      "\u001b[1;32m~\\anaconda3\\lib\\site-packages\\soupsieve\\__init__.py\u001b[0m in \u001b[0;36mselect\u001b[1;34m(select, tag, namespaces, limit, flags, **kwargs)\u001b[0m\n\u001b[0;32m     96\u001b[0m     \u001b[1;34m\"\"\"Select the specified tags.\"\"\"\u001b[0m\u001b[1;33m\u001b[0m\u001b[1;33m\u001b[0m\u001b[0m\n\u001b[0;32m     97\u001b[0m \u001b[1;33m\u001b[0m\u001b[0m\n\u001b[1;32m---> 98\u001b[1;33m     \u001b[1;32mreturn\u001b[0m \u001b[0mcompile\u001b[0m\u001b[1;33m(\u001b[0m\u001b[0mselect\u001b[0m\u001b[1;33m,\u001b[0m \u001b[0mnamespaces\u001b[0m\u001b[1;33m,\u001b[0m \u001b[0mflags\u001b[0m\u001b[1;33m,\u001b[0m \u001b[1;33m**\u001b[0m\u001b[0mkwargs\u001b[0m\u001b[1;33m)\u001b[0m\u001b[1;33m.\u001b[0m\u001b[0mselect\u001b[0m\u001b[1;33m(\u001b[0m\u001b[0mtag\u001b[0m\u001b[1;33m,\u001b[0m \u001b[0mlimit\u001b[0m\u001b[1;33m)\u001b[0m\u001b[1;33m\u001b[0m\u001b[1;33m\u001b[0m\u001b[0m\n\u001b[0m\u001b[0;32m     99\u001b[0m \u001b[1;33m\u001b[0m\u001b[0m\n\u001b[0;32m    100\u001b[0m \u001b[1;33m\u001b[0m\u001b[0m\n",
      "\u001b[1;32m~\\anaconda3\\lib\\site-packages\\soupsieve\\__init__.py\u001b[0m in \u001b[0;36mcompile\u001b[1;34m(pattern, namespaces, flags, **kwargs)\u001b[0m\n\u001b[0;32m     60\u001b[0m         \u001b[1;32mreturn\u001b[0m \u001b[0mpattern\u001b[0m\u001b[1;33m\u001b[0m\u001b[1;33m\u001b[0m\u001b[0m\n\u001b[0;32m     61\u001b[0m \u001b[1;33m\u001b[0m\u001b[0m\n\u001b[1;32m---> 62\u001b[1;33m     \u001b[1;32mreturn\u001b[0m \u001b[0mcp\u001b[0m\u001b[1;33m.\u001b[0m\u001b[0m_cached_css_compile\u001b[0m\u001b[1;33m(\u001b[0m\u001b[0mpattern\u001b[0m\u001b[1;33m,\u001b[0m \u001b[0mnamespaces\u001b[0m\u001b[1;33m,\u001b[0m \u001b[0mcustom\u001b[0m\u001b[1;33m,\u001b[0m \u001b[0mflags\u001b[0m\u001b[1;33m)\u001b[0m\u001b[1;33m\u001b[0m\u001b[1;33m\u001b[0m\u001b[0m\n\u001b[0m\u001b[0;32m     63\u001b[0m \u001b[1;33m\u001b[0m\u001b[0m\n\u001b[0;32m     64\u001b[0m \u001b[1;33m\u001b[0m\u001b[0m\n",
      "\u001b[1;32m~\\anaconda3\\lib\\site-packages\\soupsieve\\css_parser.py\u001b[0m in \u001b[0;36m_cached_css_compile\u001b[1;34m(pattern, namespaces, custom, flags)\u001b[0m\n\u001b[0;32m    209\u001b[0m     return cm.SoupSieve(\n\u001b[0;32m    210\u001b[0m         \u001b[0mpattern\u001b[0m\u001b[1;33m,\u001b[0m\u001b[1;33m\u001b[0m\u001b[1;33m\u001b[0m\u001b[0m\n\u001b[1;32m--> 211\u001b[1;33m         \u001b[0mCSSParser\u001b[0m\u001b[1;33m(\u001b[0m\u001b[0mpattern\u001b[0m\u001b[1;33m,\u001b[0m \u001b[0mcustom\u001b[0m\u001b[1;33m=\u001b[0m\u001b[0mcustom_selectors\u001b[0m\u001b[1;33m,\u001b[0m \u001b[0mflags\u001b[0m\u001b[1;33m=\u001b[0m\u001b[0mflags\u001b[0m\u001b[1;33m)\u001b[0m\u001b[1;33m.\u001b[0m\u001b[0mprocess_selectors\u001b[0m\u001b[1;33m(\u001b[0m\u001b[1;33m)\u001b[0m\u001b[1;33m,\u001b[0m\u001b[1;33m\u001b[0m\u001b[1;33m\u001b[0m\u001b[0m\n\u001b[0m\u001b[0;32m    212\u001b[0m         \u001b[0mnamespaces\u001b[0m\u001b[1;33m,\u001b[0m\u001b[1;33m\u001b[0m\u001b[1;33m\u001b[0m\u001b[0m\n\u001b[0;32m    213\u001b[0m         \u001b[0mcustom\u001b[0m\u001b[1;33m,\u001b[0m\u001b[1;33m\u001b[0m\u001b[1;33m\u001b[0m\u001b[0m\n",
      "\u001b[1;32m~\\anaconda3\\lib\\site-packages\\soupsieve\\css_parser.py\u001b[0m in \u001b[0;36mprocess_selectors\u001b[1;34m(self, index, flags)\u001b[0m\n\u001b[0;32m   1056\u001b[0m         \u001b[1;34m\"\"\"Process selectors.\"\"\"\u001b[0m\u001b[1;33m\u001b[0m\u001b[1;33m\u001b[0m\u001b[0m\n\u001b[0;32m   1057\u001b[0m \u001b[1;33m\u001b[0m\u001b[0m\n\u001b[1;32m-> 1058\u001b[1;33m         \u001b[1;32mreturn\u001b[0m \u001b[0mself\u001b[0m\u001b[1;33m.\u001b[0m\u001b[0mparse_selectors\u001b[0m\u001b[1;33m(\u001b[0m\u001b[0mself\u001b[0m\u001b[1;33m.\u001b[0m\u001b[0mselector_iter\u001b[0m\u001b[1;33m(\u001b[0m\u001b[0mself\u001b[0m\u001b[1;33m.\u001b[0m\u001b[0mpattern\u001b[0m\u001b[1;33m)\u001b[0m\u001b[1;33m,\u001b[0m \u001b[0mindex\u001b[0m\u001b[1;33m,\u001b[0m \u001b[0mflags\u001b[0m\u001b[1;33m)\u001b[0m\u001b[1;33m\u001b[0m\u001b[1;33m\u001b[0m\u001b[0m\n\u001b[0m\u001b[0;32m   1059\u001b[0m \u001b[1;33m\u001b[0m\u001b[0m\n\u001b[0;32m   1060\u001b[0m \u001b[1;33m\u001b[0m\u001b[0m\n",
      "\u001b[1;32m~\\anaconda3\\lib\\site-packages\\soupsieve\\css_parser.py\u001b[0m in \u001b[0;36mparse_selectors\u001b[1;34m(self, iselector, index, flags)\u001b[0m\n\u001b[0;32m    993\u001b[0m                 \u001b[1;34m'Expected a selector at position {}'\u001b[0m\u001b[1;33m.\u001b[0m\u001b[0mformat\u001b[0m\u001b[1;33m(\u001b[0m\u001b[0mindex\u001b[0m\u001b[1;33m)\u001b[0m\u001b[1;33m,\u001b[0m\u001b[1;33m\u001b[0m\u001b[1;33m\u001b[0m\u001b[0m\n\u001b[0;32m    994\u001b[0m                 \u001b[0mself\u001b[0m\u001b[1;33m.\u001b[0m\u001b[0mpattern\u001b[0m\u001b[1;33m,\u001b[0m\u001b[1;33m\u001b[0m\u001b[1;33m\u001b[0m\u001b[0m\n\u001b[1;32m--> 995\u001b[1;33m                 \u001b[0mindex\u001b[0m\u001b[1;33m\u001b[0m\u001b[1;33m\u001b[0m\u001b[0m\n\u001b[0m\u001b[0;32m    996\u001b[0m             )\n\u001b[0;32m    997\u001b[0m \u001b[1;33m\u001b[0m\u001b[0m\n",
      "\u001b[1;31mSelectorSyntaxError\u001b[0m: Expected a selector at position 0\n  line 1:\n\n^"
     ]
    }
   ],
   "source": [
    "links5 = []\n",
    "\n",
    "num_iter = len(soup5.select(''))\n",
    "\n",
    "for i in range(num_iter):\n",
    "    links5.append(soup5.select('')[i].get_text())"
   ]
  },
  {
   "cell_type": "code",
   "execution_count": null,
   "id": "traditional-anatomy",
   "metadata": {},
   "outputs": [],
   "source": [
    "links5"
   ]
  },
  {
   "cell_type": "markdown",
   "id": "caroline-context",
   "metadata": {},
   "source": [
    "### 6. A list with the different kind of datasets available in data.gov.uk"
   ]
  },
  {
   "cell_type": "code",
   "execution_count": null,
   "id": "available-benefit",
   "metadata": {},
   "outputs": [],
   "source": [
    "url6 = 'https://data.gov.uk/'"
   ]
  },
  {
   "cell_type": "code",
   "execution_count": null,
   "id": "touched-growing",
   "metadata": {},
   "outputs": [],
   "source": [
    "response6 = requests.get(url6)\n",
    "response6.status_code # 200 status code means OK!"
   ]
  },
  {
   "cell_type": "code",
   "execution_count": null,
   "id": "conscious-soundtrack",
   "metadata": {},
   "outputs": [],
   "source": [
    "soup6 = BeautifulSoup(response6.content, \"html.parser\")"
   ]
  },
  {
   "cell_type": "code",
   "execution_count": null,
   "id": "aggressive-messaging",
   "metadata": {},
   "outputs": [],
   "source": [
    "soup6.select(\"li\")"
   ]
  },
  {
   "cell_type": "code",
   "execution_count": null,
   "id": "public-lecture",
   "metadata": {},
   "outputs": [],
   "source": [
    "links6 = []\n",
    "\n",
    "num_iter = len(soup6.select(''))\n",
    "\n",
    "for i in range(num_iter):\n",
    "    links6.append(soup6.select('')[i].get_text())"
   ]
  },
  {
   "cell_type": "code",
   "execution_count": null,
   "id": "several-affiliation",
   "metadata": {},
   "outputs": [],
   "source": [
    "links6"
   ]
  },
  {
   "cell_type": "markdown",
   "id": "interested-architecture",
   "metadata": {},
   "source": [
    "### 7. Display the top 10 languages by number of native speakers stored in a pandas dataframe"
   ]
  },
  {
   "cell_type": "code",
   "execution_count": null,
   "id": "manual-territory",
   "metadata": {},
   "outputs": [],
   "source": [
    "url7 = 'https://en.wikipedia.org/wiki/List_of_languages_by_number_of_native_speakers'"
   ]
  },
  {
   "cell_type": "code",
   "execution_count": null,
   "id": "informal-admission",
   "metadata": {},
   "outputs": [],
   "source": [
    "response7 = requests.get(url7)\n",
    "response7.status_code # 200 status code means OK!"
   ]
  },
  {
   "cell_type": "code",
   "execution_count": null,
   "id": "moral-threshold",
   "metadata": {},
   "outputs": [],
   "source": [
    "soup7 = BeautifulSoup(response7.content, \"html.parser\")"
   ]
  },
  {
   "cell_type": "code",
   "execution_count": null,
   "id": "concerned-spokesman",
   "metadata": {},
   "outputs": [],
   "source": [
    "soup7.select(\"li\")"
   ]
  },
  {
   "cell_type": "code",
   "execution_count": null,
   "id": "prescribed-theorem",
   "metadata": {},
   "outputs": [],
   "source": [
    "links7 = []\n",
    "\n",
    "num_iter = len(soup7.select(''))\n",
    "\n",
    "for i in range(num_iter):\n",
    "    links7.append(soup7.select('')[i].get_text())"
   ]
  },
  {
   "cell_type": "code",
   "execution_count": null,
   "id": "unusual-idaho",
   "metadata": {},
   "outputs": [],
   "source": [
    "links7"
   ]
  },
  {
   "cell_type": "code",
   "execution_count": null,
   "id": "prescription-current",
   "metadata": {},
   "outputs": [],
   "source": []
  },
  {
   "cell_type": "code",
   "execution_count": null,
   "id": "postal-fever",
   "metadata": {},
   "outputs": [],
   "source": []
  },
  {
   "cell_type": "code",
   "execution_count": null,
   "id": "square-potential",
   "metadata": {},
   "outputs": [],
   "source": []
  }
 ],
 "metadata": {
  "kernelspec": {
   "display_name": "Python 3",
   "language": "python",
   "name": "python3"
  },
  "language_info": {
   "codemirror_mode": {
    "name": "ipython",
    "version": 3
   },
   "file_extension": ".py",
   "mimetype": "text/x-python",
   "name": "python",
   "nbconvert_exporter": "python",
   "pygments_lexer": "ipython3",
   "version": "3.7.10"
  }
 },
 "nbformat": 4,
 "nbformat_minor": 5
}
