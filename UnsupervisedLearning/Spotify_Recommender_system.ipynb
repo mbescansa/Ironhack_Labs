{
 "cells": [
  {
   "cell_type": "code",
   "execution_count": 12,
   "id": "operational-approval",
   "metadata": {},
   "outputs": [],
   "source": [
    "import spotipy as sp \n",
    "from spotipy.oauth2 import SpotifyClientCredentials\n",
    "from time import sleep\n",
    "import json\n",
    "import pandas as pd\n",
    "from sklearn import cluster, datasets\n",
    "from sklearn.preprocessing import StandardScaler\n",
    "from matplotlib.lines import Line2D\n",
    "import numpy as np\n",
    "import matplotlib.pyplot as plt\n",
    "from sklearn.metrics import silhouette_score\n",
    "from sklearn.cluster import KMeans\n"
   ]
  },
  {
   "cell_type": "code",
   "execution_count": 13,
   "id": "derived-enlargement",
   "metadata": {},
   "outputs": [],
   "source": [
    "# To make run all you ask in one cell, not only the last required\n",
    "from IPython.core.interactiveshell import InteractiveShell\n",
    "InteractiveShell.ast_node_interactivity = \"all\""
   ]
  },
  {
   "cell_type": "code",
   "execution_count": 15,
   "id": "atomic-nickname",
   "metadata": {},
   "outputs": [
    {
     "data": {
      "text/plain": [
       "['cid:56707ef3a83a49cda7ab4484b8d47c79',\n",
       " 'csecret:24f177e716574ae9acfee989cc9f2fbb']"
      ]
     },
     "execution_count": 15,
     "metadata": {},
     "output_type": "execute_result"
    }
   ],
   "source": [
    "secrets_file = open(\"C:/Student/IRONHACK/Week6/D3_APIs/Lesson/secrets.txt\",\"r\")\n",
    "string = secrets_file.read()\n",
    "string.split('\\n')\n",
    "secrets_dict={}\n",
    "for line in string.split('\\n'):\n",
    "  secrets_dict[line.split(':')[0]]=line.split(':')[1]"
   ]
  },
  {
   "cell_type": "code",
   "execution_count": 16,
   "id": "straight-technical",
   "metadata": {},
   "outputs": [],
   "source": [
    "#Initialize SpotiPy with user credentials\n",
    "sp = sp.Spotify(auth_manager=SpotifyClientCredentials(client_id=secrets_dict['cid'],\n",
    "                                                           client_secret=secrets_dict['csecret']))"
   ]
  },
  {
   "cell_type": "code",
   "execution_count": 17,
   "id": "eleven-pursuit",
   "metadata": {},
   "outputs": [
    {
     "data": {
      "text/plain": [
       "'56707ef3a83a49cda7ab4484b8d47c79'"
      ]
     },
     "execution_count": 17,
     "metadata": {},
     "output_type": "execute_result"
    }
   ],
   "source": [
    "secrets_dict['cid']"
   ]
  },
  {
   "cell_type": "code",
   "execution_count": 18,
   "id": "answering-stability",
   "metadata": {},
   "outputs": [],
   "source": [
    "playlist = sp.user_playlist_tracks(\"spotify\", \"3bUH9DvM5IexS6wkHGGxDW\")"
   ]
  },
  {
   "cell_type": "code",
   "execution_count": 19,
   "id": "magnetic-scanning",
   "metadata": {},
   "outputs": [],
   "source": [
    "def get_playlist_tracks(playlist_id):\n",
    "    results = sp.user_playlist_tracks(\"spotify\",playlist_id)\n",
    "    tracks = results['items']\n",
    "    while results['next']!=None:\n",
    "        results = sp.next(results)\n",
    "        sleep(0.5)\n",
    "        tracks = tracks + results['items']\n",
    "    return tracks"
   ]
  },
  {
   "cell_type": "code",
   "execution_count": 20,
   "id": "front-oliver",
   "metadata": {},
   "outputs": [],
   "source": [
    "tracks = get_playlist_tracks('3bUH9DvM5IexS6wkHGGxDW')"
   ]
  },
  {
   "cell_type": "code",
   "execution_count": 55,
   "id": "patent-ontario",
   "metadata": {},
   "outputs": [
    {
     "data": {
      "text/plain": [
       "7881"
      ]
     },
     "execution_count": 55,
     "metadata": {},
     "output_type": "execute_result"
    }
   ],
   "source": [
    "len(tracks)"
   ]
  },
  {
   "cell_type": "markdown",
   "id": "cathedral-pickup",
   "metadata": {},
   "source": [
    "## Song_artist dataframe"
   ]
  },
  {
   "cell_type": "markdown",
   "id": "overhead-vegetable",
   "metadata": {},
   "source": [
    "#### Songs"
   ]
  },
  {
   "cell_type": "code",
   "execution_count": 56,
   "id": "median-wallpaper",
   "metadata": {},
   "outputs": [],
   "source": [
    "songs = [song['track']['name'] for song in tracks]"
   ]
  },
  {
   "cell_type": "code",
   "execution_count": 57,
   "id": "threaded-collective",
   "metadata": {},
   "outputs": [
    {
     "data": {
      "text/plain": [
       "7881"
      ]
     },
     "execution_count": 57,
     "metadata": {},
     "output_type": "execute_result"
    }
   ],
   "source": [
    "len(songs)"
   ]
  },
  {
   "cell_type": "markdown",
   "id": "educational-calvin",
   "metadata": {},
   "source": [
    "#### Artists"
   ]
  },
  {
   "cell_type": "code",
   "execution_count": 60,
   "id": "controversial-salmon",
   "metadata": {},
   "outputs": [],
   "source": [
    "artists = [artist['track']['artists'][0]['name'] for artist in tracks]"
   ]
  },
  {
   "cell_type": "code",
   "execution_count": 61,
   "id": "fuzzy-flower",
   "metadata": {},
   "outputs": [
    {
     "data": {
      "text/plain": [
       "7881"
      ]
     },
     "execution_count": 61,
     "metadata": {},
     "output_type": "execute_result"
    }
   ],
   "source": [
    "len(artists)"
   ]
  },
  {
   "cell_type": "markdown",
   "id": "talented-export",
   "metadata": {},
   "source": [
    "#### Dataframe"
   ]
  },
  {
   "cell_type": "code",
   "execution_count": 108,
   "id": "religious-brown",
   "metadata": {},
   "outputs": [],
   "source": [
    "song_artist= pd.DataFrame({'artist': artists, 'song': songs})"
   ]
  },
  {
   "cell_type": "code",
   "execution_count": 117,
   "id": "coastal-helping",
   "metadata": {},
   "outputs": [
    {
     "data": {
      "text/plain": [
       "(7881, 2)"
      ]
     },
     "execution_count": 117,
     "metadata": {},
     "output_type": "execute_result"
    }
   ],
   "source": [
    "song_artist.shape"
   ]
  },
  {
   "cell_type": "code",
   "execution_count": 115,
   "id": "relevant-cotton",
   "metadata": {},
   "outputs": [],
   "source": [
    "song_artist.to_csv('song_artist', index = False)"
   ]
  },
  {
   "cell_type": "code",
   "execution_count": 154,
   "id": "appropriate-enough",
   "metadata": {},
   "outputs": [],
   "source": [
    "song_artist = pd.read_csv('song_artist')"
   ]
  },
  {
   "cell_type": "code",
   "execution_count": 155,
   "id": "naked-cabinet",
   "metadata": {},
   "outputs": [
    {
     "data": {
      "text/html": [
       "<div>\n",
       "<style scoped>\n",
       "    .dataframe tbody tr th:only-of-type {\n",
       "        vertical-align: middle;\n",
       "    }\n",
       "\n",
       "    .dataframe tbody tr th {\n",
       "        vertical-align: top;\n",
       "    }\n",
       "\n",
       "    .dataframe thead th {\n",
       "        text-align: right;\n",
       "    }\n",
       "</style>\n",
       "<table border=\"1\" class=\"dataframe\">\n",
       "  <thead>\n",
       "    <tr style=\"text-align: right;\">\n",
       "      <th></th>\n",
       "      <th>artist</th>\n",
       "      <th>song</th>\n",
       "    </tr>\n",
       "  </thead>\n",
       "  <tbody>\n",
       "    <tr>\n",
       "      <th>0</th>\n",
       "      <td>eevee</td>\n",
       "      <td>belas</td>\n",
       "    </tr>\n",
       "    <tr>\n",
       "      <th>1</th>\n",
       "      <td>mndbd</td>\n",
       "      <td>Ice</td>\n",
       "    </tr>\n",
       "    <tr>\n",
       "      <th>2</th>\n",
       "      <td>Rook1e</td>\n",
       "      <td>I Fell in Love with You One Night in September</td>\n",
       "    </tr>\n",
       "    <tr>\n",
       "      <th>3</th>\n",
       "      <td>Oui Lele</td>\n",
       "      <td>by the sea</td>\n",
       "    </tr>\n",
       "    <tr>\n",
       "      <th>4</th>\n",
       "      <td>Joakim Karud</td>\n",
       "      <td>Canals</td>\n",
       "    </tr>\n",
       "  </tbody>\n",
       "</table>\n",
       "</div>"
      ],
      "text/plain": [
       "         artist                                            song\n",
       "0         eevee                                           belas\n",
       "1         mndbd                                             Ice\n",
       "2        Rook1e  I Fell in Love with You One Night in September\n",
       "3      Oui Lele                                      by the sea\n",
       "4  Joakim Karud                                          Canals"
      ]
     },
     "execution_count": 155,
     "metadata": {},
     "output_type": "execute_result"
    }
   ],
   "source": [
    "song_artist.head()"
   ]
  },
  {
   "cell_type": "markdown",
   "id": "advised-intention",
   "metadata": {},
   "source": [
    "# WHAT I WOULD LIKE TO USE"
   ]
  },
  {
   "cell_type": "code",
   "execution_count": 64,
   "id": "actual-partition",
   "metadata": {},
   "outputs": [],
   "source": [
    "# def get_name_artists_from_track(track):\n",
    "#     return [(track[\"name\"],x[\"name\"]) for x in track[\"artists\"]]"
   ]
  },
  {
   "cell_type": "code",
   "execution_count": 65,
   "id": "missing-ensemble",
   "metadata": {},
   "outputs": [],
   "source": [
    "# def get_name_artist_from_playlist_item(playlist_item):\n",
    "#   return get_name_artists_from_track(playlist_item['track'])"
   ]
  },
  {
   "cell_type": "code",
   "execution_count": 66,
   "id": "electronic-wellington",
   "metadata": {},
   "outputs": [],
   "source": [
    "# def get_name_artists_from_playlist(input_playlist):\n",
    "#   return list(map(get_name_artist_from_playlist_item,input_playlist[\"items\"]))"
   ]
  },
  {
   "cell_type": "code",
   "execution_count": 67,
   "id": "periodic-dutch",
   "metadata": {},
   "outputs": [],
   "source": [
    "#flattening is not in the standard library but used a lot. you'll thank me later\n",
    "\n",
    "# def flatten(input_list):\n",
    "#   return [item for sublist in input_list for item in sublist]"
   ]
  },
  {
   "cell_type": "code",
   "execution_count": 68,
   "id": "theoretical-array",
   "metadata": {},
   "outputs": [],
   "source": [
    "# def get_name_artists_from_playlist(input_playlist):\n",
    "#   return flatten(list(map(get_name_artist_from_playlist_item,input_playlist[\"items\"])))"
   ]
  },
  {
   "cell_type": "code",
   "execution_count": 69,
   "id": "elder-pilot",
   "metadata": {},
   "outputs": [],
   "source": [
    "# get_name_artists_from_playlist(playlist)"
   ]
  },
  {
   "cell_type": "markdown",
   "id": "cordless-disaster",
   "metadata": {},
   "source": [
    "## THIS ALSO"
   ]
  },
  {
   "cell_type": "code",
   "execution_count": null,
   "id": "partial-ecuador",
   "metadata": {},
   "outputs": [],
   "source": [
    "# not taking into account each artist - HOW WOULD I STORE THIS?\n",
    "\n",
    "# for i in range(len(tracks)):\n",
    "#     tracks[i]['track']['name'], tracks[i]['track']['artists'][0]['name']"
   ]
  },
  {
   "cell_type": "code",
   "execution_count": null,
   "id": "dependent-thesaurus",
   "metadata": {},
   "outputs": [],
   "source": []
  },
  {
   "cell_type": "markdown",
   "id": "rising-locking",
   "metadata": {},
   "source": [
    "## Song features dataframe"
   ]
  },
  {
   "cell_type": "code",
   "execution_count": 93,
   "id": "median-closing",
   "metadata": {},
   "outputs": [],
   "source": [
    "# this returns a list\n",
    "song_feat = []\n",
    "for i in range(len(songs)):\n",
    "    song_uri = tracks[i][\"track\"][\"uri\"]\n",
    "    features = sp.audio_features(song_uri)\n",
    "    sleep(0.1)\n",
    "    song_feat.append(features)"
   ]
  },
  {
   "cell_type": "code",
   "execution_count": 97,
   "id": "considerable-endorsement",
   "metadata": {},
   "outputs": [
    {
     "data": {
      "text/plain": [
       "7881"
      ]
     },
     "execution_count": 97,
     "metadata": {},
     "output_type": "execute_result"
    }
   ],
   "source": [
    "len(song_feat)"
   ]
  },
  {
   "cell_type": "code",
   "execution_count": 142,
   "id": "prostate-memory",
   "metadata": {},
   "outputs": [
    {
     "data": {
      "text/plain": [
       "[{'danceability': 0.793,\n",
       "  'energy': 0.201,\n",
       "  'key': 11,\n",
       "  'loudness': -16.822,\n",
       "  'mode': 0,\n",
       "  'speechiness': 0.233,\n",
       "  'acousticness': 0.298,\n",
       "  'instrumentalness': 0.704,\n",
       "  'liveness': 0.112,\n",
       "  'valence': 0.595,\n",
       "  'tempo': 148.204,\n",
       "  'type': 'audio_features',\n",
       "  'id': '0SqCqfEs8odbI8gIBUIWwe',\n",
       "  'uri': 'spotify:track:0SqCqfEs8odbI8gIBUIWwe',\n",
       "  'track_href': 'https://api.spotify.com/v1/tracks/0SqCqfEs8odbI8gIBUIWwe',\n",
       "  'analysis_url': 'https://api.spotify.com/v1/audio-analysis/0SqCqfEs8odbI8gIBUIWwe',\n",
       "  'duration_ms': 181639,\n",
       "  'time_signature': 4}]"
      ]
     },
     "execution_count": 142,
     "metadata": {},
     "output_type": "execute_result"
    }
   ],
   "source": [
    "song_feat[0]"
   ]
  },
  {
   "cell_type": "code",
   "execution_count": 113,
   "id": "greatest-hebrew",
   "metadata": {},
   "outputs": [],
   "source": [
    "features_total = pd.DataFrame(song_feat).stack().apply(pd.Series)"
   ]
  },
  {
   "cell_type": "code",
   "execution_count": 141,
   "id": "respiratory-mistake",
   "metadata": {},
   "outputs": [],
   "source": [
    "# features_total.shape"
   ]
  },
  {
   "cell_type": "code",
   "execution_count": 119,
   "id": "tested-enclosure",
   "metadata": {},
   "outputs": [],
   "source": [
    "# features_total.isnull().sum()"
   ]
  },
  {
   "cell_type": "code",
   "execution_count": 120,
   "id": "british-international",
   "metadata": {},
   "outputs": [],
   "source": [
    "features_total.to_csv('features_songs', index = False)"
   ]
  },
  {
   "cell_type": "code",
   "execution_count": 247,
   "id": "round-prague",
   "metadata": {},
   "outputs": [],
   "source": [
    "features_total = pd.read_csv('features_songs')"
   ]
  },
  {
   "cell_type": "markdown",
   "id": "military-segment",
   "metadata": {},
   "source": [
    "## Final playlist"
   ]
  },
  {
   "cell_type": "code",
   "execution_count": 270,
   "id": "interpreted-focus",
   "metadata": {},
   "outputs": [
    {
     "data": {
      "text/html": [
       "<div>\n",
       "<style scoped>\n",
       "    .dataframe tbody tr th:only-of-type {\n",
       "        vertical-align: middle;\n",
       "    }\n",
       "\n",
       "    .dataframe tbody tr th {\n",
       "        vertical-align: top;\n",
       "    }\n",
       "\n",
       "    .dataframe thead th {\n",
       "        text-align: right;\n",
       "    }\n",
       "</style>\n",
       "<table border=\"1\" class=\"dataframe\">\n",
       "  <thead>\n",
       "    <tr style=\"text-align: right;\">\n",
       "      <th></th>\n",
       "      <th>artist</th>\n",
       "      <th>song</th>\n",
       "    </tr>\n",
       "  </thead>\n",
       "  <tbody>\n",
       "    <tr>\n",
       "      <th>0</th>\n",
       "      <td>eevee</td>\n",
       "      <td>belas</td>\n",
       "    </tr>\n",
       "    <tr>\n",
       "      <th>1</th>\n",
       "      <td>mndbd</td>\n",
       "      <td>Ice</td>\n",
       "    </tr>\n",
       "    <tr>\n",
       "      <th>2</th>\n",
       "      <td>Rook1e</td>\n",
       "      <td>I Fell in Love with You One Night in September</td>\n",
       "    </tr>\n",
       "    <tr>\n",
       "      <th>3</th>\n",
       "      <td>Oui Lele</td>\n",
       "      <td>by the sea</td>\n",
       "    </tr>\n",
       "    <tr>\n",
       "      <th>4</th>\n",
       "      <td>Joakim Karud</td>\n",
       "      <td>Canals</td>\n",
       "    </tr>\n",
       "  </tbody>\n",
       "</table>\n",
       "</div>"
      ],
      "text/plain": [
       "         artist                                            song\n",
       "0         eevee                                           belas\n",
       "1         mndbd                                             Ice\n",
       "2        Rook1e  I Fell in Love with You One Night in September\n",
       "3      Oui Lele                                      by the sea\n",
       "4  Joakim Karud                                          Canals"
      ]
     },
     "execution_count": 270,
     "metadata": {},
     "output_type": "execute_result"
    }
   ],
   "source": [
    "song_artist = pd.read_csv('song_artist')\n",
    "song_artist.head()"
   ]
  },
  {
   "cell_type": "code",
   "execution_count": 271,
   "id": "democratic-mills",
   "metadata": {},
   "outputs": [
    {
     "data": {
      "text/html": [
       "<div>\n",
       "<style scoped>\n",
       "    .dataframe tbody tr th:only-of-type {\n",
       "        vertical-align: middle;\n",
       "    }\n",
       "\n",
       "    .dataframe tbody tr th {\n",
       "        vertical-align: top;\n",
       "    }\n",
       "\n",
       "    .dataframe thead th {\n",
       "        text-align: right;\n",
       "    }\n",
       "</style>\n",
       "<table border=\"1\" class=\"dataframe\">\n",
       "  <thead>\n",
       "    <tr style=\"text-align: right;\">\n",
       "      <th></th>\n",
       "      <th>danceability</th>\n",
       "      <th>energy</th>\n",
       "      <th>key</th>\n",
       "      <th>loudness</th>\n",
       "      <th>mode</th>\n",
       "      <th>speechiness</th>\n",
       "      <th>acousticness</th>\n",
       "      <th>instrumentalness</th>\n",
       "      <th>liveness</th>\n",
       "      <th>valence</th>\n",
       "      <th>tempo</th>\n",
       "      <th>type</th>\n",
       "      <th>id</th>\n",
       "      <th>uri</th>\n",
       "      <th>track_href</th>\n",
       "      <th>analysis_url</th>\n",
       "      <th>duration_ms</th>\n",
       "      <th>time_signature</th>\n",
       "    </tr>\n",
       "  </thead>\n",
       "  <tbody>\n",
       "    <tr>\n",
       "      <th>0</th>\n",
       "      <td>0.793</td>\n",
       "      <td>0.201</td>\n",
       "      <td>11</td>\n",
       "      <td>-16.822</td>\n",
       "      <td>0</td>\n",
       "      <td>0.2330</td>\n",
       "      <td>0.298</td>\n",
       "      <td>0.7040</td>\n",
       "      <td>0.1120</td>\n",
       "      <td>0.5950</td>\n",
       "      <td>148.204</td>\n",
       "      <td>audio_features</td>\n",
       "      <td>0SqCqfEs8odbI8gIBUIWwe</td>\n",
       "      <td>spotify:track:0SqCqfEs8odbI8gIBUIWwe</td>\n",
       "      <td>https://api.spotify.com/v1/tracks/0SqCqfEs8odb...</td>\n",
       "      <td>https://api.spotify.com/v1/audio-analysis/0SqC...</td>\n",
       "      <td>181639</td>\n",
       "      <td>4</td>\n",
       "    </tr>\n",
       "    <tr>\n",
       "      <th>1</th>\n",
       "      <td>0.749</td>\n",
       "      <td>0.290</td>\n",
       "      <td>9</td>\n",
       "      <td>-13.336</td>\n",
       "      <td>1</td>\n",
       "      <td>0.3260</td>\n",
       "      <td>0.811</td>\n",
       "      <td>0.9090</td>\n",
       "      <td>0.1040</td>\n",
       "      <td>0.8800</td>\n",
       "      <td>83.092</td>\n",
       "      <td>audio_features</td>\n",
       "      <td>3OpQVwRE5b8DpCEo0iPKTH</td>\n",
       "      <td>spotify:track:3OpQVwRE5b8DpCEo0iPKTH</td>\n",
       "      <td>https://api.spotify.com/v1/tracks/3OpQVwRE5b8D...</td>\n",
       "      <td>https://api.spotify.com/v1/audio-analysis/3OpQ...</td>\n",
       "      <td>107651</td>\n",
       "      <td>4</td>\n",
       "    </tr>\n",
       "    <tr>\n",
       "      <th>2</th>\n",
       "      <td>0.532</td>\n",
       "      <td>0.137</td>\n",
       "      <td>3</td>\n",
       "      <td>-19.672</td>\n",
       "      <td>1</td>\n",
       "      <td>0.0648</td>\n",
       "      <td>0.943</td>\n",
       "      <td>0.8240</td>\n",
       "      <td>0.0852</td>\n",
       "      <td>0.0732</td>\n",
       "      <td>89.346</td>\n",
       "      <td>audio_features</td>\n",
       "      <td>10hweQwWcUhBcpipYEvCYD</td>\n",
       "      <td>spotify:track:10hweQwWcUhBcpipYEvCYD</td>\n",
       "      <td>https://api.spotify.com/v1/tracks/10hweQwWcUhB...</td>\n",
       "      <td>https://api.spotify.com/v1/audio-analysis/10hw...</td>\n",
       "      <td>96005</td>\n",
       "      <td>3</td>\n",
       "    </tr>\n",
       "    <tr>\n",
       "      <th>3</th>\n",
       "      <td>0.859</td>\n",
       "      <td>0.309</td>\n",
       "      <td>4</td>\n",
       "      <td>-8.822</td>\n",
       "      <td>0</td>\n",
       "      <td>0.1830</td>\n",
       "      <td>0.921</td>\n",
       "      <td>0.3190</td>\n",
       "      <td>0.3290</td>\n",
       "      <td>0.5200</td>\n",
       "      <td>81.010</td>\n",
       "      <td>audio_features</td>\n",
       "      <td>425XMD7eJzAtu5euOKbFj7</td>\n",
       "      <td>spotify:track:425XMD7eJzAtu5euOKbFj7</td>\n",
       "      <td>https://api.spotify.com/v1/tracks/425XMD7eJzAt...</td>\n",
       "      <td>https://api.spotify.com/v1/audio-analysis/425X...</td>\n",
       "      <td>154074</td>\n",
       "      <td>4</td>\n",
       "    </tr>\n",
       "    <tr>\n",
       "      <th>4</th>\n",
       "      <td>0.666</td>\n",
       "      <td>0.401</td>\n",
       "      <td>10</td>\n",
       "      <td>-8.577</td>\n",
       "      <td>1</td>\n",
       "      <td>0.0258</td>\n",
       "      <td>0.113</td>\n",
       "      <td>0.0196</td>\n",
       "      <td>0.0929</td>\n",
       "      <td>0.5870</td>\n",
       "      <td>89.978</td>\n",
       "      <td>audio_features</td>\n",
       "      <td>30wUXhH7EUK84rVYN24KyF</td>\n",
       "      <td>spotify:track:30wUXhH7EUK84rVYN24KyF</td>\n",
       "      <td>https://api.spotify.com/v1/tracks/30wUXhH7EUK8...</td>\n",
       "      <td>https://api.spotify.com/v1/audio-analysis/30wU...</td>\n",
       "      <td>154667</td>\n",
       "      <td>4</td>\n",
       "    </tr>\n",
       "  </tbody>\n",
       "</table>\n",
       "</div>"
      ],
      "text/plain": [
       "   danceability  energy  key  loudness  mode  speechiness  acousticness  \\\n",
       "0         0.793   0.201   11   -16.822     0       0.2330         0.298   \n",
       "1         0.749   0.290    9   -13.336     1       0.3260         0.811   \n",
       "2         0.532   0.137    3   -19.672     1       0.0648         0.943   \n",
       "3         0.859   0.309    4    -8.822     0       0.1830         0.921   \n",
       "4         0.666   0.401   10    -8.577     1       0.0258         0.113   \n",
       "\n",
       "   instrumentalness  liveness  valence    tempo            type  \\\n",
       "0            0.7040    0.1120   0.5950  148.204  audio_features   \n",
       "1            0.9090    0.1040   0.8800   83.092  audio_features   \n",
       "2            0.8240    0.0852   0.0732   89.346  audio_features   \n",
       "3            0.3190    0.3290   0.5200   81.010  audio_features   \n",
       "4            0.0196    0.0929   0.5870   89.978  audio_features   \n",
       "\n",
       "                       id                                   uri  \\\n",
       "0  0SqCqfEs8odbI8gIBUIWwe  spotify:track:0SqCqfEs8odbI8gIBUIWwe   \n",
       "1  3OpQVwRE5b8DpCEo0iPKTH  spotify:track:3OpQVwRE5b8DpCEo0iPKTH   \n",
       "2  10hweQwWcUhBcpipYEvCYD  spotify:track:10hweQwWcUhBcpipYEvCYD   \n",
       "3  425XMD7eJzAtu5euOKbFj7  spotify:track:425XMD7eJzAtu5euOKbFj7   \n",
       "4  30wUXhH7EUK84rVYN24KyF  spotify:track:30wUXhH7EUK84rVYN24KyF   \n",
       "\n",
       "                                          track_href  \\\n",
       "0  https://api.spotify.com/v1/tracks/0SqCqfEs8odb...   \n",
       "1  https://api.spotify.com/v1/tracks/3OpQVwRE5b8D...   \n",
       "2  https://api.spotify.com/v1/tracks/10hweQwWcUhB...   \n",
       "3  https://api.spotify.com/v1/tracks/425XMD7eJzAt...   \n",
       "4  https://api.spotify.com/v1/tracks/30wUXhH7EUK8...   \n",
       "\n",
       "                                        analysis_url  duration_ms  \\\n",
       "0  https://api.spotify.com/v1/audio-analysis/0SqC...       181639   \n",
       "1  https://api.spotify.com/v1/audio-analysis/3OpQ...       107651   \n",
       "2  https://api.spotify.com/v1/audio-analysis/10hw...        96005   \n",
       "3  https://api.spotify.com/v1/audio-analysis/425X...       154074   \n",
       "4  https://api.spotify.com/v1/audio-analysis/30wU...       154667   \n",
       "\n",
       "   time_signature  \n",
       "0               4  \n",
       "1               4  \n",
       "2               3  \n",
       "3               4  \n",
       "4               4  "
      ]
     },
     "execution_count": 271,
     "metadata": {},
     "output_type": "execute_result"
    }
   ],
   "source": [
    "features_total = pd.read_csv('features_songs')\n",
    "features_total.head()"
   ]
  },
  {
   "cell_type": "code",
   "execution_count": 272,
   "id": "ecological-perry",
   "metadata": {},
   "outputs": [],
   "source": [
    "song_artist.reset_index(drop=True, inplace=True)\n",
    "features_total.reset_index(drop=True, inplace=True)"
   ]
  },
  {
   "cell_type": "code",
   "execution_count": 273,
   "id": "simplified-sheet",
   "metadata": {},
   "outputs": [
    {
     "data": {
      "text/plain": [
       "(7880, 20)"
      ]
     },
     "execution_count": 273,
     "metadata": {},
     "output_type": "execute_result"
    },
    {
     "data": {
      "text/html": [
       "<div>\n",
       "<style scoped>\n",
       "    .dataframe tbody tr th:only-of-type {\n",
       "        vertical-align: middle;\n",
       "    }\n",
       "\n",
       "    .dataframe tbody tr th {\n",
       "        vertical-align: top;\n",
       "    }\n",
       "\n",
       "    .dataframe thead th {\n",
       "        text-align: right;\n",
       "    }\n",
       "</style>\n",
       "<table border=\"1\" class=\"dataframe\">\n",
       "  <thead>\n",
       "    <tr style=\"text-align: right;\">\n",
       "      <th></th>\n",
       "      <th>artist</th>\n",
       "      <th>song</th>\n",
       "      <th>danceability</th>\n",
       "      <th>energy</th>\n",
       "      <th>key</th>\n",
       "      <th>loudness</th>\n",
       "      <th>mode</th>\n",
       "      <th>speechiness</th>\n",
       "      <th>acousticness</th>\n",
       "      <th>instrumentalness</th>\n",
       "      <th>liveness</th>\n",
       "      <th>valence</th>\n",
       "      <th>tempo</th>\n",
       "      <th>type</th>\n",
       "      <th>id</th>\n",
       "      <th>uri</th>\n",
       "      <th>track_href</th>\n",
       "      <th>analysis_url</th>\n",
       "      <th>duration_ms</th>\n",
       "      <th>time_signature</th>\n",
       "    </tr>\n",
       "  </thead>\n",
       "  <tbody>\n",
       "    <tr>\n",
       "      <th>0</th>\n",
       "      <td>eevee</td>\n",
       "      <td>belas</td>\n",
       "      <td>0.793</td>\n",
       "      <td>0.201</td>\n",
       "      <td>11</td>\n",
       "      <td>-16.822</td>\n",
       "      <td>0</td>\n",
       "      <td>0.2330</td>\n",
       "      <td>0.298</td>\n",
       "      <td>0.7040</td>\n",
       "      <td>0.1120</td>\n",
       "      <td>0.5950</td>\n",
       "      <td>148.204</td>\n",
       "      <td>audio_features</td>\n",
       "      <td>0SqCqfEs8odbI8gIBUIWwe</td>\n",
       "      <td>spotify:track:0SqCqfEs8odbI8gIBUIWwe</td>\n",
       "      <td>https://api.spotify.com/v1/tracks/0SqCqfEs8odb...</td>\n",
       "      <td>https://api.spotify.com/v1/audio-analysis/0SqC...</td>\n",
       "      <td>181639</td>\n",
       "      <td>4</td>\n",
       "    </tr>\n",
       "    <tr>\n",
       "      <th>1</th>\n",
       "      <td>mndbd</td>\n",
       "      <td>Ice</td>\n",
       "      <td>0.749</td>\n",
       "      <td>0.290</td>\n",
       "      <td>9</td>\n",
       "      <td>-13.336</td>\n",
       "      <td>1</td>\n",
       "      <td>0.3260</td>\n",
       "      <td>0.811</td>\n",
       "      <td>0.9090</td>\n",
       "      <td>0.1040</td>\n",
       "      <td>0.8800</td>\n",
       "      <td>83.092</td>\n",
       "      <td>audio_features</td>\n",
       "      <td>3OpQVwRE5b8DpCEo0iPKTH</td>\n",
       "      <td>spotify:track:3OpQVwRE5b8DpCEo0iPKTH</td>\n",
       "      <td>https://api.spotify.com/v1/tracks/3OpQVwRE5b8D...</td>\n",
       "      <td>https://api.spotify.com/v1/audio-analysis/3OpQ...</td>\n",
       "      <td>107651</td>\n",
       "      <td>4</td>\n",
       "    </tr>\n",
       "    <tr>\n",
       "      <th>2</th>\n",
       "      <td>Rook1e</td>\n",
       "      <td>I Fell in Love with You One Night in September</td>\n",
       "      <td>0.532</td>\n",
       "      <td>0.137</td>\n",
       "      <td>3</td>\n",
       "      <td>-19.672</td>\n",
       "      <td>1</td>\n",
       "      <td>0.0648</td>\n",
       "      <td>0.943</td>\n",
       "      <td>0.8240</td>\n",
       "      <td>0.0852</td>\n",
       "      <td>0.0732</td>\n",
       "      <td>89.346</td>\n",
       "      <td>audio_features</td>\n",
       "      <td>10hweQwWcUhBcpipYEvCYD</td>\n",
       "      <td>spotify:track:10hweQwWcUhBcpipYEvCYD</td>\n",
       "      <td>https://api.spotify.com/v1/tracks/10hweQwWcUhB...</td>\n",
       "      <td>https://api.spotify.com/v1/audio-analysis/10hw...</td>\n",
       "      <td>96005</td>\n",
       "      <td>3</td>\n",
       "    </tr>\n",
       "    <tr>\n",
       "      <th>3</th>\n",
       "      <td>Oui Lele</td>\n",
       "      <td>by the sea</td>\n",
       "      <td>0.859</td>\n",
       "      <td>0.309</td>\n",
       "      <td>4</td>\n",
       "      <td>-8.822</td>\n",
       "      <td>0</td>\n",
       "      <td>0.1830</td>\n",
       "      <td>0.921</td>\n",
       "      <td>0.3190</td>\n",
       "      <td>0.3290</td>\n",
       "      <td>0.5200</td>\n",
       "      <td>81.010</td>\n",
       "      <td>audio_features</td>\n",
       "      <td>425XMD7eJzAtu5euOKbFj7</td>\n",
       "      <td>spotify:track:425XMD7eJzAtu5euOKbFj7</td>\n",
       "      <td>https://api.spotify.com/v1/tracks/425XMD7eJzAt...</td>\n",
       "      <td>https://api.spotify.com/v1/audio-analysis/425X...</td>\n",
       "      <td>154074</td>\n",
       "      <td>4</td>\n",
       "    </tr>\n",
       "    <tr>\n",
       "      <th>4</th>\n",
       "      <td>Joakim Karud</td>\n",
       "      <td>Canals</td>\n",
       "      <td>0.666</td>\n",
       "      <td>0.401</td>\n",
       "      <td>10</td>\n",
       "      <td>-8.577</td>\n",
       "      <td>1</td>\n",
       "      <td>0.0258</td>\n",
       "      <td>0.113</td>\n",
       "      <td>0.0196</td>\n",
       "      <td>0.0929</td>\n",
       "      <td>0.5870</td>\n",
       "      <td>89.978</td>\n",
       "      <td>audio_features</td>\n",
       "      <td>30wUXhH7EUK84rVYN24KyF</td>\n",
       "      <td>spotify:track:30wUXhH7EUK84rVYN24KyF</td>\n",
       "      <td>https://api.spotify.com/v1/tracks/30wUXhH7EUK8...</td>\n",
       "      <td>https://api.spotify.com/v1/audio-analysis/30wU...</td>\n",
       "      <td>154667</td>\n",
       "      <td>4</td>\n",
       "    </tr>\n",
       "  </tbody>\n",
       "</table>\n",
       "</div>"
      ],
      "text/plain": [
       "         artist                                            song  danceability  \\\n",
       "0         eevee                                           belas         0.793   \n",
       "1         mndbd                                             Ice         0.749   \n",
       "2        Rook1e  I Fell in Love with You One Night in September         0.532   \n",
       "3      Oui Lele                                      by the sea         0.859   \n",
       "4  Joakim Karud                                          Canals         0.666   \n",
       "\n",
       "   energy  key  loudness  mode  speechiness  acousticness  instrumentalness  \\\n",
       "0   0.201   11   -16.822     0       0.2330         0.298            0.7040   \n",
       "1   0.290    9   -13.336     1       0.3260         0.811            0.9090   \n",
       "2   0.137    3   -19.672     1       0.0648         0.943            0.8240   \n",
       "3   0.309    4    -8.822     0       0.1830         0.921            0.3190   \n",
       "4   0.401   10    -8.577     1       0.0258         0.113            0.0196   \n",
       "\n",
       "   liveness  valence    tempo            type                      id  \\\n",
       "0    0.1120   0.5950  148.204  audio_features  0SqCqfEs8odbI8gIBUIWwe   \n",
       "1    0.1040   0.8800   83.092  audio_features  3OpQVwRE5b8DpCEo0iPKTH   \n",
       "2    0.0852   0.0732   89.346  audio_features  10hweQwWcUhBcpipYEvCYD   \n",
       "3    0.3290   0.5200   81.010  audio_features  425XMD7eJzAtu5euOKbFj7   \n",
       "4    0.0929   0.5870   89.978  audio_features  30wUXhH7EUK84rVYN24KyF   \n",
       "\n",
       "                                    uri  \\\n",
       "0  spotify:track:0SqCqfEs8odbI8gIBUIWwe   \n",
       "1  spotify:track:3OpQVwRE5b8DpCEo0iPKTH   \n",
       "2  spotify:track:10hweQwWcUhBcpipYEvCYD   \n",
       "3  spotify:track:425XMD7eJzAtu5euOKbFj7   \n",
       "4  spotify:track:30wUXhH7EUK84rVYN24KyF   \n",
       "\n",
       "                                          track_href  \\\n",
       "0  https://api.spotify.com/v1/tracks/0SqCqfEs8odb...   \n",
       "1  https://api.spotify.com/v1/tracks/3OpQVwRE5b8D...   \n",
       "2  https://api.spotify.com/v1/tracks/10hweQwWcUhB...   \n",
       "3  https://api.spotify.com/v1/tracks/425XMD7eJzAt...   \n",
       "4  https://api.spotify.com/v1/tracks/30wUXhH7EUK8...   \n",
       "\n",
       "                                        analysis_url  duration_ms  \\\n",
       "0  https://api.spotify.com/v1/audio-analysis/0SqC...       181639   \n",
       "1  https://api.spotify.com/v1/audio-analysis/3OpQ...       107651   \n",
       "2  https://api.spotify.com/v1/audio-analysis/10hw...        96005   \n",
       "3  https://api.spotify.com/v1/audio-analysis/425X...       154074   \n",
       "4  https://api.spotify.com/v1/audio-analysis/30wU...       154667   \n",
       "\n",
       "   time_signature  \n",
       "0               4  \n",
       "1               4  \n",
       "2               3  \n",
       "3               4  \n",
       "4               4  "
      ]
     },
     "execution_count": 273,
     "metadata": {},
     "output_type": "execute_result"
    }
   ],
   "source": [
    "# we need to merge beacuse we got rid of many outliers so now the numerical and categorical rows don't match\n",
    "playlist = pd.merge(song_artist,features_total,left_index=True, right_index=True)\n",
    "playlist.shape\n",
    "playlist.head()"
   ]
  },
  {
   "cell_type": "code",
   "execution_count": 274,
   "id": "applied-authorization",
   "metadata": {},
   "outputs": [],
   "source": [
    "# playlist.isnull().sum()"
   ]
  },
  {
   "cell_type": "markdown",
   "id": "accessory-gamma",
   "metadata": {},
   "source": [
    "## KMeans"
   ]
  },
  {
   "cell_type": "code",
   "execution_count": 276,
   "id": "flexible-croatia",
   "metadata": {},
   "outputs": [],
   "source": [
    "k_means_table = playlist.drop(['type','id','uri','track_href','analysis_url','artist','song','duration_ms','time_signature'],axis= 1)"
   ]
  },
  {
   "cell_type": "code",
   "execution_count": 277,
   "id": "guilty-breakdown",
   "metadata": {},
   "outputs": [
    {
     "data": {
      "text/html": [
       "<div>\n",
       "<style scoped>\n",
       "    .dataframe tbody tr th:only-of-type {\n",
       "        vertical-align: middle;\n",
       "    }\n",
       "\n",
       "    .dataframe tbody tr th {\n",
       "        vertical-align: top;\n",
       "    }\n",
       "\n",
       "    .dataframe thead th {\n",
       "        text-align: right;\n",
       "    }\n",
       "</style>\n",
       "<table border=\"1\" class=\"dataframe\">\n",
       "  <thead>\n",
       "    <tr style=\"text-align: right;\">\n",
       "      <th></th>\n",
       "      <th>danceability</th>\n",
       "      <th>energy</th>\n",
       "      <th>key</th>\n",
       "      <th>loudness</th>\n",
       "      <th>mode</th>\n",
       "      <th>speechiness</th>\n",
       "      <th>acousticness</th>\n",
       "      <th>instrumentalness</th>\n",
       "      <th>liveness</th>\n",
       "      <th>valence</th>\n",
       "      <th>tempo</th>\n",
       "    </tr>\n",
       "  </thead>\n",
       "  <tbody>\n",
       "    <tr>\n",
       "      <th>0</th>\n",
       "      <td>0.793</td>\n",
       "      <td>0.201</td>\n",
       "      <td>11</td>\n",
       "      <td>-16.822</td>\n",
       "      <td>0</td>\n",
       "      <td>0.2330</td>\n",
       "      <td>0.298</td>\n",
       "      <td>0.7040</td>\n",
       "      <td>0.1120</td>\n",
       "      <td>0.5950</td>\n",
       "      <td>148.204</td>\n",
       "    </tr>\n",
       "    <tr>\n",
       "      <th>1</th>\n",
       "      <td>0.749</td>\n",
       "      <td>0.290</td>\n",
       "      <td>9</td>\n",
       "      <td>-13.336</td>\n",
       "      <td>1</td>\n",
       "      <td>0.3260</td>\n",
       "      <td>0.811</td>\n",
       "      <td>0.9090</td>\n",
       "      <td>0.1040</td>\n",
       "      <td>0.8800</td>\n",
       "      <td>83.092</td>\n",
       "    </tr>\n",
       "    <tr>\n",
       "      <th>2</th>\n",
       "      <td>0.532</td>\n",
       "      <td>0.137</td>\n",
       "      <td>3</td>\n",
       "      <td>-19.672</td>\n",
       "      <td>1</td>\n",
       "      <td>0.0648</td>\n",
       "      <td>0.943</td>\n",
       "      <td>0.8240</td>\n",
       "      <td>0.0852</td>\n",
       "      <td>0.0732</td>\n",
       "      <td>89.346</td>\n",
       "    </tr>\n",
       "    <tr>\n",
       "      <th>3</th>\n",
       "      <td>0.859</td>\n",
       "      <td>0.309</td>\n",
       "      <td>4</td>\n",
       "      <td>-8.822</td>\n",
       "      <td>0</td>\n",
       "      <td>0.1830</td>\n",
       "      <td>0.921</td>\n",
       "      <td>0.3190</td>\n",
       "      <td>0.3290</td>\n",
       "      <td>0.5200</td>\n",
       "      <td>81.010</td>\n",
       "    </tr>\n",
       "    <tr>\n",
       "      <th>4</th>\n",
       "      <td>0.666</td>\n",
       "      <td>0.401</td>\n",
       "      <td>10</td>\n",
       "      <td>-8.577</td>\n",
       "      <td>1</td>\n",
       "      <td>0.0258</td>\n",
       "      <td>0.113</td>\n",
       "      <td>0.0196</td>\n",
       "      <td>0.0929</td>\n",
       "      <td>0.5870</td>\n",
       "      <td>89.978</td>\n",
       "    </tr>\n",
       "  </tbody>\n",
       "</table>\n",
       "</div>"
      ],
      "text/plain": [
       "   danceability  energy  key  loudness  mode  speechiness  acousticness  \\\n",
       "0         0.793   0.201   11   -16.822     0       0.2330         0.298   \n",
       "1         0.749   0.290    9   -13.336     1       0.3260         0.811   \n",
       "2         0.532   0.137    3   -19.672     1       0.0648         0.943   \n",
       "3         0.859   0.309    4    -8.822     0       0.1830         0.921   \n",
       "4         0.666   0.401   10    -8.577     1       0.0258         0.113   \n",
       "\n",
       "   instrumentalness  liveness  valence    tempo  \n",
       "0            0.7040    0.1120   0.5950  148.204  \n",
       "1            0.9090    0.1040   0.8800   83.092  \n",
       "2            0.8240    0.0852   0.0732   89.346  \n",
       "3            0.3190    0.3290   0.5200   81.010  \n",
       "4            0.0196    0.0929   0.5870   89.978  "
      ]
     },
     "execution_count": 277,
     "metadata": {},
     "output_type": "execute_result"
    }
   ],
   "source": [
    "k_means_table.head()"
   ]
  },
  {
   "cell_type": "markdown",
   "id": "packed-protest",
   "metadata": {},
   "source": [
    "#### Scaling"
   ]
  },
  {
   "cell_type": "code",
   "execution_count": 278,
   "id": "proud-examination",
   "metadata": {},
   "outputs": [
    {
     "name": "stdout",
     "output_type": "stream",
     "text": [
      "(7880, 11)\n"
     ]
    },
    {
     "data": {
      "text/html": [
       "<div>\n",
       "<style scoped>\n",
       "    .dataframe tbody tr th:only-of-type {\n",
       "        vertical-align: middle;\n",
       "    }\n",
       "\n",
       "    .dataframe tbody tr th {\n",
       "        vertical-align: top;\n",
       "    }\n",
       "\n",
       "    .dataframe thead th {\n",
       "        text-align: right;\n",
       "    }\n",
       "</style>\n",
       "<table border=\"1\" class=\"dataframe\">\n",
       "  <thead>\n",
       "    <tr style=\"text-align: right;\">\n",
       "      <th></th>\n",
       "      <th>danceability</th>\n",
       "      <th>energy</th>\n",
       "      <th>key</th>\n",
       "      <th>loudness</th>\n",
       "      <th>mode</th>\n",
       "      <th>speechiness</th>\n",
       "      <th>acousticness</th>\n",
       "      <th>instrumentalness</th>\n",
       "      <th>liveness</th>\n",
       "      <th>valence</th>\n",
       "      <th>tempo</th>\n",
       "    </tr>\n",
       "  </thead>\n",
       "  <tbody>\n",
       "    <tr>\n",
       "      <th>count</th>\n",
       "      <td>7.880000e+03</td>\n",
       "      <td>7.880000e+03</td>\n",
       "      <td>7.880000e+03</td>\n",
       "      <td>7.880000e+03</td>\n",
       "      <td>7.880000e+03</td>\n",
       "      <td>7.880000e+03</td>\n",
       "      <td>7.880000e+03</td>\n",
       "      <td>7.880000e+03</td>\n",
       "      <td>7.880000e+03</td>\n",
       "      <td>7.880000e+03</td>\n",
       "      <td>7.880000e+03</td>\n",
       "    </tr>\n",
       "    <tr>\n",
       "      <th>mean</th>\n",
       "      <td>3.702058e-16</td>\n",
       "      <td>-4.128959e-16</td>\n",
       "      <td>-8.318219e-17</td>\n",
       "      <td>-3.613297e-16</td>\n",
       "      <td>-5.365702e-16</td>\n",
       "      <td>3.615763e-16</td>\n",
       "      <td>2.391206e-16</td>\n",
       "      <td>-1.398064e-16</td>\n",
       "      <td>-1.594889e-17</td>\n",
       "      <td>-7.298167e-17</td>\n",
       "      <td>2.546609e-16</td>\n",
       "    </tr>\n",
       "    <tr>\n",
       "      <th>std</th>\n",
       "      <td>1.000063e+00</td>\n",
       "      <td>1.000063e+00</td>\n",
       "      <td>1.000063e+00</td>\n",
       "      <td>1.000063e+00</td>\n",
       "      <td>1.000063e+00</td>\n",
       "      <td>1.000063e+00</td>\n",
       "      <td>1.000063e+00</td>\n",
       "      <td>1.000063e+00</td>\n",
       "      <td>1.000063e+00</td>\n",
       "      <td>1.000063e+00</td>\n",
       "      <td>1.000063e+00</td>\n",
       "    </tr>\n",
       "    <tr>\n",
       "      <th>min</th>\n",
       "      <td>-4.645704e+00</td>\n",
       "      <td>-2.078973e+00</td>\n",
       "      <td>-1.518293e+00</td>\n",
       "      <td>-5.124596e+00</td>\n",
       "      <td>-1.047311e+00</td>\n",
       "      <td>-9.902766e-01</td>\n",
       "      <td>-1.571543e+00</td>\n",
       "      <td>-1.918729e+00</td>\n",
       "      <td>-1.289563e+00</td>\n",
       "      <td>-1.968662e+00</td>\n",
       "      <td>-3.013412e+00</td>\n",
       "    </tr>\n",
       "    <tr>\n",
       "      <th>25%</th>\n",
       "      <td>-5.620950e-01</td>\n",
       "      <td>-7.586279e-01</td>\n",
       "      <td>-9.593771e-01</td>\n",
       "      <td>-5.521540e-01</td>\n",
       "      <td>-1.047311e+00</td>\n",
       "      <td>-6.782098e-01</td>\n",
       "      <td>-9.665111e-01</td>\n",
       "      <td>-7.191513e-01</td>\n",
       "      <td>-5.192373e-01</td>\n",
       "      <td>-7.858372e-01</td>\n",
       "      <td>-7.534899e-01</td>\n",
       "    </tr>\n",
       "    <tr>\n",
       "      <th>50%</th>\n",
       "      <td>1.316179e-01</td>\n",
       "      <td>-6.599092e-02</td>\n",
       "      <td>1.584540e-01</td>\n",
       "      <td>1.202585e-01</td>\n",
       "      <td>9.548263e-01</td>\n",
       "      <td>-4.360231e-01</td>\n",
       "      <td>1.046419e-01</td>\n",
       "      <td>4.909822e-01</td>\n",
       "      <td>-4.059540e-01</td>\n",
       "      <td>-1.351974e-03</td>\n",
       "      <td>-5.055037e-01</td>\n",
       "    </tr>\n",
       "    <tr>\n",
       "      <th>75%</th>\n",
       "      <td>7.037522e-01</td>\n",
       "      <td>6.714931e-01</td>\n",
       "      <td>9.968273e-01</td>\n",
       "      <td>7.036492e-01</td>\n",
       "      <td>9.548263e-01</td>\n",
       "      <td>3.690325e-01</td>\n",
       "      <td>9.350169e-01</td>\n",
       "      <td>7.895571e-01</td>\n",
       "      <td>5.473124e-02</td>\n",
       "      <td>7.709392e-01</td>\n",
       "      <td>8.269636e-01</td>\n",
       "    </tr>\n",
       "    <tr>\n",
       "      <th>max</th>\n",
       "      <td>2.427307e+00</td>\n",
       "      <td>2.873979e+00</td>\n",
       "      <td>1.555743e+00</td>\n",
       "      <td>2.786770e+00</td>\n",
       "      <td>9.548263e-01</td>\n",
       "      <td>5.091515e+00</td>\n",
       "      <td>1.503006e+00</td>\n",
       "      <td>1.082100e+00</td>\n",
       "      <td>5.983222e+00</td>\n",
       "      <td>2.096028e+00</td>\n",
       "      <td>3.758474e+00</td>\n",
       "    </tr>\n",
       "  </tbody>\n",
       "</table>\n",
       "</div>"
      ],
      "text/plain": [
       "       danceability        energy           key      loudness          mode  \\\n",
       "count  7.880000e+03  7.880000e+03  7.880000e+03  7.880000e+03  7.880000e+03   \n",
       "mean   3.702058e-16 -4.128959e-16 -8.318219e-17 -3.613297e-16 -5.365702e-16   \n",
       "std    1.000063e+00  1.000063e+00  1.000063e+00  1.000063e+00  1.000063e+00   \n",
       "min   -4.645704e+00 -2.078973e+00 -1.518293e+00 -5.124596e+00 -1.047311e+00   \n",
       "25%   -5.620950e-01 -7.586279e-01 -9.593771e-01 -5.521540e-01 -1.047311e+00   \n",
       "50%    1.316179e-01 -6.599092e-02  1.584540e-01  1.202585e-01  9.548263e-01   \n",
       "75%    7.037522e-01  6.714931e-01  9.968273e-01  7.036492e-01  9.548263e-01   \n",
       "max    2.427307e+00  2.873979e+00  1.555743e+00  2.786770e+00  9.548263e-01   \n",
       "\n",
       "        speechiness  acousticness  instrumentalness      liveness  \\\n",
       "count  7.880000e+03  7.880000e+03      7.880000e+03  7.880000e+03   \n",
       "mean   3.615763e-16  2.391206e-16     -1.398064e-16 -1.594889e-17   \n",
       "std    1.000063e+00  1.000063e+00      1.000063e+00  1.000063e+00   \n",
       "min   -9.902766e-01 -1.571543e+00     -1.918729e+00 -1.289563e+00   \n",
       "25%   -6.782098e-01 -9.665111e-01     -7.191513e-01 -5.192373e-01   \n",
       "50%   -4.360231e-01  1.046419e-01      4.909822e-01 -4.059540e-01   \n",
       "75%    3.690325e-01  9.350169e-01      7.895571e-01  5.473124e-02   \n",
       "max    5.091515e+00  1.503006e+00      1.082100e+00  5.983222e+00   \n",
       "\n",
       "            valence         tempo  \n",
       "count  7.880000e+03  7.880000e+03  \n",
       "mean  -7.298167e-17  2.546609e-16  \n",
       "std    1.000063e+00  1.000063e+00  \n",
       "min   -1.968662e+00 -3.013412e+00  \n",
       "25%   -7.858372e-01 -7.534899e-01  \n",
       "50%   -1.351974e-03 -5.055037e-01  \n",
       "75%    7.709392e-01  8.269636e-01  \n",
       "max    2.096028e+00  3.758474e+00  "
      ]
     },
     "execution_count": 278,
     "metadata": {},
     "output_type": "execute_result"
    }
   ],
   "source": [
    "# scaling standard scaler: make data normal distributed with mean=0 and std=1\n",
    "transformer = StandardScaler().fit(k_means_table)\n",
    "feat_standardized = transformer.transform(k_means_table)\n",
    "print(feat_standardized.shape)\n",
    "feat_stand = pd.DataFrame(feat_standardized, columns=k_means_table.columns)\n",
    "feat_stand.describe()"
   ]
  },
  {
   "cell_type": "code",
   "execution_count": 279,
   "id": "running-lingerie",
   "metadata": {},
   "outputs": [],
   "source": [
    "# APPLY TRANSFORMER LATER\n",
    "\n",
    "# # scaling standard scaler: make data normal distributed with mean=0 and std=1\n",
    "# test_num_standardized = transformer.transform(numerical_test)\n",
    "# print(test_num_standardized.shape)\n",
    "# test_num_stand = pd.DataFrame(test_num_standardized, columns=numerical_test.columns)\n"
   ]
  },
  {
   "cell_type": "markdown",
   "id": "indie-community",
   "metadata": {},
   "source": [
    "#### Choosing k"
   ]
  },
  {
   "cell_type": "code",
   "execution_count": 281,
   "id": "israeli-stationery",
   "metadata": {},
   "outputs": [
    {
     "data": {
      "text/plain": [
       "KMeans(n_clusters=2, random_state=1234)"
      ]
     },
     "execution_count": 281,
     "metadata": {},
     "output_type": "execute_result"
    },
    {
     "data": {
      "text/plain": [
       "KMeans(n_clusters=3, random_state=1234)"
      ]
     },
     "execution_count": 281,
     "metadata": {},
     "output_type": "execute_result"
    },
    {
     "data": {
      "text/plain": [
       "KMeans(n_clusters=4, random_state=1234)"
      ]
     },
     "execution_count": 281,
     "metadata": {},
     "output_type": "execute_result"
    },
    {
     "data": {
      "text/plain": [
       "KMeans(n_clusters=5, random_state=1234)"
      ]
     },
     "execution_count": 281,
     "metadata": {},
     "output_type": "execute_result"
    },
    {
     "data": {
      "text/plain": [
       "KMeans(n_clusters=6, random_state=1234)"
      ]
     },
     "execution_count": 281,
     "metadata": {},
     "output_type": "execute_result"
    },
    {
     "data": {
      "text/plain": [
       "KMeans(n_clusters=7, random_state=1234)"
      ]
     },
     "execution_count": 281,
     "metadata": {},
     "output_type": "execute_result"
    },
    {
     "data": {
      "text/plain": [
       "KMeans(random_state=1234)"
      ]
     },
     "execution_count": 281,
     "metadata": {},
     "output_type": "execute_result"
    },
    {
     "data": {
      "text/plain": [
       "KMeans(n_clusters=9, random_state=1234)"
      ]
     },
     "execution_count": 281,
     "metadata": {},
     "output_type": "execute_result"
    },
    {
     "data": {
      "text/plain": [
       "KMeans(n_clusters=10, random_state=1234)"
      ]
     },
     "execution_count": 281,
     "metadata": {},
     "output_type": "execute_result"
    },
    {
     "data": {
      "text/plain": [
       "KMeans(n_clusters=11, random_state=1234)"
      ]
     },
     "execution_count": 281,
     "metadata": {},
     "output_type": "execute_result"
    },
    {
     "data": {
      "text/plain": [
       "KMeans(n_clusters=12, random_state=1234)"
      ]
     },
     "execution_count": 281,
     "metadata": {},
     "output_type": "execute_result"
    },
    {
     "data": {
      "text/plain": [
       "KMeans(n_clusters=13, random_state=1234)"
      ]
     },
     "execution_count": 281,
     "metadata": {},
     "output_type": "execute_result"
    },
    {
     "data": {
      "text/plain": [
       "KMeans(n_clusters=14, random_state=1234)"
      ]
     },
     "execution_count": 281,
     "metadata": {},
     "output_type": "execute_result"
    },
    {
     "data": {
      "text/plain": [
       "KMeans(n_clusters=15, random_state=1234)"
      ]
     },
     "execution_count": 281,
     "metadata": {},
     "output_type": "execute_result"
    },
    {
     "data": {
      "text/plain": [
       "KMeans(n_clusters=16, random_state=1234)"
      ]
     },
     "execution_count": 281,
     "metadata": {},
     "output_type": "execute_result"
    },
    {
     "data": {
      "text/plain": [
       "KMeans(n_clusters=17, random_state=1234)"
      ]
     },
     "execution_count": 281,
     "metadata": {},
     "output_type": "execute_result"
    },
    {
     "data": {
      "text/plain": [
       "KMeans(n_clusters=18, random_state=1234)"
      ]
     },
     "execution_count": 281,
     "metadata": {},
     "output_type": "execute_result"
    },
    {
     "data": {
      "text/plain": [
       "KMeans(n_clusters=19, random_state=1234)"
      ]
     },
     "execution_count": 281,
     "metadata": {},
     "output_type": "execute_result"
    },
    {
     "data": {
      "text/plain": [
       "<Figure size 1152x576 with 0 Axes>"
      ]
     },
     "execution_count": 281,
     "metadata": {},
     "output_type": "execute_result"
    },
    {
     "data": {
      "text/plain": [
       "[<matplotlib.lines.Line2D at 0x22f0fb16688>]"
      ]
     },
     "execution_count": 281,
     "metadata": {},
     "output_type": "execute_result"
    },
    {
     "data": {
      "text/plain": [
       "Text(0.5, 0, 'k')"
      ]
     },
     "execution_count": 281,
     "metadata": {},
     "output_type": "execute_result"
    },
    {
     "data": {
      "text/plain": [
       "Text(0, 0.5, 'silhouette score')"
      ]
     },
     "execution_count": 281,
     "metadata": {},
     "output_type": "execute_result"
    },
    {
     "data": {
      "text/plain": [
       "([<matplotlib.axis.XTick at 0x22f0faf8448>,\n",
       "  <matplotlib.axis.XTick at 0x22f0faf8888>,\n",
       "  <matplotlib.axis.XTick at 0x22f0fae2f88>,\n",
       "  <matplotlib.axis.XTick at 0x22f0fb2a788>,\n",
       "  <matplotlib.axis.XTick at 0x22f0fb29188>,\n",
       "  <matplotlib.axis.XTick at 0x22f0fb29bc8>,\n",
       "  <matplotlib.axis.XTick at 0x22f0fb2f888>,\n",
       "  <matplotlib.axis.XTick at 0x22f0fb33408>,\n",
       "  <matplotlib.axis.XTick at 0x22f0fb33f48>,\n",
       "  <matplotlib.axis.XTick at 0x22f0fb36b08>,\n",
       "  <matplotlib.axis.XTick at 0x22f0fb3b608>,\n",
       "  <matplotlib.axis.XTick at 0x22f0fb29cc8>,\n",
       "  <matplotlib.axis.XTick at 0x22f0fb3bec8>,\n",
       "  <matplotlib.axis.XTick at 0x22f0fb408c8>,\n",
       "  <matplotlib.axis.XTick at 0x22f0fb432c8>,\n",
       "  <matplotlib.axis.XTick at 0x22f0fb43cc8>,\n",
       "  <matplotlib.axis.XTick at 0x22f0fb45848>,\n",
       "  <matplotlib.axis.XTick at 0x22f0fb4a3c8>],\n",
       " [Text(0, 0, ''),\n",
       "  Text(0, 0, ''),\n",
       "  Text(0, 0, ''),\n",
       "  Text(0, 0, ''),\n",
       "  Text(0, 0, ''),\n",
       "  Text(0, 0, ''),\n",
       "  Text(0, 0, ''),\n",
       "  Text(0, 0, ''),\n",
       "  Text(0, 0, ''),\n",
       "  Text(0, 0, ''),\n",
       "  Text(0, 0, ''),\n",
       "  Text(0, 0, ''),\n",
       "  Text(0, 0, ''),\n",
       "  Text(0, 0, ''),\n",
       "  Text(0, 0, ''),\n",
       "  Text(0, 0, ''),\n",
       "  Text(0, 0, ''),\n",
       "  Text(0, 0, '')])"
      ]
     },
     "execution_count": 281,
     "metadata": {},
     "output_type": "execute_result"
    },
    {
     "data": {
      "text/plain": [
       "Text(0.5, 1.0, 'Elbow Method showing the optimal k')"
      ]
     },
     "execution_count": 281,
     "metadata": {},
     "output_type": "execute_result"
    },
    {
     "data": {
      "image/png": "[encoded data removed]",
      "text/plain": [
       "<Figure size 1152x576 with 1 Axes>"
      ]
     },
     "metadata": {
      "needs_background": "light"
     },
     "output_type": "display_data"
    }
   ],
   "source": [
    "from sklearn.metrics import silhouette_score\n",
    "K = range(2, 20)\n",
    "silhouette = []\n",
    "\n",
    "for k in K:\n",
    "    kmeans = KMeans(n_clusters=k,\n",
    "                    random_state=1234)\n",
    "    kmeans.fit(feat_stand)\n",
    "    silhouette.append(silhouette_score(feat_stand, kmeans.predict(feat_stand)))\n",
    "\n",
    "\n",
    "plt.figure(figsize=(16,8))\n",
    "plt.plot(K, silhouette, 'bx-')\n",
    "plt.xlabel('k')\n",
    "plt.ylabel('silhouette score')\n",
    "plt.xticks(np.arange(min(K), max(K)+1, 1.0))\n",
    "plt.title('Elbow Method showing the optimal k')"
   ]
  },
  {
   "cell_type": "markdown",
   "id": "casual-eleven",
   "metadata": {},
   "source": [
    "## Modeling"
   ]
  },
  {
   "cell_type": "code",
   "execution_count": 282,
   "id": "prescribed-friend",
   "metadata": {},
   "outputs": [
    {
     "data": {
      "text/plain": [
       "KMeans(n_clusters=6, random_state=1234)"
      ]
     },
     "execution_count": 282,
     "metadata": {},
     "output_type": "execute_result"
    },
    {
     "name": "stdout",
     "output_type": "stream",
     "text": [
      "58508.9393848227\n"
     ]
    }
   ],
   "source": [
    "kmeans = KMeans(n_clusters=6,\n",
    "#                 init=\"random\",\n",
    "#                 n_init=30,  # try with 1, 4, 8, 20, 30, 100...\n",
    "#                 max_iter=10,\n",
    "#                 tol=0,\n",
    "                random_state=1234)\n",
    "kmeans.fit(feat_stand)\n",
    "print(kmeans.inertia_)"
   ]
  },
  {
   "cell_type": "code",
   "execution_count": 283,
   "id": "formed-folks",
   "metadata": {},
   "outputs": [
    {
     "data": {
      "text/plain": [
       "0    1000\n",
       "1    1915\n",
       "2     532\n",
       "3     790\n",
       "4    1811\n",
       "5    1832\n",
       "dtype: int64"
      ]
     },
     "execution_count": 283,
     "metadata": {},
     "output_type": "execute_result"
    }
   ],
   "source": [
    "# Predicting / assigning the clusters:\n",
    "clusters = kmeans.predict(feat_stand)\n",
    "\n",
    "# Check the size of the clusters\n",
    "pd.Series(clusters).value_counts().sort_index()"
   ]
  },
  {
   "cell_type": "markdown",
   "id": "prescribed-modem",
   "metadata": {},
   "source": [
    "## Prepare datasets we are going to use in our recommendation system"
   ]
  },
  {
   "cell_type": "markdown",
   "id": "enhanced-hacker",
   "metadata": {},
   "source": [
    "### Adding labels to numerical dataset"
   ]
  },
  {
   "cell_type": "code",
   "execution_count": 284,
   "id": "anticipated-plant",
   "metadata": {},
   "outputs": [],
   "source": [
    "clusters_clas = pd.DataFrame(clusters)"
   ]
  },
  {
   "cell_type": "code",
   "execution_count": 285,
   "id": "dietary-indie",
   "metadata": {},
   "outputs": [],
   "source": [
    "feat_stand['cluster'] = clusters_clas"
   ]
  },
  {
   "cell_type": "code",
   "execution_count": 286,
   "id": "endangered-affiliation",
   "metadata": {},
   "outputs": [
    {
     "data": {
      "text/html": [
       "<div>\n",
       "<style scoped>\n",
       "    .dataframe tbody tr th:only-of-type {\n",
       "        vertical-align: middle;\n",
       "    }\n",
       "\n",
       "    .dataframe tbody tr th {\n",
       "        vertical-align: top;\n",
       "    }\n",
       "\n",
       "    .dataframe thead th {\n",
       "        text-align: right;\n",
       "    }\n",
       "</style>\n",
       "<table border=\"1\" class=\"dataframe\">\n",
       "  <thead>\n",
       "    <tr style=\"text-align: right;\">\n",
       "      <th></th>\n",
       "      <th>danceability</th>\n",
       "      <th>energy</th>\n",
       "      <th>key</th>\n",
       "      <th>loudness</th>\n",
       "      <th>mode</th>\n",
       "      <th>speechiness</th>\n",
       "      <th>acousticness</th>\n",
       "      <th>instrumentalness</th>\n",
       "      <th>liveness</th>\n",
       "      <th>valence</th>\n",
       "      <th>tempo</th>\n",
       "      <th>cluster</th>\n",
       "    </tr>\n",
       "  </thead>\n",
       "  <tbody>\n",
       "    <tr>\n",
       "      <th>0</th>\n",
       "      <td>1.025578</td>\n",
       "      <td>-1.092489</td>\n",
       "      <td>1.555743</td>\n",
       "      <td>-1.306769</td>\n",
       "      <td>-1.047311</td>\n",
       "      <td>0.496667</td>\n",
       "      <td>-0.651648</td>\n",
       "      <td>0.204471</td>\n",
       "      <td>-0.443715</td>\n",
       "      <td>0.449829</td>\n",
       "      <td>1.069749</td>\n",
       "      <td>5</td>\n",
       "    </tr>\n",
       "    <tr>\n",
       "      <th>1</th>\n",
       "      <td>0.710904</td>\n",
       "      <td>-0.649002</td>\n",
       "      <td>0.996827</td>\n",
       "      <td>-0.457713</td>\n",
       "      <td>0.954826</td>\n",
       "      <td>1.090168</td>\n",
       "      <td>0.931930</td>\n",
       "      <td>0.822732</td>\n",
       "      <td>-0.504133</td>\n",
       "      <td>1.608265</td>\n",
       "      <td>-0.724148</td>\n",
       "      <td>1</td>\n",
       "    </tr>\n",
       "    <tr>\n",
       "      <th>2</th>\n",
       "      <td>-0.841011</td>\n",
       "      <td>-1.411401</td>\n",
       "      <td>-0.679919</td>\n",
       "      <td>-2.000919</td>\n",
       "      <td>0.954826</td>\n",
       "      <td>-0.576740</td>\n",
       "      <td>1.339400</td>\n",
       "      <td>0.566380</td>\n",
       "      <td>-0.646115</td>\n",
       "      <td>-1.671127</td>\n",
       "      <td>-0.551844</td>\n",
       "      <td>0</td>\n",
       "    </tr>\n",
       "    <tr>\n",
       "      <th>3</th>\n",
       "      <td>1.497589</td>\n",
       "      <td>-0.554325</td>\n",
       "      <td>-0.400462</td>\n",
       "      <td>0.641724</td>\n",
       "      <td>-1.047311</td>\n",
       "      <td>0.177581</td>\n",
       "      <td>1.271489</td>\n",
       "      <td>-0.956654</td>\n",
       "      <td>1.195116</td>\n",
       "      <td>0.144977</td>\n",
       "      <td>-0.781509</td>\n",
       "      <td>5</td>\n",
       "    </tr>\n",
       "    <tr>\n",
       "      <th>4</th>\n",
       "      <td>0.117314</td>\n",
       "      <td>-0.095889</td>\n",
       "      <td>1.276285</td>\n",
       "      <td>0.701396</td>\n",
       "      <td>0.954826</td>\n",
       "      <td>-0.825628</td>\n",
       "      <td>-1.222723</td>\n",
       "      <td>-1.859617</td>\n",
       "      <td>-0.587962</td>\n",
       "      <td>0.417311</td>\n",
       "      <td>-0.534432</td>\n",
       "      <td>4</td>\n",
       "    </tr>\n",
       "  </tbody>\n",
       "</table>\n",
       "</div>"
      ],
      "text/plain": [
       "   danceability    energy       key  loudness      mode  speechiness  \\\n",
       "0      1.025578 -1.092489  1.555743 -1.306769 -1.047311     0.496667   \n",
       "1      0.710904 -0.649002  0.996827 -0.457713  0.954826     1.090168   \n",
       "2     -0.841011 -1.411401 -0.679919 -2.000919  0.954826    -0.576740   \n",
       "3      1.497589 -0.554325 -0.400462  0.641724 -1.047311     0.177581   \n",
       "4      0.117314 -0.095889  1.276285  0.701396  0.954826    -0.825628   \n",
       "\n",
       "   acousticness  instrumentalness  liveness   valence     tempo  cluster  \n",
       "0     -0.651648          0.204471 -0.443715  0.449829  1.069749        5  \n",
       "1      0.931930          0.822732 -0.504133  1.608265 -0.724148        1  \n",
       "2      1.339400          0.566380 -0.646115 -1.671127 -0.551844        0  \n",
       "3      1.271489         -0.956654  1.195116  0.144977 -0.781509        5  \n",
       "4     -1.222723         -1.859617 -0.587962  0.417311 -0.534432        4  "
      ]
     },
     "execution_count": 286,
     "metadata": {},
     "output_type": "execute_result"
    }
   ],
   "source": [
    "feat_stand.head()"
   ]
  },
  {
   "cell_type": "markdown",
   "id": "downtown-justice",
   "metadata": {},
   "source": [
    "### Dataset we will use to recommend songs from our playlist"
   ]
  },
  {
   "cell_type": "code",
   "execution_count": 299,
   "id": "communist-republic",
   "metadata": {},
   "outputs": [],
   "source": [
    "playlist['cluster']= feat_stand['cluster']"
   ]
  },
  {
   "cell_type": "code",
   "execution_count": 300,
   "id": "portable-flush",
   "metadata": {},
   "outputs": [
    {
     "data": {
      "text/html": [
       "<div>\n",
       "<style scoped>\n",
       "    .dataframe tbody tr th:only-of-type {\n",
       "        vertical-align: middle;\n",
       "    }\n",
       "\n",
       "    .dataframe tbody tr th {\n",
       "        vertical-align: top;\n",
       "    }\n",
       "\n",
       "    .dataframe thead th {\n",
       "        text-align: right;\n",
       "    }\n",
       "</style>\n",
       "<table border=\"1\" class=\"dataframe\">\n",
       "  <thead>\n",
       "    <tr style=\"text-align: right;\">\n",
       "      <th></th>\n",
       "      <th>artist</th>\n",
       "      <th>song</th>\n",
       "      <th>danceability</th>\n",
       "      <th>energy</th>\n",
       "      <th>key</th>\n",
       "      <th>loudness</th>\n",
       "      <th>mode</th>\n",
       "      <th>speechiness</th>\n",
       "      <th>acousticness</th>\n",
       "      <th>instrumentalness</th>\n",
       "      <th>...</th>\n",
       "      <th>valence</th>\n",
       "      <th>tempo</th>\n",
       "      <th>type</th>\n",
       "      <th>id</th>\n",
       "      <th>uri</th>\n",
       "      <th>track_href</th>\n",
       "      <th>analysis_url</th>\n",
       "      <th>duration_ms</th>\n",
       "      <th>time_signature</th>\n",
       "      <th>cluster</th>\n",
       "    </tr>\n",
       "  </thead>\n",
       "  <tbody>\n",
       "    <tr>\n",
       "      <th>0</th>\n",
       "      <td>eevee</td>\n",
       "      <td>belas</td>\n",
       "      <td>0.793</td>\n",
       "      <td>0.201</td>\n",
       "      <td>11</td>\n",
       "      <td>-16.822</td>\n",
       "      <td>0</td>\n",
       "      <td>0.2330</td>\n",
       "      <td>0.298</td>\n",
       "      <td>0.7040</td>\n",
       "      <td>...</td>\n",
       "      <td>0.5950</td>\n",
       "      <td>148.204</td>\n",
       "      <td>audio_features</td>\n",
       "      <td>0SqCqfEs8odbI8gIBUIWwe</td>\n",
       "      <td>spotify:track:0SqCqfEs8odbI8gIBUIWwe</td>\n",
       "      <td>https://api.spotify.com/v1/tracks/0SqCqfEs8odb...</td>\n",
       "      <td>https://api.spotify.com/v1/audio-analysis/0SqC...</td>\n",
       "      <td>181639</td>\n",
       "      <td>4</td>\n",
       "      <td>5</td>\n",
       "    </tr>\n",
       "    <tr>\n",
       "      <th>1</th>\n",
       "      <td>mndbd</td>\n",
       "      <td>Ice</td>\n",
       "      <td>0.749</td>\n",
       "      <td>0.290</td>\n",
       "      <td>9</td>\n",
       "      <td>-13.336</td>\n",
       "      <td>1</td>\n",
       "      <td>0.3260</td>\n",
       "      <td>0.811</td>\n",
       "      <td>0.9090</td>\n",
       "      <td>...</td>\n",
       "      <td>0.8800</td>\n",
       "      <td>83.092</td>\n",
       "      <td>audio_features</td>\n",
       "      <td>3OpQVwRE5b8DpCEo0iPKTH</td>\n",
       "      <td>spotify:track:3OpQVwRE5b8DpCEo0iPKTH</td>\n",
       "      <td>https://api.spotify.com/v1/tracks/3OpQVwRE5b8D...</td>\n",
       "      <td>https://api.spotify.com/v1/audio-analysis/3OpQ...</td>\n",
       "      <td>107651</td>\n",
       "      <td>4</td>\n",
       "      <td>1</td>\n",
       "    </tr>\n",
       "    <tr>\n",
       "      <th>2</th>\n",
       "      <td>Rook1e</td>\n",
       "      <td>I Fell in Love with You One Night in September</td>\n",
       "      <td>0.532</td>\n",
       "      <td>0.137</td>\n",
       "      <td>3</td>\n",
       "      <td>-19.672</td>\n",
       "      <td>1</td>\n",
       "      <td>0.0648</td>\n",
       "      <td>0.943</td>\n",
       "      <td>0.8240</td>\n",
       "      <td>...</td>\n",
       "      <td>0.0732</td>\n",
       "      <td>89.346</td>\n",
       "      <td>audio_features</td>\n",
       "      <td>10hweQwWcUhBcpipYEvCYD</td>\n",
       "      <td>spotify:track:10hweQwWcUhBcpipYEvCYD</td>\n",
       "      <td>https://api.spotify.com/v1/tracks/10hweQwWcUhB...</td>\n",
       "      <td>https://api.spotify.com/v1/audio-analysis/10hw...</td>\n",
       "      <td>96005</td>\n",
       "      <td>3</td>\n",
       "      <td>0</td>\n",
       "    </tr>\n",
       "    <tr>\n",
       "      <th>3</th>\n",
       "      <td>Oui Lele</td>\n",
       "      <td>by the sea</td>\n",
       "      <td>0.859</td>\n",
       "      <td>0.309</td>\n",
       "      <td>4</td>\n",
       "      <td>-8.822</td>\n",
       "      <td>0</td>\n",
       "      <td>0.1830</td>\n",
       "      <td>0.921</td>\n",
       "      <td>0.3190</td>\n",
       "      <td>...</td>\n",
       "      <td>0.5200</td>\n",
       "      <td>81.010</td>\n",
       "      <td>audio_features</td>\n",
       "      <td>425XMD7eJzAtu5euOKbFj7</td>\n",
       "      <td>spotify:track:425XMD7eJzAtu5euOKbFj7</td>\n",
       "      <td>https://api.spotify.com/v1/tracks/425XMD7eJzAt...</td>\n",
       "      <td>https://api.spotify.com/v1/audio-analysis/425X...</td>\n",
       "      <td>154074</td>\n",
       "      <td>4</td>\n",
       "      <td>5</td>\n",
       "    </tr>\n",
       "    <tr>\n",
       "      <th>4</th>\n",
       "      <td>Joakim Karud</td>\n",
       "      <td>Canals</td>\n",
       "      <td>0.666</td>\n",
       "      <td>0.401</td>\n",
       "      <td>10</td>\n",
       "      <td>-8.577</td>\n",
       "      <td>1</td>\n",
       "      <td>0.0258</td>\n",
       "      <td>0.113</td>\n",
       "      <td>0.0196</td>\n",
       "      <td>...</td>\n",
       "      <td>0.5870</td>\n",
       "      <td>89.978</td>\n",
       "      <td>audio_features</td>\n",
       "      <td>30wUXhH7EUK84rVYN24KyF</td>\n",
       "      <td>spotify:track:30wUXhH7EUK84rVYN24KyF</td>\n",
       "      <td>https://api.spotify.com/v1/tracks/30wUXhH7EUK8...</td>\n",
       "      <td>https://api.spotify.com/v1/audio-analysis/30wU...</td>\n",
       "      <td>154667</td>\n",
       "      <td>4</td>\n",
       "      <td>4</td>\n",
       "    </tr>\n",
       "  </tbody>\n",
       "</table>\n",
       "<p>5 rows × 21 columns</p>\n",
       "</div>"
      ],
      "text/plain": [
       "         artist                                            song  danceability  \\\n",
       "0         eevee                                           belas         0.793   \n",
       "1         mndbd                                             Ice         0.749   \n",
       "2        Rook1e  I Fell in Love with You One Night in September         0.532   \n",
       "3      Oui Lele                                      by the sea         0.859   \n",
       "4  Joakim Karud                                          Canals         0.666   \n",
       "\n",
       "   energy  key  loudness  mode  speechiness  acousticness  instrumentalness  \\\n",
       "0   0.201   11   -16.822     0       0.2330         0.298            0.7040   \n",
       "1   0.290    9   -13.336     1       0.3260         0.811            0.9090   \n",
       "2   0.137    3   -19.672     1       0.0648         0.943            0.8240   \n",
       "3   0.309    4    -8.822     0       0.1830         0.921            0.3190   \n",
       "4   0.401   10    -8.577     1       0.0258         0.113            0.0196   \n",
       "\n",
       "   ...  valence    tempo            type                      id  \\\n",
       "0  ...   0.5950  148.204  audio_features  0SqCqfEs8odbI8gIBUIWwe   \n",
       "1  ...   0.8800   83.092  audio_features  3OpQVwRE5b8DpCEo0iPKTH   \n",
       "2  ...   0.0732   89.346  audio_features  10hweQwWcUhBcpipYEvCYD   \n",
       "3  ...   0.5200   81.010  audio_features  425XMD7eJzAtu5euOKbFj7   \n",
       "4  ...   0.5870   89.978  audio_features  30wUXhH7EUK84rVYN24KyF   \n",
       "\n",
       "                                    uri  \\\n",
       "0  spotify:track:0SqCqfEs8odbI8gIBUIWwe   \n",
       "1  spotify:track:3OpQVwRE5b8DpCEo0iPKTH   \n",
       "2  spotify:track:10hweQwWcUhBcpipYEvCYD   \n",
       "3  spotify:track:425XMD7eJzAtu5euOKbFj7   \n",
       "4  spotify:track:30wUXhH7EUK84rVYN24KyF   \n",
       "\n",
       "                                          track_href  \\\n",
       "0  https://api.spotify.com/v1/tracks/0SqCqfEs8odb...   \n",
       "1  https://api.spotify.com/v1/tracks/3OpQVwRE5b8D...   \n",
       "2  https://api.spotify.com/v1/tracks/10hweQwWcUhB...   \n",
       "3  https://api.spotify.com/v1/tracks/425XMD7eJzAt...   \n",
       "4  https://api.spotify.com/v1/tracks/30wUXhH7EUK8...   \n",
       "\n",
       "                                        analysis_url duration_ms  \\\n",
       "0  https://api.spotify.com/v1/audio-analysis/0SqC...      181639   \n",
       "1  https://api.spotify.com/v1/audio-analysis/3OpQ...      107651   \n",
       "2  https://api.spotify.com/v1/audio-analysis/10hw...       96005   \n",
       "3  https://api.spotify.com/v1/audio-analysis/425X...      154074   \n",
       "4  https://api.spotify.com/v1/audio-analysis/30wU...      154667   \n",
       "\n",
       "   time_signature  cluster  \n",
       "0               4        5  \n",
       "1               4        1  \n",
       "2               3        0  \n",
       "3               4        5  \n",
       "4               4        4  \n",
       "\n",
       "[5 rows x 21 columns]"
      ]
     },
     "execution_count": 300,
     "metadata": {},
     "output_type": "execute_result"
    }
   ],
   "source": [
    "playlist.head()"
   ]
  },
  {
   "cell_type": "markdown",
   "id": "national-patrol",
   "metadata": {},
   "source": [
    "### Dataset with top 100 songs from Billboard"
   ]
  },
  {
   "cell_type": "code",
   "execution_count": 296,
   "id": "smoking-lemon",
   "metadata": {},
   "outputs": [],
   "source": [
    "top100 = pd.read_csv('top100')"
   ]
  },
  {
   "cell_type": "markdown",
   "id": "brown-naples",
   "metadata": {},
   "source": [
    "1. When the user inputs a song, you should be able to:\n",
    "- receive an input song from a user. let’s imagine it’s Bohemian Rhapsody\n",
    "- check if Bohemian Rhapsody is hot. it’s not, so…\n",
    "- send “Bohemian Rhapsody” to the Spotify API and get its audio features. store them in a variable called, for example, song_audio_features\n",
    "- scale the audio features using song_scaled = scaler.transform(song_audio_features) (this is the scaler we created above!)\n",
    "- get the cluster of the song, using kmeans.predict(song_scaled) (this is the kmeans model we created above!). Let’s imagine it’s cluster 3.\n",
    "- rom your dataframe of collected songs X , get a song that belongs to cluster 3. Let’s imagine it’s Stairway to Heaven.\n",
    "- print Stairway to Heaven: this is your recommendation!"
   ]
  },
  {
   "cell_type": "markdown",
   "id": "manual-offering",
   "metadata": {},
   "source": [
    "## Recommender system"
   ]
  },
  {
   "cell_type": "code",
   "execution_count": 314,
   "id": "absolute-liquid",
   "metadata": {},
   "outputs": [],
   "source": [
    "def questions():\n",
    "    song = str(input('Tell me a song! ').title())\n",
    "    if song in list(top100['title']):\n",
    "        recommendation = top100.sample()\n",
    "        return \"That song is super popular, you should also listen to \" + recommendation['title'].values[0] + ' from ' + recommendation['artist'].values[0] + '!'\n",
    "    else:\n",
    "        results = sp.search(q=song, limit=1)\n",
    "        song_uri = results[\"tracks\"]['items'][0][\"uri\"]\n",
    "        song_audio_features = sp.audio_features(song_uri)\n",
    "        song_audio_features = pd.DataFrame(song_audio_features)\n",
    "        song_audio_features.drop(['type','id','uri','track_href','analysis_url','duration_ms','time_signature'],axis= 1, inplace=True)\n",
    "        song_scaled = transformer.transform(song_audio_features)\n",
    "        song_cluster = kmeans.predict(song_scaled)\n",
    "        recommendation = playlist.loc[playlist['cluster']==int(song_cluster)].sample()\n",
    "        return \"That song is not in the top 100 list, maybe you should listen to \" + recommendation['song'].values[0] + ' from ' + recommendation['artist'].values[0] + '!'"
   ]
  },
  {
   "cell_type": "code",
   "execution_count": 316,
   "id": "mobile-orange",
   "metadata": {},
   "outputs": [
    {
     "name": "stdout",
     "output_type": "stream",
     "text": [
      "Tell me a song! rapstar\n"
     ]
    },
    {
     "data": {
      "text/plain": [
       "'That song is super popular, you should also listen to Mood from 24kGoldn Featuring iann dior!'"
      ]
     },
     "execution_count": 316,
     "metadata": {},
     "output_type": "execute_result"
    }
   ],
   "source": [
    "questions()"
   ]
  },
  {
   "cell_type": "code",
   "execution_count": null,
   "id": "instant-bradley",
   "metadata": {},
   "outputs": [],
   "source": []
  },
  {
   "cell_type": "code",
   "execution_count": null,
   "id": "fitting-detection",
   "metadata": {},
   "outputs": [],
   "source": []
  },
  {
   "cell_type": "code",
   "execution_count": null,
   "id": "reliable-leader",
   "metadata": {},
   "outputs": [],
   "source": []
  },
  {
   "cell_type": "code",
   "execution_count": null,
   "id": "descending-sugar",
   "metadata": {},
   "outputs": [],
   "source": []
  }
 ],
 "metadata": {
  "kernelspec": {
   "display_name": "Python 3",
   "language": "python",
   "name": "python3"
  },
  "language_info": {
   "codemirror_mode": {
    "name": "ipython",
    "version": 3
   },
   "file_extension": ".py",
   "mimetype": "text/x-python",
   "name": "python",
   "nbconvert_exporter": "python",
   "pygments_lexer": "ipython3",
   "version": "3.7.10"
  }
 },
 "nbformat": 4,
 "nbformat_minor": 5
}
